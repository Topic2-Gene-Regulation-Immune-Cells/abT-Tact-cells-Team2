{
 "cells": [
  {
   "cell_type": "code",
   "execution_count": 2,
   "id": "a1dcc345",
   "metadata": {},
   "outputs": [],
   "source": [
    "import numpy as np"
   ]
  },
  {
   "cell_type": "markdown",
   "id": "b21c07b4",
   "metadata": {},
   "source": [
    "What is RefFlat?\n",
    "The RefFlat file is a gene annotation file. Each row represents a transcript and includes information like:\n",
    "\n",
    "The gene name and transcript name,\n",
    "\n",
    "The chromosome it's on (chrom),\n",
    "\n",
    "The strand (+ or -),\n",
    "\n",
    "Start and end positions of the transcript (tx_start_5prime, tx_start_3prime).\n",
    "\n",
    "This is crucial for finding Transcription Start Sites (TSS)."
   ]
  },
  {
   "cell_type": "code",
   "execution_count": 3,
   "id": "7960e19b",
   "metadata": {},
   "outputs": [],
   "source": [
    "import pandas as pd\n",
    "\n",
    "# Load RefFlat file\n",
    "ref = pd.read_csv(\"refFlat\", sep=\"\\t\", header=None)\n",
    "\n",
    "# Set proper column names\n",
    "ref.columns = [\n",
    "    \"gene_name\", \"transcript_name\", \"chrom\", \"strand\",\n",
    "    \"tx_start_5prime\", \"tx_start_3prime\",\n",
    "    \"cds_start\", \"cds_end\",\n",
    "    \"exon_count\", \"exon_starts\", \"exon_ends\"\n",
    "]\n",
    "\n",
    "# Extract strand-aware TSS\n",
    "ref[\"tss\"] = ref.apply(\n",
    "    lambda row: row[\"tx_start_5prime\"] if row[\"strand\"] == \"+\" else row[\"tx_start_3prime\"],\n",
    "    axis=1\n",
    ")\n",
    "\n",
    "# Final TSS table for matching\n",
    "tss_table = ref[[\"chrom\", \"tss\"]].copy()\n"
   ]
  },
  {
   "cell_type": "markdown",
   "id": "f3051e83",
   "metadata": {},
   "source": [
    "ref.columns:\n",
    "\n",
    " Manually adds column names so we can access each column by a meaningful name.\n",
    "\n",
    "Most importantly:\n",
    "\n",
    "\"chrom\" → the chromosome (e.g., \"chr1\")\n",
    "\n",
    "\"strand\" → strand orientation of the gene (+ or -)\n",
    "\n",
    "\"tx_start_5prime\" and \"tx_start_3prime\" → transcript start/end\n",
    "\n",
    "\n",
    "\n",
    "ref tss: \n",
    "\n",
    "This computes the TSS (Transcription Start Site) for each row.\n",
    "\n",
    "Genes on the + strand start at tx_start_5prime.\n",
    "\n",
    "Genes on the - strand start at tx_start_3prime (they're read backward).\n",
    "\n",
    "The result is stored in a new column called \"tss\".\n",
    "\n",
    "tss_table: \n",
    "\n",
    "Extracts just the chromosome and TSS position for later use.\n",
    "\n",
    "We’ll use this to compare our ATAC-seq peaks to known gene start sites.\n",
    "\n",
    "Basically we loaded a gene annotation file and created a new column that tells us where each gene starts — taking into account whether it’s on the forward or reverse DNA strand.\n"
   ]
  },
  {
   "cell_type": "code",
   "execution_count": 4,
   "id": "21922cca",
   "metadata": {},
   "outputs": [
    {
     "data": {
      "text/html": [
       "<div>\n",
       "<style scoped>\n",
       "    .dataframe tbody tr th:only-of-type {\n",
       "        vertical-align: middle;\n",
       "    }\n",
       "\n",
       "    .dataframe tbody tr th {\n",
       "        vertical-align: top;\n",
       "    }\n",
       "\n",
       "    .dataframe thead th {\n",
       "        text-align: right;\n",
       "    }\n",
       "</style>\n",
       "<table border=\"1\" class=\"dataframe\">\n",
       "  <thead>\n",
       "    <tr style=\"text-align: right;\">\n",
       "      <th></th>\n",
       "      <th>gene_name</th>\n",
       "      <th>transcript_name</th>\n",
       "      <th>chrom</th>\n",
       "      <th>strand</th>\n",
       "      <th>tx_start_5prime</th>\n",
       "      <th>tx_start_3prime</th>\n",
       "      <th>cds_start</th>\n",
       "      <th>cds_end</th>\n",
       "      <th>exon_count</th>\n",
       "      <th>exon_starts</th>\n",
       "      <th>exon_ends</th>\n",
       "      <th>tss</th>\n",
       "    </tr>\n",
       "  </thead>\n",
       "  <tbody>\n",
       "    <tr>\n",
       "      <th>0</th>\n",
       "      <td>Wdsub1</td>\n",
       "      <td>NM_001159636</td>\n",
       "      <td>chr2</td>\n",
       "      <td>-</td>\n",
       "      <td>59855193</td>\n",
       "      <td>59882606</td>\n",
       "      <td>59855270</td>\n",
       "      <td>59878527</td>\n",
       "      <td>11</td>\n",
       "      <td>59855193,59858609,59861560,59862619,59862816,5...</td>\n",
       "      <td>59855275,59858750,59861737,59862726,59862857,5...</td>\n",
       "      <td>59882606</td>\n",
       "    </tr>\n",
       "    <tr>\n",
       "      <th>1</th>\n",
       "      <td>Rbm18</td>\n",
       "      <td>NM_001159635</td>\n",
       "      <td>chr2</td>\n",
       "      <td>-</td>\n",
       "      <td>36116078</td>\n",
       "      <td>36136704</td>\n",
       "      <td>36117814</td>\n",
       "      <td>36134247</td>\n",
       "      <td>6</td>\n",
       "      <td>36116078,36120812,36122851,36127214,36134134,3...</td>\n",
       "      <td>36117974,36120898,36122938,36127251,36134263,3...</td>\n",
       "      <td>36136704</td>\n",
       "    </tr>\n",
       "    <tr>\n",
       "      <th>2</th>\n",
       "      <td>Prrc2b</td>\n",
       "      <td>NM_001159634</td>\n",
       "      <td>chr2</td>\n",
       "      <td>+</td>\n",
       "      <td>32151147</td>\n",
       "      <td>32234537</td>\n",
       "      <td>32182511</td>\n",
       "      <td>32230742</td>\n",
       "      <td>32</td>\n",
       "      <td>32151147,32182457,32183122,32185344,32187480,3...</td>\n",
       "      <td>32151291,32182626,32183300,32185447,32187553,3...</td>\n",
       "      <td>32151147</td>\n",
       "    </tr>\n",
       "    <tr>\n",
       "      <th>3</th>\n",
       "      <td>Ildr2</td>\n",
       "      <td>NM_001164528</td>\n",
       "      <td>chr1</td>\n",
       "      <td>+</td>\n",
       "      <td>166254138</td>\n",
       "      <td>166316832</td>\n",
       "      <td>166254375</td>\n",
       "      <td>166310795</td>\n",
       "      <td>10</td>\n",
       "      <td>166254138,166269304,166270498,166291415,166294...</td>\n",
       "      <td>166254466,166269637,166270618,166291472,166294...</td>\n",
       "      <td>166254138</td>\n",
       "    </tr>\n",
       "    <tr>\n",
       "      <th>4</th>\n",
       "      <td>Perm1</td>\n",
       "      <td>NM_172417</td>\n",
       "      <td>chr4</td>\n",
       "      <td>+</td>\n",
       "      <td>156215926</td>\n",
       "      <td>156221307</td>\n",
       "      <td>156217000</td>\n",
       "      <td>156220222</td>\n",
       "      <td>4</td>\n",
       "      <td>156215926,156216716,156219740,156220109,</td>\n",
       "      <td>156215975,156219185,156219866,156221307,</td>\n",
       "      <td>156215926</td>\n",
       "    </tr>\n",
       "  </tbody>\n",
       "</table>\n",
       "</div>"
      ],
      "text/plain": [
       "  gene_name transcript_name chrom strand  tx_start_5prime  tx_start_3prime  \\\n",
       "0    Wdsub1    NM_001159636  chr2      -         59855193         59882606   \n",
       "1     Rbm18    NM_001159635  chr2      -         36116078         36136704   \n",
       "2    Prrc2b    NM_001159634  chr2      +         32151147         32234537   \n",
       "3     Ildr2    NM_001164528  chr1      +        166254138        166316832   \n",
       "4     Perm1       NM_172417  chr4      +        156215926        156221307   \n",
       "\n",
       "   cds_start    cds_end  exon_count  \\\n",
       "0   59855270   59878527          11   \n",
       "1   36117814   36134247           6   \n",
       "2   32182511   32230742          32   \n",
       "3  166254375  166310795          10   \n",
       "4  156217000  156220222           4   \n",
       "\n",
       "                                         exon_starts  \\\n",
       "0  59855193,59858609,59861560,59862619,59862816,5...   \n",
       "1  36116078,36120812,36122851,36127214,36134134,3...   \n",
       "2  32151147,32182457,32183122,32185344,32187480,3...   \n",
       "3  166254138,166269304,166270498,166291415,166294...   \n",
       "4           156215926,156216716,156219740,156220109,   \n",
       "\n",
       "                                           exon_ends        tss  \n",
       "0  59855275,59858750,59861737,59862726,59862857,5...   59882606  \n",
       "1  36117974,36120898,36122938,36127251,36134263,3...   36136704  \n",
       "2  32151291,32182626,32183300,32185447,32187553,3...   32151147  \n",
       "3  166254466,166269637,166270618,166291472,166294...  166254138  \n",
       "4           156215975,156219185,156219866,156221307,  156215926  "
      ]
     },
     "execution_count": 4,
     "metadata": {},
     "output_type": "execute_result"
    }
   ],
   "source": [
    "#just seeing what it looks like\n",
    "ref.head()"
   ]
  },
  {
   "cell_type": "code",
   "execution_count": 5,
   "id": "f3444250",
   "metadata": {},
   "outputs": [
    {
     "data": {
      "text/plain": [
       "(47382, 2)"
      ]
     },
     "execution_count": 5,
     "metadata": {},
     "output_type": "execute_result"
    }
   ],
   "source": [
    "tss_table.shape"
   ]
  },
  {
   "cell_type": "code",
   "execution_count": 6,
   "id": "8ded563f",
   "metadata": {},
   "outputs": [
    {
     "data": {
      "text/plain": [
       "chrom    0\n",
       "tss      0\n",
       "dtype: int64"
      ]
     },
     "execution_count": 6,
     "metadata": {},
     "output_type": "execute_result"
    }
   ],
   "source": [
    "#seeing if some values are missing \n",
    "\n",
    "tss_table.isna().sum()"
   ]
  },
  {
   "cell_type": "code",
   "execution_count": 36,
   "id": "0c5c4df0",
   "metadata": {},
   "outputs": [],
   "source": [
    "peaks = pd.read_csv(\"ATAC_high_var.csv\")\n",
    "\n",
    "# Define peak center\n",
    "peaks[\"peak_center\"] = peaks[\"Summit\"]\n",
    "\n",
    "# Keep minimal amnt of columns for distance task\n",
    "peaks = peaks[[\"ImmGenATAC1219.peakID\", \"chrom\", \"peak_center\"]].copy()\n"
   ]
  },
  {
   "cell_type": "markdown",
   "id": "a4baeb30",
   "metadata": {},
   "source": [
    "Loads the big ATAC-seq peak dataset into memory.\n",
    "\n",
    "peak center thing: \n",
    "ATAC-seq peaks cover a region (like 200–500 bp), but we usually work with a single position per peak to make comparisons easier.\n",
    "\n",
    "\"Summit\" is the highest signal point inside the peak — where accessibility is greatest.\n",
    "\n",
    "So we define \"peak_center\" = \"Summit\".\n",
    "\n",
    "\n",
    "\n"
   ]
  },
  {
   "cell_type": "code",
   "execution_count": 37,
   "id": "c9c5f8f3",
   "metadata": {},
   "outputs": [
    {
     "data": {
      "text/html": [
       "<div>\n",
       "<style scoped>\n",
       "    .dataframe tbody tr th:only-of-type {\n",
       "        vertical-align: middle;\n",
       "    }\n",
       "\n",
       "    .dataframe tbody tr th {\n",
       "        vertical-align: top;\n",
       "    }\n",
       "\n",
       "    .dataframe thead th {\n",
       "        text-align: right;\n",
       "    }\n",
       "</style>\n",
       "<table border=\"1\" class=\"dataframe\">\n",
       "  <thead>\n",
       "    <tr style=\"text-align: right;\">\n",
       "      <th></th>\n",
       "      <th>ImmGenATAC1219.peakID</th>\n",
       "      <th>chrom</th>\n",
       "      <th>peak_center</th>\n",
       "    </tr>\n",
       "  </thead>\n",
       "  <tbody>\n",
       "    <tr>\n",
       "      <th>0</th>\n",
       "      <td>ImmGenATAC1219.peak_69</td>\n",
       "      <td>chr1</td>\n",
       "      <td>4468579</td>\n",
       "    </tr>\n",
       "    <tr>\n",
       "      <th>1</th>\n",
       "      <td>ImmGenATAC1219.peak_77</td>\n",
       "      <td>chr1</td>\n",
       "      <td>4490652</td>\n",
       "    </tr>\n",
       "    <tr>\n",
       "      <th>2</th>\n",
       "      <td>ImmGenATAC1219.peak_83</td>\n",
       "      <td>chr1</td>\n",
       "      <td>4496479</td>\n",
       "    </tr>\n",
       "    <tr>\n",
       "      <th>3</th>\n",
       "      <td>ImmGenATAC1219.peak_84</td>\n",
       "      <td>chr1</td>\n",
       "      <td>4496738</td>\n",
       "    </tr>\n",
       "    <tr>\n",
       "      <th>4</th>\n",
       "      <td>ImmGenATAC1219.peak_93</td>\n",
       "      <td>chr1</td>\n",
       "      <td>4547574</td>\n",
       "    </tr>\n",
       "  </tbody>\n",
       "</table>\n",
       "</div>"
      ],
      "text/plain": [
       "    ImmGenATAC1219.peakID chrom  peak_center\n",
       "0  ImmGenATAC1219.peak_69  chr1      4468579\n",
       "1  ImmGenATAC1219.peak_77  chr1      4490652\n",
       "2  ImmGenATAC1219.peak_83  chr1      4496479\n",
       "3  ImmGenATAC1219.peak_84  chr1      4496738\n",
       "4  ImmGenATAC1219.peak_93  chr1      4547574"
      ]
     },
     "execution_count": 37,
     "metadata": {},
     "output_type": "execute_result"
    }
   ],
   "source": [
    "#just to see if it worked \n",
    "peaks.head()\n"
   ]
  },
  {
   "cell_type": "code",
   "execution_count": 9,
   "id": "e1c005ec",
   "metadata": {},
   "outputs": [
    {
     "name": "stdout",
     "output_type": "stream",
     "text": [
      "<class 'pandas.core.frame.DataFrame'>\n",
      "RangeIndex: 75857 entries, 0 to 75856\n",
      "Data columns (total 3 columns):\n",
      " #   Column                 Non-Null Count  Dtype \n",
      "---  ------                 --------------  ----- \n",
      " 0   ImmGenATAC1219.peakID  75857 non-null  object\n",
      " 1   chrom                  75857 non-null  object\n",
      " 2   peak_center            75857 non-null  int64 \n",
      "dtypes: int64(1), object(2)\n",
      "memory usage: 1.7+ MB\n"
     ]
    }
   ],
   "source": [
    "peaks.info()\n"
   ]
  },
  {
   "cell_type": "code",
   "execution_count": 10,
   "id": "4fe02276",
   "metadata": {},
   "outputs": [],
   "source": [
    "# Create a dictionary: chrom → sorted array of TSSs on that chromosome\n",
    "tss_dict = {\n",
    "    chrom: np.sort(group[\"tss\"].values)\n",
    "    for chrom, group in tss_table.groupby(\"chrom\")\n",
    "}\n"
   ]
  },
  {
   "cell_type": "markdown",
   "id": "f8b0eb23",
   "metadata": {},
   "source": [
    "We want to efficiently find the closest TSS for each ATAC peak.\n",
    "Since a genome has thousands of TSSs, and they’re different on each chromosome, it’s faster to organize them like this:\n",
    "\n",
    "🗂️ One dictionary per chromosome → with all the TSS positions on that chromosome.\n",
    "\n",
    "groupby(\"chrom\")\n",
    "→ For each chromosome (e.g., \"chr1\", \"chr2\"), get all TSS rows.\n",
    "\n",
    "group[\"tss\"].values\n",
    "→ Extract just the TSS positions as a NumPy array.\n",
    "\n",
    "np.sort(...)\n",
    "→ Sort the TSS positions from smallest to largest.\n",
    "\n",
    "This lets us later use binary search (super fast)."
   ]
  },
  {
   "cell_type": "code",
   "execution_count": 11,
   "id": "3beeb79c",
   "metadata": {},
   "outputs": [],
   "source": [
    "# Function to find the nearest TSS to a peak center on the same chromosome\n",
    "\n",
    "def fast_closest_tss(chrom, center):\n",
    "    if chrom not in tss_dict:\n",
    "        return np.nan # no TSS available for this chromosome\n",
    "    tss_array = tss_dict[chrom]\n",
    " \n",
    "    idx = np.searchsorted(tss_array, center)\n",
    "  \n",
    "      # Edge cases: if center is before first or after last TSS\n",
    "    if idx == 0:\n",
    "        return tss_array[0]\n",
    "    elif idx == len(tss_array):\n",
    "        return tss_array[-1]\n",
    "    else:\n",
    "           # Pick the closest of the two surrounding TSS positions\n",
    "        left = tss_array[idx - 1]\n",
    "        right = tss_array[idx]\n",
    "        return left if abs(center - left) < abs(center - right) else right\n"
   ]
  },
  {
   "cell_type": "markdown",
   "id": "b8380d39",
   "metadata": {},
   "source": [
    "The first function takes:\n",
    "\n",
    "chrom: the chromosome the peak is on,\n",
    "\n",
    "center: the peak’s central position (summit),\n",
    "\n",
    "And returns:\n",
    "\n",
    "The closest TSS on that chromosome.\n",
    "\n",
    "the idx thingys are too long to explain here but basically it enhances the accuracy of everything\n"
   ]
  },
  {
   "cell_type": "code",
   "execution_count": 12,
   "id": "c7c9ec09",
   "metadata": {},
   "outputs": [],
   "source": [
    "# Apply the closest-TSS function to each row of the peaks table\n",
    "\n",
    "peaks[\"closest_tss\"] = peaks.apply(\n",
    "    lambda row: fast_closest_tss(row[\"chrom\"], row[\"peak_center\"]),\n",
    "    axis=1\n",
    ")\n",
    "\n",
    "# Calculate absolute distance between peak center and closest TSS\n",
    "peaks[\"distance_to_tss\"] = np.abs(peaks[\"peak_center\"] - peaks[\"closest_tss\"])\n"
   ]
  },
  {
   "cell_type": "markdown",
   "id": "272e5ced",
   "metadata": {},
   "source": [
    "Subtracts the TSS location from the peak center to get the distance."
   ]
  },
  {
   "cell_type": "code",
   "execution_count": 13,
   "id": "9275eb28",
   "metadata": {},
   "outputs": [
    {
     "data": {
      "text/html": [
       "<div>\n",
       "<style scoped>\n",
       "    .dataframe tbody tr th:only-of-type {\n",
       "        vertical-align: middle;\n",
       "    }\n",
       "\n",
       "    .dataframe tbody tr th {\n",
       "        vertical-align: top;\n",
       "    }\n",
       "\n",
       "    .dataframe thead th {\n",
       "        text-align: right;\n",
       "    }\n",
       "</style>\n",
       "<table border=\"1\" class=\"dataframe\">\n",
       "  <thead>\n",
       "    <tr style=\"text-align: right;\">\n",
       "      <th></th>\n",
       "      <th>peak_center</th>\n",
       "      <th>closest_tss</th>\n",
       "      <th>distance_to_tss</th>\n",
       "    </tr>\n",
       "  </thead>\n",
       "  <tbody>\n",
       "    <tr>\n",
       "      <th>0</th>\n",
       "      <td>4468579</td>\n",
       "      <td>4497354.0</td>\n",
       "      <td>28775.0</td>\n",
       "    </tr>\n",
       "    <tr>\n",
       "      <th>1</th>\n",
       "      <td>4490652</td>\n",
       "      <td>4497354.0</td>\n",
       "      <td>6702.0</td>\n",
       "    </tr>\n",
       "    <tr>\n",
       "      <th>2</th>\n",
       "      <td>4496479</td>\n",
       "      <td>4497354.0</td>\n",
       "      <td>875.0</td>\n",
       "    </tr>\n",
       "    <tr>\n",
       "      <th>3</th>\n",
       "      <td>4496738</td>\n",
       "      <td>4497354.0</td>\n",
       "      <td>616.0</td>\n",
       "    </tr>\n",
       "    <tr>\n",
       "      <th>4</th>\n",
       "      <td>4547574</td>\n",
       "      <td>4497354.0</td>\n",
       "      <td>50220.0</td>\n",
       "    </tr>\n",
       "    <tr>\n",
       "      <th>5</th>\n",
       "      <td>4571695</td>\n",
       "      <td>4497354.0</td>\n",
       "      <td>74341.0</td>\n",
       "    </tr>\n",
       "    <tr>\n",
       "      <th>6</th>\n",
       "      <td>4571997</td>\n",
       "      <td>4497354.0</td>\n",
       "      <td>74643.0</td>\n",
       "    </tr>\n",
       "    <tr>\n",
       "      <th>7</th>\n",
       "      <td>4623471</td>\n",
       "      <td>4497354.0</td>\n",
       "      <td>126117.0</td>\n",
       "    </tr>\n",
       "    <tr>\n",
       "      <th>8</th>\n",
       "      <td>4689301</td>\n",
       "      <td>4785726.0</td>\n",
       "      <td>96425.0</td>\n",
       "    </tr>\n",
       "    <tr>\n",
       "      <th>9</th>\n",
       "      <td>4747948</td>\n",
       "      <td>4785726.0</td>\n",
       "      <td>37778.0</td>\n",
       "    </tr>\n",
       "  </tbody>\n",
       "</table>\n",
       "</div>"
      ],
      "text/plain": [
       "   peak_center  closest_tss  distance_to_tss\n",
       "0      4468579    4497354.0          28775.0\n",
       "1      4490652    4497354.0           6702.0\n",
       "2      4496479    4497354.0            875.0\n",
       "3      4496738    4497354.0            616.0\n",
       "4      4547574    4497354.0          50220.0\n",
       "5      4571695    4497354.0          74341.0\n",
       "6      4571997    4497354.0          74643.0\n",
       "7      4623471    4497354.0         126117.0\n",
       "8      4689301    4785726.0          96425.0\n",
       "9      4747948    4785726.0          37778.0"
      ]
     },
     "execution_count": 13,
     "metadata": {},
     "output_type": "execute_result"
    }
   ],
   "source": [
    "\n",
    "#Check the head of the new columns\n",
    "peaks[[\"peak_center\", \"closest_tss\", \"distance_to_tss\"]].head(10)\n"
   ]
  },
  {
   "cell_type": "code",
   "execution_count": 14,
   "id": "e9ee9e7f",
   "metadata": {},
   "outputs": [],
   "source": [
    "peaks.head()\n",
    "peaks.to_csv(\"peaks_tss_distance.csv\", index = False)"
   ]
  },
  {
   "cell_type": "markdown",
   "id": "bc3dbe5a",
   "metadata": {},
   "source": [
    "okay you know what, the point of me coming back here was to get a clean version of this file and now i did, so im gonna leave the rest for later or for someone else:)))))) "
   ]
  },
  {
   "cell_type": "code",
   "execution_count": 15,
   "id": "3a6b019a",
   "metadata": {},
   "outputs": [
    {
     "name": "stdout",
     "output_type": "stream",
     "text": [
      "0.0\n",
      "1352206.0\n",
      "33294.53036255768\n"
     ]
    }
   ],
   "source": [
    "\n",
    "print(peaks[\"distance_to_tss\"].min())\n",
    "print(peaks[\"distance_to_tss\"].max())\n",
    "print(peaks[\"distance_to_tss\"].mean())\n"
   ]
  },
  {
   "cell_type": "markdown",
   "id": "18a4bbff",
   "metadata": {},
   "source": [
    "Minimum distance to TSS: 0.0 → At least one peak is exactly at a TSS.\n",
    "\n",
    "Maximum distance: 2,012,626 bp → Some peaks are very far from any TSS (likely intergenic or distal enhancers).\n",
    "\n",
    "Average distance: ~54,800 bp → Most peaks are within ~55kb of a TSS."
   ]
  },
  {
   "cell_type": "markdown",
   "id": "eb25db86",
   "metadata": {},
   "source": [
    "Now just gonna do some filtering"
   ]
  },
  {
   "cell_type": "code",
   "execution_count": 16,
   "id": "e063ff2f",
   "metadata": {},
   "outputs": [
    {
     "name": "stdout",
     "output_type": "stream",
     "text": [
      "(75857, 5)\n"
     ]
    }
   ],
   "source": [
    "#checking dataset before filtering\n",
    "\n",
    "print(peaks.shape)\n"
   ]
  },
  {
   "cell_type": "code",
   "execution_count": 17,
   "id": "97350dc5",
   "metadata": {},
   "outputs": [
    {
     "name": "stdout",
     "output_type": "stream",
     "text": [
      "(75850, 5)\n",
      "7\n"
     ]
    }
   ],
   "source": [
    "#filtering and checking the no after filtering \n",
    "\n",
    "filtered = peaks.dropna(subset=[\"distance_to_tss\"])\n",
    "print(filtered.shape)\n",
    "\n",
    "#seeing how many dropped\n",
    "print(peaks.shape[0] - filtered.shape[0])\n"
   ]
  },
  {
   "cell_type": "code",
   "execution_count": 18,
   "id": "2d300314",
   "metadata": {},
   "outputs": [
    {
     "data": {
      "image/png": "[encoded data removed]",
      "text/plain": [
       "<Figure size 1000x600 with 1 Axes>"
      ]
     },
     "metadata": {},
     "output_type": "display_data"
    }
   ],
   "source": [
    "import matplotlib.pyplot as plt\n",
    "import seaborn as sns\n",
    "\n",
    "plt.figure(figsize=(10, 6))\n",
    "\n",
    "# Histogram with pink bars\n",
    "plt.hist(filtered[\"distance_to_tss\"], \n",
    "         bins=100, \n",
    "         color='hotpink', \n",
    "         edgecolor='black', \n",
    "         range=(0, 600_000))  # focus on distances <600k\n",
    "\n",
    "# Titles and labels\n",
    "plt.title(\"Distribution of Distances to Closest TSS\", fontsize=14)\n",
    "plt.xlabel(\"Distance to TSS (bp)\", fontsize=12)\n",
    "plt.ylabel(\"Number of Peaks\", fontsize=12)\n",
    "\n",
    "plt.grid(True, linestyle='--', alpha=0.5)\n",
    "plt.tight_layout()\n",
    "plt.show()\n",
    "\n"
   ]
  },
  {
   "cell_type": "code",
   "execution_count": 19,
   "id": "21d99e79",
   "metadata": {},
   "outputs": [
    {
     "data": {
      "image/png": "[encoded data removed]",
      "text/plain": [
       "<Figure size 1200x600 with 1 Axes>"
      ]
     },
     "metadata": {},
     "output_type": "display_data"
    }
   ],
   "source": [
    "plt.figure(figsize=(12, 6))\n",
    "sns.kdeplot(\n",
    "    data=filtered.query(\"distance_to_tss <= 250000\"),\n",
    "    x=\"distance_to_tss\",\n",
    "    fill=True,\n",
    "    color=\"deeppink\",\n",
    "    bw_adjust=0.4\n",
    ")\n",
    "plt.title(\"KDE of Distances to Closest TSS (Zoomed)\")\n",
    "plt.xlabel(\"Distance to TSS (bp)\")\n",
    "plt.ylabel(\"Density\")\n",
    "plt.grid(True, linestyle=\"--\", alpha=0.5)\n",
    "plt.tight_layout()\n",
    "plt.show()\n",
    "\n",
    "\n"
   ]
  },
  {
   "cell_type": "markdown",
   "id": "bab2ddf9",
   "metadata": {},
   "source": [
    "Before doing a full scatter plot, we want to understand how peaks are distributed based on how far they are from the closest gene start site (TSS).\n",
    "\n",
    "This histogram helps us visually check:\n",
    "\n",
    "Are most peaks near genes?\n",
    "\n",
    "Do we have lots of distant, intergenic peaks?\n",
    "\n"
   ]
  },
  {
   "cell_type": "markdown",
   "id": "e19667d5",
   "metadata": {},
   "source": [
    "Now starting w task 2 "
   ]
  },
  {
   "cell_type": "code",
   "execution_count": 21,
   "id": "a5879d86",
   "metadata": {},
   "outputs": [],
   "source": [
    "import pandas as pd\n",
    "\n",
    "# Load full refined_ATAC.csv into a separate variable\n",
    "peaks_full = pd.read_csv(\"ATAC_high_var.csv\")\n"
   ]
  },
  {
   "cell_type": "markdown",
   "id": "6befb353",
   "metadata": {},
   "source": [
    "We load the full ATAC-seq dataset so we can compute a mean signal per peak across all cell types — which we’ll use in the final scatter plot."
   ]
  },
  {
   "cell_type": "code",
   "execution_count": 22,
   "id": "3948f2cf",
   "metadata": {},
   "outputs": [
    {
     "data": {
      "text/html": [
       "<div>\n",
       "<style scoped>\n",
       "    .dataframe tbody tr th:only-of-type {\n",
       "        vertical-align: middle;\n",
       "    }\n",
       "\n",
       "    .dataframe tbody tr th {\n",
       "        vertical-align: top;\n",
       "    }\n",
       "\n",
       "    .dataframe thead th {\n",
       "        text-align: right;\n",
       "    }\n",
       "</style>\n",
       "<table border=\"1\" class=\"dataframe\">\n",
       "  <thead>\n",
       "    <tr style=\"text-align: right;\">\n",
       "      <th></th>\n",
       "      <th>ImmGenATAC1219.peakID</th>\n",
       "      <th>chrom</th>\n",
       "      <th>Summit</th>\n",
       "      <th>mm10.60way.phastCons_scores</th>\n",
       "      <th>_-log10_bestPvalue</th>\n",
       "      <th>Included.in.systematic.analysis</th>\n",
       "      <th>TSS</th>\n",
       "      <th>genes.within.100Kb</th>\n",
       "      <th>preT.DN1.Th</th>\n",
       "      <th>preT.DN2a.Th</th>\n",
       "      <th>...</th>\n",
       "      <th>T8.Tem.LCMV.d180.Sp</th>\n",
       "      <th>NKT.Sp</th>\n",
       "      <th>NKT.Sp.LPS.3hr</th>\n",
       "      <th>NKT.Sp.LPS.18hr</th>\n",
       "      <th>NKT.Sp.LPS.3d</th>\n",
       "      <th>LTHSC.34-.BM</th>\n",
       "      <th>LTHSC.34+.BM</th>\n",
       "      <th>STHSC.150-.BM</th>\n",
       "      <th>MPP4.135+.BM</th>\n",
       "      <th>variance</th>\n",
       "    </tr>\n",
       "  </thead>\n",
       "  <tbody>\n",
       "    <tr>\n",
       "      <th>701</th>\n",
       "      <td>ImmGenATAC1219.peak_5480</td>\n",
       "      <td>chr1</td>\n",
       "      <td>40263306</td>\n",
       "      <td>0.25</td>\n",
       "      <td>11.55</td>\n",
       "      <td>1.0</td>\n",
       "      <td>NaN</td>\n",
       "      <td>Il1r1,Il1rl2</td>\n",
       "      <td>19.21</td>\n",
       "      <td>9.88</td>\n",
       "      <td>...</td>\n",
       "      <td>2.19</td>\n",
       "      <td>0.98</td>\n",
       "      <td>3.36</td>\n",
       "      <td>1.20</td>\n",
       "      <td>2.09</td>\n",
       "      <td>4.37</td>\n",
       "      <td>10.26</td>\n",
       "      <td>19.63</td>\n",
       "      <td>33.68</td>\n",
       "      <td>55.101830</td>\n",
       "    </tr>\n",
       "    <tr>\n",
       "      <th>37601</th>\n",
       "      <td>ImmGenATAC1219.peak_255011</td>\n",
       "      <td>chr19</td>\n",
       "      <td>53038572</td>\n",
       "      <td>0.51</td>\n",
       "      <td>43.24</td>\n",
       "      <td>1.0</td>\n",
       "      <td>Xpnpep1</td>\n",
       "      <td>Xpnpep1,Mir6407,1700054A03Rik</td>\n",
       "      <td>47.94</td>\n",
       "      <td>63.20</td>\n",
       "      <td>...</td>\n",
       "      <td>33.32</td>\n",
       "      <td>48.43</td>\n",
       "      <td>50.49</td>\n",
       "      <td>47.95</td>\n",
       "      <td>52.64</td>\n",
       "      <td>65.03</td>\n",
       "      <td>83.34</td>\n",
       "      <td>43.78</td>\n",
       "      <td>54.90</td>\n",
       "      <td>242.448530</td>\n",
       "    </tr>\n",
       "    <tr>\n",
       "      <th>56327</th>\n",
       "      <td>ImmGenATAC1219.peak_381971</td>\n",
       "      <td>chr5</td>\n",
       "      <td>124232539</td>\n",
       "      <td>0.35</td>\n",
       "      <td>9.89</td>\n",
       "      <td>1.0</td>\n",
       "      <td>NaN</td>\n",
       "      <td>Pitpnm2,Pitpnm2os1,Mphosph9,2810006K23Rik</td>\n",
       "      <td>2.41</td>\n",
       "      <td>12.73</td>\n",
       "      <td>...</td>\n",
       "      <td>3.08</td>\n",
       "      <td>3.32</td>\n",
       "      <td>2.44</td>\n",
       "      <td>3.47</td>\n",
       "      <td>5.59</td>\n",
       "      <td>0.41</td>\n",
       "      <td>1.64</td>\n",
       "      <td>1.85</td>\n",
       "      <td>0.11</td>\n",
       "      <td>150.968920</td>\n",
       "    </tr>\n",
       "    <tr>\n",
       "      <th>36921</th>\n",
       "      <td>ImmGenATAC1219.peak_250207</td>\n",
       "      <td>chr19</td>\n",
       "      <td>31602784</td>\n",
       "      <td>0.32</td>\n",
       "      <td>15.53</td>\n",
       "      <td>1.0</td>\n",
       "      <td>NaN</td>\n",
       "      <td>Prkg1</td>\n",
       "      <td>28.45</td>\n",
       "      <td>22.43</td>\n",
       "      <td>...</td>\n",
       "      <td>1.63</td>\n",
       "      <td>2.88</td>\n",
       "      <td>0.54</td>\n",
       "      <td>0.68</td>\n",
       "      <td>0.51</td>\n",
       "      <td>2.36</td>\n",
       "      <td>3.68</td>\n",
       "      <td>23.45</td>\n",
       "      <td>21.83</td>\n",
       "      <td>64.976870</td>\n",
       "    </tr>\n",
       "    <tr>\n",
       "      <th>70470</th>\n",
       "      <td>ImmGenATAC1219.peak_474788</td>\n",
       "      <td>chr8</td>\n",
       "      <td>127427058</td>\n",
       "      <td>0.12</td>\n",
       "      <td>15.69</td>\n",
       "      <td>1.0</td>\n",
       "      <td>NaN</td>\n",
       "      <td>NaN</td>\n",
       "      <td>12.38</td>\n",
       "      <td>6.53</td>\n",
       "      <td>...</td>\n",
       "      <td>1.54</td>\n",
       "      <td>8.46</td>\n",
       "      <td>12.73</td>\n",
       "      <td>7.37</td>\n",
       "      <td>4.10</td>\n",
       "      <td>7.00</td>\n",
       "      <td>6.07</td>\n",
       "      <td>2.69</td>\n",
       "      <td>4.84</td>\n",
       "      <td>12.447574</td>\n",
       "    </tr>\n",
       "  </tbody>\n",
       "</table>\n",
       "<p>5 rows × 38 columns</p>\n",
       "</div>"
      ],
      "text/plain": [
       "            ImmGenATAC1219.peakID  chrom     Summit  \\\n",
       "701      ImmGenATAC1219.peak_5480   chr1   40263306   \n",
       "37601  ImmGenATAC1219.peak_255011  chr19   53038572   \n",
       "56327  ImmGenATAC1219.peak_381971   chr5  124232539   \n",
       "36921  ImmGenATAC1219.peak_250207  chr19   31602784   \n",
       "70470  ImmGenATAC1219.peak_474788   chr8  127427058   \n",
       "\n",
       "       mm10.60way.phastCons_scores  _-log10_bestPvalue  \\\n",
       "701                           0.25               11.55   \n",
       "37601                         0.51               43.24   \n",
       "56327                         0.35                9.89   \n",
       "36921                         0.32               15.53   \n",
       "70470                         0.12               15.69   \n",
       "\n",
       "       Included.in.systematic.analysis      TSS  \\\n",
       "701                                1.0      NaN   \n",
       "37601                              1.0  Xpnpep1   \n",
       "56327                              1.0      NaN   \n",
       "36921                              1.0      NaN   \n",
       "70470                              1.0      NaN   \n",
       "\n",
       "                              genes.within.100Kb  preT.DN1.Th  preT.DN2a.Th  \\\n",
       "701                                 Il1r1,Il1rl2        19.21          9.88   \n",
       "37601              Xpnpep1,Mir6407,1700054A03Rik        47.94         63.20   \n",
       "56327  Pitpnm2,Pitpnm2os1,Mphosph9,2810006K23Rik         2.41         12.73   \n",
       "36921                                      Prkg1        28.45         22.43   \n",
       "70470                                        NaN        12.38          6.53   \n",
       "\n",
       "       ...  T8.Tem.LCMV.d180.Sp  NKT.Sp  NKT.Sp.LPS.3hr  NKT.Sp.LPS.18hr  \\\n",
       "701    ...                 2.19    0.98            3.36             1.20   \n",
       "37601  ...                33.32   48.43           50.49            47.95   \n",
       "56327  ...                 3.08    3.32            2.44             3.47   \n",
       "36921  ...                 1.63    2.88            0.54             0.68   \n",
       "70470  ...                 1.54    8.46           12.73             7.37   \n",
       "\n",
       "       NKT.Sp.LPS.3d  LTHSC.34-.BM  LTHSC.34+.BM  STHSC.150-.BM  MPP4.135+.BM  \\\n",
       "701             2.09          4.37         10.26          19.63         33.68   \n",
       "37601          52.64         65.03         83.34          43.78         54.90   \n",
       "56327           5.59          0.41          1.64           1.85          0.11   \n",
       "36921           0.51          2.36          3.68          23.45         21.83   \n",
       "70470           4.10          7.00          6.07           2.69          4.84   \n",
       "\n",
       "         variance  \n",
       "701     55.101830  \n",
       "37601  242.448530  \n",
       "56327  150.968920  \n",
       "36921   64.976870  \n",
       "70470   12.447574  \n",
       "\n",
       "[5 rows x 38 columns]"
      ]
     },
     "execution_count": 22,
     "metadata": {},
     "output_type": "execute_result"
    }
   ],
   "source": [
    "#just wanted to see what it looks like\n",
    "\n",
    "peaks_full.sample(5, random_state=42)\n"
   ]
  },
  {
   "cell_type": "code",
   "execution_count": 23,
   "id": "63770a58",
   "metadata": {},
   "outputs": [
    {
     "data": {
      "text/plain": [
       "ImmGenATAC1219.peakID                  0\n",
       "chrom                                  0\n",
       "Summit                                 0\n",
       "mm10.60way.phastCons_scores            0\n",
       "_-log10_bestPvalue                     0\n",
       "Included.in.systematic.analysis        0\n",
       "TSS                                65890\n",
       "genes.within.100Kb                  7495\n",
       "preT.DN1.Th                            0\n",
       "preT.DN2a.Th                           0\n",
       "preT.DN2b.Th                           0\n",
       "preT.DN3.Th                            0\n",
       "T.DN4.Th                               0\n",
       "T.ISP.Th                               0\n",
       "T.DP.Th                                0\n",
       "T.4.Th                                 0\n",
       "T.8.Th                                 0\n",
       "T.4.Nve.Sp                             0\n",
       "T.4.Nve.Fem.Sp                         0\n",
       "T.4.Sp.aCD3+CD40.18hr                  0\n",
       "T.8.Nve.Sp                             0\n",
       "Treg.4.25hi.Sp                         0\n",
       "Treg.4.FP3+.Nrplo.Co                   0\n",
       "T8.TN.P14.Sp                           0\n",
       "T8.TE.LCMV.d7.Sp                       0\n",
       "T8.MP.LCMV.d7.Sp                       0\n",
       "T8.IEL.LCMV.d7.SI                      0\n",
       "T8.Tcm.LCMV.d180.Sp                    0\n",
       "T8.Tem.LCMV.d180.Sp                    0\n",
       "NKT.Sp                                 0\n",
       "NKT.Sp.LPS.3hr                         0\n",
       "NKT.Sp.LPS.18hr                        0\n",
       "NKT.Sp.LPS.3d                          0\n",
       "LTHSC.34-.BM                           0\n",
       "LTHSC.34+.BM                           0\n",
       "STHSC.150-.BM                          0\n",
       "MPP4.135+.BM                           0\n",
       "variance                               0\n",
       "dtype: int64"
      ]
     },
     "execution_count": 23,
     "metadata": {},
     "output_type": "execute_result"
    }
   ],
   "source": [
    "peaks_full.isna().sum()\n"
   ]
  },
  {
   "cell_type": "code",
   "execution_count": 24,
   "id": "adeb980b",
   "metadata": {},
   "outputs": [
    {
     "name": "stdout",
     "output_type": "stream",
     "text": [
      "75857\n",
      "75857\n"
     ]
    }
   ],
   "source": [
    "#checking if all peakIDs are unique (they aren't bc if they were the number below wouldve been the same)\n",
    "print(len(peaks_full))\n",
    "print(peaks_full[\"ImmGenATAC1219.peakID\"].nunique())\n"
   ]
  },
  {
   "cell_type": "code",
   "execution_count": 26,
   "id": "98ee6533",
   "metadata": {},
   "outputs": [
    {
     "name": "stdout",
     "output_type": "stream",
     "text": [
      "['ImmGenATAC1219.peakID', 'chrom', 'Summit', 'mm10.60way.phastCons_scores', '_-log10_bestPvalue', 'Included.in.systematic.analysis', 'TSS', 'genes.within.100Kb', 'preT.DN1.Th', 'preT.DN2a.Th', 'preT.DN2b.Th', 'preT.DN3.Th', 'T.DN4.Th', 'T.ISP.Th', 'T.DP.Th', 'T.4.Th', 'T.8.Th', 'T.4.Nve.Sp', 'T.4.Nve.Fem.Sp', 'T.4.Sp.aCD3+CD40.18hr', 'T.8.Nve.Sp', 'Treg.4.25hi.Sp', 'Treg.4.FP3+.Nrplo.Co', 'T8.TN.P14.Sp', 'T8.TE.LCMV.d7.Sp', 'T8.MP.LCMV.d7.Sp', 'T8.IEL.LCMV.d7.SI', 'T8.Tcm.LCMV.d180.Sp', 'T8.Tem.LCMV.d180.Sp', 'NKT.Sp', 'NKT.Sp.LPS.3hr', 'NKT.Sp.LPS.18hr', 'NKT.Sp.LPS.3d', 'LTHSC.34-.BM', 'LTHSC.34+.BM', 'STHSC.150-.BM', 'MPP4.135+.BM', 'variance']\n"
     ]
    }
   ],
   "source": [
    "# Peek at the new peaks file’s columns\n",
    "print(peaks_full.columns.tolist())\n"
   ]
  },
  {
   "cell_type": "code",
   "execution_count": null,
   "id": "30e85c2f",
   "metadata": {},
   "outputs": [
    {
     "ename": "IndentationError",
     "evalue": "expected an indented block after 'for' statement on line 10 (993384418.py, line 13)",
     "output_type": "error",
     "traceback": [
      "\u001b[0;36m  Cell \u001b[0;32mIn[45], line 13\u001b[0;36m\u001b[0m\n\u001b[0;31m    peak_id_col = \"ImmGenATAC1219.peakID\"\u001b[0m\n\u001b[0m    ^\u001b[0m\n\u001b[0;31mIndentationError\u001b[0m\u001b[0;31m:\u001b[0m expected an indented block after 'for' statement on line 10\n"
     ]
    }
   ],
   "source": [
    "import numpy as np\n",
    "import pandas as pd\n",
    "\n",
    "# ——— Identify metadata & ID columns ———\n",
    "peak_id_col = \"ImmGenATAC1219.peakID\"\n",
    "meta_cols   = [\"chrom\", \"Summit\"]\n",
    "\n",
    "# ——— Pick only numeric columns for averaging ———\n",
    "# first, coerce everything to numeric where possible\n",
    "for c in peaks_full.columns:\n",
    "    peaks_full[c] = pd.to_numeric(peaks_full[c], errors=\"coerce\")\n",
    "\n",
    "# now select dtypes\n",
    "signal_cols = list(peaks_full.select_dtypes(include=[np.number]).columns)\n",
    "# drop the metadata & ID if they snuck in there\n",
    "signal_cols = [c for c in signal_cols if c not in meta_cols + [peak_id_col]]\n",
    "\n",
    "agg_dict = {c: \"mean\" for c in signal_cols}\n",
    "agg_dict.update({ \"Summit\": \"first\", \"chrom\": \"first\" })\n",
    "\n",
    "peaks_mean = (\n",
    "    peaks_full\n",
    "    .groupby(peak_id_col)\n",
    "    .agg(agg_dict)\n",
    "    .reset_index()\n",
    ")\n",
    "peaks_mean.rename(columns={\"Summit\":\"peak_center\"}, inplace=True)\n"
   ]
  },
  {
   "cell_type": "markdown",
   "id": "d6e26e98",
   "metadata": {},
   "source": [
    "grouped all rows that belong to the same peak (even if they appear across multiple cell types)\n",
    "\n",
    "\"Signal\": \"mean\" → ✅ computes mean signal across all cell types.\n",
    "\n",
    "\"Summit\": \"first\" → ✅ reuses the same Summit value (same for all instances of a peak)."
   ]
  },
  {
   "cell_type": "code",
   "execution_count": 30,
   "id": "2ce4f879",
   "metadata": {},
   "outputs": [],
   "source": [
    "# Drop the unnecessary columns\n",
    "peaks_mean_clean = peaks_mean.drop(columns=[\n",
    "    \"mm10.60way.phastCons_scores\", \n",
    "    \"_-log10_bestPvalue\", \n",
    "    \"Included.in.systematic.analysis\", \n",
    "    \"TSS\", \n",
    "    \"genes.within.100Kb\"\n",
    "], errors='ignore')  # errors='ignore' avoids crash if not present\n",
    "\n",
    "# Reset the index so there's no row number column\n",
    "peaks_mean_clean = peaks_mean_clean.reset_index(drop=True)\n"
   ]
  },
  {
   "cell_type": "code",
   "execution_count": 31,
   "id": "df4b64ad",
   "metadata": {},
   "outputs": [
    {
     "ename": "KeyError",
     "evalue": "\"['distance_to_tss'] not in index\"",
     "output_type": "error",
     "traceback": [
      "\u001b[0;31m---------------------------------------------------------------------------\u001b[0m",
      "\u001b[0;31mKeyError\u001b[0m                                  Traceback (most recent call last)",
      "Cell \u001b[0;32mIn[42], line 3\u001b[0m\n\u001b[1;32m      1\u001b[0m \u001b[38;5;66;03m# Merge distance info from `peaks` into `peaks_mean_clean` using peakID\u001b[39;00m\n\u001b[1;32m      2\u001b[0m peaks_mean_clean \u001b[38;5;241m=\u001b[39m peaks_mean_clean\u001b[38;5;241m.\u001b[39mmerge(\n\u001b[0;32m----> 3\u001b[0m     \u001b[43mpeaks\u001b[49m\u001b[43m[\u001b[49m\u001b[43m[\u001b[49m\u001b[38;5;124;43m\"\u001b[39;49m\u001b[38;5;124;43mImmGenATAC1219.peakID\u001b[39;49m\u001b[38;5;124;43m\"\u001b[39;49m\u001b[43m,\u001b[49m\u001b[43m \u001b[49m\u001b[38;5;124;43m\"\u001b[39;49m\u001b[38;5;124;43mdistance_to_tss\u001b[39;49m\u001b[38;5;124;43m\"\u001b[39;49m\u001b[43m]\u001b[49m\u001b[43m]\u001b[49m,\n\u001b[1;32m      4\u001b[0m     on\u001b[38;5;241m=\u001b[39m\u001b[38;5;124m\"\u001b[39m\u001b[38;5;124mImmGenATAC1219.peakID\u001b[39m\u001b[38;5;124m\"\u001b[39m,\n\u001b[1;32m      5\u001b[0m     how\u001b[38;5;241m=\u001b[39m\u001b[38;5;124m\"\u001b[39m\u001b[38;5;124mleft\u001b[39m\u001b[38;5;124m\"\u001b[39m\n\u001b[1;32m      6\u001b[0m )\n",
      "File \u001b[0;32m/opt/miniconda3/envs/REAL_FORKED_Bioinfo_project/lib/python3.10/site-packages/pandas/core/frame.py:4108\u001b[0m, in \u001b[0;36mDataFrame.__getitem__\u001b[0;34m(self, key)\u001b[0m\n\u001b[1;32m   4106\u001b[0m     \u001b[38;5;28;01mif\u001b[39;00m is_iterator(key):\n\u001b[1;32m   4107\u001b[0m         key \u001b[38;5;241m=\u001b[39m \u001b[38;5;28mlist\u001b[39m(key)\n\u001b[0;32m-> 4108\u001b[0m     indexer \u001b[38;5;241m=\u001b[39m \u001b[38;5;28;43mself\u001b[39;49m\u001b[38;5;241;43m.\u001b[39;49m\u001b[43mcolumns\u001b[49m\u001b[38;5;241;43m.\u001b[39;49m\u001b[43m_get_indexer_strict\u001b[49m\u001b[43m(\u001b[49m\u001b[43mkey\u001b[49m\u001b[43m,\u001b[49m\u001b[43m \u001b[49m\u001b[38;5;124;43m\"\u001b[39;49m\u001b[38;5;124;43mcolumns\u001b[39;49m\u001b[38;5;124;43m\"\u001b[39;49m\u001b[43m)\u001b[49m[\u001b[38;5;241m1\u001b[39m]\n\u001b[1;32m   4110\u001b[0m \u001b[38;5;66;03m# take() does not accept boolean indexers\u001b[39;00m\n\u001b[1;32m   4111\u001b[0m \u001b[38;5;28;01mif\u001b[39;00m \u001b[38;5;28mgetattr\u001b[39m(indexer, \u001b[38;5;124m\"\u001b[39m\u001b[38;5;124mdtype\u001b[39m\u001b[38;5;124m\"\u001b[39m, \u001b[38;5;28;01mNone\u001b[39;00m) \u001b[38;5;241m==\u001b[39m \u001b[38;5;28mbool\u001b[39m:\n",
      "File \u001b[0;32m/opt/miniconda3/envs/REAL_FORKED_Bioinfo_project/lib/python3.10/site-packages/pandas/core/indexes/base.py:6200\u001b[0m, in \u001b[0;36mIndex._get_indexer_strict\u001b[0;34m(self, key, axis_name)\u001b[0m\n\u001b[1;32m   6197\u001b[0m \u001b[38;5;28;01melse\u001b[39;00m:\n\u001b[1;32m   6198\u001b[0m     keyarr, indexer, new_indexer \u001b[38;5;241m=\u001b[39m \u001b[38;5;28mself\u001b[39m\u001b[38;5;241m.\u001b[39m_reindex_non_unique(keyarr)\n\u001b[0;32m-> 6200\u001b[0m \u001b[38;5;28;43mself\u001b[39;49m\u001b[38;5;241;43m.\u001b[39;49m\u001b[43m_raise_if_missing\u001b[49m\u001b[43m(\u001b[49m\u001b[43mkeyarr\u001b[49m\u001b[43m,\u001b[49m\u001b[43m \u001b[49m\u001b[43mindexer\u001b[49m\u001b[43m,\u001b[49m\u001b[43m \u001b[49m\u001b[43maxis_name\u001b[49m\u001b[43m)\u001b[49m\n\u001b[1;32m   6202\u001b[0m keyarr \u001b[38;5;241m=\u001b[39m \u001b[38;5;28mself\u001b[39m\u001b[38;5;241m.\u001b[39mtake(indexer)\n\u001b[1;32m   6203\u001b[0m \u001b[38;5;28;01mif\u001b[39;00m \u001b[38;5;28misinstance\u001b[39m(key, Index):\n\u001b[1;32m   6204\u001b[0m     \u001b[38;5;66;03m# GH 42790 - Preserve name from an Index\u001b[39;00m\n",
      "File \u001b[0;32m/opt/miniconda3/envs/REAL_FORKED_Bioinfo_project/lib/python3.10/site-packages/pandas/core/indexes/base.py:6252\u001b[0m, in \u001b[0;36mIndex._raise_if_missing\u001b[0;34m(self, key, indexer, axis_name)\u001b[0m\n\u001b[1;32m   6249\u001b[0m     \u001b[38;5;28;01mraise\u001b[39;00m \u001b[38;5;167;01mKeyError\u001b[39;00m(\u001b[38;5;124mf\u001b[39m\u001b[38;5;124m\"\u001b[39m\u001b[38;5;124mNone of [\u001b[39m\u001b[38;5;132;01m{\u001b[39;00mkey\u001b[38;5;132;01m}\u001b[39;00m\u001b[38;5;124m] are in the [\u001b[39m\u001b[38;5;132;01m{\u001b[39;00maxis_name\u001b[38;5;132;01m}\u001b[39;00m\u001b[38;5;124m]\u001b[39m\u001b[38;5;124m\"\u001b[39m)\n\u001b[1;32m   6251\u001b[0m not_found \u001b[38;5;241m=\u001b[39m \u001b[38;5;28mlist\u001b[39m(ensure_index(key)[missing_mask\u001b[38;5;241m.\u001b[39mnonzero()[\u001b[38;5;241m0\u001b[39m]]\u001b[38;5;241m.\u001b[39munique())\n\u001b[0;32m-> 6252\u001b[0m \u001b[38;5;28;01mraise\u001b[39;00m \u001b[38;5;167;01mKeyError\u001b[39;00m(\u001b[38;5;124mf\u001b[39m\u001b[38;5;124m\"\u001b[39m\u001b[38;5;132;01m{\u001b[39;00mnot_found\u001b[38;5;132;01m}\u001b[39;00m\u001b[38;5;124m not in index\u001b[39m\u001b[38;5;124m\"\u001b[39m)\n",
      "\u001b[0;31mKeyError\u001b[0m: \"['distance_to_tss'] not in index\""
     ]
    }
   ],
   "source": [
    "# Merge distance info from `peaks` into `peaks_mean_clean` using peakID\n",
    "peaks_mean_clean = peaks_mean_clean.merge(\n",
    "    peaks[[\"ImmGenATAC1219.peakID\", \"distance_to_tss\"]],\n",
    "    on=\"ImmGenATAC1219.peakID\",\n",
    "    how=\"left\"\n",
    ")\n"
   ]
  },
  {
   "cell_type": "markdown",
   "id": "2deb192e",
   "metadata": {},
   "source": [
    "You're merging the distance_to_tss values (calculated in Task A1) into your Task A2 dataframe (peaks_mean_clean).\n",
    "\n",
    "you had:\n",
    "\n",
    "A file with distance_to_tss only ❌ no signal\n",
    "\n",
    "A file with mean_signal only ❌ no TSS info\n",
    "\n",
    "➡️ To plot signal vs. distance, you need both columns in one place.\n",
    "\n"
   ]
  },
  {
   "cell_type": "code",
   "execution_count": 32,
   "id": "9b8b2318",
   "metadata": {},
   "outputs": [
    {
     "name": "stdout",
     "output_type": "stream",
     "text": [
      "['ImmGenATAC1219.peakID', 'preT.DN1.Th', 'preT.DN2a.Th', 'preT.DN2b.Th', 'preT.DN3.Th', 'T.DN4.Th', 'T.ISP.Th', 'T.DP.Th', 'T.4.Th', 'T.8.Th', 'T.4.Nve.Sp', 'T.4.Nve.Fem.Sp', 'T.4.Sp.aCD3+CD40.18hr', 'T.8.Nve.Sp', 'Treg.4.25hi.Sp', 'Treg.4.FP3+.Nrplo.Co', 'T8.TN.P14.Sp', 'T8.TE.LCMV.d7.Sp', 'T8.MP.LCMV.d7.Sp', 'T8.IEL.LCMV.d7.SI', 'T8.Tcm.LCMV.d180.Sp', 'T8.Tem.LCMV.d180.Sp', 'NKT.Sp', 'NKT.Sp.LPS.3hr', 'NKT.Sp.LPS.18hr', 'NKT.Sp.LPS.3d', 'LTHSC.34-.BM', 'LTHSC.34+.BM', 'STHSC.150-.BM', 'MPP4.135+.BM', 'variance', 'peak_center', 'chrom', 'distance_to_tss', 'mean_signal']\n"
     ]
    }
   ],
   "source": [
    "print(peaks_mean_clean.columns.tolist())\n"
   ]
  },
  {
   "cell_type": "code",
   "execution_count": 41,
   "id": "a482f181",
   "metadata": {},
   "outputs": [
    {
     "name": "stdout",
     "output_type": "stream",
     "text": [
      "peaks_mean shape: (0, 38)\n",
      "Empty DataFrame\n",
      "Columns: [ImmGenATAC1219.peakID, mm10.60way.phastCons_scores, _-log10_bestPvalue, Included.in.systematic.analysis, TSS, genes.within.100Kb, preT.DN1.Th, preT.DN2a.Th, preT.DN2b.Th, preT.DN3.Th, T.DN4.Th, T.ISP.Th, T.DP.Th, T.4.Th, T.8.Th, T.4.Nve.Sp, T.4.Nve.Fem.Sp, T.4.Sp.aCD3+CD40.18hr, T.8.Nve.Sp, Treg.4.25hi.Sp, Treg.4.FP3+.Nrplo.Co, T8.TN.P14.Sp, T8.TE.LCMV.d7.Sp, T8.MP.LCMV.d7.Sp, T8.IEL.LCMV.d7.SI, T8.Tcm.LCMV.d180.Sp, T8.Tem.LCMV.d180.Sp, NKT.Sp, NKT.Sp.LPS.3hr, NKT.Sp.LPS.18hr, NKT.Sp.LPS.3d, LTHSC.34-.BM, LTHSC.34+.BM, STHSC.150-.BM, MPP4.135+.BM, variance, peak_center, chrom]\n",
      "Index: []\n",
      "\n",
      "[0 rows x 38 columns]\n"
     ]
    }
   ],
   "source": [
    "print(\"peaks_mean shape:\", peaks_mean.shape)\n",
    "print(peaks_mean.head())\n"
   ]
  },
  {
   "cell_type": "markdown",
   "id": "6f968bf9",
   "metadata": {},
   "source": [
    " Pulls a random sample of 50,000 peaks \n",
    " Plots signal vs. distance "
   ]
  },
  {
   "cell_type": "code",
   "execution_count": 26,
   "id": "782f2371",
   "metadata": {},
   "outputs": [
    {
     "name": "stdout",
     "output_type": "stream",
     "text": [
      "Pearson r     = -0.1381\n",
      "R-squared     = 0.0191\n",
      "p-value       = 0.0000e+00\n"
     ]
    }
   ],
   "source": [
    "from scipy.stats import pearsonr\n",
    "\n",
    "# Calculate Pearson r and p-value\n",
    "r, p = pearsonr(filtered[\"distance_to_tss\"], filtered[\"mean_signal\"])\n",
    "\n",
    "# R-squared is simply r squared\n",
    "r_squared = r**2\n",
    "\n",
    "print(f\"Pearson r     = {r:.4f}\")\n",
    "print(f\"R-squared     = {r_squared:.4f}\")\n",
    "print(f\"p-value       = {p:.4e}\")\n"
   ]
  }
 ],
 "metadata": {
  "kernelspec": {
   "display_name": "REAL_FORKED_Bioinfo_project",
   "language": "python",
   "name": "python3"
  },
  "language_info": {
   "codemirror_mode": {
    "name": "ipython",
    "version": 3
   },
   "file_extension": ".py",
   "mimetype": "text/x-python",
   "name": "python",
   "nbconvert_exporter": "python",
   "pygments_lexer": "ipython3",
   "version": "3.10.17"
  }
 },
 "nbformat": 4,
 "nbformat_minor": 5
}
