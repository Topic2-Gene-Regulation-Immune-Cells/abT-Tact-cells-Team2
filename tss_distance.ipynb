{
 "cells": [
  {
   "cell_type": "code",
   "execution_count": 11,
   "id": "a1dcc345",
   "metadata": {},
   "outputs": [],
   "source": [
    "import numpy as np\n"
   ]
  },
  {
   "cell_type": "code",
   "execution_count": 1,
   "id": "7960e19b",
   "metadata": {},
   "outputs": [],
   "source": [
    "import pandas as pd\n",
    "\n",
    "# Load RefFlat file\n",
    "ref = pd.read_csv(\"refFlat\", sep=\"\\t\", header=None)\n",
    "\n",
    "# Set proper column names\n",
    "ref.columns = [\n",
    "    \"gene_name\", \"transcript_name\", \"chrom\", \"strand\",\n",
    "    \"tx_start_5prime\", \"tx_start_3prime\",\n",
    "    \"cds_start\", \"cds_end\",\n",
    "    \"exon_count\", \"exon_starts\", \"exon_ends\"\n",
    "]\n",
    "\n",
    "# Extract strand-aware TSS\n",
    "ref[\"tss\"] = ref.apply(\n",
    "    lambda row: row[\"tx_start_5prime\"] if row[\"strand\"] == \"+\" else row[\"tx_start_3prime\"],\n",
    "    axis=1\n",
    ")\n",
    "\n",
    "# Final TSS table for matching\n",
    "tss_table = ref[[\"chrom\", \"tss\"]].copy()\n"
   ]
  },
  {
   "cell_type": "code",
   "execution_count": 2,
   "id": "21922cca",
   "metadata": {},
   "outputs": [
    {
     "data": {
      "text/html": [
       "<div>\n",
       "<style scoped>\n",
       "    .dataframe tbody tr th:only-of-type {\n",
       "        vertical-align: middle;\n",
       "    }\n",
       "\n",
       "    .dataframe tbody tr th {\n",
       "        vertical-align: top;\n",
       "    }\n",
       "\n",
       "    .dataframe thead th {\n",
       "        text-align: right;\n",
       "    }\n",
       "</style>\n",
       "<table border=\"1\" class=\"dataframe\">\n",
       "  <thead>\n",
       "    <tr style=\"text-align: right;\">\n",
       "      <th></th>\n",
       "      <th>gene_name</th>\n",
       "      <th>transcript_name</th>\n",
       "      <th>chrom</th>\n",
       "      <th>strand</th>\n",
       "      <th>tx_start_5prime</th>\n",
       "      <th>tx_start_3prime</th>\n",
       "      <th>cds_start</th>\n",
       "      <th>cds_end</th>\n",
       "      <th>exon_count</th>\n",
       "      <th>exon_starts</th>\n",
       "      <th>exon_ends</th>\n",
       "      <th>tss</th>\n",
       "    </tr>\n",
       "  </thead>\n",
       "  <tbody>\n",
       "    <tr>\n",
       "      <th>0</th>\n",
       "      <td>Wdsub1</td>\n",
       "      <td>NM_001159636</td>\n",
       "      <td>chr2</td>\n",
       "      <td>-</td>\n",
       "      <td>59855193</td>\n",
       "      <td>59882606</td>\n",
       "      <td>59855270</td>\n",
       "      <td>59878527</td>\n",
       "      <td>11</td>\n",
       "      <td>59855193,59858609,59861560,59862619,59862816,5...</td>\n",
       "      <td>59855275,59858750,59861737,59862726,59862857,5...</td>\n",
       "      <td>59882606</td>\n",
       "    </tr>\n",
       "    <tr>\n",
       "      <th>1</th>\n",
       "      <td>Rbm18</td>\n",
       "      <td>NM_001159635</td>\n",
       "      <td>chr2</td>\n",
       "      <td>-</td>\n",
       "      <td>36116078</td>\n",
       "      <td>36136704</td>\n",
       "      <td>36117814</td>\n",
       "      <td>36134247</td>\n",
       "      <td>6</td>\n",
       "      <td>36116078,36120812,36122851,36127214,36134134,3...</td>\n",
       "      <td>36117974,36120898,36122938,36127251,36134263,3...</td>\n",
       "      <td>36136704</td>\n",
       "    </tr>\n",
       "    <tr>\n",
       "      <th>2</th>\n",
       "      <td>Prrc2b</td>\n",
       "      <td>NM_001159634</td>\n",
       "      <td>chr2</td>\n",
       "      <td>+</td>\n",
       "      <td>32151147</td>\n",
       "      <td>32234537</td>\n",
       "      <td>32182511</td>\n",
       "      <td>32230742</td>\n",
       "      <td>32</td>\n",
       "      <td>32151147,32182457,32183122,32185344,32187480,3...</td>\n",
       "      <td>32151291,32182626,32183300,32185447,32187553,3...</td>\n",
       "      <td>32151147</td>\n",
       "    </tr>\n",
       "    <tr>\n",
       "      <th>3</th>\n",
       "      <td>Ildr2</td>\n",
       "      <td>NM_001164528</td>\n",
       "      <td>chr1</td>\n",
       "      <td>+</td>\n",
       "      <td>166254138</td>\n",
       "      <td>166316832</td>\n",
       "      <td>166254375</td>\n",
       "      <td>166310795</td>\n",
       "      <td>10</td>\n",
       "      <td>166254138,166269304,166270498,166291415,166294...</td>\n",
       "      <td>166254466,166269637,166270618,166291472,166294...</td>\n",
       "      <td>166254138</td>\n",
       "    </tr>\n",
       "    <tr>\n",
       "      <th>4</th>\n",
       "      <td>Perm1</td>\n",
       "      <td>NM_172417</td>\n",
       "      <td>chr4</td>\n",
       "      <td>+</td>\n",
       "      <td>156215926</td>\n",
       "      <td>156221307</td>\n",
       "      <td>156217000</td>\n",
       "      <td>156220222</td>\n",
       "      <td>4</td>\n",
       "      <td>156215926,156216716,156219740,156220109,</td>\n",
       "      <td>156215975,156219185,156219866,156221307,</td>\n",
       "      <td>156215926</td>\n",
       "    </tr>\n",
       "  </tbody>\n",
       "</table>\n",
       "</div>"
      ],
      "text/plain": [
       "  gene_name transcript_name chrom strand  tx_start_5prime  tx_start_3prime  \\\n",
       "0    Wdsub1    NM_001159636  chr2      -         59855193         59882606   \n",
       "1     Rbm18    NM_001159635  chr2      -         36116078         36136704   \n",
       "2    Prrc2b    NM_001159634  chr2      +         32151147         32234537   \n",
       "3     Ildr2    NM_001164528  chr1      +        166254138        166316832   \n",
       "4     Perm1       NM_172417  chr4      +        156215926        156221307   \n",
       "\n",
       "   cds_start    cds_end  exon_count  \\\n",
       "0   59855270   59878527          11   \n",
       "1   36117814   36134247           6   \n",
       "2   32182511   32230742          32   \n",
       "3  166254375  166310795          10   \n",
       "4  156217000  156220222           4   \n",
       "\n",
       "                                         exon_starts  \\\n",
       "0  59855193,59858609,59861560,59862619,59862816,5...   \n",
       "1  36116078,36120812,36122851,36127214,36134134,3...   \n",
       "2  32151147,32182457,32183122,32185344,32187480,3...   \n",
       "3  166254138,166269304,166270498,166291415,166294...   \n",
       "4           156215926,156216716,156219740,156220109,   \n",
       "\n",
       "                                           exon_ends        tss  \n",
       "0  59855275,59858750,59861737,59862726,59862857,5...   59882606  \n",
       "1  36117974,36120898,36122938,36127251,36134263,3...   36136704  \n",
       "2  32151291,32182626,32183300,32185447,32187553,3...   32151147  \n",
       "3  166254466,166269637,166270618,166291472,166294...  166254138  \n",
       "4           156215975,156219185,156219866,156221307,  156215926  "
      ]
     },
     "execution_count": 2,
     "metadata": {},
     "output_type": "execute_result"
    }
   ],
   "source": [
    "\n",
    "ref.head()"
   ]
  },
  {
   "cell_type": "code",
   "execution_count": 3,
   "id": "8763d152",
   "metadata": {},
   "outputs": [],
   "source": [
    "# Extract strand-aware TSS\n",
    "ref[\"tss\"] = ref.apply(\n",
    "    lambda row: row[\"tx_start_5prime\"] if row[\"strand\"] == \"+\" else row[\"tx_start_3prime\"],\n",
    "    axis=1\n",
    ")"
   ]
  },
  {
   "cell_type": "code",
   "execution_count": 4,
   "id": "90396516",
   "metadata": {},
   "outputs": [],
   "source": [
    "# Final TSS table for matching\n",
    "tss_table = ref[[\"chrom\", \"tss\"]].copy()\n"
   ]
  },
  {
   "cell_type": "code",
   "execution_count": 5,
   "id": "f3444250",
   "metadata": {},
   "outputs": [
    {
     "data": {
      "text/plain": [
       "(47382, 2)"
      ]
     },
     "execution_count": 5,
     "metadata": {},
     "output_type": "execute_result"
    }
   ],
   "source": [
    "tss_table.shape"
   ]
  },
  {
   "cell_type": "code",
   "execution_count": 6,
   "id": "8ded563f",
   "metadata": {},
   "outputs": [
    {
     "data": {
      "text/plain": [
       "chrom    0\n",
       "tss      0\n",
       "dtype: int64"
      ]
     },
     "execution_count": 6,
     "metadata": {},
     "output_type": "execute_result"
    }
   ],
   "source": [
    "\n",
    "tss_table.isna().sum()"
   ]
  },
  {
   "cell_type": "code",
   "execution_count": 7,
   "id": "0c5c4df0",
   "metadata": {},
   "outputs": [],
   "source": [
    "peaks = pd.read_csv(\"ATAC-seq/refined_ATAC.csv\")\n",
    "\n",
    "# Define peak center\n",
    "peaks[\"peak_center\"] = peaks[\"Summit\"]\n",
    "\n",
    "# Keep minimal amnt of columns for distance task\n",
    "peaks = peaks[[\"ImmGenATAC1219.peakID\", \"chrom\", \"peak_center\"]].copy()\n"
   ]
  },
  {
   "cell_type": "code",
   "execution_count": 8,
   "id": "c9c5f8f3",
   "metadata": {},
   "outputs": [
    {
     "data": {
      "text/html": [
       "<div>\n",
       "<style scoped>\n",
       "    .dataframe tbody tr th:only-of-type {\n",
       "        vertical-align: middle;\n",
       "    }\n",
       "\n",
       "    .dataframe tbody tr th {\n",
       "        vertical-align: top;\n",
       "    }\n",
       "\n",
       "    .dataframe thead th {\n",
       "        text-align: right;\n",
       "    }\n",
       "</style>\n",
       "<table border=\"1\" class=\"dataframe\">\n",
       "  <thead>\n",
       "    <tr style=\"text-align: right;\">\n",
       "      <th></th>\n",
       "      <th>ImmGenATAC1219.peakID</th>\n",
       "      <th>chrom</th>\n",
       "      <th>peak_center</th>\n",
       "    </tr>\n",
       "  </thead>\n",
       "  <tbody>\n",
       "    <tr>\n",
       "      <th>0</th>\n",
       "      <td>ImmGenATAC1219.peak_1</td>\n",
       "      <td>chr1</td>\n",
       "      <td>3020786</td>\n",
       "    </tr>\n",
       "    <tr>\n",
       "      <th>1</th>\n",
       "      <td>ImmGenATAC1219.peak_2</td>\n",
       "      <td>chr1</td>\n",
       "      <td>3087226</td>\n",
       "    </tr>\n",
       "    <tr>\n",
       "      <th>2</th>\n",
       "      <td>ImmGenATAC1219.peak_3</td>\n",
       "      <td>chr1</td>\n",
       "      <td>3120109</td>\n",
       "    </tr>\n",
       "    <tr>\n",
       "      <th>3</th>\n",
       "      <td>ImmGenATAC1219.peak_4</td>\n",
       "      <td>chr1</td>\n",
       "      <td>3121485</td>\n",
       "    </tr>\n",
       "    <tr>\n",
       "      <th>4</th>\n",
       "      <td>ImmGenATAC1219.peak_5</td>\n",
       "      <td>chr1</td>\n",
       "      <td>3372787</td>\n",
       "    </tr>\n",
       "  </tbody>\n",
       "</table>\n",
       "</div>"
      ],
      "text/plain": [
       "   ImmGenATAC1219.peakID chrom  peak_center\n",
       "0  ImmGenATAC1219.peak_1  chr1      3020786\n",
       "1  ImmGenATAC1219.peak_2  chr1      3087226\n",
       "2  ImmGenATAC1219.peak_3  chr1      3120109\n",
       "3  ImmGenATAC1219.peak_4  chr1      3121485\n",
       "4  ImmGenATAC1219.peak_5  chr1      3372787"
      ]
     },
     "execution_count": 8,
     "metadata": {},
     "output_type": "execute_result"
    }
   ],
   "source": [
    "#just to see if it worked \n",
    "peaks.head()\n"
   ]
  },
  {
   "cell_type": "code",
   "execution_count": 9,
   "id": "e1c005ec",
   "metadata": {},
   "outputs": [
    {
     "name": "stdout",
     "output_type": "stream",
     "text": [
      "<class 'pandas.core.frame.DataFrame'>\n",
      "RangeIndex: 14865255 entries, 0 to 14865254\n",
      "Data columns (total 3 columns):\n",
      " #   Column                 Dtype \n",
      "---  ------                 ----- \n",
      " 0   ImmGenATAC1219.peakID  object\n",
      " 1   chrom                  object\n",
      " 2   peak_center            int64 \n",
      "dtypes: int64(1), object(2)\n",
      "memory usage: 340.2+ MB\n"
     ]
    }
   ],
   "source": [
    "peaks.info()\n"
   ]
  },
  {
   "cell_type": "code",
   "execution_count": 12,
   "id": "4fe02276",
   "metadata": {},
   "outputs": [],
   "source": [
    "# Create a dictionary: chrom → sorted array of TSSs on that chromosome\n",
    "tss_dict = {\n",
    "    chrom: np.sort(group[\"tss\"].values)\n",
    "    for chrom, group in tss_table.groupby(\"chrom\")\n",
    "}\n"
   ]
  },
  {
   "cell_type": "code",
   "execution_count": 13,
   "id": "3beeb79c",
   "metadata": {},
   "outputs": [],
   "source": [
    "# Function to find the nearest TSS to a peak center on the same chromosome\n",
    "\n",
    "def fast_closest_tss(chrom, center):\n",
    "    if chrom not in tss_dict:\n",
    "        return np.nan # no TSS available for this chromosome\n",
    "    tss_array = tss_dict[chrom]\n",
    "     # Use binary search to find the insertion point\n",
    "    idx = np.searchsorted(tss_array, center)\n",
    "  \n",
    "      # Edge cases: if center is before first or after last TSS\n",
    "    if idx == 0:\n",
    "        return tss_array[0]\n",
    "    elif idx == len(tss_array):\n",
    "        return tss_array[-1]\n",
    "    else:\n",
    "           # Pick the closest of the two surrounding TSS positions\n",
    "        left = tss_array[idx - 1]\n",
    "        right = tss_array[idx]\n",
    "        return left if abs(center - left) < abs(center - right) else right\n"
   ]
  },
  {
   "cell_type": "code",
   "execution_count": 14,
   "id": "c7c9ec09",
   "metadata": {},
   "outputs": [],
   "source": [
    "# Apply the closest-TSS function to each row of the peaks table\n",
    "\n",
    "peaks[\"closest_tss\"] = peaks.apply(\n",
    "    lambda row: fast_closest_tss(row[\"chrom\"], row[\"peak_center\"]),\n",
    "    axis=1\n",
    ")\n",
    "\n",
    "# Calculate absolute distance between peak center and closest TSS\n",
    "peaks[\"distance_to_tss\"] = np.abs(peaks[\"peak_center\"] - peaks[\"closest_tss\"])\n"
   ]
  },
  {
   "cell_type": "code",
   "execution_count": 15,
   "id": "9275eb28",
   "metadata": {},
   "outputs": [
    {
     "data": {
      "text/html": [
       "<div>\n",
       "<style scoped>\n",
       "    .dataframe tbody tr th:only-of-type {\n",
       "        vertical-align: middle;\n",
       "    }\n",
       "\n",
       "    .dataframe tbody tr th {\n",
       "        vertical-align: top;\n",
       "    }\n",
       "\n",
       "    .dataframe thead th {\n",
       "        text-align: right;\n",
       "    }\n",
       "</style>\n",
       "<table border=\"1\" class=\"dataframe\">\n",
       "  <thead>\n",
       "    <tr style=\"text-align: right;\">\n",
       "      <th></th>\n",
       "      <th>peak_center</th>\n",
       "      <th>closest_tss</th>\n",
       "      <th>distance_to_tss</th>\n",
       "    </tr>\n",
       "  </thead>\n",
       "  <tbody>\n",
       "    <tr>\n",
       "      <th>0</th>\n",
       "      <td>3020786</td>\n",
       "      <td>3671498.0</td>\n",
       "      <td>650712.0</td>\n",
       "    </tr>\n",
       "    <tr>\n",
       "      <th>1</th>\n",
       "      <td>3087226</td>\n",
       "      <td>3671498.0</td>\n",
       "      <td>584272.0</td>\n",
       "    </tr>\n",
       "    <tr>\n",
       "      <th>2</th>\n",
       "      <td>3120109</td>\n",
       "      <td>3671498.0</td>\n",
       "      <td>551389.0</td>\n",
       "    </tr>\n",
       "    <tr>\n",
       "      <th>3</th>\n",
       "      <td>3121485</td>\n",
       "      <td>3671498.0</td>\n",
       "      <td>550013.0</td>\n",
       "    </tr>\n",
       "    <tr>\n",
       "      <th>4</th>\n",
       "      <td>3372787</td>\n",
       "      <td>3671498.0</td>\n",
       "      <td>298711.0</td>\n",
       "    </tr>\n",
       "    <tr>\n",
       "      <th>5</th>\n",
       "      <td>3399217</td>\n",
       "      <td>3671498.0</td>\n",
       "      <td>272281.0</td>\n",
       "    </tr>\n",
       "    <tr>\n",
       "      <th>6</th>\n",
       "      <td>3400115</td>\n",
       "      <td>3671498.0</td>\n",
       "      <td>271383.0</td>\n",
       "    </tr>\n",
       "    <tr>\n",
       "      <th>7</th>\n",
       "      <td>3416260</td>\n",
       "      <td>3671498.0</td>\n",
       "      <td>255238.0</td>\n",
       "    </tr>\n",
       "    <tr>\n",
       "      <th>8</th>\n",
       "      <td>3434092</td>\n",
       "      <td>3671498.0</td>\n",
       "      <td>237406.0</td>\n",
       "    </tr>\n",
       "    <tr>\n",
       "      <th>9</th>\n",
       "      <td>3434378</td>\n",
       "      <td>3671498.0</td>\n",
       "      <td>237120.0</td>\n",
       "    </tr>\n",
       "  </tbody>\n",
       "</table>\n",
       "</div>"
      ],
      "text/plain": [
       "   peak_center  closest_tss  distance_to_tss\n",
       "0      3020786    3671498.0         650712.0\n",
       "1      3087226    3671498.0         584272.0\n",
       "2      3120109    3671498.0         551389.0\n",
       "3      3121485    3671498.0         550013.0\n",
       "4      3372787    3671498.0         298711.0\n",
       "5      3399217    3671498.0         272281.0\n",
       "6      3400115    3671498.0         271383.0\n",
       "7      3416260    3671498.0         255238.0\n",
       "8      3434092    3671498.0         237406.0\n",
       "9      3434378    3671498.0         237120.0"
      ]
     },
     "execution_count": 15,
     "metadata": {},
     "output_type": "execute_result"
    }
   ],
   "source": [
    "\n",
    "#Check the head of the new columns\n",
    "peaks[[\"peak_center\", \"closest_tss\", \"distance_to_tss\"]].head(10)\n"
   ]
  },
  {
   "cell_type": "code",
   "execution_count": 16,
   "id": "3a6b019a",
   "metadata": {},
   "outputs": [
    {
     "name": "stdout",
     "output_type": "stream",
     "text": [
      "0.0\n",
      "2012626.0\n",
      "54800.2362037066\n"
     ]
    }
   ],
   "source": [
    "\n",
    "print(peaks[\"distance_to_tss\"].min())\n",
    "print(peaks[\"distance_to_tss\"].max())\n",
    "print(peaks[\"distance_to_tss\"].mean())\n"
   ]
  },
  {
   "cell_type": "markdown",
   "id": "18a4bbff",
   "metadata": {},
   "source": [
    "Minimum distance to TSS: 0.0 → At least one peak is exactly at a TSS.\n",
    "\n",
    "Maximum distance: 2,012,626 bp → Some peaks are very far from any TSS (likely intergenic or distal enhancers).\n",
    "\n",
    "Average distance: ~54,800 bp → Most peaks are within ~55kb of a TSS."
   ]
  },
  {
   "cell_type": "markdown",
   "id": "eb25db86",
   "metadata": {},
   "source": [
    "Now just gonna do some filtering"
   ]
  },
  {
   "cell_type": "code",
   "execution_count": 70,
   "id": "e063ff2f",
   "metadata": {},
   "outputs": [
    {
     "name": "stdout",
     "output_type": "stream",
     "text": [
      "(14865255, 5)\n"
     ]
    }
   ],
   "source": [
    "#checking dataset before filtering\n",
    "\n",
    "print(peaks.shape)\n"
   ]
  },
  {
   "cell_type": "code",
   "execution_count": 71,
   "id": "97350dc5",
   "metadata": {},
   "outputs": [
    {
     "name": "stdout",
     "output_type": "stream",
     "text": [
      "(14859136, 5)\n",
      "6119\n"
     ]
    }
   ],
   "source": [
    "#filtering and checking the no after filtering \n",
    "\n",
    "filtered = peaks.dropna(subset=[\"distance_to_tss\"])\n",
    "print(filtered.shape)\n",
    "\n",
    "#seeing how many dropped\n",
    "print(peaks.shape[0] - filtered.shape[0])\n"
   ]
  },
  {
   "cell_type": "code",
   "execution_count": 72,
   "id": "2d300314",
   "metadata": {},
   "outputs": [
    {
     "data": {
      "image/png": "[encoded data removed]",
      "text/plain": [
       "<Figure size 1000x600 with 1 Axes>"
      ]
     },
     "metadata": {},
     "output_type": "display_data"
    }
   ],
   "source": [
    "import matplotlib.pyplot as plt\n",
    "\n",
    "plt.figure(figsize=(10, 6))\n",
    "\n",
    "# Histogram with pink bars\n",
    "plt.hist(filtered[\"distance_to_tss\"], \n",
    "         bins=100, \n",
    "         color='hotpink', \n",
    "         edgecolor='black', \n",
    "         range=(0, 600_000))  # focus on distances <300k\n",
    "\n",
    "# Titles and labels\n",
    "plt.title(\"Distribution of Distances to Closest TSS\", fontsize=14)\n",
    "plt.xlabel(\"Distance to TSS (bp)\", fontsize=12)\n",
    "plt.ylabel(\"Number of Peaks\", fontsize=12)\n",
    "\n",
    "plt.grid(True, linestyle='--', alpha=0.5)\n",
    "plt.tight_layout()\n",
    "plt.show()\n",
    "\n"
   ]
  },
  {
   "cell_type": "code",
   "execution_count": 73,
   "id": "21d99e79",
   "metadata": {},
   "outputs": [
    {
     "data": {
      "image/png": "[encoded data removed]",
      "text/plain": [
       "<Figure size 1200x600 with 1 Axes>"
      ]
     },
     "metadata": {},
     "output_type": "display_data"
    }
   ],
   "source": [
    "plt.figure(figsize=(12, 6))\n",
    "sns.kdeplot(\n",
    "    data=filtered.query(\"distance_to_tss <= 250000\"),\n",
    "    x=\"distance_to_tss\",\n",
    "    fill=True,\n",
    "    color=\"deeppink\",\n",
    "    bw_adjust=0.4\n",
    ")\n",
    "plt.title(\"KDE of Distances to Closest TSS (Zoomed)\")\n",
    "plt.xlabel(\"Distance to TSS (bp)\")\n",
    "plt.ylabel(\"Density\")\n",
    "plt.grid(True, linestyle=\"--\", alpha=0.5)\n",
    "plt.tight_layout()\n",
    "plt.show()\n",
    "\n",
    "\n"
   ]
  },
  {
   "cell_type": "markdown",
   "id": "e19667d5",
   "metadata": {},
   "source": [
    "Now starting w task 2 "
   ]
  },
  {
   "cell_type": "code",
   "execution_count": 17,
   "id": "a5879d86",
   "metadata": {},
   "outputs": [
    {
     "name": "stdout",
     "output_type": "stream",
     "text": [
      "Index(['ImmGenATAC1219.peakID', 'chrom', 'Summit',\n",
      "       'mm10.60way.phastCons_scores', '_-log10_bestPvalue',\n",
      "       'Included.in.systematic.analysis', 'TSS', 'genes.within.100Kb',\n",
      "       'Sample ID', 'Signal', 'peak_center'],\n",
      "      dtype='object')\n"
     ]
    }
   ],
   "source": [
    "import pandas as pd\n",
    "\n",
    "# Load full refined_ATAC.csv into a separate variable\n",
    "peaks_full = pd.read_csv(\"ATAC-seq/refined_ATAC.csv\")\n",
    "\n",
    "# Recompute peak center just like before\n",
    "peaks_full[\"peak_center\"] = peaks_full[\"Summit\"]\n",
    "\n",
    "# Confirm import worked and view all columns\n",
    "print(peaks_full.columns)\n"
   ]
  },
  {
   "cell_type": "code",
   "execution_count": 25,
   "id": "2cee8ccf",
   "metadata": {},
   "outputs": [
    {
     "name": "stdout",
     "output_type": "stream",
     "text": [
      "Number of signal columns: 2\n"
     ]
    }
   ],
   "source": [
    "start = peaks_full.columns.get_loc(\"genes.within.100Kb\") + 1\n",
    "end = peaks_full.columns.get_loc(\"peak_center\")\n",
    "\n",
    "signal_cols = peaks_full.columns[start:end]\n",
    "print(f\"Number of signal columns: {len(signal_cols)}\")\n"
   ]
  },
  {
   "cell_type": "code",
   "execution_count": 27,
   "id": "04665e3c",
   "metadata": {},
   "outputs": [],
   "source": [
    "signal_cols = [col for col in peaks_full.columns[start:end] if col != \"Sample ID\"]\n"
   ]
  },
  {
   "cell_type": "code",
   "execution_count": 29,
   "id": "7fc4ff67",
   "metadata": {},
   "outputs": [],
   "source": [
    "peaks_full[\"mean_signal\"] = peaks_full[\"Signal\"]\n",
    "\n"
   ]
  },
  {
   "cell_type": "code",
   "execution_count": 30,
   "id": "aabd8c5c",
   "metadata": {},
   "outputs": [],
   "source": [
    "peaks_full[\"distance_to_tss\"] = peaks[\"distance_to_tss\"]\n"
   ]
  },
  {
   "cell_type": "code",
   "execution_count": 34,
   "id": "1cac6d8a",
   "metadata": {},
   "outputs": [
    {
     "data": {
      "text/plain": [
       "np.True_"
      ]
     },
     "execution_count": 34,
     "metadata": {},
     "output_type": "execute_result"
    }
   ],
   "source": [
    "(peaks_full[\"ImmGenATAC1219.peakID\"] == peaks[\"ImmGenATAC1219.peakID\"]).all()\n"
   ]
  },
  {
   "cell_type": "code",
   "execution_count": 31,
   "id": "e9b1d37c",
   "metadata": {},
   "outputs": [],
   "source": [
    "filtered_full = peaks_full.dropna(subset=[\"distance_to_tss\"])\n"
   ]
  }
 ],
 "metadata": {
  "kernelspec": {
   "display_name": "REAL_FORKED_Bioinfo_project",
   "language": "python",
   "name": "python3"
  },
  "language_info": {
   "codemirror_mode": {
    "name": "ipython",
    "version": 3
   },
   "file_extension": ".py",
   "mimetype": "text/x-python",
   "name": "python",
   "nbconvert_exporter": "python",
   "pygments_lexer": "ipython3",
   "version": "3.10.17"
  }
 },
 "nbformat": 4,
 "nbformat_minor": 5
}
