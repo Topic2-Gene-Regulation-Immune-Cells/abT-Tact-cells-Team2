{
 "cells": [
  {
   "cell_type": "code",
   "execution_count": null,
   "id": "7960e19b",
   "metadata": {},
   "outputs": [],
   "source": [
    "import pandas as pd\n",
    "\n",
    "# Load RefFlat file\n",
    "ref = pd.read_csv(\"refFlat\", sep=\"\\t\", header=None)\n",
    "\n",
    "# Set proper column names\n",
    "ref.columns = [\n",
    "    \"gene_name\", \"transcript_name\", \"chrom\", \"strand\",\n",
    "    \"tx_start_5prime\", \"tx_start_3prime\",\n",
    "    \"cds_start\", \"cds_end\",\n",
    "    \"exon_count\", \"exon_starts\", \"exon_ends\"\n",
    "]\n",
    "\n",
    "# Extract strand-aware TSS\n",
    "ref[\"tss\"] = ref.apply(\n",
    "    lambda row: row[\"tx_start_5prime\"] if row[\"strand\"] == \"+\" else row[\"tx_start_3prime\"],\n",
    "    axis=1\n",
    ")\n",
    "\n",
    "# Final TSS table for matching\n",
    "tss_table = ref[[\"chrom\", \"tss\"]].copy()\n"
   ]
  },
  {
   "cell_type": "code",
   "execution_count": null,
   "id": "21922cca",
   "metadata": {},
   "outputs": [
    {
     "data": {
      "text/html": [
       "<div>\n",
       "<style scoped>\n",
       "    .dataframe tbody tr th:only-of-type {\n",
       "        vertical-align: middle;\n",
       "    }\n",
       "\n",
       "    .dataframe tbody tr th {\n",
       "        vertical-align: top;\n",
       "    }\n",
       "\n",
       "    .dataframe thead th {\n",
       "        text-align: right;\n",
       "    }\n",
       "</style>\n",
       "<table border=\"1\" class=\"dataframe\">\n",
       "  <thead>\n",
       "    <tr style=\"text-align: right;\">\n",
       "      <th></th>\n",
       "      <th>gene_name</th>\n",
       "      <th>transcript_name</th>\n",
       "      <th>chrom</th>\n",
       "      <th>strand</th>\n",
       "      <th>tx_start_5prime</th>\n",
       "      <th>tx_start_3prime</th>\n",
       "      <th>cds_start</th>\n",
       "      <th>cds_end</th>\n",
       "      <th>exon_count</th>\n",
       "      <th>exon_starts</th>\n",
       "      <th>exon_ends</th>\n",
       "      <th>tss</th>\n",
       "    </tr>\n",
       "  </thead>\n",
       "  <tbody>\n",
       "    <tr>\n",
       "      <th>0</th>\n",
       "      <td>Wdsub1</td>\n",
       "      <td>NM_001159636</td>\n",
       "      <td>chr2</td>\n",
       "      <td>-</td>\n",
       "      <td>59855193</td>\n",
       "      <td>59882606</td>\n",
       "      <td>59855270</td>\n",
       "      <td>59878527</td>\n",
       "      <td>11</td>\n",
       "      <td>59855193,59858609,59861560,59862619,59862816,5...</td>\n",
       "      <td>59855275,59858750,59861737,59862726,59862857,5...</td>\n",
       "      <td>59882606</td>\n",
       "    </tr>\n",
       "    <tr>\n",
       "      <th>1</th>\n",
       "      <td>Rbm18</td>\n",
       "      <td>NM_001159635</td>\n",
       "      <td>chr2</td>\n",
       "      <td>-</td>\n",
       "      <td>36116078</td>\n",
       "      <td>36136704</td>\n",
       "      <td>36117814</td>\n",
       "      <td>36134247</td>\n",
       "      <td>6</td>\n",
       "      <td>36116078,36120812,36122851,36127214,36134134,3...</td>\n",
       "      <td>36117974,36120898,36122938,36127251,36134263,3...</td>\n",
       "      <td>36136704</td>\n",
       "    </tr>\n",
       "    <tr>\n",
       "      <th>2</th>\n",
       "      <td>Prrc2b</td>\n",
       "      <td>NM_001159634</td>\n",
       "      <td>chr2</td>\n",
       "      <td>+</td>\n",
       "      <td>32151147</td>\n",
       "      <td>32234537</td>\n",
       "      <td>32182511</td>\n",
       "      <td>32230742</td>\n",
       "      <td>32</td>\n",
       "      <td>32151147,32182457,32183122,32185344,32187480,3...</td>\n",
       "      <td>32151291,32182626,32183300,32185447,32187553,3...</td>\n",
       "      <td>32151147</td>\n",
       "    </tr>\n",
       "    <tr>\n",
       "      <th>3</th>\n",
       "      <td>Ildr2</td>\n",
       "      <td>NM_001164528</td>\n",
       "      <td>chr1</td>\n",
       "      <td>+</td>\n",
       "      <td>166254138</td>\n",
       "      <td>166316832</td>\n",
       "      <td>166254375</td>\n",
       "      <td>166310795</td>\n",
       "      <td>10</td>\n",
       "      <td>166254138,166269304,166270498,166291415,166294...</td>\n",
       "      <td>166254466,166269637,166270618,166291472,166294...</td>\n",
       "      <td>166254138</td>\n",
       "    </tr>\n",
       "    <tr>\n",
       "      <th>4</th>\n",
       "      <td>Perm1</td>\n",
       "      <td>NM_172417</td>\n",
       "      <td>chr4</td>\n",
       "      <td>+</td>\n",
       "      <td>156215926</td>\n",
       "      <td>156221307</td>\n",
       "      <td>156217000</td>\n",
       "      <td>156220222</td>\n",
       "      <td>4</td>\n",
       "      <td>156215926,156216716,156219740,156220109,</td>\n",
       "      <td>156215975,156219185,156219866,156221307,</td>\n",
       "      <td>156215926</td>\n",
       "    </tr>\n",
       "  </tbody>\n",
       "</table>\n",
       "</div>"
      ],
      "text/plain": [
       "  gene_name transcript_name chrom strand  tx_start_5prime  tx_start_3prime  \\\n",
       "0    Wdsub1    NM_001159636  chr2      -         59855193         59882606   \n",
       "1     Rbm18    NM_001159635  chr2      -         36116078         36136704   \n",
       "2    Prrc2b    NM_001159634  chr2      +         32151147         32234537   \n",
       "3     Ildr2    NM_001164528  chr1      +        166254138        166316832   \n",
       "4     Perm1       NM_172417  chr4      +        156215926        156221307   \n",
       "\n",
       "   cds_start    cds_end  exon_count  \\\n",
       "0   59855270   59878527          11   \n",
       "1   36117814   36134247           6   \n",
       "2   32182511   32230742          32   \n",
       "3  166254375  166310795          10   \n",
       "4  156217000  156220222           4   \n",
       "\n",
       "                                         exon_starts  \\\n",
       "0  59855193,59858609,59861560,59862619,59862816,5...   \n",
       "1  36116078,36120812,36122851,36127214,36134134,3...   \n",
       "2  32151147,32182457,32183122,32185344,32187480,3...   \n",
       "3  166254138,166269304,166270498,166291415,166294...   \n",
       "4           156215926,156216716,156219740,156220109,   \n",
       "\n",
       "                                           exon_ends        tss  \n",
       "0  59855275,59858750,59861737,59862726,59862857,5...   59882606  \n",
       "1  36117974,36120898,36122938,36127251,36134263,3...   36136704  \n",
       "2  32151291,32182626,32183300,32185447,32187553,3...   32151147  \n",
       "3  166254466,166269637,166270618,166291472,166294...  166254138  \n",
       "4           156215975,156219185,156219866,156221307,  156215926  "
      ]
     },
     "execution_count": 3,
     "metadata": {},
     "output_type": "execute_result"
    }
   ],
   "source": [
    "\n",
    "ref.head()"
   ]
  },
  {
   "cell_type": "code",
   "execution_count": null,
   "id": "8763d152",
   "metadata": {},
   "outputs": [],
   "source": [
    "# Extract strand-aware TSS\n",
    "ref[\"tss\"] = ref.apply(\n",
    "    lambda row: row[\"tx_start_5prime\"] if row[\"strand\"] == \"+\" else row[\"tx_start_3prime\"],\n",
    "    axis=1\n",
    ")"
   ]
  },
  {
   "cell_type": "code",
   "execution_count": null,
   "id": "90396516",
   "metadata": {},
   "outputs": [],
   "source": [
    "# Final TSS table for matching\n",
    "tss_table = ref[[\"chrom\", \"tss\"]].copy()\n"
   ]
  },
  {
   "cell_type": "code",
   "execution_count": 10,
   "id": "f3444250",
   "metadata": {},
   "outputs": [
    {
     "data": {
      "text/plain": [
       "(47382, 2)"
      ]
     },
     "execution_count": 10,
     "metadata": {},
     "output_type": "execute_result"
    }
   ],
   "source": [
    "tss_table.shape"
   ]
  },
  {
   "cell_type": "code",
   "execution_count": null,
   "id": "8ded563f",
   "metadata": {},
   "outputs": [
    {
     "data": {
      "text/plain": [
       "chrom    0\n",
       "tss      0\n",
       "dtype: int64"
      ]
     },
     "execution_count": 7,
     "metadata": {},
     "output_type": "execute_result"
    }
   ],
   "source": [
    "\n",
    "tss_table.isna().sum()"
   ]
  },
  {
   "cell_type": "code",
   "execution_count": null,
   "id": "0c5c4df0",
   "metadata": {},
   "outputs": [],
   "source": [
    "peaks = pd.read_csv(\"ATAC-seq/refined_ATAC.csv\")\n",
    "\n",
    "# Define peak center\n",
    "peaks[\"peak_center\"] = peaks[\"Summit\"]\n",
    "\n",
    "# Keep minimal amnt of columns for distance task\n",
    "peaks = peaks[[\"ImmGenATAC1219.peakID\", \"chrom\", \"peak_center\"]].copy()\n"
   ]
  },
  {
   "cell_type": "code",
   "execution_count": null,
   "id": "c9c5f8f3",
   "metadata": {},
   "outputs": [
    {
     "data": {
      "text/html": [
       "<div>\n",
       "<style scoped>\n",
       "    .dataframe tbody tr th:only-of-type {\n",
       "        vertical-align: middle;\n",
       "    }\n",
       "\n",
       "    .dataframe tbody tr th {\n",
       "        vertical-align: top;\n",
       "    }\n",
       "\n",
       "    .dataframe thead th {\n",
       "        text-align: right;\n",
       "    }\n",
       "</style>\n",
       "<table border=\"1\" class=\"dataframe\">\n",
       "  <thead>\n",
       "    <tr style=\"text-align: right;\">\n",
       "      <th></th>\n",
       "      <th>ImmGenATAC1219.peakID</th>\n",
       "      <th>chrom</th>\n",
       "      <th>peak_center</th>\n",
       "    </tr>\n",
       "  </thead>\n",
       "  <tbody>\n",
       "    <tr>\n",
       "      <th>0</th>\n",
       "      <td>ImmGenATAC1219.peak_1</td>\n",
       "      <td>chr1</td>\n",
       "      <td>3020786</td>\n",
       "    </tr>\n",
       "    <tr>\n",
       "      <th>1</th>\n",
       "      <td>ImmGenATAC1219.peak_2</td>\n",
       "      <td>chr1</td>\n",
       "      <td>3087226</td>\n",
       "    </tr>\n",
       "    <tr>\n",
       "      <th>2</th>\n",
       "      <td>ImmGenATAC1219.peak_3</td>\n",
       "      <td>chr1</td>\n",
       "      <td>3120109</td>\n",
       "    </tr>\n",
       "    <tr>\n",
       "      <th>3</th>\n",
       "      <td>ImmGenATAC1219.peak_4</td>\n",
       "      <td>chr1</td>\n",
       "      <td>3121485</td>\n",
       "    </tr>\n",
       "    <tr>\n",
       "      <th>4</th>\n",
       "      <td>ImmGenATAC1219.peak_5</td>\n",
       "      <td>chr1</td>\n",
       "      <td>3372787</td>\n",
       "    </tr>\n",
       "  </tbody>\n",
       "</table>\n",
       "</div>"
      ],
      "text/plain": [
       "   ImmGenATAC1219.peakID chrom  peak_center\n",
       "0  ImmGenATAC1219.peak_1  chr1      3020786\n",
       "1  ImmGenATAC1219.peak_2  chr1      3087226\n",
       "2  ImmGenATAC1219.peak_3  chr1      3120109\n",
       "3  ImmGenATAC1219.peak_4  chr1      3121485\n",
       "4  ImmGenATAC1219.peak_5  chr1      3372787"
      ]
     },
     "execution_count": 27,
     "metadata": {},
     "output_type": "execute_result"
    }
   ],
   "source": [
    "#just to see if it worked \n",
    "peaks.head()\n"
   ]
  },
  {
   "cell_type": "code",
   "execution_count": 28,
   "id": "e1c005ec",
   "metadata": {},
   "outputs": [
    {
     "name": "stdout",
     "output_type": "stream",
     "text": [
      "<class 'pandas.core.frame.DataFrame'>\n",
      "RangeIndex: 14865255 entries, 0 to 14865254\n",
      "Data columns (total 3 columns):\n",
      " #   Column                 Dtype \n",
      "---  ------                 ----- \n",
      " 0   ImmGenATAC1219.peakID  object\n",
      " 1   chrom                  object\n",
      " 2   peak_center            int64 \n",
      "dtypes: int64(1), object(2)\n",
      "memory usage: 340.2+ MB\n"
     ]
    }
   ],
   "source": [
    "peaks.info()\n"
   ]
  },
  {
   "cell_type": "code",
   "execution_count": 36,
   "id": "03070895",
   "metadata": {},
   "outputs": [],
   "source": [
    "tss_groups = tss_table.groupby(\"chrom\")\n"
   ]
  },
  {
   "cell_type": "code",
   "execution_count": 37,
   "id": "404f406b",
   "metadata": {},
   "outputs": [],
   "source": [
    "def find_closest_tss(row):\n",
    "    chrom = row[\"chrom\"]\n",
    "    center = row[\"peak_center\"]\n",
    "    \n",
    "    if chrom not in tss_groups.groups:\n",
    "        return np.nan\n",
    "    \n",
    "    tss_array = tss_groups.get_group(chrom)[\"tss\"].values\n",
    "    idx = (np.abs(tss_array - center)).argmin()\n",
    "    return tss_array[idx]\n"
   ]
  }
 ],
 "metadata": {
  "kernelspec": {
   "display_name": "REAL_FORKED_Bioinfo_project",
   "language": "python",
   "name": "python3"
  },
  "language_info": {
   "codemirror_mode": {
    "name": "ipython",
    "version": 3
   },
   "file_extension": ".py",
   "mimetype": "text/x-python",
   "name": "python",
   "nbconvert_exporter": "python",
   "pygments_lexer": "ipython3",
   "version": "3.10.17"
  }
 },
 "nbformat": 4,
 "nbformat_minor": 5
}
