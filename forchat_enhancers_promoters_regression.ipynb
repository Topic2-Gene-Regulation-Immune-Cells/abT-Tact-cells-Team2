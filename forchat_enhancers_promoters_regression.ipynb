{
 "cells": [
  {
   "cell_type": "code",
   "execution_count": 44,
   "id": "fec22fbb",
   "metadata": {},
   "outputs": [],
   "source": [
    "import numpy as np\n",
    "import seaborn as sns\n",
    "import matplotlib.pyplot as plt\n",
    "from IPython.display import Image, display\n"
   ]
  },
  {
   "cell_type": "code",
   "execution_count": 45,
   "id": "47c36812",
   "metadata": {},
   "outputs": [
    {
     "name": "stdout",
     "output_type": "stream",
     "text": [
      "Shape: (56848, 5)\n",
      "Columns: ['Unnamed: 0', 'gene', 'peak_ID', 'coefficient', 'r2']\n"
     ]
    },
    {
     "data": {
      "text/html": [
       "<div>\n",
       "<style scoped>\n",
       "    .dataframe tbody tr th:only-of-type {\n",
       "        vertical-align: middle;\n",
       "    }\n",
       "\n",
       "    .dataframe tbody tr th {\n",
       "        vertical-align: top;\n",
       "    }\n",
       "\n",
       "    .dataframe thead th {\n",
       "        text-align: right;\n",
       "    }\n",
       "</style>\n",
       "<table border=\"1\" class=\"dataframe\">\n",
       "  <thead>\n",
       "    <tr style=\"text-align: right;\">\n",
       "      <th></th>\n",
       "      <th>Unnamed: 0</th>\n",
       "      <th>gene</th>\n",
       "      <th>peak_ID</th>\n",
       "      <th>coefficient</th>\n",
       "      <th>r2</th>\n",
       "    </tr>\n",
       "  </thead>\n",
       "  <tbody>\n",
       "    <tr>\n",
       "      <th>0</th>\n",
       "      <td>0</td>\n",
       "      <td>Rp1</td>\n",
       "      <td>ImmGenATAC1219.peak_77</td>\n",
       "      <td>-0.012807</td>\n",
       "      <td>0.078561</td>\n",
       "    </tr>\n",
       "    <tr>\n",
       "      <th>1</th>\n",
       "      <td>1</td>\n",
       "      <td>Sox17</td>\n",
       "      <td>ImmGenATAC1219.peak_77</td>\n",
       "      <td>-0.003475</td>\n",
       "      <td>0.054538</td>\n",
       "    </tr>\n",
       "    <tr>\n",
       "      <th>2</th>\n",
       "      <td>2</td>\n",
       "      <td>Sox17</td>\n",
       "      <td>ImmGenATAC1219.peak_83</td>\n",
       "      <td>-0.001693</td>\n",
       "      <td>0.054538</td>\n",
       "    </tr>\n",
       "    <tr>\n",
       "      <th>3</th>\n",
       "      <td>3</td>\n",
       "      <td>Sox17</td>\n",
       "      <td>ImmGenATAC1219.peak_96</td>\n",
       "      <td>-0.003925</td>\n",
       "      <td>0.054538</td>\n",
       "    </tr>\n",
       "    <tr>\n",
       "      <th>4</th>\n",
       "      <td>4</td>\n",
       "      <td>Tcea1</td>\n",
       "      <td>ImmGenATAC1219.peak_137</td>\n",
       "      <td>0.922185</td>\n",
       "      <td>0.478855</td>\n",
       "    </tr>\n",
       "  </tbody>\n",
       "</table>\n",
       "</div>"
      ],
      "text/plain": [
       "   Unnamed: 0   gene                  peak_ID  coefficient        r2\n",
       "0           0    Rp1   ImmGenATAC1219.peak_77    -0.012807  0.078561\n",
       "1           1  Sox17   ImmGenATAC1219.peak_77    -0.003475  0.054538\n",
       "2           2  Sox17   ImmGenATAC1219.peak_83    -0.001693  0.054538\n",
       "3           3  Sox17   ImmGenATAC1219.peak_96    -0.003925  0.054538\n",
       "4           4  Tcea1  ImmGenATAC1219.peak_137     0.922185  0.478855"
      ]
     },
     "execution_count": 45,
     "metadata": {},
     "output_type": "execute_result"
    }
   ],
   "source": [
    "import pandas as pd\n",
    "\n",
    "# 1) Load your regression output\n",
    "reg = pd.read_csv(\"regression_results.csv\")\n",
    "\n",
    "# 2) Quick sanity checks\n",
    "print(\"Shape:\", reg.shape)           # how many rows × columns?\n",
    "print(\"Columns:\", reg.columns.tolist())  \n",
    "reg.head()                           # peek at the first 5 lines\n"
   ]
  },
  {
   "cell_type": "code",
   "execution_count": 46,
   "id": "3ac9b99d",
   "metadata": {},
   "outputs": [
    {
     "name": "stdout",
     "output_type": "stream",
     "text": [
      "Annot shape: (75857, 5)\n",
      "Annot cols: ['ImmGenATAC1219.peakID', 'chrom', 'peak_center', 'closest_tss', 'distance_to_tss']\n",
      "R² ≥ 0.75 → 24816 links (43.7 %)\n",
      "R² ≥ 0.7  → 28746 links (50.6 %)\n",
      "R² ≥ 0.5  → 41710 links (73.4 %)\n",
      "R² ≥ 0.2  → 52155 links (91.7 %)\n",
      "R² ≥ 0.1  → 54249 links (95.4 %)\n",
      "R² ≥ 0.05 → 55315 links (97.3 %)\n"
     ]
    }
   ],
   "source": [
    "annot = pd.read_csv(\"peaks_tss_distance.csv\")\n",
    "print(\"Annot shape:\", annot.shape)\n",
    "print(\"Annot cols:\",  annot.columns.tolist())\n",
    "annot.head()\n",
    "# try a few relaxed cutoffs\n",
    "for cutoff in [0.75, 0.7, 0.5, 0.2, 0.1, 0.05]:\n",
    "    kept = (reg.r2 >= cutoff).sum()\n",
    "    pct  = kept / len(reg) * 100\n",
    "    print(f\"R² ≥ {cutoff:<4} → {kept:5d} links ({pct:4.1f} %)\")\n"
   ]
  },
  {
   "cell_type": "code",
   "execution_count": 47,
   "id": "f0ea9905",
   "metadata": {},
   "outputs": [],
   "source": [
    "import pandas as pd\n",
    "\n",
    "# your regression results\n",
    "reg = pd.read_csv(\"regression_results.csv\")\n",
    "\n",
    "# your TSS–distance lookup\n",
    "dist = pd.read_csv(\"peaks_tss_distance.csv\")\n",
    "\n",
    "dist = dist.rename(columns={\"ImmGenATAC1219.peakID\": \"peak_ID\"})\n"
   ]
  },
  {
   "cell_type": "code",
   "execution_count": 48,
   "id": "96fd0cc6",
   "metadata": {},
   "outputs": [],
   "source": [
    "reg2 = reg.merge(\n",
    "    dist[[\"peak_ID\",\"distance_to_tss\"]],\n",
    "    on=\"peak_ID\",\n",
    "    how=\"left\",\n",
    "    validate=\"m:1\"   # many reg rows → one dist row\n",
    ")\n"
   ]
  },
  {
   "cell_type": "code",
   "execution_count": 49,
   "id": "20f69b9b",
   "metadata": {},
   "outputs": [
    {
     "name": "stdout",
     "output_type": "stream",
     "text": [
      "0 links have no distance; all others got filled in.\n"
     ]
    }
   ],
   "source": [
    "n_missing = reg2[\"distance_to_tss\"].isna().sum()\n",
    "print(f\"{n_missing} links have no distance; all others got filled in.\")\n"
   ]
  },
  {
   "cell_type": "code",
   "execution_count": 50,
   "id": "62994bfc",
   "metadata": {},
   "outputs": [
    {
     "name": "stdout",
     "output_type": "stream",
     "text": [
      "(56848, 6)\n"
     ]
    },
    {
     "data": {
      "text/html": [
       "<div>\n",
       "<style scoped>\n",
       "    .dataframe tbody tr th:only-of-type {\n",
       "        vertical-align: middle;\n",
       "    }\n",
       "\n",
       "    .dataframe tbody tr th {\n",
       "        vertical-align: top;\n",
       "    }\n",
       "\n",
       "    .dataframe thead th {\n",
       "        text-align: right;\n",
       "    }\n",
       "</style>\n",
       "<table border=\"1\" class=\"dataframe\">\n",
       "  <thead>\n",
       "    <tr style=\"text-align: right;\">\n",
       "      <th></th>\n",
       "      <th>Unnamed: 0</th>\n",
       "      <th>gene</th>\n",
       "      <th>peak_ID</th>\n",
       "      <th>coefficient</th>\n",
       "      <th>r2</th>\n",
       "      <th>distance_to_tss</th>\n",
       "    </tr>\n",
       "  </thead>\n",
       "  <tbody>\n",
       "    <tr>\n",
       "      <th>0</th>\n",
       "      <td>0</td>\n",
       "      <td>Rp1</td>\n",
       "      <td>ImmGenATAC1219.peak_77</td>\n",
       "      <td>-0.012807</td>\n",
       "      <td>0.078561</td>\n",
       "      <td>6702.0</td>\n",
       "    </tr>\n",
       "    <tr>\n",
       "      <th>1</th>\n",
       "      <td>1</td>\n",
       "      <td>Sox17</td>\n",
       "      <td>ImmGenATAC1219.peak_77</td>\n",
       "      <td>-0.003475</td>\n",
       "      <td>0.054538</td>\n",
       "      <td>6702.0</td>\n",
       "    </tr>\n",
       "    <tr>\n",
       "      <th>2</th>\n",
       "      <td>2</td>\n",
       "      <td>Sox17</td>\n",
       "      <td>ImmGenATAC1219.peak_83</td>\n",
       "      <td>-0.001693</td>\n",
       "      <td>0.054538</td>\n",
       "      <td>875.0</td>\n",
       "    </tr>\n",
       "    <tr>\n",
       "      <th>3</th>\n",
       "      <td>3</td>\n",
       "      <td>Sox17</td>\n",
       "      <td>ImmGenATAC1219.peak_96</td>\n",
       "      <td>-0.003925</td>\n",
       "      <td>0.054538</td>\n",
       "      <td>74643.0</td>\n",
       "    </tr>\n",
       "    <tr>\n",
       "      <th>4</th>\n",
       "      <td>4</td>\n",
       "      <td>Tcea1</td>\n",
       "      <td>ImmGenATAC1219.peak_137</td>\n",
       "      <td>0.922185</td>\n",
       "      <td>0.478855</td>\n",
       "      <td>10510.0</td>\n",
       "    </tr>\n",
       "  </tbody>\n",
       "</table>\n",
       "</div>"
      ],
      "text/plain": [
       "   Unnamed: 0   gene                  peak_ID  coefficient        r2  \\\n",
       "0           0    Rp1   ImmGenATAC1219.peak_77    -0.012807  0.078561   \n",
       "1           1  Sox17   ImmGenATAC1219.peak_77    -0.003475  0.054538   \n",
       "2           2  Sox17   ImmGenATAC1219.peak_83    -0.001693  0.054538   \n",
       "3           3  Sox17   ImmGenATAC1219.peak_96    -0.003925  0.054538   \n",
       "4           4  Tcea1  ImmGenATAC1219.peak_137     0.922185  0.478855   \n",
       "\n",
       "   distance_to_tss  \n",
       "0           6702.0  \n",
       "1           6702.0  \n",
       "2            875.0  \n",
       "3          74643.0  \n",
       "4          10510.0  "
      ]
     },
     "execution_count": 50,
     "metadata": {},
     "output_type": "execute_result"
    }
   ],
   "source": [
    "print(reg2.shape)        # should be same # rows as reg\n",
    "reg2.head()\n"
   ]
  },
  {
   "cell_type": "code",
   "execution_count": 51,
   "id": "39173202",
   "metadata": {},
   "outputs": [
    {
     "name": "stdout",
     "output_type": "stream",
     "text": [
      "28746 links out of 56848 pass R² ≥ 0.7\n"
     ]
    },
    {
     "data": {
      "text/html": [
       "<div>\n",
       "<style scoped>\n",
       "    .dataframe tbody tr th:only-of-type {\n",
       "        vertical-align: middle;\n",
       "    }\n",
       "\n",
       "    .dataframe tbody tr th {\n",
       "        vertical-align: top;\n",
       "    }\n",
       "\n",
       "    .dataframe thead th {\n",
       "        text-align: right;\n",
       "    }\n",
       "</style>\n",
       "<table border=\"1\" class=\"dataframe\">\n",
       "  <thead>\n",
       "    <tr style=\"text-align: right;\">\n",
       "      <th></th>\n",
       "      <th>Unnamed: 0</th>\n",
       "      <th>gene</th>\n",
       "      <th>peak_ID</th>\n",
       "      <th>coefficient</th>\n",
       "      <th>r2</th>\n",
       "      <th>distance_to_tss</th>\n",
       "    </tr>\n",
       "  </thead>\n",
       "  <tbody>\n",
       "    <tr>\n",
       "      <th>13</th>\n",
       "      <td>13</td>\n",
       "      <td>Pcmtd1</td>\n",
       "      <td>ImmGenATAC1219.peak_376</td>\n",
       "      <td>-1.367742</td>\n",
       "      <td>0.752231</td>\n",
       "      <td>394.0</td>\n",
       "    </tr>\n",
       "    <tr>\n",
       "      <th>14</th>\n",
       "      <td>14</td>\n",
       "      <td>Pcmtd1</td>\n",
       "      <td>ImmGenATAC1219.peak_377</td>\n",
       "      <td>-2.494725</td>\n",
       "      <td>0.752231</td>\n",
       "      <td>144.0</td>\n",
       "    </tr>\n",
       "    <tr>\n",
       "      <th>15</th>\n",
       "      <td>15</td>\n",
       "      <td>Pcmtd1</td>\n",
       "      <td>ImmGenATAC1219.peak_378</td>\n",
       "      <td>3.276884</td>\n",
       "      <td>0.752231</td>\n",
       "      <td>132.0</td>\n",
       "    </tr>\n",
       "    <tr>\n",
       "      <th>16</th>\n",
       "      <td>16</td>\n",
       "      <td>Pcmtd1</td>\n",
       "      <td>ImmGenATAC1219.peak_380</td>\n",
       "      <td>5.020475</td>\n",
       "      <td>0.752231</td>\n",
       "      <td>7143.0</td>\n",
       "    </tr>\n",
       "    <tr>\n",
       "      <th>17</th>\n",
       "      <td>17</td>\n",
       "      <td>Pcmtd1</td>\n",
       "      <td>ImmGenATAC1219.peak_408</td>\n",
       "      <td>0.983100</td>\n",
       "      <td>0.752231</td>\n",
       "      <td>58306.0</td>\n",
       "    </tr>\n",
       "    <tr>\n",
       "      <th>18</th>\n",
       "      <td>18</td>\n",
       "      <td>Pcmtd1</td>\n",
       "      <td>ImmGenATAC1219.peak_413</td>\n",
       "      <td>7.729939</td>\n",
       "      <td>0.752231</td>\n",
       "      <td>75027.0</td>\n",
       "    </tr>\n",
       "    <tr>\n",
       "      <th>22</th>\n",
       "      <td>22</td>\n",
       "      <td>Sgk3</td>\n",
       "      <td>ImmGenATAC1219.peak_577</td>\n",
       "      <td>-0.586173</td>\n",
       "      <td>0.820577</td>\n",
       "      <td>93.0</td>\n",
       "    </tr>\n",
       "    <tr>\n",
       "      <th>23</th>\n",
       "      <td>23</td>\n",
       "      <td>Sgk3</td>\n",
       "      <td>ImmGenATAC1219.peak_594</td>\n",
       "      <td>3.325265</td>\n",
       "      <td>0.820577</td>\n",
       "      <td>81.0</td>\n",
       "    </tr>\n",
       "    <tr>\n",
       "      <th>24</th>\n",
       "      <td>24</td>\n",
       "      <td>Sgk3</td>\n",
       "      <td>ImmGenATAC1219.peak_601</td>\n",
       "      <td>13.819465</td>\n",
       "      <td>0.820577</td>\n",
       "      <td>8000.0</td>\n",
       "    </tr>\n",
       "    <tr>\n",
       "      <th>25</th>\n",
       "      <td>25</td>\n",
       "      <td>Sgk3</td>\n",
       "      <td>ImmGenATAC1219.peak_602</td>\n",
       "      <td>7.729455</td>\n",
       "      <td>0.820577</td>\n",
       "      <td>9691.0</td>\n",
       "    </tr>\n",
       "  </tbody>\n",
       "</table>\n",
       "</div>"
      ],
      "text/plain": [
       "    Unnamed: 0    gene                  peak_ID  coefficient        r2  \\\n",
       "13          13  Pcmtd1  ImmGenATAC1219.peak_376    -1.367742  0.752231   \n",
       "14          14  Pcmtd1  ImmGenATAC1219.peak_377    -2.494725  0.752231   \n",
       "15          15  Pcmtd1  ImmGenATAC1219.peak_378     3.276884  0.752231   \n",
       "16          16  Pcmtd1  ImmGenATAC1219.peak_380     5.020475  0.752231   \n",
       "17          17  Pcmtd1  ImmGenATAC1219.peak_408     0.983100  0.752231   \n",
       "18          18  Pcmtd1  ImmGenATAC1219.peak_413     7.729939  0.752231   \n",
       "22          22    Sgk3  ImmGenATAC1219.peak_577    -0.586173  0.820577   \n",
       "23          23    Sgk3  ImmGenATAC1219.peak_594     3.325265  0.820577   \n",
       "24          24    Sgk3  ImmGenATAC1219.peak_601    13.819465  0.820577   \n",
       "25          25    Sgk3  ImmGenATAC1219.peak_602     7.729455  0.820577   \n",
       "\n",
       "    distance_to_tss  \n",
       "13            394.0  \n",
       "14            144.0  \n",
       "15            132.0  \n",
       "16           7143.0  \n",
       "17          58306.0  \n",
       "18          75027.0  \n",
       "22             93.0  \n",
       "23             81.0  \n",
       "24           8000.0  \n",
       "25           9691.0  "
      ]
     },
     "execution_count": 51,
     "metadata": {},
     "output_type": "execute_result"
    }
   ],
   "source": [
    "# 1) apply your R² cutoff\n",
    "high_conf = reg2[reg2[\"r2\"] >= 0.7].copy()\n",
    "\n",
    "# 2) how many remain?\n",
    "print(f\"{len(high_conf)} links out of {len(reg2)} pass R² ≥ 0.7\")\n",
    "\n",
    "# 3) peek at them\n",
    "high_conf.head(10)\n"
   ]
  },
  {
   "cell_type": "code",
   "execution_count": 52,
   "id": "e61f808f",
   "metadata": {},
   "outputs": [
    {
     "data": {
      "text/html": [
       "<div>\n",
       "<style scoped>\n",
       "    .dataframe tbody tr th:only-of-type {\n",
       "        vertical-align: middle;\n",
       "    }\n",
       "\n",
       "    .dataframe tbody tr th {\n",
       "        vertical-align: top;\n",
       "    }\n",
       "\n",
       "    .dataframe thead th {\n",
       "        text-align: right;\n",
       "    }\n",
       "</style>\n",
       "<table border=\"1\" class=\"dataframe\">\n",
       "  <thead>\n",
       "    <tr style=\"text-align: right;\">\n",
       "      <th></th>\n",
       "      <th>gene</th>\n",
       "      <th>peak_ID</th>\n",
       "      <th>coefficient</th>\n",
       "      <th>r2</th>\n",
       "      <th>distance_to_tss</th>\n",
       "      <th>role</th>\n",
       "    </tr>\n",
       "  </thead>\n",
       "  <tbody>\n",
       "    <tr>\n",
       "      <th>13</th>\n",
       "      <td>Pcmtd1</td>\n",
       "      <td>ImmGenATAC1219.peak_376</td>\n",
       "      <td>-1.367742</td>\n",
       "      <td>0.752231</td>\n",
       "      <td>394.0</td>\n",
       "      <td>repressor</td>\n",
       "    </tr>\n",
       "    <tr>\n",
       "      <th>14</th>\n",
       "      <td>Pcmtd1</td>\n",
       "      <td>ImmGenATAC1219.peak_377</td>\n",
       "      <td>-2.494725</td>\n",
       "      <td>0.752231</td>\n",
       "      <td>144.0</td>\n",
       "      <td>repressor</td>\n",
       "    </tr>\n",
       "    <tr>\n",
       "      <th>15</th>\n",
       "      <td>Pcmtd1</td>\n",
       "      <td>ImmGenATAC1219.peak_378</td>\n",
       "      <td>3.276884</td>\n",
       "      <td>0.752231</td>\n",
       "      <td>132.0</td>\n",
       "      <td>promoter</td>\n",
       "    </tr>\n",
       "    <tr>\n",
       "      <th>16</th>\n",
       "      <td>Pcmtd1</td>\n",
       "      <td>ImmGenATAC1219.peak_380</td>\n",
       "      <td>5.020475</td>\n",
       "      <td>0.752231</td>\n",
       "      <td>7143.0</td>\n",
       "      <td>activator</td>\n",
       "    </tr>\n",
       "    <tr>\n",
       "      <th>17</th>\n",
       "      <td>Pcmtd1</td>\n",
       "      <td>ImmGenATAC1219.peak_408</td>\n",
       "      <td>0.983100</td>\n",
       "      <td>0.752231</td>\n",
       "      <td>58306.0</td>\n",
       "      <td>activator</td>\n",
       "    </tr>\n",
       "    <tr>\n",
       "      <th>18</th>\n",
       "      <td>Pcmtd1</td>\n",
       "      <td>ImmGenATAC1219.peak_413</td>\n",
       "      <td>7.729939</td>\n",
       "      <td>0.752231</td>\n",
       "      <td>75027.0</td>\n",
       "      <td>activator</td>\n",
       "    </tr>\n",
       "    <tr>\n",
       "      <th>22</th>\n",
       "      <td>Sgk3</td>\n",
       "      <td>ImmGenATAC1219.peak_577</td>\n",
       "      <td>-0.586173</td>\n",
       "      <td>0.820577</td>\n",
       "      <td>93.0</td>\n",
       "      <td>repressor</td>\n",
       "    </tr>\n",
       "    <tr>\n",
       "      <th>23</th>\n",
       "      <td>Sgk3</td>\n",
       "      <td>ImmGenATAC1219.peak_594</td>\n",
       "      <td>3.325265</td>\n",
       "      <td>0.820577</td>\n",
       "      <td>81.0</td>\n",
       "      <td>activator</td>\n",
       "    </tr>\n",
       "    <tr>\n",
       "      <th>24</th>\n",
       "      <td>Sgk3</td>\n",
       "      <td>ImmGenATAC1219.peak_601</td>\n",
       "      <td>13.819465</td>\n",
       "      <td>0.820577</td>\n",
       "      <td>8000.0</td>\n",
       "      <td>activator</td>\n",
       "    </tr>\n",
       "    <tr>\n",
       "      <th>25</th>\n",
       "      <td>Sgk3</td>\n",
       "      <td>ImmGenATAC1219.peak_602</td>\n",
       "      <td>7.729455</td>\n",
       "      <td>0.820577</td>\n",
       "      <td>9691.0</td>\n",
       "      <td>activator</td>\n",
       "    </tr>\n",
       "    <tr>\n",
       "      <th>26</th>\n",
       "      <td>Sgk3</td>\n",
       "      <td>ImmGenATAC1219.peak_607</td>\n",
       "      <td>1.024494</td>\n",
       "      <td>0.820577</td>\n",
       "      <td>24941.0</td>\n",
       "      <td>activator</td>\n",
       "    </tr>\n",
       "    <tr>\n",
       "      <th>27</th>\n",
       "      <td>Sgk3</td>\n",
       "      <td>ImmGenATAC1219.peak_616</td>\n",
       "      <td>2.582321</td>\n",
       "      <td>0.820577</td>\n",
       "      <td>14628.0</td>\n",
       "      <td>activator</td>\n",
       "    </tr>\n",
       "    <tr>\n",
       "      <th>28</th>\n",
       "      <td>Sgk3</td>\n",
       "      <td>ImmGenATAC1219.peak_623</td>\n",
       "      <td>1.982050</td>\n",
       "      <td>0.820577</td>\n",
       "      <td>16.0</td>\n",
       "      <td>promoter</td>\n",
       "    </tr>\n",
       "    <tr>\n",
       "      <th>29</th>\n",
       "      <td>Sgk3</td>\n",
       "      <td>ImmGenATAC1219.peak_624</td>\n",
       "      <td>-1.563778</td>\n",
       "      <td>0.820577</td>\n",
       "      <td>317.0</td>\n",
       "      <td>repressor</td>\n",
       "    </tr>\n",
       "    <tr>\n",
       "      <th>30</th>\n",
       "      <td>Sgk3</td>\n",
       "      <td>ImmGenATAC1219.peak_631</td>\n",
       "      <td>-1.424061</td>\n",
       "      <td>0.820577</td>\n",
       "      <td>10884.0</td>\n",
       "      <td>repressor</td>\n",
       "    </tr>\n",
       "    <tr>\n",
       "      <th>31</th>\n",
       "      <td>Sgk3</td>\n",
       "      <td>ImmGenATAC1219.peak_632</td>\n",
       "      <td>-0.171394</td>\n",
       "      <td>0.820577</td>\n",
       "      <td>11225.0</td>\n",
       "      <td>repressor</td>\n",
       "    </tr>\n",
       "    <tr>\n",
       "      <th>32</th>\n",
       "      <td>Sgk3</td>\n",
       "      <td>ImmGenATAC1219.peak_645</td>\n",
       "      <td>0.512596</td>\n",
       "      <td>0.820577</td>\n",
       "      <td>25276.0</td>\n",
       "      <td>activator</td>\n",
       "    </tr>\n",
       "    <tr>\n",
       "      <th>46</th>\n",
       "      <td>Arfgef1</td>\n",
       "      <td>ImmGenATAC1219.peak_718</td>\n",
       "      <td>0.561772</td>\n",
       "      <td>0.715752</td>\n",
       "      <td>12350.0</td>\n",
       "      <td>activator</td>\n",
       "    </tr>\n",
       "    <tr>\n",
       "      <th>47</th>\n",
       "      <td>Arfgef1</td>\n",
       "      <td>ImmGenATAC1219.peak_720</td>\n",
       "      <td>6.120895</td>\n",
       "      <td>0.715752</td>\n",
       "      <td>7046.0</td>\n",
       "      <td>promoter</td>\n",
       "    </tr>\n",
       "    <tr>\n",
       "      <th>48</th>\n",
       "      <td>Arfgef1</td>\n",
       "      <td>ImmGenATAC1219.peak_736</td>\n",
       "      <td>-1.235321</td>\n",
       "      <td>0.715752</td>\n",
       "      <td>25018.0</td>\n",
       "      <td>repressor</td>\n",
       "    </tr>\n",
       "  </tbody>\n",
       "</table>\n",
       "</div>"
      ],
      "text/plain": [
       "       gene                  peak_ID  coefficient        r2  distance_to_tss  \\\n",
       "13   Pcmtd1  ImmGenATAC1219.peak_376    -1.367742  0.752231            394.0   \n",
       "14   Pcmtd1  ImmGenATAC1219.peak_377    -2.494725  0.752231            144.0   \n",
       "15   Pcmtd1  ImmGenATAC1219.peak_378     3.276884  0.752231            132.0   \n",
       "16   Pcmtd1  ImmGenATAC1219.peak_380     5.020475  0.752231           7143.0   \n",
       "17   Pcmtd1  ImmGenATAC1219.peak_408     0.983100  0.752231          58306.0   \n",
       "18   Pcmtd1  ImmGenATAC1219.peak_413     7.729939  0.752231          75027.0   \n",
       "22     Sgk3  ImmGenATAC1219.peak_577    -0.586173  0.820577             93.0   \n",
       "23     Sgk3  ImmGenATAC1219.peak_594     3.325265  0.820577             81.0   \n",
       "24     Sgk3  ImmGenATAC1219.peak_601    13.819465  0.820577           8000.0   \n",
       "25     Sgk3  ImmGenATAC1219.peak_602     7.729455  0.820577           9691.0   \n",
       "26     Sgk3  ImmGenATAC1219.peak_607     1.024494  0.820577          24941.0   \n",
       "27     Sgk3  ImmGenATAC1219.peak_616     2.582321  0.820577          14628.0   \n",
       "28     Sgk3  ImmGenATAC1219.peak_623     1.982050  0.820577             16.0   \n",
       "29     Sgk3  ImmGenATAC1219.peak_624    -1.563778  0.820577            317.0   \n",
       "30     Sgk3  ImmGenATAC1219.peak_631    -1.424061  0.820577          10884.0   \n",
       "31     Sgk3  ImmGenATAC1219.peak_632    -0.171394  0.820577          11225.0   \n",
       "32     Sgk3  ImmGenATAC1219.peak_645     0.512596  0.820577          25276.0   \n",
       "46  Arfgef1  ImmGenATAC1219.peak_718     0.561772  0.715752          12350.0   \n",
       "47  Arfgef1  ImmGenATAC1219.peak_720     6.120895  0.715752           7046.0   \n",
       "48  Arfgef1  ImmGenATAC1219.peak_736    -1.235321  0.715752          25018.0   \n",
       "\n",
       "         role  \n",
       "13  repressor  \n",
       "14  repressor  \n",
       "15   promoter  \n",
       "16  activator  \n",
       "17  activator  \n",
       "18  activator  \n",
       "22  repressor  \n",
       "23  activator  \n",
       "24  activator  \n",
       "25  activator  \n",
       "26  activator  \n",
       "27  activator  \n",
       "28   promoter  \n",
       "29  repressor  \n",
       "30  repressor  \n",
       "31  repressor  \n",
       "32  activator  \n",
       "46  activator  \n",
       "47   promoter  \n",
       "48  repressor  "
      ]
     },
     "execution_count": 52,
     "metadata": {},
     "output_type": "execute_result"
    }
   ],
   "source": [
    "# 1) start from your high‐confidence links (R² ≥ 0.7)\n",
    "#    assume you already have:\n",
    "#       high_conf = reg2[reg2[\"r2\"] >= 0.7].copy()\n",
    "\n",
    "# 2) find, for each gene, the promoter peak\n",
    "#    (i.e. among positive‐coef peaks, the one with smallest distance_to_tss)\n",
    "pos = high_conf[high_conf[\"coefficient\"] > 0]\n",
    "promoter_idx = pos.groupby(\"gene\")[\"distance_to_tss\"].idxmin()\n",
    "promoters = pos.loc[promoter_idx, [\"gene\", \"peak_ID\"]]\n",
    "promoter_map = promoters.set_index(\"gene\")[\"peak_ID\"].to_dict()\n",
    "\n",
    "# 3) assign role to every link\n",
    "def assign_role(row):\n",
    "    gene = row[\"gene\"]\n",
    "    peak = row[\"peak_ID\"]\n",
    "    coef = row[\"coefficient\"]\n",
    "    if peak == promoter_map.get(gene):\n",
    "        return \"promoter\"\n",
    "    elif coef > 0:\n",
    "        return \"activator\"\n",
    "    else:\n",
    "        return \"repressor\"\n",
    "\n",
    "high_conf[\"role\"] = high_conf.apply(assign_role, axis=1)\n",
    "\n",
    "# 4) preview\n",
    "high_conf[[\"gene\",\"peak_ID\",\"coefficient\",\"r2\",\"distance_to_tss\",\"role\"]].head(20)\n"
   ]
  },
  {
   "cell_type": "code",
   "execution_count": 53,
   "id": "b42659d2",
   "metadata": {},
   "outputs": [
    {
     "data": {
      "text/html": [
       "<div>\n",
       "<style scoped>\n",
       "    .dataframe tbody tr th:only-of-type {\n",
       "        vertical-align: middle;\n",
       "    }\n",
       "\n",
       "    .dataframe tbody tr th {\n",
       "        vertical-align: top;\n",
       "    }\n",
       "\n",
       "    .dataframe thead th {\n",
       "        text-align: right;\n",
       "    }\n",
       "</style>\n",
       "<table border=\"1\" class=\"dataframe\">\n",
       "  <thead>\n",
       "    <tr style=\"text-align: right;\">\n",
       "      <th></th>\n",
       "      <th>peak_ID</th>\n",
       "      <th>distance_to_tss</th>\n",
       "      <th>coefficient</th>\n",
       "      <th>r2</th>\n",
       "      <th>role</th>\n",
       "    </tr>\n",
       "  </thead>\n",
       "  <tbody>\n",
       "    <tr>\n",
       "      <th>22173</th>\n",
       "      <td>ImmGenATAC1219.peak_213552</td>\n",
       "      <td>242.0</td>\n",
       "      <td>-3.520328</td>\n",
       "      <td>0.893846</td>\n",
       "      <td>repressor</td>\n",
       "    </tr>\n",
       "    <tr>\n",
       "      <th>22174</th>\n",
       "      <td>ImmGenATAC1219.peak_213561</td>\n",
       "      <td>2561.0</td>\n",
       "      <td>-39.880566</td>\n",
       "      <td>0.893846</td>\n",
       "      <td>repressor</td>\n",
       "    </tr>\n",
       "    <tr>\n",
       "      <th>22175</th>\n",
       "      <td>ImmGenATAC1219.peak_213568</td>\n",
       "      <td>4222.0</td>\n",
       "      <td>8.742759</td>\n",
       "      <td>0.893846</td>\n",
       "      <td>activator</td>\n",
       "    </tr>\n",
       "    <tr>\n",
       "      <th>22176</th>\n",
       "      <td>ImmGenATAC1219.peak_213574</td>\n",
       "      <td>1623.0</td>\n",
       "      <td>75.062982</td>\n",
       "      <td>0.893846</td>\n",
       "      <td>activator</td>\n",
       "    </tr>\n",
       "    <tr>\n",
       "      <th>22177</th>\n",
       "      <td>ImmGenATAC1219.peak_213584</td>\n",
       "      <td>135.0</td>\n",
       "      <td>69.126157</td>\n",
       "      <td>0.893846</td>\n",
       "      <td>activator</td>\n",
       "    </tr>\n",
       "    <tr>\n",
       "      <th>22178</th>\n",
       "      <td>ImmGenATAC1219.peak_213585</td>\n",
       "      <td>131.0</td>\n",
       "      <td>10.576468</td>\n",
       "      <td>0.893846</td>\n",
       "      <td>activator</td>\n",
       "    </tr>\n",
       "    <tr>\n",
       "      <th>22179</th>\n",
       "      <td>ImmGenATAC1219.peak_213588</td>\n",
       "      <td>855.0</td>\n",
       "      <td>-28.484788</td>\n",
       "      <td>0.893846</td>\n",
       "      <td>repressor</td>\n",
       "    </tr>\n",
       "    <tr>\n",
       "      <th>22180</th>\n",
       "      <td>ImmGenATAC1219.peak_213591</td>\n",
       "      <td>1343.0</td>\n",
       "      <td>-1.519843</td>\n",
       "      <td>0.893846</td>\n",
       "      <td>repressor</td>\n",
       "    </tr>\n",
       "    <tr>\n",
       "      <th>22181</th>\n",
       "      <td>ImmGenATAC1219.peak_213603</td>\n",
       "      <td>5029.0</td>\n",
       "      <td>13.044219</td>\n",
       "      <td>0.893846</td>\n",
       "      <td>activator</td>\n",
       "    </tr>\n",
       "    <tr>\n",
       "      <th>22182</th>\n",
       "      <td>ImmGenATAC1219.peak_213620</td>\n",
       "      <td>3762.0</td>\n",
       "      <td>8.489428</td>\n",
       "      <td>0.893846</td>\n",
       "      <td>activator</td>\n",
       "    </tr>\n",
       "    <tr>\n",
       "      <th>22183</th>\n",
       "      <td>ImmGenATAC1219.peak_213626</td>\n",
       "      <td>73.0</td>\n",
       "      <td>-52.720007</td>\n",
       "      <td>0.893846</td>\n",
       "      <td>repressor</td>\n",
       "    </tr>\n",
       "    <tr>\n",
       "      <th>22184</th>\n",
       "      <td>ImmGenATAC1219.peak_213636</td>\n",
       "      <td>2451.0</td>\n",
       "      <td>-36.863039</td>\n",
       "      <td>0.893846</td>\n",
       "      <td>repressor</td>\n",
       "    </tr>\n",
       "    <tr>\n",
       "      <th>22185</th>\n",
       "      <td>ImmGenATAC1219.peak_213639</td>\n",
       "      <td>78.0</td>\n",
       "      <td>14.335314</td>\n",
       "      <td>0.893846</td>\n",
       "      <td>promoter</td>\n",
       "    </tr>\n",
       "  </tbody>\n",
       "</table>\n",
       "</div>"
      ],
      "text/plain": [
       "                          peak_ID  distance_to_tss  coefficient        r2  \\\n",
       "22173  ImmGenATAC1219.peak_213552            242.0    -3.520328  0.893846   \n",
       "22174  ImmGenATAC1219.peak_213561           2561.0   -39.880566  0.893846   \n",
       "22175  ImmGenATAC1219.peak_213568           4222.0     8.742759  0.893846   \n",
       "22176  ImmGenATAC1219.peak_213574           1623.0    75.062982  0.893846   \n",
       "22177  ImmGenATAC1219.peak_213584            135.0    69.126157  0.893846   \n",
       "22178  ImmGenATAC1219.peak_213585            131.0    10.576468  0.893846   \n",
       "22179  ImmGenATAC1219.peak_213588            855.0   -28.484788  0.893846   \n",
       "22180  ImmGenATAC1219.peak_213591           1343.0    -1.519843  0.893846   \n",
       "22181  ImmGenATAC1219.peak_213603           5029.0    13.044219  0.893846   \n",
       "22182  ImmGenATAC1219.peak_213620           3762.0     8.489428  0.893846   \n",
       "22183  ImmGenATAC1219.peak_213626             73.0   -52.720007  0.893846   \n",
       "22184  ImmGenATAC1219.peak_213636           2451.0   -36.863039  0.893846   \n",
       "22185  ImmGenATAC1219.peak_213639             78.0    14.335314  0.893846   \n",
       "\n",
       "            role  \n",
       "22173  repressor  \n",
       "22174  repressor  \n",
       "22175  activator  \n",
       "22176  activator  \n",
       "22177  activator  \n",
       "22178  activator  \n",
       "22179  repressor  \n",
       "22180  repressor  \n",
       "22181  activator  \n",
       "22182  activator  \n",
       "22183  repressor  \n",
       "22184  repressor  \n",
       "22185   promoter  "
      ]
     },
     "execution_count": 53,
     "metadata": {},
     "output_type": "execute_result"
    }
   ],
   "source": [
    "# filter for Ltb\n",
    "ltb = high_conf[high_conf[\"gene\"] == \"Ltb\"]\n",
    "\n",
    "# select the columns we care about\n",
    "ltb[[\"peak_ID\",\"distance_to_tss\",\"coefficient\",\"r2\",\"role\"]]\n"
   ]
  },
  {
   "cell_type": "code",
   "execution_count": 54,
   "id": "70ed1649",
   "metadata": {},
   "outputs": [
    {
     "name": "stdout",
     "output_type": "stream",
     "text": [
      "        role  count\n",
      "0  repressor  13025\n",
      "1  activator  12707\n",
      "2   promoter   3014\n"
     ]
    }
   ],
   "source": [
    "# 1) Assuming you already have ‘high_conf’ from:\n",
    "#    high_conf = reg2[reg2[\"r2\"] >= 0.7].copy()\n",
    "\n",
    "# 2) Just tally up the roles:\n",
    "role_counts = high_conf[\"role\"].value_counts().rename_axis(\"role\").reset_index(name=\"count\")\n",
    "print(role_counts)\n"
   ]
  },
  {
   "cell_type": "code",
   "execution_count": 55,
   "id": "5bb54c87",
   "metadata": {},
   "outputs": [
    {
     "name": "stdout",
     "output_type": "stream",
     "text": [
      "         gene                   peak_ID  distance_to_tss\n",
      "15     Pcmtd1   ImmGenATAC1219.peak_378            132.0\n",
      "28       Sgk3   ImmGenATAC1219.peak_623             16.0\n",
      "47    Arfgef1   ImmGenATAC1219.peak_720           7046.0\n",
      "80       Eya1  ImmGenATAC1219.peak_1471             92.0\n",
      "88     Sbspon  ImmGenATAC1219.peak_1657             59.0\n",
      "102     Stau2  ImmGenATAC1219.peak_1805            341.0\n",
      "115   Gm16070  ImmGenATAC1219.peak_1988             63.0\n",
      "116  Crispld1  ImmGenATAC1219.peak_1985           8414.0\n",
      "126      Mcm3  ImmGenATAC1219.peak_2124             36.0\n",
      "134     Paqr8  ImmGenATAC1219.peak_2124             36.0\n",
      "161     Kcnq5  ImmGenATAC1219.peak_2447            632.0\n",
      "167    Ogfrl1  ImmGenATAC1219.peak_2558            220.0\n",
      "176     Smap1  ImmGenATAC1219.peak_2659            278.0\n",
      "227    Ptpn18  ImmGenATAC1219.peak_3481             48.0\n",
      "250      Cfc1  ImmGenATAC1219.peak_3481             48.0\n",
      "265   Plekhb2  ImmGenATAC1219.peak_3632             13.0\n",
      "289    Arid5a  ImmGenATAC1219.peak_3966            121.0\n",
      "295    Neurl3  ImmGenATAC1219.peak_3947             98.0\n",
      "307    Lman2l  ImmGenATAC1219.peak_4006            688.0\n",
      "335    Sema4c  ImmGenATAC1219.peak_4053             67.0\n",
      "count     3014.000000\n",
      "mean      1853.028202\n",
      "std       6732.270041\n",
      "min          0.000000\n",
      "25%         23.000000\n",
      "50%         61.000000\n",
      "75%        296.000000\n",
      "max      79408.000000\n",
      "Name: distance_to_tss, dtype: float64\n"
     ]
    }
   ],
   "source": [
    "# 1) Filter for promoters\n",
    "promoters = high_conf[high_conf[\"role\"] == \"promoter\"].copy()\n",
    "\n",
    "# 2) Peek at the first 20 promoter links\n",
    "print(promoters[[\"gene\",\"peak_ID\",\"distance_to_tss\"]].head(20))\n",
    "\n",
    "# 3) Get summary statistics on their distances\n",
    "print(promoters[\"distance_to_tss\"].describe())\n"
   ]
  },
  {
   "cell_type": "code",
   "execution_count": 56,
   "id": "e9977247",
   "metadata": {},
   "outputs": [
    {
     "name": "stdout",
     "output_type": "stream",
     "text": [
      "                gene                     peak_ID  distance_to_tss\n",
      "26193         Mamdc2  ImmGenATAC1219.peak_248648          79408.0\n",
      "51068         Rnf150  ImmGenATAC1219.peak_463338          76793.0\n",
      "31295        Fam217b  ImmGenATAC1219.peak_297365          75720.0\n",
      "12413         Dio3os  ImmGenATAC1219.peak_115854          71897.0\n",
      "16769            Ghr  ImmGenATAC1219.peak_164962          71438.0\n",
      "8268           Wscd1   ImmGenATAC1219.peak_80643          69999.0\n",
      "50237          Hmgb2  ImmGenATAC1219.peak_458765          68203.0\n",
      "16696          Farp1  ImmGenATAC1219.peak_163849          67147.0\n",
      "5992   9230105E05Rik   ImmGenATAC1219.peak_63516          65501.0\n",
      "26307           Gldc  ImmGenATAC1219.peak_250056          61987.0\n"
     ]
    }
   ],
   "source": [
    "# Sort by distance, descending\n",
    "print(promoters[[\"gene\",\"peak_ID\",\"distance_to_tss\"]]\n",
    "      .sort_values(\"distance_to_tss\", ascending=False)\n",
    "      .head(10))\n"
   ]
  },
  {
   "cell_type": "code",
   "execution_count": 57,
   "id": "1801c6fa",
   "metadata": {},
   "outputs": [
    {
     "name": "stdout",
     "output_type": "stream",
     "text": [
      "Removed 524 promoters >1 kb away\n",
      "Remaining promoters:\n",
      "count    2490.000000\n",
      "mean      102.701205\n",
      "std       155.703767\n",
      "min         0.000000\n",
      "25%        18.000000\n",
      "50%        44.000000\n",
      "75%       106.000000\n",
      "max       990.000000\n",
      "Name: distance_to_tss, dtype: float64\n"
     ]
    }
   ],
   "source": [
    "# assume `high_conf` is your R² ≥ 0.7 table with 'role' and 'distance_to_tss'\n",
    "\n",
    "# 1) Boolean mask for far-away promoters\n",
    "far_promoters = (high_conf[\"role\"] == \"promoter\") & (high_conf[\"distance_to_tss\"] > 1000)\n",
    "\n",
    "# 2) Remove them from the high_conf table\n",
    "high_conf_filtered = high_conf[~far_promoters].copy()\n",
    "\n",
    "# 3) Quick sanity check:\n",
    "print(f\"Removed {far_promoters.sum()} promoters >1 kb away\")\n",
    "print(\"Remaining promoters:\")\n",
    "print(high_conf_filtered[high_conf_filtered[\"role\"]==\"promoter\"][\"distance_to_tss\"].describe())\n",
    "\n",
    "# high_conf_filtered now has no promoters farther than 1 kb\n"
   ]
  },
  {
   "cell_type": "code",
   "execution_count": 58,
   "id": "22681640",
   "metadata": {},
   "outputs": [
    {
     "name": "stderr",
     "output_type": "stream",
     "text": [
      "/var/folders/4h/4d6rt9vd0zl_794dt1wdryqr0000gn/T/ipykernel_19179/22297770.py:57: UserWarning: FigureCanvasAgg is non-interactive, and thus cannot be shown\n",
      "  plt.show()\n"
     ]
    },
    {
     "name": "stdout",
     "output_type": "stream",
     "text": [
      "✅ Saved: cre_distance_plot_fixed.png\n"
     ]
    }
   ],
   "source": [
    "import matplotlib\n",
    "matplotlib.use(\"Agg\")  # force no-rendering backend (write-only)\n",
    "\n",
    "import matplotlib.pyplot as plt\n",
    "import seaborn as sns\n",
    "\n",
    "# Re-run this part only for plotting again\n",
    "sns.set_style(\"whitegrid\", {\n",
    "    \"grid.color\": \"#cccccc\",\n",
    "    \"grid.linestyle\": \"--\",\n",
    "    \"axes.edgecolor\": \"#333333\",\n",
    "    \"axes.linewidth\": 1.0,\n",
    "})\n",
    "plt.rc(\"font\", family=\"sans-serif\", size=12)\n",
    "\n",
    "pos = high_conf_filtered[high_conf_filtered[\"coefficient\"] >= 0]\n",
    "neg = high_conf_filtered[high_conf_filtered[\"coefficient\"] <  0]\n",
    "\n",
    "fig, (ax1, ax2) = plt.subplots(\n",
    "    nrows=2, ncols=1,\n",
    "    figsize=(10, 8),\n",
    "    sharex=True,\n",
    "    gridspec_kw={\"height_ratios\": [1, 1]}\n",
    ")\n",
    "\n",
    "sns.scatterplot(\n",
    "    data=pos,\n",
    "    x=\"distance_to_tss\", y=\"coefficient\",\n",
    "    hue=\"role\",\n",
    "    palette={\"activator\": \"#2ca02c\", \"promoter\": \"#1f77b4\"},\n",
    "    edgecolor=\"w\", linewidth=0.3, alpha=0.7, s=40, ax=ax1\n",
    ")\n",
    "ax1.axhline(0, color=\"black\", linewidth=0.8)\n",
    "ax1.set_title(\"Positive Effects (Activators & Promoters)\")\n",
    "ax1.set_ylabel(\"Coefficient ≥ 0\")\n",
    "ax1.legend(title=\"CRE Role\", loc=\"upper left\")\n",
    "\n",
    "sns.scatterplot(\n",
    "    data=neg,\n",
    "    x=\"distance_to_tss\", y=\"coefficient\",\n",
    "    hue=\"role\",\n",
    "    palette={\"repressor\": \"#d62728\"},\n",
    "    edgecolor=\"w\", linewidth=0.3, alpha=0.7, s=40, ax=ax2,\n",
    "    legend=False\n",
    ")\n",
    "ax2.axhline(0, color=\"black\", linewidth=0.8)\n",
    "ax2.set_title(\"Negative Effects (Repressors)\")\n",
    "ax2.set_ylabel(\"Coefficient < 0\")\n",
    "ax2.set_xlabel(\"Distance to TSS (bp, log scale)\")\n",
    "\n",
    "for ax in (ax1, ax2):\n",
    "    ax.set_xscale(\"log\")\n",
    "    ax.spines[\"top\"].set_visible(False)\n",
    "    ax.spines[\"right\"].set_visible(False)\n",
    "\n",
    "fig.subplots_adjust(hspace=0.3)\n",
    "plt.show()\n",
    "\n",
    "# 💾 Save to disk (this will work now)\n",
    "fig.savefig(\"cre_distance_plot_fixed.png\", dpi=300)\n",
    "print(\"✅ Saved: cre_distance_plot_fixed.png\")\n"
   ]
  },
  {
   "cell_type": "code",
   "execution_count": 59,
   "id": "0532fb11",
   "metadata": {},
   "outputs": [
    {
     "name": "stdout",
     "output_type": "stream",
     "text": [
      "Wrote ~/Desktop/high_conf_filtered.csv — 28222 rows\n"
     ]
    }
   ],
   "source": [
    "# write to your Desktop\n",
    "high_conf_filtered.to_csv(\"~/Desktop/high_conf_filtered.csv\", index=False)\n",
    "print(\"Wrote ~/Desktop/high_conf_filtered.csv —\", high_conf_filtered.shape[0], \"rows\")\n"
   ]
  },
  {
   "cell_type": "code",
   "execution_count": 60,
   "id": "2c3772c0",
   "metadata": {},
   "outputs": [
    {
     "name": "stdout",
     "output_type": "stream",
     "text": [
      "Most repressive repressor:\n",
      "                         peak_ID  gene  distance_to_tss  coefficient\n",
      "7311  ImmGenATAC1219.peak_75525  Tcf7          14254.0  -253.532701\n",
      "Genes with all 3 roles: 2692\n",
      "Genes with only promoter: 66\n",
      "Avg # promoters per gene: 1.00\n",
      "Avg # enhancers per gene: 8.51\n"
     ]
    }
   ],
   "source": [
    "import pandas as pd\n",
    "\n",
    "# 1) Most repressive “repressor”\n",
    "most_repressive = (\n",
    "    high_conf[high_conf.role == \"repressor\"]\n",
    "     .nsmallest(1, \"coefficient\")\n",
    "     .loc[:, [\"peak_ID\",\"gene\",\"distance_to_tss\",\"coefficient\"]]\n",
    ")\n",
    "print(\"Most repressive repressor:\\n\", most_repressive)\n",
    "\n",
    "# 2) Genes with all three roles\n",
    "roles_per_gene = high_conf.groupby(\"gene\")[\"role\"] \\\n",
    "                          .unique().apply(set)\n",
    "n_all3 = sum(1 for roles in roles_per_gene\n",
    "             if {\"promoter\",\"activator\",\"repressor\"}.issubset(roles))\n",
    "print(f\"Genes with all 3 roles: {n_all3}\")\n",
    "\n",
    "# 3) Genes with only a promoter\n",
    "n_only_prom = sum(1 for roles in roles_per_gene\n",
    "                  if roles == {\"promoter\"})\n",
    "print(f\"Genes with only promoter: {n_only_prom}\")\n",
    "\n",
    "# 4) Average counts of promoters & enhancers per gene\n",
    "counts = high_conf.groupby(\"gene\")[\"role\"] \\\n",
    "                  .value_counts() \\\n",
    "                  .unstack(fill_value=0)\n",
    "avg_prom  = counts[\"promoter\"].mean()\n",
    "avg_enh   = counts[[\"activator\",\"repressor\"]].sum(axis=1).mean()\n",
    "print(f\"Avg # promoters per gene: {avg_prom:.2f}\")\n",
    "print(f\"Avg # enhancers per gene: {avg_enh:.2f}\")\n"
   ]
  },
  {
   "cell_type": "markdown",
   "id": "2d23d8bd",
   "metadata": {},
   "source": [
    "Where are repressing CREs located compared to activating CREs?\n"
   ]
  },
  {
   "cell_type": "code",
   "execution_count": 61,
   "id": "7b7ff403",
   "metadata": {},
   "outputs": [
    {
     "name": "stdout",
     "output_type": "stream",
     "text": [
      "Channels:\n",
      " - conda-forge\n",
      " - defaults\n",
      "Platform: osx-arm64\n",
      "Collecting package metadata (repodata.json): done\n",
      "Solving environment: done\n",
      "\n",
      "# All requested packages already installed.\n",
      "\n",
      "\n",
      "Note: you may need to restart the kernel to use updated packages.\n"
     ]
    }
   ],
   "source": [
    "conda install -c conda-forge tabulate\n"
   ]
  },
  {
   "cell_type": "code",
   "execution_count": 62,
   "id": "358dc4d4",
   "metadata": {},
   "outputs": [
    {
     "name": "stdout",
     "output_type": "stream",
     "text": [
      "| role      |   count |   min |   25% |   50% |     75% |   max |\n",
      "|:----------|--------:|------:|------:|------:|--------:|------:|\n",
      "| activator |   12707 |     1 |   473 |  4942 | 16780.5 | 99778 |\n",
      "| promoter  |    3014 |     0 |    23 |    61 |   296   | 79408 |\n",
      "| repressor |   13025 |     0 |   126 |  1303 | 11544   | 99880 |\n"
     ]
    }
   ],
   "source": [
    "summary = (\n",
    "    high_conf\n",
    "    .groupby('role')['distance_to_tss']\n",
    "    .describe()[['count','min','25%','50%','75%','max']]\n",
    "    .sort_index()\n",
    ")\n",
    "print(summary.to_markdown())\n"
   ]
  },
  {
   "cell_type": "code",
   "execution_count": 63,
   "id": "dd29e2fa",
   "metadata": {},
   "outputs": [
    {
     "name": "stdout",
     "output_type": "stream",
     "text": [
      "             count  min    25%     50%      75%      max\n",
      "role                                                    \n",
      "activator  12707.0  1.0  473.0  4942.0  16780.5  99778.0\n",
      "promoter    3014.0  0.0   23.0    61.0    296.0  79408.0\n",
      "repressor  13025.0  0.0  126.0  1303.0  11544.0  99880.0\n"
     ]
    }
   ],
   "source": [
    "summary = (\n",
    "    high_conf\n",
    "    .groupby('role')['distance_to_tss']\n",
    "    .describe()[['count','min','25%','50%','75%','max']]\n",
    "    .sort_index()\n",
    ")\n",
    "print(summary)\n"
   ]
  },
  {
   "cell_type": "markdown",
   "id": "dde44c04",
   "metadata": {},
   "source": [
    "\n",
    "\n",
    "| Role          | Median distance to TSS (bp) | 25th %ile (bp) | 75th %ile (bp) |\n",
    "| ------------- | --------------------------: | -------------: | -------------: |\n",
    "| **Promoter**  |                          61 |             23 |            296 |\n",
    "| **Repressor** |                       1 303 |            126 |         11 544 |\n",
    "| **Activator** |                       4 942 |            473 |         16 780 |\n",
    "\n",
    "* **Promoters** sit essentially right at the TSS (median ≈ 61 bp).\n",
    "* **Repressors** are on average a bit farther out (median ≈ 1.3 kb) but still relatively proximal.\n",
    "* **Activators** tend to lie the farthest away (median ≈ 4.9 kb).\n",
    "\n",
    "So **repressing CREs** are generally **more distal** than promoters but **more proximal** than activating CREs.\n"
   ]
  },
  {
   "cell_type": "markdown",
   "id": "1f881530",
   "metadata": {},
   "source": [
    "How many genes are mainly regulated by a repressing CREs, and can promoters act through repression? "
   ]
  },
  {
   "cell_type": "markdown",
   "id": "1f2bd69c",
   "metadata": {},
   "source": [
    "First, let’s pick for each gene the single CRE link with the largest absolute effect size (|coefficient|), and see how many of those “top‐CREs” are repressors:"
   ]
  },
  {
   "cell_type": "code",
   "execution_count": 64,
   "id": "99cfabbf",
   "metadata": {},
   "outputs": [
    {
     "name": "stdout",
     "output_type": "stream",
     "text": [
      "role\n",
      "activator    1841\n",
      "repressor     647\n",
      "promoter      535\n",
      "Name: count, dtype: int64\n"
     ]
    }
   ],
   "source": [
    "import pandas as pd\n",
    "\n",
    "# assume `high_conf` is your post‐cutoff DataFrame with columns \n",
    "# ['gene','peak_ID','coefficient','r2','distance_to_tss','role']\n",
    "\n",
    "# 1) find the index of the strongest CRE (by absolute coefficient) per gene\n",
    "idx = (high_conf\n",
    "       .assign(abs_coef=high_conf['coefficient'].abs())\n",
    "       .groupby('gene')['abs_coef']\n",
    "       .idxmax())\n",
    "\n",
    "strongest = high_conf.loc[idx]\n",
    "\n",
    "# 2) tally up how many genes have a repressor as their main CRE\n",
    "role_counts = strongest['role'].value_counts()\n",
    "print(role_counts)\n"
   ]
  },
  {
   "cell_type": "markdown",
   "id": "b7965f98",
   "metadata": {},
   "source": [
    "so 647 genes are mainly regulated by repressing CREs"
   ]
  },
  {
   "cell_type": "markdown",
   "id": "1d290f7b",
   "metadata": {},
   "source": [
    "Can promoters act through repression?"
   ]
  },
  {
   "cell_type": "markdown",
   "id": "1fca132d",
   "metadata": {},
   "source": [
    "How i interpreted this question: We have coefficients for each CRE that is linked to a gene. In all genes that have a repressor element (so negative coefficient), do their promoters have a stronger magnitude than these repressors that they have, or does the repressor have a stronger influence on it (aka larger magnitude of coefficient) than the promoter?"
   ]
  },
  {
   "cell_type": "code",
   "execution_count": 65,
   "id": "384cc715",
   "metadata": {},
   "outputs": [
    {
     "name": "stdout",
     "output_type": "stream",
     "text": [
      "878 genes whose promoter strength > strongest repressor strength\n",
      "               prom_strength  rep_strength  prom_gt_rep\n",
      "gene                                                   \n",
      "1700001C19Rik       0.199053      0.023901         True\n",
      "1810034E14Rik       0.386194      0.062729         True\n",
      "2410021H03Rik       0.005143      0.001427         True\n",
      "2810001G20Rik       0.685265      0.653654         True\n",
      "4930513N10Rik       0.860133      0.073475         True\n"
     ]
    }
   ],
   "source": [
    "import pandas as pd\n",
    "\n",
    "\n",
    "# 1) compute promoter per gene\n",
    "prom = (\n",
    "    high_conf[high_conf['role']=='promoter']\n",
    "      .assign(abs_coef=lambda df: df['coefficient'].abs())\n",
    "      .groupby('gene', as_index=True)['abs_coef']\n",
    "      .max()\n",
    "      .rename('prom_strength')\n",
    ")\n",
    "\n",
    "# 2) compute strongest repressor per gene\n",
    "rep = (\n",
    "    high_conf[high_conf['coefficient'] < 0]\n",
    "      .assign(abs_coef=lambda df: df['coefficient'].abs())\n",
    "      .groupby('gene', as_index=True)['abs_coef']\n",
    "      .max()\n",
    "      .rename('rep_strength')\n",
    ")\n",
    "\n",
    "# 3) combine into one table (only genes with both)\n",
    "df = pd.concat([prom, rep], axis=1).dropna()\n",
    "\n",
    "# 4) filter for prom > rep\n",
    "df['prom_gt_rep'] = df['prom_strength'] > df['rep_strength']\n",
    "winners = df[df['prom_gt_rep']]\n",
    "\n",
    "print(f\"{len(winners)} genes whose promoter strength > strongest repressor strength\")\n",
    "print(winners.head())\n"
   ]
  },
  {
   "cell_type": "code",
   "execution_count": 66,
   "id": "78e9a28d",
   "metadata": {},
   "outputs": [
    {
     "name": "stdout",
     "output_type": "stream",
     "text": [
      "3023\n"
     ]
    }
   ],
   "source": [
    "total_genes = high_conf['gene'].nunique()\n",
    "print(total_genes)"
   ]
  },
  {
   "cell_type": "code",
   "execution_count": 67,
   "id": "c1b1830c",
   "metadata": {},
   "outputs": [
    {
     "name": "stdout",
     "output_type": "stream",
     "text": [
      "29.0% of genes have a promoter stronger than their strongest repressor\n"
     ]
    }
   ],
   "source": [
    "# assuming you’ve already built `winners` (genes where prom_strength > rep_strength)\n",
    "pct_winners = winners.shape[0] / total_genes * 100\n",
    "print(f\"{pct_winners:.1f}% of genes have a promoter stronger than their strongest repressor\")\n"
   ]
  },
  {
   "cell_type": "markdown",
   "id": "5b72de54",
   "metadata": {},
   "source": [
    "**Promoter vs. repressor strength**  \n",
    "We computed, for each gene, the absolute coefficient of its closest TSS peak (“promoter”) and compared this to the largest absolute coefficient among all repressor‐type CREs. Only **29.0%** of genes (878/3023) exhibited promoter strength exceeding their strongest repressor (Figure X).  \n",
    "\n",
    "> *Caveat:* These values reflect fitted regression weights in a simplified additive model and may not fully capture nonlinear or cooperative regulatory interactions in vivo.\n"
   ]
  },
  {
   "cell_type": "markdown",
   "id": "f504a4c3",
   "metadata": {},
   "source": [
    "Are there CREs that are repressing for one gene but activating for another gene?"
   ]
  },
  {
   "cell_type": "code",
   "execution_count": 68,
   "id": "a1f3a49a",
   "metadata": {},
   "outputs": [
    {
     "name": "stdout",
     "output_type": "stream",
     "text": [
      "2623 CREs act as activators for some genes but repressors for others\n"
     ]
    }
   ],
   "source": [
    "import pandas as pd\n",
    "\n",
    "# assume high_conf is your DataFrame with columns ['gene','peak_ID','coefficient',…]\n",
    "# 1) build two sets: CREs that ever activate, and CREs that ever repress\n",
    "pos_peaks = set(high_conf.loc[high_conf['coefficient'] > 0, 'peak_ID'])\n",
    "neg_peaks = set(high_conf.loc[high_conf['coefficient'] < 0, 'peak_ID'])\n",
    "\n",
    "# 2) find the intersection: CREs in both sets\n",
    "mixed_peaks = pos_peaks & neg_peaks\n",
    "\n",
    "print(f\"{len(mixed_peaks)} CREs act as activators for some genes but repressors for others\")\n"
   ]
  },
  {
   "cell_type": "code",
   "execution_count": 69,
   "id": "af500758",
   "metadata": {},
   "outputs": [
    {
     "name": "stdout",
     "output_type": "stream",
     "text": [
      "Total CREs: 21249\n",
      "2623 out of 21249 CREs (12.3%) act as activators for some genes but repressors for others\n"
     ]
    }
   ],
   "source": [
    "# total number of unique CREs\n",
    "total_cre = high_conf['peak_ID'].nunique()\n",
    "print(f\"Total CREs: {total_cre}\")\n",
    "# mixed_peaks is the set you already computed\n",
    "n_mixed = len(mixed_peaks)\n",
    "\n",
    "pct_mixed = n_mixed / total_cre * 100\n",
    "print(f\"{n_mixed} out of {total_cre} CREs ({pct_mixed:.1f}%) act as activators for some genes but repressors for others\")\n"
   ]
  },
  {
   "cell_type": "markdown",
   "id": "c791de24",
   "metadata": {},
   "source": [
    "Now going to do some plotting"
   ]
  },
  {
   "cell_type": "code",
   "execution_count": 70,
   "id": "a606214b",
   "metadata": {},
   "outputs": [
    {
     "name": "stderr",
     "output_type": "stream",
     "text": [
      "/var/folders/4h/4d6rt9vd0zl_794dt1wdryqr0000gn/T/ipykernel_19179/3535375575.py:40: UserWarning: FigureCanvasAgg is non-interactive, and thus cannot be shown\n",
      "  plt.show()\n"
     ]
    }
   ],
   "source": [
    "import matplotlib.pyplot as plt\n",
    "\n",
    "# 1) counts & total\n",
    "role_counts = strongest['role'].value_counts()\n",
    "total_genes = len(strongest)\n",
    "\n",
    "# 2) figure setup\n",
    "fig, ax = plt.subplots(figsize=(6, 4))\n",
    "\n",
    "# 3) bars in a professional teal, with black outline\n",
    "bars = ax.bar(\n",
    "    role_counts.index, \n",
    "    role_counts.values, \n",
    "    color='#2A9D8F',   # pretty, professional teal\n",
    "    edgecolor='k', \n",
    "    linewidth=1\n",
    ")\n",
    "\n",
    "# 4) annotate counts above each bar\n",
    "for bar in bars:\n",
    "    h = bar.get_height()\n",
    "    ax.text(\n",
    "        bar.get_x() + bar.get_width() / 2,\n",
    "        h + total_genes * 0.005,\n",
    "        f\"{h}\",\n",
    "        ha='center',\n",
    "        va='bottom',\n",
    "        fontsize=10\n",
    "    )\n",
    "\n",
    "# 5) clean up spines\n",
    "ax.spines['top'].set_visible(False)\n",
    "ax.spines['right'].set_visible(False)\n",
    "\n",
    "# 6) labels & title\n",
    "ax.set_ylabel(\"Number of genes\", fontsize=12)\n",
    "ax.set_title(\"Genes by Their Strongest CRE Role\", fontsize=14)\n",
    "\n",
    "plt.tight_layout()\n",
    "plt.show()\n"
   ]
  },
  {
   "cell_type": "markdown",
   "id": "774f095b",
   "metadata": {},
   "source": [
    "1.ii. d Are intronic enhancers different from enhancers outside the transcript."
   ]
  },
  {
   "cell_type": "code",
   "execution_count": 71,
   "id": "f5c55cde",
   "metadata": {},
   "outputs": [
    {
     "name": "stdout",
     "output_type": "stream",
     "text": [
      "Columns in ATAC_high_var.csv: ['ImmGenATAC1219.peakID', 'chrom', 'Summit', 'mm10.60way.phastCons_scores', '_-log10_bestPvalue', 'Included.in.systematic.analysis', 'TSS', 'genes.within.100Kb', 'preT.DN1.Th', 'preT.DN2a.Th', 'preT.DN2b.Th', 'preT.DN3.Th', 'T.DN4.Th', 'T.ISP.Th', 'T.DP.Th', 'T.4.Th', 'T.8.Th', 'T.4.Nve.Sp', 'T.4.Nve.Fem.Sp', 'T.4.Sp.aCD3+CD40.18hr', 'T.8.Nve.Sp', 'Treg.4.25hi.Sp', 'Treg.4.FP3+.Nrplo.Co', 'T8.TN.P14.Sp', 'T8.TE.LCMV.d7.Sp', 'T8.MP.LCMV.d7.Sp', 'T8.IEL.LCMV.d7.SI', 'T8.Tcm.LCMV.d180.Sp', 'T8.Tem.LCMV.d180.Sp', 'NKT.Sp', 'NKT.Sp.LPS.3hr', 'NKT.Sp.LPS.18hr', 'NKT.Sp.LPS.3d', 'LTHSC.34-.BM', 'LTHSC.34+.BM', 'STHSC.150-.BM', 'MPP4.135+.BM', 'variance']\n"
     ]
    }
   ],
   "source": [
    "import os\n",
    "import pandas as pd\n",
    "\n",
    "# 2) Load your filtered peaks file\n",
    "peaks_coords = pd.read_csv(\"ATAC_high_var.csv\")\n",
    "\n",
    "# 3) Print its column names\n",
    "print(\"Columns in ATAC_high_var.csv:\", peaks_coords.columns.tolist())\n",
    "\n"
   ]
  },
  {
   "cell_type": "markdown",
   "id": "98b2294c",
   "metadata": {},
   "source": [
    "the high_conf table didn’t include the peak’s position, so i merged in the summit coordinate from our ATAC‐seq file"
   ]
  },
  {
   "cell_type": "code",
   "execution_count": 72,
   "id": "a412def3",
   "metadata": {},
   "outputs": [
    {
     "name": "stdout",
     "output_type": "stream",
     "text": [
      "Now high_conf has columns: ['Unnamed: 0', 'gene', 'peak_ID', 'coefficient', 'r2', 'distance_to_tss', 'role', 'chrom', 'pos']\n",
      "                   peak_ID chrom      pos\n",
      "0  ImmGenATAC1219.peak_376  chr1  7088525\n",
      "1  ImmGenATAC1219.peak_377  chr1  7088775\n",
      "2  ImmGenATAC1219.peak_378  chr1  7089051\n",
      "3  ImmGenATAC1219.peak_380  chr1  7096062\n",
      "4  ImmGenATAC1219.peak_408  chr1  7147225\n"
     ]
    }
   ],
   "source": [
    "import pandas as pd\n",
    "\n",
    "# 1) Load your filtered ATAC peaks\n",
    "peaks_coords = pd.read_csv(\"ATAC_high_var.csv\")\n",
    "\n",
    "# 2) Select only the three columns we need and rename them\n",
    "peaks_coords = (\n",
    "    peaks_coords\n",
    "    .loc[:, ['ImmGenATAC1219.peakID', 'chrom', 'Summit']]\n",
    "    .rename(columns={\n",
    "        'ImmGenATAC1219.peakID': 'peak_ID',\n",
    "        'Summit': 'pos'   # single-base CRE coordinate\n",
    "    })\n",
    ")\n",
    "\n",
    "# 3) Merge into high_conf by peak_ID\n",
    "high_conf = high_conf.merge(\n",
    "    peaks_coords,\n",
    "    on='peak_ID',\n",
    "    how='left'\n",
    ")\n",
    "\n",
    "# 4) Verify\n",
    "print(\"Now high_conf has columns:\", high_conf.columns.tolist())\n",
    "print(high_conf[['peak_ID','chrom','pos']].head())\n"
   ]
  },
  {
   "cell_type": "markdown",
   "id": "8055b41f",
   "metadata": {},
   "source": [
    "I first kept only those peaks whose role was activator or repressor (i.e. discarded promoters)."
   ]
  },
  {
   "cell_type": "code",
   "execution_count": 73,
   "id": "60eb76da",
   "metadata": {},
   "outputs": [
    {
     "name": "stdout",
     "output_type": "stream",
     "text": [
      "2957 genes have at least one activator or repressor\n",
      "Now high_conf rows: 28680\n",
      "Remaining roles: role\n",
      "repressor    13025\n",
      "activator    12707\n",
      "promoter      2948\n",
      "Name: count, dtype: int64\n"
     ]
    }
   ],
   "source": [
    "# 1) Define which roles count as “enhancer‐type”\n",
    "enhancer_roles = ['activator', 'repressor']\n",
    "\n",
    "# 2) Find all genes with ≥1 such CRE\n",
    "genes_with_enh = (\n",
    "    high_conf.loc[\n",
    "        high_conf['role'].isin(enhancer_roles), \n",
    "        'gene'\n",
    "    ]\n",
    "    .unique()\n",
    ")\n",
    "\n",
    "print(f\"{len(genes_with_enh)} genes have at least one activator or repressor\")\n",
    "\n",
    "# 3) Filter your high_conf to only those genes\n",
    "high_conf = high_conf[high_conf['gene'].isin(genes_with_enh)].copy()\n",
    "\n",
    "print(\"Now high_conf rows:\", high_conf.shape[0])\n",
    "print(\"Remaining roles:\", high_conf['role'].value_counts())\n"
   ]
  },
  {
   "cell_type": "markdown",
   "id": "985674f7",
   "metadata": {},
   "source": [
    "loaded RefFlat and kept only the 2,957 genes present in our filtered high_conf"
   ]
  },
  {
   "cell_type": "code",
   "execution_count": 74,
   "id": "6b1d1216",
   "metadata": {},
   "outputs": [
    {
     "name": "stdout",
     "output_type": "stream",
     "text": [
      "Loaded 47382 transcripts total; 2957 genes remain after filtering\n",
      "Example rows:\n",
      "    geneName transcriptName  chrom strand   txStart     txEnd  cdsStart  \\\n",
      "34  Itgb1bp1      NM_008403  chr12      -  21269801  21286284  21270885   \n",
      "57     Atg4d      NM_153583   chr9      +  21265284  21274837  21265482   \n",
      "69       St7   NM_001289626   chr6      +  17693993  17943023  17694211   \n",
      "77     Nadk2   NM_001085410  chr15      +   9071259   9110496   9071501   \n",
      "85      Plec   NM_001164203  chr15      -  76170973  76208253  76172169   \n",
      "\n",
      "      cdsEnd  exonCount                                         exonStarts  \\\n",
      "34  21279471          7  21269801,21271418,21272055,21274765,21276819,2...   \n",
      "57  21273436         10  21265284,21266738,21266906,21268250,21268604,2...   \n",
      "69  17942765         15  17693993,17819249,17834616,17844908,17846198,1...   \n",
      "77   9108357         14  9071259,9083269,9084161,9085724,9091174,909271...   \n",
      "85  76192311         34  76170973,76178518,76182909,76183090,76183361,7...   \n",
      "\n",
      "                                             exonEnds  \n",
      "34  21270957,21271568,21272148,21274902,21276898,2...  \n",
      "57  21265717,21266822,21267080,21268527,21268669,2...  \n",
      "69  17694362,17819332,17834776,17844963,17846314,1...  \n",
      "77  9071765,9083358,9084250,9085806,9091258,909285...  \n",
      "85  76178385,76181899,76183008,76183195,76183445,7...  \n"
     ]
    }
   ],
   "source": [
    "import pandas as pd\n",
    "\n",
    "# 1) Path to your RefFlat file\n",
    "refflat_path = \"raw datasets/refFlat\"  # add “.txt” if that’s the actual filename\n",
    "\n",
    "# 2) Column names for RefFlat\n",
    "rf_cols = [\n",
    "    'geneName', 'transcriptName', 'chrom', 'strand',\n",
    "    'txStart', 'txEnd', 'cdsStart', 'cdsEnd',\n",
    "    'exonCount', 'exonStarts', 'exonEnds'\n",
    "]\n",
    "\n",
    "# 3) Load the whole RefFlat\n",
    "rf = pd.read_csv(\n",
    "    refflat_path,\n",
    "    sep='\\t',\n",
    "    header=None,\n",
    "    names=rf_cols\n",
    ")\n",
    "\n",
    "# 4) Filter to only genes present in your filtered high_conf\n",
    "relevant_genes = high_conf['gene'].unique()\n",
    "rf_filt = rf[ rf['geneName'].isin(relevant_genes) ].copy()\n",
    "\n",
    "print(f\"Loaded {len(rf)} transcripts total; {rf_filt['geneName'].nunique()} genes remain after filtering\")\n",
    "print(\"Example rows:\", rf_filt.head(), sep=\"\\n\")\n"
   ]
  },
  {
   "cell_type": "markdown",
   "id": "c7df2947",
   "metadata": {},
   "source": [
    "For each transcript, we turned its comma-separated exon starts/ends into Python lists, then created one intron interval between every pair of adjacent exons:"
   ]
  },
  {
   "cell_type": "markdown",
   "id": "faf3b2a4",
   "metadata": {},
   "source": [
    "We merged these intron intervals onto our peaks by (gene,chrom), then checked whether the peak summit pos lies inside any intron:"
   ]
  },
  {
   "cell_type": "code",
   "execution_count": 75,
   "id": "9edb4e30",
   "metadata": {},
   "outputs": [
    {
     "name": "stdout",
     "output_type": "stream",
     "text": [
      "                          peak_ID      gene  chrom       pos    location\n",
      "4686    ImmGenATAC1219.peak_85351     Rnf43  chr11  87750704  intergenic\n",
      "13426  ImmGenATAC1219.peak_253247  BC037704  chr19  43579661  intergenic\n",
      "17295  ImmGenATAC1219.peak_331276     Mob3b   chr4  35096831    intronic\n",
      "10952  ImmGenATAC1219.peak_213105      Tap1  chr17  34187023  intergenic\n",
      "9370   ImmGenATAC1219.peak_181752      Miox  chr15  89323870  intergenic\n"
     ]
    }
   ],
   "source": [
    "import pandas as pd\n",
    "\n",
    "# --- 1) Parse exonStarts/exonEnds into lists of ints (if you haven't yet)\n",
    "rf_filt['exonStarts'] = (\n",
    "    rf_filt['exonStarts']\n",
    "      .str.rstrip(',').str.split(',')\n",
    "      .apply(lambda L: list(map(int,L)))\n",
    ")\n",
    "rf_filt['exonEnds'] = (\n",
    "    rf_filt['exonEnds']\n",
    "      .str.rstrip(',').str.split(',')\n",
    "      .apply(lambda L: list(map(int,L)))\n",
    ")\n",
    "\n",
    "# --- 2) Build a DataFrame of intron intervals\n",
    "introns = []\n",
    "for _, row in rf_filt.iterrows():\n",
    "    starts, ends = row.exonStarts, row.exonEnds\n",
    "    # for each adjacent exon pair, the intron is [end_i, start_{i+1})\n",
    "    for i in range(len(starts)-1):\n",
    "        introns.append({\n",
    "            'gene': row.geneName,\n",
    "            'chrom': row.chrom,\n",
    "            'intron_start': ends[i],\n",
    "            'intron_end':   starts[i+1]\n",
    "        })\n",
    "introns = pd.DataFrame(introns)\n",
    "\n",
    "# --- 3) Merge introns onto your peaks by (gene, chrom)\n",
    "# high_conf already has columns: gene, chrom, pos, peak_ID, role, coefficient\n",
    "peaks = high_conf[['peak_ID','gene','chrom','pos']].copy()\n",
    "m = peaks.merge(introns, on=['gene','chrom'], how='left')\n",
    "\n",
    "# --- 4) Flag as intronic if pos ∈ [intron_start, intron_end)\n",
    "m['is_intronic'] = (m['pos'] >= m['intron_start']) & (m['pos'] < m['intron_end'])\n",
    "\n",
    "# --- 5) Collapse to one TRUE/FALSE per peak_ID\n",
    "intronic_flag = (\n",
    "    m.groupby('peak_ID')['is_intronic']\n",
    "     .any()\n",
    "     .rename('is_intronic')\n",
    "     .reset_index()\n",
    ")\n",
    "\n",
    "# --- 6) Merge back into high_conf and label location\n",
    "high_conf = high_conf.merge(intronic_flag, on='peak_ID', how='left')\n",
    "high_conf['location'] = high_conf['is_intronic'].map({True:'intronic', False:'intergenic'})\n",
    "\n",
    "# --- 7) Quick sanity check\n",
    "print(high_conf[['peak_ID','gene','chrom','pos','location']].drop_duplicates().sample(5))\n"
   ]
  },
  {
   "cell_type": "markdown",
   "id": "e64a5122",
   "metadata": {},
   "source": [
    "Finally, we counted how many CREs (and enhancer-type CREs) fell into each category:"
   ]
  },
  {
   "cell_type": "code",
   "execution_count": 76,
   "id": "49e0f810",
   "metadata": {},
   "outputs": [
    {
     "name": "stdout",
     "output_type": "stream",
     "text": [
      "\n",
      "Enhancer‐type CREs:\n",
      "location\n",
      "intergenic    20470\n",
      "intronic       5262\n",
      "Name: count, dtype: int64\n",
      "location\n",
      "intergenic    79.6%\n",
      "intronic      20.4%\n",
      "Name: count, dtype: object\n"
     ]
    }
   ],
   "source": [
    "\n",
    "\n",
    "# Counts for just enhancers (activators + repressors)\n",
    "enh = high_conf[high_conf['role'].isin(['activator','repressor'])]\n",
    "enh_counts = enh['location'].value_counts()\n",
    "enh_pct    = enh_counts / enh_counts.sum() * 100\n",
    "print(\"\\nEnhancer‐type CREs:\")\n",
    "print(enh_counts)\n",
    "print(enh_pct.map(\"{:.1f}%\".format))\n"
   ]
  },
  {
   "cell_type": "code",
   "execution_count": 77,
   "id": "6b8ef39b",
   "metadata": {},
   "outputs": [
    {
     "name": "stderr",
     "output_type": "stream",
     "text": [
      "/var/folders/4h/4d6rt9vd0zl_794dt1wdryqr0000gn/T/ipykernel_19179/820424276.py:2: SettingWithCopyWarning: \n",
      "A value is trying to be set on a copy of a slice from a DataFrame.\n",
      "Try using .loc[row_indexer,col_indexer] = value instead\n",
      "\n",
      "See the caveats in the documentation: https://pandas.pydata.org/pandas-docs/stable/user_guide/indexing.html#returning-a-view-versus-a-copy\n",
      "  enh['abs_coef'] = enh['coefficient'].abs()\n"
     ]
    }
   ],
   "source": [
    "enh = high_conf.query(\"role in ['activator','repressor']\")\n",
    "enh['abs_coef'] = enh['coefficient'].abs()\n",
    "intr = enh.loc[enh['location']=='intronic','abs_coef']\n",
    "inter= enh.loc[enh['location']=='intergenic','abs_coef']\n"
   ]
  },
  {
   "cell_type": "code",
   "execution_count": 78,
   "id": "f506ddcf",
   "metadata": {},
   "outputs": [
    {
     "name": "stdout",
     "output_type": "stream",
     "text": [
      "p-value = 1.942628690498378e-51\n"
     ]
    }
   ],
   "source": [
    "from scipy.stats import mannwhitneyu\n",
    "stat, p = mannwhitneyu(intr, inter)\n",
    "print(\"p-value =\", p)\n"
   ]
  },
  {
   "cell_type": "code",
   "execution_count": 79,
   "id": "5b46723f",
   "metadata": {},
   "outputs": [
    {
     "data": {
      "text/html": [
       "<div>\n",
       "<style scoped>\n",
       "    .dataframe tbody tr th:only-of-type {\n",
       "        vertical-align: middle;\n",
       "    }\n",
       "\n",
       "    .dataframe tbody tr th {\n",
       "        vertical-align: top;\n",
       "    }\n",
       "\n",
       "    .dataframe thead th {\n",
       "        text-align: right;\n",
       "    }\n",
       "</style>\n",
       "<table border=\"1\" class=\"dataframe\">\n",
       "  <thead>\n",
       "    <tr style=\"text-align: right;\">\n",
       "      <th>role</th>\n",
       "      <th>activator</th>\n",
       "      <th>repressor</th>\n",
       "    </tr>\n",
       "    <tr>\n",
       "      <th>location</th>\n",
       "      <th></th>\n",
       "      <th></th>\n",
       "    </tr>\n",
       "  </thead>\n",
       "  <tbody>\n",
       "    <tr>\n",
       "      <th>intergenic</th>\n",
       "      <td>0.470689</td>\n",
       "      <td>0.529311</td>\n",
       "    </tr>\n",
       "    <tr>\n",
       "      <th>intronic</th>\n",
       "      <td>0.583808</td>\n",
       "      <td>0.416192</td>\n",
       "    </tr>\n",
       "  </tbody>\n",
       "</table>\n",
       "</div>"
      ],
      "text/plain": [
       "role        activator  repressor\n",
       "location                        \n",
       "intergenic   0.470689   0.529311\n",
       "intronic     0.583808   0.416192"
      ]
     },
     "execution_count": 79,
     "metadata": {},
     "output_type": "execute_result"
    }
   ],
   "source": [
    "pd.crosstab(\n",
    "    enh['location'],\n",
    "    enh['role']\n",
    ").apply(lambda row: row/row.sum(), axis=1)\n"
   ]
  },
  {
   "cell_type": "code",
   "execution_count": 80,
   "id": "3aa07ece",
   "metadata": {},
   "outputs": [
    {
     "name": "stdout",
     "output_type": "stream",
     "text": [
      "     location  mean_strength  max_strength\n",
      "0  intergenic       3.801026    341.968959\n",
      "1    intronic       4.574022    329.004357\n"
     ]
    }
   ],
   "source": [
    "# Subset to activator/repressor CREs and compute |β|\n",
    "enh = high_conf[high_conf.role.isin(['activator','repressor'])].copy()\n",
    "enh['abs_coef'] = enh['coefficient'].abs()\n",
    "\n",
    "# Group by intronic vs. intergenic and compute mean & max\n",
    "summary = enh.groupby('location')['abs_coef'] \\\n",
    "             .agg(mean_strength='mean', max_strength='max') \\\n",
    "             .reset_index()\n",
    "\n",
    "print(summary)\n"
   ]
  },
  {
   "cell_type": "code",
   "execution_count": 81,
   "id": "5d94e796",
   "metadata": {},
   "outputs": [
    {
     "name": "stdout",
     "output_type": "stream",
     "text": [
      "  location     mean   median    maximum\n",
      "intergenic 3.801026 0.861624 341.968959\n",
      "  intronic 4.574022 1.373178 329.004357\n"
     ]
    }
   ],
   "source": [
    "# Subset to activators & repressors and compute |β|\n",
    "enh = high_conf[high_conf.role.isin(['activator','repressor'])].copy()\n",
    "enh['abs_coef'] = enh['coefficient'].abs()\n",
    "\n",
    "# Compute mean, median, max for each location\n",
    "summary = enh.groupby('location')['abs_coef'].agg(\n",
    "    mean='mean',\n",
    "    median='median',\n",
    "    maximum='max'\n",
    ").reset_index()\n",
    "\n",
    "print(summary.to_string(index=False))\n"
   ]
  },
  {
   "cell_type": "markdown",
   "id": "6a1a2fd1",
   "metadata": {},
   "source": [
    "seeing examples"
   ]
  },
  {
   "cell_type": "code",
   "execution_count": 82,
   "id": "4c78a7e8",
   "metadata": {},
   "outputs": [
    {
     "name": "stdout",
     "output_type": "stream",
     "text": [
      "=== Random Intronic Examples ===\n",
      "                           peak_ID    gene  chrom        pos  intron_start  \\\n",
      "75550    ImmGenATAC1219.peak_79991   Zbtb4  chr11   69766523    69766085.0   \n",
      "28965    ImmGenATAC1219.peak_40260   Stx11  chr10   12963476    12941983.0   \n",
      "570562  ImmGenATAC1219.peak_498341   Fbxl2   chr9  113983468   113979670.0   \n",
      "561811  ImmGenATAC1219.peak_483623    Bco2   chr9   50537432    50536368.0   \n",
      "26961    ImmGenATAC1219.peak_38864  Ipcef1  chr10    7010757     6996576.0   \n",
      "\n",
      "         intron_end  \n",
      "75550    69775375.0  \n",
      "28965    12963999.0  \n",
      "570562  113983984.0  \n",
      "561811   50538845.0  \n",
      "26961     7023141.0  \n",
      "\n",
      "=== Random Intergenic Examples ===\n",
      "                           peak_ID    gene  chrom        pos\n",
      "382020  ImmGenATAC1219.peak_356086  Pik3cd   chr4  149710735\n",
      "534984  ImmGenATAC1219.peak_464158   Hook2   chr8   85081410\n",
      "247136  ImmGenATAC1219.peak_231766   Prob1  chr18   35662211\n",
      "82996    ImmGenATAC1219.peak_84542  Ggnbp2  chr11   84879854\n",
      "462719  ImmGenATAC1219.peak_421482    Mzf1   chr7   13034732\n"
     ]
    }
   ],
   "source": [
    "# build the intron table again if you haven’t already\n",
    "introns = []\n",
    "for _,r in rf_filt.iterrows():\n",
    "    starts, ends = r.exonStarts, r.exonEnds\n",
    "    for i in range(len(starts)-1):\n",
    "        introns.append({\n",
    "            'gene':         r.geneName,\n",
    "            'chrom':        r.chrom,\n",
    "            'intron_start': ends[i],\n",
    "            'intron_end':   starts[i+1]\n",
    "        })\n",
    "introns = pd.DataFrame(introns)\n",
    "\n",
    "# Merge back to see exactly which intron each peak hit\n",
    "m = enh[['peak_ID','gene','chrom','pos','location']].merge(\n",
    "    introns, on=['gene','chrom'], how='left'\n",
    ")\n",
    "m['overlap_intron'] = (m.pos >= m.intron_start) & (m.pos < m.intron_end)\n",
    "\n",
    "print(\"=== Random Intronic Examples ===\")\n",
    "print(\n",
    "    m.query(\"location=='intronic' & overlap_intron\")\n",
    "     .sample(5, random_state=0)\n",
    "     [['peak_ID','gene','chrom','pos','intron_start','intron_end']]\n",
    ")\n",
    "\n",
    "print(\"\\n=== Random Intergenic Examples ===\")\n",
    "print(\n",
    "    m.query(\"location=='intergenic'\")\n",
    "     .sample(5, random_state=0)\n",
    "     [['peak_ID','gene','chrom','pos']]\n",
    ")\n"
   ]
  },
  {
   "cell_type": "markdown",
   "id": "d54f98e9",
   "metadata": {},
   "source": [
    "Many intronic peaks will be very close to the TSS (first intron), acting like proximal enhancers or alternative promoters, boosting their effect sizes.\n",
    "\n",
    "Intergenic enhancers range from proximal to very distal; the bulk may lie further away and have more modest effects."
   ]
  },
  {
   "cell_type": "markdown",
   "id": "8929e0cd",
   "metadata": {},
   "source": [
    "This suggests that, in our regression model, CREs located inside gene bodies tend to exert stronger regulatory effects on their linked target genes than those lying entirely outside the transcript."
   ]
  },
  {
   "cell_type": "markdown",
   "id": "587b11eb",
   "metadata": {},
   "source": [
    "Interpretation: The median |β| is ~0.86 for intergenic but ~1.37 for intronic enhancers—so intronic elements are stronger even when ignoring outliers. The IQR shows intronic sites also have a broader middle 50% (3.89 vs. 2.75)."
   ]
  },
  {
   "cell_type": "code",
   "execution_count": 83,
   "id": "fce4bb3e",
   "metadata": {},
   "outputs": [
    {
     "name": "stderr",
     "output_type": "stream",
     "text": [
      "/var/folders/4h/4d6rt9vd0zl_794dt1wdryqr0000gn/T/ipykernel_19179/2552883201.py:21: MatplotlibDeprecationWarning: The 'labels' parameter of boxplot() has been renamed 'tick_labels' since Matplotlib 3.9; support for the old name will be dropped in 3.11.\n",
      "  bp = plt.boxplot(\n"
     ]
    },
    {
     "data": {
      "image/png": "[encoded data removed]",
      "text/plain": [
       "<Figure size 1000x800 with 2 Axes>"
      ]
     },
     "metadata": {},
     "output_type": "display_data"
    },
    {
     "data": {
      "image/png": "[encoded data removed]",
      "text/plain": [
       "<Figure size 600x400 with 1 Axes>"
      ]
     },
     "metadata": {},
     "output_type": "display_data"
    },
    {
     "data": {
      "image/png": "[encoded data removed]",
      "text/plain": [
       "<Figure size 800x600 with 1 Axes>"
      ]
     },
     "metadata": {},
     "output_type": "display_data"
    },
    {
     "data": {
      "text/plain": [
       "<Figure size 800x600 with 0 Axes>"
      ]
     },
     "metadata": {},
     "output_type": "display_data"
    }
   ],
   "source": [
    "%matplotlib inline\n",
    "# or, if you’d like interactive zooming:\n",
    "# %matplotlib widget\n",
    "import matplotlib.pyplot as plt\n",
    "import seaborn as sns\n",
    "\n",
    "\n",
    "\n",
    "import matplotlib.pyplot as plt\n",
    "\n",
    "# (Re)build your subset of activators/repressors with abs_coef:\n",
    "# enh = high_conf[high_conf.role.isin(['activator','repressor'])].copy()\n",
    "# enh['abs_coef'] = enh['coefficient'].abs()\n",
    "\n",
    "intronic   = enh.loc[enh.location=='intronic',   'abs_coef']\n",
    "intergenic = enh.loc[enh.location=='intergenic', 'abs_coef']\n",
    "\n",
    "plt.figure(figsize=(8, 6))\n",
    "\n",
    "# 1) Draw notched boxplots\n",
    "bp = plt.boxplot(\n",
    "    [intronic, intergenic],\n",
    "    labels=['Intronic', 'Intergenic'],\n",
    "    notch=True,\n",
    "    patch_artist=True,\n",
    "    widths=0.6\n",
    ")\n",
    "\n",
    "# 2) Apply a soft blue / warm orange palette\n",
    "colors = ['#4C72B0', '#DD8452']\n",
    "for patch, color in zip(bp['boxes'], colors):\n",
    "    patch.set_facecolor(color)\n",
    "    patch.set_alpha(0.8)\n",
    "\n",
    "# 3) Style whiskers & medians\n",
    "for whisker in bp['whiskers']:\n",
    "    whisker.set(color='gray', linewidth=1.5)\n",
    "for median in bp['medians']:\n",
    "    median.set(color='black', linewidth=2)\n",
    "\n",
    "# 4) Log-scale y-axis, grid, labels\n",
    "plt.yscale('log')\n",
    "plt.ylabel('Absolute regression coefficient (|β|)')\n",
    "plt.title('Effect-Size Distribution by CRE Location')\n",
    "plt.grid(True, linestyle='--', alpha=0.4)\n",
    "plt.tight_layout()\n",
    "\n",
    "plt.show()\n",
    "\n",
    "fig = plt.figure(figsize=(8, 6))\n",
    "# … build your boxplot into `fig` …\n",
    "fig.savefig(\"CRE_effect_size_by_location.png\", dpi=300, bbox_inches=\"tight\")\n",
    "\n"
   ]
  },
  {
   "cell_type": "code",
   "execution_count": 89,
   "id": "e85f45a3",
   "metadata": {},
   "outputs": [
    {
     "name": "stdout",
     "output_type": "stream",
     "text": [
      "2948 CRE–gene links classified as promoters\n"
     ]
    },
    {
     "data": {
      "text/html": [
       "<div>\n",
       "<style scoped>\n",
       "    .dataframe tbody tr th:only-of-type {\n",
       "        vertical-align: middle;\n",
       "    }\n",
       "\n",
       "    .dataframe tbody tr th {\n",
       "        vertical-align: top;\n",
       "    }\n",
       "\n",
       "    .dataframe thead th {\n",
       "        text-align: right;\n",
       "    }\n",
       "</style>\n",
       "<table border=\"1\" class=\"dataframe\">\n",
       "  <thead>\n",
       "    <tr style=\"text-align: right;\">\n",
       "      <th></th>\n",
       "      <th>Unnamed: 0</th>\n",
       "      <th>gene</th>\n",
       "      <th>peak_ID</th>\n",
       "      <th>coefficient</th>\n",
       "      <th>r2</th>\n",
       "      <th>distance_to_tss</th>\n",
       "      <th>role</th>\n",
       "      <th>chrom</th>\n",
       "      <th>pos</th>\n",
       "      <th>is_intronic</th>\n",
       "      <th>location</th>\n",
       "    </tr>\n",
       "  </thead>\n",
       "  <tbody>\n",
       "    <tr>\n",
       "      <th>2</th>\n",
       "      <td>15</td>\n",
       "      <td>Pcmtd1</td>\n",
       "      <td>ImmGenATAC1219.peak_378</td>\n",
       "      <td>3.276884</td>\n",
       "      <td>0.752231</td>\n",
       "      <td>132.0</td>\n",
       "      <td>promoter</td>\n",
       "      <td>chr1</td>\n",
       "      <td>7089051</td>\n",
       "      <td>False</td>\n",
       "      <td>intergenic</td>\n",
       "    </tr>\n",
       "    <tr>\n",
       "      <th>12</th>\n",
       "      <td>28</td>\n",
       "      <td>Sgk3</td>\n",
       "      <td>ImmGenATAC1219.peak_623</td>\n",
       "      <td>1.982050</td>\n",
       "      <td>0.820577</td>\n",
       "      <td>16.0</td>\n",
       "      <td>promoter</td>\n",
       "      <td>chr1</td>\n",
       "      <td>9848296</td>\n",
       "      <td>True</td>\n",
       "      <td>intronic</td>\n",
       "    </tr>\n",
       "    <tr>\n",
       "      <th>18</th>\n",
       "      <td>47</td>\n",
       "      <td>Arfgef1</td>\n",
       "      <td>ImmGenATAC1219.peak_720</td>\n",
       "      <td>6.120895</td>\n",
       "      <td>0.715752</td>\n",
       "      <td>7046.0</td>\n",
       "      <td>promoter</td>\n",
       "      <td>chr1</td>\n",
       "      <td>10225624</td>\n",
       "      <td>True</td>\n",
       "      <td>intronic</td>\n",
       "    </tr>\n",
       "    <tr>\n",
       "      <th>24</th>\n",
       "      <td>80</td>\n",
       "      <td>Eya1</td>\n",
       "      <td>ImmGenATAC1219.peak_1471</td>\n",
       "      <td>6.237645</td>\n",
       "      <td>0.820536</td>\n",
       "      <td>92.0</td>\n",
       "      <td>promoter</td>\n",
       "      <td>chr1</td>\n",
       "      <td>14310291</td>\n",
       "      <td>False</td>\n",
       "      <td>intergenic</td>\n",
       "    </tr>\n",
       "    <tr>\n",
       "      <th>25</th>\n",
       "      <td>88</td>\n",
       "      <td>Sbspon</td>\n",
       "      <td>ImmGenATAC1219.peak_1657</td>\n",
       "      <td>0.032844</td>\n",
       "      <td>0.864703</td>\n",
       "      <td>59.0</td>\n",
       "      <td>promoter</td>\n",
       "      <td>chr1</td>\n",
       "      <td>15805586</td>\n",
       "      <td>False</td>\n",
       "      <td>intergenic</td>\n",
       "    </tr>\n",
       "  </tbody>\n",
       "</table>\n",
       "</div>"
      ],
      "text/plain": [
       "    Unnamed: 0     gene                   peak_ID  coefficient        r2  \\\n",
       "2           15   Pcmtd1   ImmGenATAC1219.peak_378     3.276884  0.752231   \n",
       "12          28     Sgk3   ImmGenATAC1219.peak_623     1.982050  0.820577   \n",
       "18          47  Arfgef1   ImmGenATAC1219.peak_720     6.120895  0.715752   \n",
       "24          80     Eya1  ImmGenATAC1219.peak_1471     6.237645  0.820536   \n",
       "25          88   Sbspon  ImmGenATAC1219.peak_1657     0.032844  0.864703   \n",
       "\n",
       "    distance_to_tss      role chrom       pos  is_intronic    location  \n",
       "2             132.0  promoter  chr1   7089051        False  intergenic  \n",
       "12             16.0  promoter  chr1   9848296         True    intronic  \n",
       "18           7046.0  promoter  chr1  10225624         True    intronic  \n",
       "24             92.0  promoter  chr1  14310291        False  intergenic  \n",
       "25             59.0  promoter  chr1  15805586        False  intergenic  "
      ]
     },
     "execution_count": 89,
     "metadata": {},
     "output_type": "execute_result"
    }
   ],
   "source": [
    "# Step 1: filter your high-confidence DataFrame for only promoters\n",
    "promoters = high_conf[high_conf[\"role\"] == \"promoter\"].copy()\n",
    "\n",
    "# Step 2: see how many promoter links you have and peek at the first few\n",
    "print(f\"{len(promoters)} CRE–gene links classified as promoters\")\n",
    "promoters.head()\n"
   ]
  },
  {
   "cell_type": "code",
   "execution_count": 91,
   "id": "be22657f",
   "metadata": {},
   "outputs": [
    {
     "name": "stdout",
     "output_type": "stream",
     "text": [
      "2642 unique promoter peaks\n"
     ]
    }
   ],
   "source": [
    "prom_peak_ids = promoters[\"peak_ID\"].unique()\n",
    "print(f\"{len(prom_peak_ids)} unique promoter peaks\")\n"
   ]
  },
  {
   "cell_type": "code",
   "execution_count": 93,
   "id": "6c497d37",
   "metadata": {},
   "outputs": [],
   "source": [
    "# 1) Save the full promoter‐link table\n",
    "promoters.to_csv(\"promoter_links_from_model.csv\", index=False)\n",
    "\n",
    "# 2) Save just the unique peak IDs (one per line)\n",
    "pd.Series(prom_peak_ids, name=\"peak_ID\")\\\n",
    "  .to_csv(\"promoter_peak_ids.txt\", index=False, header=True)\n"
   ]
  },
  {
   "cell_type": "code",
   "execution_count": 94,
   "id": "7deed974",
   "metadata": {},
   "outputs": [
    {
     "name": "stdout",
     "output_type": "stream",
     "text": [
      "13202 peaks are within ±1000 bp upstream of a TSS\n"
     ]
    }
   ],
   "source": [
    "import pandas as pd\n",
    "import numpy as np\n",
    "\n",
    "# ─── 1) Load your RefFlat and compute strand-aware TSS ────────────────────────\n",
    "ref = pd.read_csv(\"refFlat\", sep=\"\\t\", header=None,\n",
    "                  names=[\"gene_name\",\"transcript_name\",\"chrom\",\"strand\",\n",
    "                         \"tx_start_5prime\",\"tx_start_3prime\",\n",
    "                         \"cds_start\",\"cds_end\",\n",
    "                         \"exon_count\",\"exon_starts\",\"exon_ends\"])\n",
    "ref[\"tss\"] = np.where(ref.strand == \"+\", ref.tx_start_5prime, ref.tx_start_3prime)\n",
    "\n",
    "# ─── 2) Build per-chrom DataFrame to retrieve both position & strand ────────\n",
    "tss_dict = {}\n",
    "for chrom, grp in ref[[\"chrom\",\"tss\",\"strand\"]].groupby(\"chrom\"):\n",
    "    tss_dict[chrom] = grp.sort_values(\"tss\").reset_index(drop=True)\n",
    "\n",
    "# ─── 3) Function to get nearest TSS position _and_ its strand ───────────────\n",
    "def closest_tss_and_strand(chrom, pos):\n",
    "    df = tss_dict.get(chrom)\n",
    "    if df is None or df.empty:\n",
    "        return np.nan, None\n",
    "    arr = df.tss.values\n",
    "    i = np.searchsorted(arr, pos)\n",
    "    if   i == 0: sel = 0\n",
    "    elif i == len(arr): sel = len(arr)-1\n",
    "    else:\n",
    "        left, right = arr[i-1], arr[i]\n",
    "        sel = i-1 if abs(pos-left) < abs(pos-right) else i\n",
    "    return int(arr[sel]), df.loc[sel, \"strand\"]\n",
    "\n",
    "# ─── 4) Load your ATAC peaks (the same file you made distances from) ─────────\n",
    "peaks = pd.read_csv(\"ATAC_high_var.csv\")\\\n",
    "          .rename(columns={\"ImmGenATAC1219.peakID\":\"peak_id\",\n",
    "                           \"Summit\":\"peak_center\"})\n",
    "\n",
    "# ─── 5) Annotate each peak with its nearest TSS and that TSS’s strand ───────\n",
    "peaks[[\"closest_tss\",\"tss_strand\"]] = peaks.apply(\n",
    "    lambda r: pd.Series(closest_tss_and_strand(r.chrom, r.peak_center)),\n",
    "    axis=1\n",
    ")\n",
    "\n",
    "# ─── 6) Compute signed distance: peak_center minus TSS ──────────────────────\n",
    "peaks[\"signed_dist\"] = peaks.peak_center - peaks.closest_tss\n",
    "\n",
    "# ─── 7) Filter for “upstream” peaks in a window (e.g. 1 kb) ───────────────────\n",
    "UPSTREAM = 1000\n",
    "\n",
    "is_upstream = (\n",
    "    ((peaks.tss_strand == \"+\") & (peaks.signed_dist <= 0) & (peaks.signed_dist >= -UPSTREAM))\n",
    "  | ((peaks.tss_strand == \"-\") & (peaks.signed_dist >= 0) & (peaks.signed_dist <=  UPSTREAM))\n",
    ")\n",
    "\n",
    "upstream_peaks = peaks[is_upstream].copy()\n",
    "print(f\"{len(upstream_peaks)} peaks are within ±{UPSTREAM} bp upstream of a TSS\")\n",
    "\n",
    "# ─── 8) Save for the comparison step ─────────────────────────────────────────\n",
    "upstream_peaks.to_csv(\"upstream_peaks_from_tss.csv\", index=False)\n"
   ]
  },
  {
   "cell_type": "code",
   "execution_count": 95,
   "id": "16f07bc9",
   "metadata": {},
   "outputs": [
    {
     "name": "stdout",
     "output_type": "stream",
     "text": [
      "1392 of 2642 model-promoter peaks (52.7%) are in the upstream set\n",
      "1250 peaks were _not_ found upstream of a TSS\n",
      "Example missing peaks: ['ImmGenATAC1219.peak_183541', 'ImmGenATAC1219.peak_720', 'ImmGenATAC1219.peak_457420', 'ImmGenATAC1219.peak_100728', 'ImmGenATAC1219.peak_232134', 'ImmGenATAC1219.peak_215369', 'ImmGenATAC1219.peak_290019', 'ImmGenATAC1219.peak_31259', 'ImmGenATAC1219.peak_460236', 'ImmGenATAC1219.peak_7218']\n"
     ]
    }
   ],
   "source": [
    "import pandas as pd\n",
    "\n",
    "# 1) Load your unique promoter peak IDs\n",
    "prom_ids = pd.read_csv(\"promoter_peak_ids.txt\")[\"peak_ID\"].astype(str)\n",
    "\n",
    "# 2) Load the upstream peaks you just saved\n",
    "upstream = pd.read_csv(\"upstream_peaks_from_tss.csv\")[\"peak_id\"].astype(str)\n",
    "\n",
    "# 3) Turn into sets for fast membership tests\n",
    "prom_set     = set(prom_ids)\n",
    "upstream_set = set(upstream)\n",
    "\n",
    "# 4) Compute intersection and missing\n",
    "found    = prom_set & upstream_set\n",
    "missing  = prom_set - upstream_set\n",
    "\n",
    "print(f\"{len(found)} of {len(prom_set)} model-promoter peaks ({len(found)/len(prom_set):.1%}) are in the upstream set\")\n",
    "print(f\"{len(missing)} peaks were _not_ found upstream of a TSS\")\n",
    "\n",
    "# 5) (Optional) inspect which ones are missing\n",
    "if missing:\n",
    "    print(\"Example missing peaks:\", list(missing)[:10])\n",
    "    # Save the full list if you like:\n",
    "    pd.Series(sorted(missing), name=\"peak_ID\")\\\n",
    "      .to_csv(\"promoter_peaks_not_upstream.txt\", index=False)\n"
   ]
  }
 ],
 "metadata": {
  "kernelspec": {
   "display_name": "REAL_FORKED_Bioinfo_project",
   "language": "python",
   "name": "python3"
  },
  "language_info": {
   "codemirror_mode": {
    "name": "ipython",
    "version": 3
   },
   "file_extension": ".py",
   "mimetype": "text/x-python",
   "name": "python",
   "nbconvert_exporter": "python",
   "pygments_lexer": "ipython3",
   "version": "3.10.17"
  }
 },
 "nbformat": 4,
 "nbformat_minor": 5
}
