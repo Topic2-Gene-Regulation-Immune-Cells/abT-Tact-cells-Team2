{
 "cells": [
  {
   "cell_type": "code",
   "execution_count": null,
   "id": "48faaad1",
   "metadata": {},
   "outputs": [
    {
     "ename": "",
     "evalue": "",
     "output_type": "error",
     "traceback": [
      "\u001b[1;31mFailed to start the Kernel. \n",
      "\u001b[1;31mUnable to start Kernel 'REAL_FORKED_Bioinfo_project (Python 3.10.17)' due to a timeout waiting for the ports to get used. \n",
      "\u001b[1;31mView Jupyter <a href='command:jupyter.viewOutput'>log</a> for further details."
     ]
    }
   ],
   "source": [
    "import numpy as np\n",
    "import pandas as pd\n",
    "import matplotlib.pyplot as plt\n",
    "import seaborn as sns"
   ]
  },
  {
   "cell_type": "code",
   "execution_count": 2,
   "id": "26d912c9",
   "metadata": {},
   "outputs": [],
   "source": [
    "peaks_data = pd.read_csv(\"peaks_tss_distance.csv\")"
   ]
  },
  {
   "cell_type": "code",
   "execution_count": 3,
   "id": "dccf5d8f",
   "metadata": {},
   "outputs": [
    {
     "data": {
      "text/html": [
       "<div>\n",
       "<style scoped>\n",
       "    .dataframe tbody tr th:only-of-type {\n",
       "        vertical-align: middle;\n",
       "    }\n",
       "\n",
       "    .dataframe tbody tr th {\n",
       "        vertical-align: top;\n",
       "    }\n",
       "\n",
       "    .dataframe thead th {\n",
       "        text-align: right;\n",
       "    }\n",
       "</style>\n",
       "<table border=\"1\" class=\"dataframe\">\n",
       "  <thead>\n",
       "    <tr style=\"text-align: right;\">\n",
       "      <th></th>\n",
       "      <th>ImmGenATAC1219.peakID</th>\n",
       "      <th>chrom</th>\n",
       "      <th>peak_center</th>\n",
       "      <th>closest_tss</th>\n",
       "      <th>distance_to_tss</th>\n",
       "    </tr>\n",
       "  </thead>\n",
       "  <tbody>\n",
       "    <tr>\n",
       "      <th>0</th>\n",
       "      <td>ImmGenATAC1219.peak_1</td>\n",
       "      <td>chr1</td>\n",
       "      <td>3020786</td>\n",
       "      <td>3671498.0</td>\n",
       "      <td>650712.0</td>\n",
       "    </tr>\n",
       "    <tr>\n",
       "      <th>1</th>\n",
       "      <td>ImmGenATAC1219.peak_2</td>\n",
       "      <td>chr1</td>\n",
       "      <td>3087226</td>\n",
       "      <td>3671498.0</td>\n",
       "      <td>584272.0</td>\n",
       "    </tr>\n",
       "    <tr>\n",
       "      <th>2</th>\n",
       "      <td>ImmGenATAC1219.peak_3</td>\n",
       "      <td>chr1</td>\n",
       "      <td>3120109</td>\n",
       "      <td>3671498.0</td>\n",
       "      <td>551389.0</td>\n",
       "    </tr>\n",
       "    <tr>\n",
       "      <th>3</th>\n",
       "      <td>ImmGenATAC1219.peak_4</td>\n",
       "      <td>chr1</td>\n",
       "      <td>3121485</td>\n",
       "      <td>3671498.0</td>\n",
       "      <td>550013.0</td>\n",
       "    </tr>\n",
       "    <tr>\n",
       "      <th>4</th>\n",
       "      <td>ImmGenATAC1219.peak_5</td>\n",
       "      <td>chr1</td>\n",
       "      <td>3372787</td>\n",
       "      <td>3671498.0</td>\n",
       "      <td>298711.0</td>\n",
       "    </tr>\n",
       "  </tbody>\n",
       "</table>\n",
       "</div>"
      ],
      "text/plain": [
       "   ImmGenATAC1219.peakID chrom  peak_center  closest_tss  distance_to_tss\n",
       "0  ImmGenATAC1219.peak_1  chr1      3020786    3671498.0         650712.0\n",
       "1  ImmGenATAC1219.peak_2  chr1      3087226    3671498.0         584272.0\n",
       "2  ImmGenATAC1219.peak_3  chr1      3120109    3671498.0         551389.0\n",
       "3  ImmGenATAC1219.peak_4  chr1      3121485    3671498.0         550013.0\n",
       "4  ImmGenATAC1219.peak_5  chr1      3372787    3671498.0         298711.0"
      ]
     },
     "execution_count": 3,
     "metadata": {},
     "output_type": "execute_result"
    }
   ],
   "source": [
    "peaks_data.head()"
   ]
  },
  {
   "cell_type": "code",
   "execution_count": 4,
   "id": "89315f88",
   "metadata": {},
   "outputs": [],
   "source": [
    "peaks_data[\"RegionType\"] = peaks_data[\"distance_to_tss\"].apply(\n",
    "    lambda x: \"Promoter\" if x <= 1000 else \"Enhancer\"\n",
    ")"
   ]
  },
  {
   "cell_type": "code",
   "execution_count": 5,
   "id": "fef444fa",
   "metadata": {},
   "outputs": [
    {
     "data": {
      "text/html": [
       "<div>\n",
       "<style scoped>\n",
       "    .dataframe tbody tr th:only-of-type {\n",
       "        vertical-align: middle;\n",
       "    }\n",
       "\n",
       "    .dataframe tbody tr th {\n",
       "        vertical-align: top;\n",
       "    }\n",
       "\n",
       "    .dataframe thead th {\n",
       "        text-align: right;\n",
       "    }\n",
       "</style>\n",
       "<table border=\"1\" class=\"dataframe\">\n",
       "  <thead>\n",
       "    <tr style=\"text-align: right;\">\n",
       "      <th></th>\n",
       "      <th>ImmGenATAC1219.peakID</th>\n",
       "      <th>chrom</th>\n",
       "      <th>peak_center</th>\n",
       "      <th>closest_tss</th>\n",
       "      <th>distance_to_tss</th>\n",
       "      <th>RegionType</th>\n",
       "    </tr>\n",
       "  </thead>\n",
       "  <tbody>\n",
       "    <tr>\n",
       "      <th>0</th>\n",
       "      <td>ImmGenATAC1219.peak_1</td>\n",
       "      <td>chr1</td>\n",
       "      <td>3020786</td>\n",
       "      <td>3671498.0</td>\n",
       "      <td>650712.0</td>\n",
       "      <td>Enhancer</td>\n",
       "    </tr>\n",
       "    <tr>\n",
       "      <th>1</th>\n",
       "      <td>ImmGenATAC1219.peak_2</td>\n",
       "      <td>chr1</td>\n",
       "      <td>3087226</td>\n",
       "      <td>3671498.0</td>\n",
       "      <td>584272.0</td>\n",
       "      <td>Enhancer</td>\n",
       "    </tr>\n",
       "    <tr>\n",
       "      <th>2</th>\n",
       "      <td>ImmGenATAC1219.peak_3</td>\n",
       "      <td>chr1</td>\n",
       "      <td>3120109</td>\n",
       "      <td>3671498.0</td>\n",
       "      <td>551389.0</td>\n",
       "      <td>Enhancer</td>\n",
       "    </tr>\n",
       "    <tr>\n",
       "      <th>3</th>\n",
       "      <td>ImmGenATAC1219.peak_4</td>\n",
       "      <td>chr1</td>\n",
       "      <td>3121485</td>\n",
       "      <td>3671498.0</td>\n",
       "      <td>550013.0</td>\n",
       "      <td>Enhancer</td>\n",
       "    </tr>\n",
       "    <tr>\n",
       "      <th>4</th>\n",
       "      <td>ImmGenATAC1219.peak_5</td>\n",
       "      <td>chr1</td>\n",
       "      <td>3372787</td>\n",
       "      <td>3671498.0</td>\n",
       "      <td>298711.0</td>\n",
       "      <td>Enhancer</td>\n",
       "    </tr>\n",
       "  </tbody>\n",
       "</table>\n",
       "</div>"
      ],
      "text/plain": [
       "   ImmGenATAC1219.peakID chrom  peak_center  closest_tss  distance_to_tss  \\\n",
       "0  ImmGenATAC1219.peak_1  chr1      3020786    3671498.0         650712.0   \n",
       "1  ImmGenATAC1219.peak_2  chr1      3087226    3671498.0         584272.0   \n",
       "2  ImmGenATAC1219.peak_3  chr1      3120109    3671498.0         551389.0   \n",
       "3  ImmGenATAC1219.peak_4  chr1      3121485    3671498.0         550013.0   \n",
       "4  ImmGenATAC1219.peak_5  chr1      3372787    3671498.0         298711.0   \n",
       "\n",
       "  RegionType  \n",
       "0   Enhancer  \n",
       "1   Enhancer  \n",
       "2   Enhancer  \n",
       "3   Enhancer  \n",
       "4   Enhancer  "
      ]
     },
     "execution_count": 5,
     "metadata": {},
     "output_type": "execute_result"
    }
   ],
   "source": [
    "peaks_data.head()"
   ]
  },
  {
   "cell_type": "code",
   "execution_count": 8,
   "id": "0f616c06",
   "metadata": {},
   "outputs": [
    {
     "name": "stdout",
     "output_type": "stream",
     "text": [
      "0.0\n",
      "2012626.0\n"
     ]
    }
   ],
   "source": [
    "print(peaks_data[\"distance_to_tss\"].min())\n",
    "print(peaks_data[\"distance_to_tss\"].max())"
   ]
  },
  {
   "cell_type": "code",
   "execution_count": null,
   "id": "bd8e6119",
   "metadata": {},
   "outputs": [],
   "source": [
    "sns.violinplot"
   ]
  }
 ],
 "metadata": {
  "kernelspec": {
   "display_name": "REAL_FORKED_Bioinfo_project",
   "language": "python",
   "name": "python3"
  },
  "language_info": {
   "codemirror_mode": {
    "name": "ipython",
    "version": 3
   },
   "file_extension": ".py",
   "mimetype": "text/x-python",
   "name": "python",
   "nbconvert_exporter": "python",
   "pygments_lexer": "ipython3",
   "version": "3.10.17"
  }
 },
 "nbformat": 4,
 "nbformat_minor": 5
}
