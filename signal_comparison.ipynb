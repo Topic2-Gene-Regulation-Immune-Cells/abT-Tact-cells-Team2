{
 "cells": [
  {
   "cell_type": "code",
   "execution_count": 1,
   "id": "48faaad1",
   "metadata": {},
   "outputs": [],
   "source": [
    "import numpy as np\n",
    "import pandas as pd\n",
    "import matplotlib.pyplot as plt\n",
    "import seaborn as sns"
   ]
  },
  {
   "cell_type": "code",
   "execution_count": 2,
   "id": "26d912c9",
   "metadata": {},
   "outputs": [],
   "source": [
    "peaks_data = pd.read_csv(\"peaks_tss_distance.csv\")"
   ]
  },
  {
   "cell_type": "code",
   "execution_count": 8,
   "id": "efd94e76",
   "metadata": {},
   "outputs": [],
   "source": [
    "peaks_stats = pd.read_csv(\"peak_stats.csv\")"
   ]
  },
  {
   "cell_type": "code",
   "execution_count": 3,
   "id": "dccf5d8f",
   "metadata": {},
   "outputs": [
    {
     "data": {
      "text/html": [
       "<div>\n",
       "<style scoped>\n",
       "    .dataframe tbody tr th:only-of-type {\n",
       "        vertical-align: middle;\n",
       "    }\n",
       "\n",
       "    .dataframe tbody tr th {\n",
       "        vertical-align: top;\n",
       "    }\n",
       "\n",
       "    .dataframe thead th {\n",
       "        text-align: right;\n",
       "    }\n",
       "</style>\n",
       "<table border=\"1\" class=\"dataframe\">\n",
       "  <thead>\n",
       "    <tr style=\"text-align: right;\">\n",
       "      <th></th>\n",
       "      <th>ImmGenATAC1219.peakID</th>\n",
       "      <th>chrom</th>\n",
       "      <th>peak_center</th>\n",
       "      <th>closest_tss</th>\n",
       "      <th>distance_to_tss</th>\n",
       "    </tr>\n",
       "  </thead>\n",
       "  <tbody>\n",
       "    <tr>\n",
       "      <th>0</th>\n",
       "      <td>ImmGenATAC1219.peak_1</td>\n",
       "      <td>chr1</td>\n",
       "      <td>3020786</td>\n",
       "      <td>3671498.0</td>\n",
       "      <td>650712.0</td>\n",
       "    </tr>\n",
       "    <tr>\n",
       "      <th>1</th>\n",
       "      <td>ImmGenATAC1219.peak_2</td>\n",
       "      <td>chr1</td>\n",
       "      <td>3087226</td>\n",
       "      <td>3671498.0</td>\n",
       "      <td>584272.0</td>\n",
       "    </tr>\n",
       "    <tr>\n",
       "      <th>2</th>\n",
       "      <td>ImmGenATAC1219.peak_3</td>\n",
       "      <td>chr1</td>\n",
       "      <td>3120109</td>\n",
       "      <td>3671498.0</td>\n",
       "      <td>551389.0</td>\n",
       "    </tr>\n",
       "    <tr>\n",
       "      <th>3</th>\n",
       "      <td>ImmGenATAC1219.peak_4</td>\n",
       "      <td>chr1</td>\n",
       "      <td>3121485</td>\n",
       "      <td>3671498.0</td>\n",
       "      <td>550013.0</td>\n",
       "    </tr>\n",
       "    <tr>\n",
       "      <th>4</th>\n",
       "      <td>ImmGenATAC1219.peak_5</td>\n",
       "      <td>chr1</td>\n",
       "      <td>3372787</td>\n",
       "      <td>3671498.0</td>\n",
       "      <td>298711.0</td>\n",
       "    </tr>\n",
       "  </tbody>\n",
       "</table>\n",
       "</div>"
      ],
      "text/plain": [
       "   ImmGenATAC1219.peakID chrom  peak_center  closest_tss  distance_to_tss\n",
       "0  ImmGenATAC1219.peak_1  chr1      3020786    3671498.0         650712.0\n",
       "1  ImmGenATAC1219.peak_2  chr1      3087226    3671498.0         584272.0\n",
       "2  ImmGenATAC1219.peak_3  chr1      3120109    3671498.0         551389.0\n",
       "3  ImmGenATAC1219.peak_4  chr1      3121485    3671498.0         550013.0\n",
       "4  ImmGenATAC1219.peak_5  chr1      3372787    3671498.0         298711.0"
      ]
     },
     "execution_count": 3,
     "metadata": {},
     "output_type": "execute_result"
    }
   ],
   "source": [
    "peaks_data.head()"
   ]
  },
  {
   "cell_type": "code",
   "execution_count": 4,
   "id": "89315f88",
   "metadata": {},
   "outputs": [],
   "source": [
    "peaks_data[\"RegionType\"] = peaks_data[\"distance_to_tss\"].apply(\n",
    "    lambda x: \"Promoter\" if x <= 1000 else \"Enhancer\"\n",
    ")"
   ]
  },
  {
   "cell_type": "code",
   "execution_count": 5,
   "id": "fef444fa",
   "metadata": {},
   "outputs": [
    {
     "data": {
      "text/html": [
       "<div>\n",
       "<style scoped>\n",
       "    .dataframe tbody tr th:only-of-type {\n",
       "        vertical-align: middle;\n",
       "    }\n",
       "\n",
       "    .dataframe tbody tr th {\n",
       "        vertical-align: top;\n",
       "    }\n",
       "\n",
       "    .dataframe thead th {\n",
       "        text-align: right;\n",
       "    }\n",
       "</style>\n",
       "<table border=\"1\" class=\"dataframe\">\n",
       "  <thead>\n",
       "    <tr style=\"text-align: right;\">\n",
       "      <th></th>\n",
       "      <th>ImmGenATAC1219.peakID</th>\n",
       "      <th>chrom</th>\n",
       "      <th>peak_center</th>\n",
       "      <th>closest_tss</th>\n",
       "      <th>distance_to_tss</th>\n",
       "      <th>RegionType</th>\n",
       "    </tr>\n",
       "  </thead>\n",
       "  <tbody>\n",
       "    <tr>\n",
       "      <th>0</th>\n",
       "      <td>ImmGenATAC1219.peak_1</td>\n",
       "      <td>chr1</td>\n",
       "      <td>3020786</td>\n",
       "      <td>3671498.0</td>\n",
       "      <td>650712.0</td>\n",
       "      <td>Enhancer</td>\n",
       "    </tr>\n",
       "    <tr>\n",
       "      <th>1</th>\n",
       "      <td>ImmGenATAC1219.peak_2</td>\n",
       "      <td>chr1</td>\n",
       "      <td>3087226</td>\n",
       "      <td>3671498.0</td>\n",
       "      <td>584272.0</td>\n",
       "      <td>Enhancer</td>\n",
       "    </tr>\n",
       "    <tr>\n",
       "      <th>2</th>\n",
       "      <td>ImmGenATAC1219.peak_3</td>\n",
       "      <td>chr1</td>\n",
       "      <td>3120109</td>\n",
       "      <td>3671498.0</td>\n",
       "      <td>551389.0</td>\n",
       "      <td>Enhancer</td>\n",
       "    </tr>\n",
       "    <tr>\n",
       "      <th>3</th>\n",
       "      <td>ImmGenATAC1219.peak_4</td>\n",
       "      <td>chr1</td>\n",
       "      <td>3121485</td>\n",
       "      <td>3671498.0</td>\n",
       "      <td>550013.0</td>\n",
       "      <td>Enhancer</td>\n",
       "    </tr>\n",
       "    <tr>\n",
       "      <th>4</th>\n",
       "      <td>ImmGenATAC1219.peak_5</td>\n",
       "      <td>chr1</td>\n",
       "      <td>3372787</td>\n",
       "      <td>3671498.0</td>\n",
       "      <td>298711.0</td>\n",
       "      <td>Enhancer</td>\n",
       "    </tr>\n",
       "  </tbody>\n",
       "</table>\n",
       "</div>"
      ],
      "text/plain": [
       "   ImmGenATAC1219.peakID chrom  peak_center  closest_tss  distance_to_tss  \\\n",
       "0  ImmGenATAC1219.peak_1  chr1      3020786    3671498.0         650712.0   \n",
       "1  ImmGenATAC1219.peak_2  chr1      3087226    3671498.0         584272.0   \n",
       "2  ImmGenATAC1219.peak_3  chr1      3120109    3671498.0         551389.0   \n",
       "3  ImmGenATAC1219.peak_4  chr1      3121485    3671498.0         550013.0   \n",
       "4  ImmGenATAC1219.peak_5  chr1      3372787    3671498.0         298711.0   \n",
       "\n",
       "  RegionType  \n",
       "0   Enhancer  \n",
       "1   Enhancer  \n",
       "2   Enhancer  \n",
       "3   Enhancer  \n",
       "4   Enhancer  "
      ]
     },
     "execution_count": 5,
     "metadata": {},
     "output_type": "execute_result"
    }
   ],
   "source": [
    "peaks_data.head()"
   ]
  },
  {
   "cell_type": "code",
   "execution_count": 11,
   "id": "0b0a0a7e",
   "metadata": {},
   "outputs": [
    {
     "data": {
      "text/html": [
       "<div>\n",
       "<style scoped>\n",
       "    .dataframe tbody tr th:only-of-type {\n",
       "        vertical-align: middle;\n",
       "    }\n",
       "\n",
       "    .dataframe tbody tr th {\n",
       "        vertical-align: top;\n",
       "    }\n",
       "\n",
       "    .dataframe thead th {\n",
       "        text-align: right;\n",
       "    }\n",
       "</style>\n",
       "<table border=\"1\" class=\"dataframe\">\n",
       "  <thead>\n",
       "    <tr style=\"text-align: right;\">\n",
       "      <th></th>\n",
       "      <th>ImmGenATAC1219.peakID</th>\n",
       "      <th>Mean</th>\n",
       "      <th>Median</th>\n",
       "      <th>SD</th>\n",
       "      <th>CV</th>\n",
       "    </tr>\n",
       "  </thead>\n",
       "  <tbody>\n",
       "    <tr>\n",
       "      <th>0</th>\n",
       "      <td>ImmGenATAC1219.peak_1</td>\n",
       "      <td>0.807586</td>\n",
       "      <td>0.71</td>\n",
       "      <td>0.720603</td>\n",
       "      <td>0.892293</td>\n",
       "    </tr>\n",
       "    <tr>\n",
       "      <th>1</th>\n",
       "      <td>ImmGenATAC1219.peak_2</td>\n",
       "      <td>1.135517</td>\n",
       "      <td>0.90</td>\n",
       "      <td>0.920999</td>\n",
       "      <td>0.811084</td>\n",
       "    </tr>\n",
       "    <tr>\n",
       "      <th>2</th>\n",
       "      <td>ImmGenATAC1219.peak_3</td>\n",
       "      <td>0.688621</td>\n",
       "      <td>0.40</td>\n",
       "      <td>0.745341</td>\n",
       "      <td>1.082369</td>\n",
       "    </tr>\n",
       "    <tr>\n",
       "      <th>3</th>\n",
       "      <td>ImmGenATAC1219.peak_4</td>\n",
       "      <td>0.788621</td>\n",
       "      <td>0.53</td>\n",
       "      <td>0.882103</td>\n",
       "      <td>1.118539</td>\n",
       "    </tr>\n",
       "    <tr>\n",
       "      <th>4</th>\n",
       "      <td>ImmGenATAC1219.peak_5</td>\n",
       "      <td>0.697586</td>\n",
       "      <td>0.51</td>\n",
       "      <td>0.571493</td>\n",
       "      <td>0.819244</td>\n",
       "    </tr>\n",
       "  </tbody>\n",
       "</table>\n",
       "</div>"
      ],
      "text/plain": [
       "   ImmGenATAC1219.peakID      Mean  Median        SD        CV\n",
       "0  ImmGenATAC1219.peak_1  0.807586    0.71  0.720603  0.892293\n",
       "1  ImmGenATAC1219.peak_2  1.135517    0.90  0.920999  0.811084\n",
       "2  ImmGenATAC1219.peak_3  0.688621    0.40  0.745341  1.082369\n",
       "3  ImmGenATAC1219.peak_4  0.788621    0.53  0.882103  1.118539\n",
       "4  ImmGenATAC1219.peak_5  0.697586    0.51  0.571493  0.819244"
      ]
     },
     "execution_count": 11,
     "metadata": {},
     "output_type": "execute_result"
    }
   ],
   "source": [
    "peaks_stats.head()"
   ]
  },
  {
   "cell_type": "code",
   "execution_count": 6,
   "id": "0f616c06",
   "metadata": {},
   "outputs": [
    {
     "name": "stdout",
     "output_type": "stream",
     "text": [
      "0.0\n",
      "2012626.0\n"
     ]
    }
   ],
   "source": [
    "print(peaks_data[\"distance_to_tss\"].min())\n",
    "print(peaks_data[\"distance_to_tss\"].max())"
   ]
  },
  {
   "cell_type": "code",
   "execution_count": 14,
   "id": "f2a53352",
   "metadata": {},
   "outputs": [],
   "source": [
    "merged = pd.merge(peaks_data, peaks_stats, on=\"ImmGenATAC1219.peakID\")"
   ]
  },
  {
   "cell_type": "code",
   "execution_count": null,
   "id": "a4cd0f49",
   "metadata": {},
   "outputs": [
    {
     "data": {
      "image/png": "[encoded data removed]",
      "text/plain": [
       "<Figure size 640x480 with 1 Axes>"
      ]
     },
     "metadata": {},
     "output_type": "display_data"
    }
   ],
   "source": [
    "sns.violinplot(data=merged, x=\"RegionType\", y=\"Mean\")\n",
    "plt.title(\"Mean ATAC-seq: Promoters vs. Enhancers\")\n",
    "plt.tight_layout\n",
    "plt.show()\n"
   ]
  },
  {
   "cell_type": "code",
   "execution_count": 16,
   "id": "9879b8f7",
   "metadata": {},
   "outputs": [
    {
     "data": {
      "image/png": "[encoded data removed]",
      "text/plain": [
       "<Figure size 640x480 with 1 Axes>"
      ]
     },
     "metadata": {},
     "output_type": "display_data"
    }
   ],
   "source": [
    "sns.violinplot(data=merged, x=\"RegionType\", y=\"Mean\")\n",
    "plt.yscale(\"log\")\n",
    "plt.title(\"Mean ATAC-seq log scale: Promoters vs. Enhancers\")\n",
    "plt.tight_layout\n",
    "plt.show()"
   ]
  },
  {
   "cell_type": "code",
   "execution_count": 18,
   "id": "70c9e4aa",
   "metadata": {},
   "outputs": [
    {
     "name": "stdout",
     "output_type": "stream",
     "text": [
      "T-test p = 0\n",
      "Mann–Whitney p = 0\n"
     ]
    }
   ],
   "source": [
    "from scipy.stats import ttest_ind, mannwhitneyu\n",
    "\n",
    "prom = merged[merged[\"RegionType\"] == \"Promoter\"][\"Mean\"]\n",
    "enh = merged[merged[\"RegionType\"] == \"Enhancer\"][\"Mean\"]\n",
    "\n",
    "# t-test\n",
    "t_stat, p_ttest = ttest_ind(prom, enh, equal_var=False)\n",
    "\n",
    "# Mann–Whitney (non-parametric)\n",
    "u_stat, p_mw = mannwhitneyu(prom, enh)\n",
    "\n",
    "print(f\"T-test p = {p_ttest:.4g}\")\n",
    "print(f\"Mann–Whitney p = {p_mw:.4g}\")\n"
   ]
  },
  {
   "cell_type": "markdown",
   "id": "0789d5d2",
   "metadata": {},
   "source": [
    "<div align=\"justify\">\n",
    "The tests did take fairly long to load. That is why the following code looks only at a random portion of the CREs. Anyhow, the tests show extremely small values that are rounded to 0. Therefore, the H<sub>0</sub> hypothesis (i.e. the two types of regions having the same distribution of signal) can be rejected. \n",
    "</div>"
   ]
  },
  {
   "cell_type": "code",
   "execution_count": 19,
   "id": "423d9993",
   "metadata": {},
   "outputs": [
    {
     "name": "stdout",
     "output_type": "stream",
     "text": [
      "Mann–Whitney p = 0\n"
     ]
    }
   ],
   "source": [
    "prom_sample = prom.sample(n=10000, random_state=1)\n",
    "enh_sample = enh.sample(n=10000, random_state=1)\n",
    "\n",
    "_, p = mannwhitneyu(prom_sample, enh_sample)\n",
    "print(f\"Mann–Whitney p = {p:.4g}\")\n"
   ]
  },
  {
   "cell_type": "code",
   "execution_count": null,
   "id": "5cfdcbe7",
   "metadata": {},
   "outputs": [],
   "source": []
  }
 ],
 "metadata": {
  "kernelspec": {
   "display_name": "REAL_FORKED_Bioinfo_project",
   "language": "python",
   "name": "python3"
  },
  "language_info": {
   "codemirror_mode": {
    "name": "ipython",
    "version": 3
   },
   "file_extension": ".py",
   "mimetype": "text/x-python",
   "name": "python",
   "nbconvert_exporter": "python",
   "pygments_lexer": "ipython3",
   "version": "3.10.17"
  }
 },
 "nbformat": 4,
 "nbformat_minor": 5
}
