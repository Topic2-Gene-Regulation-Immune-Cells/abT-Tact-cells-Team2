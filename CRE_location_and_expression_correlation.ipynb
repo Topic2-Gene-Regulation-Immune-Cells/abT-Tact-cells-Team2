{
 "cells": [
  {
   "cell_type": "markdown",
   "id": "6df4e992",
   "metadata": {},
   "source": [
    "# 1. Link ATAC-seq peaks to expression \n",
    "\n",
    "We want to do this via correlation or distance.\n",
    "\n",
    "Before starting, I want to make sure that ATAC-seq and the RNA-seq datasets align."
   ]
  },
  {
   "cell_type": "code",
   "execution_count": 19,
   "id": "4661f8eb",
   "metadata": {},
   "outputs": [],
   "source": [
    "import pandas as pd\n",
    "\n",
    "# Loading the data\n",
    "atac_peak_matrix = pd.read_csv(\"ATAC-seq/filtered_ATAC_abT_Tact_Stem.csv\")\n",
    "atac_signal_matrix = atac_peak_matrix.iloc[:, 8:]  # dropping metadata columns\n",
    "atac_transposed_df = atac_signal_matrix.T\n",
    "\n",
    "rna_df = pd.read_csv(\"raw datasets/mmc2.csv\", index_col=0)\n",
    "rna_df.T\n",
    "rna_transposed_df = rna_df.T\n",
    "\n",
    "from sklearn.preprocessing import StandardScaler\n",
    "rna_scaled_array = StandardScaler().fit_transform(rna_transposed_df)\n",
    "rna_scaled_df = pd.DataFrame(rna_scaled_array, index=rna_transposed_df.index, columns=rna_transposed_df.columns)\n",
    "\n",
    "# Ensuring sample alignment\n",
    "common_samples = atac_transposed_df.index.intersection(rna_scaled_df.index)\n",
    "atac = atac_transposed_df.loc[common_samples]\n",
    "rna = rna_scaled_df.loc[common_samples]"
   ]
  },
  {
   "cell_type": "code",
   "execution_count": 20,
   "id": "e886d5bf",
   "metadata": {},
   "outputs": [
    {
     "name": "stdout",
     "output_type": "stream",
     "text": [
      "ATAC shape: (28, 512595)\n",
      "RNA shape: (28, 17535)\n",
      "ATAC: preT.DN1.Th  |  RNA: preT.DN1.Th\n",
      "ATAC: preT.DN2a.Th  |  RNA: preT.DN2a.Th\n",
      "ATAC: preT.DN2b.Th  |  RNA: preT.DN2b.Th\n",
      "ATAC: preT.DN3.Th  |  RNA: preT.DN3.Th\n",
      "ATAC: T.DN4.Th  |  RNA: T.DN4.Th\n",
      "ATAC: T.ISP.Th  |  RNA: T.ISP.Th\n",
      "ATAC: T.DP.Th  |  RNA: T.DP.Th\n",
      "ATAC: T.4.Th  |  RNA: T.4.Th\n",
      "ATAC: T.8.Th  |  RNA: T.8.Th\n",
      "ATAC: T.4.Nve.Sp  |  RNA: T.4.Nve.Sp\n",
      "ATAC: T.4.Nve.Fem.Sp  |  RNA: T.4.Nve.Fem.Sp\n",
      "ATAC: T.4.Sp.aCD3+CD40.18hr  |  RNA: T.4.Sp.aCD3+CD40.18hr\n",
      "ATAC: T.8.Nve.Sp  |  RNA: T.8.Nve.Sp\n",
      "ATAC: Treg.4.25hi.Sp  |  RNA: Treg.4.25hi.Sp\n",
      "ATAC: Treg.4.FP3+.Nrplo.Co  |  RNA: Treg.4.FP3+.Nrplo.Co\n",
      "ATAC: T8.TN.P14.Sp  |  RNA: T8.TN.P14.Sp\n",
      "ATAC: T8.TE.LCMV.d7.Sp  |  RNA: T8.TE.LCMV.d7.Sp\n",
      "ATAC: T8.MP.LCMV.d7.Sp  |  RNA: T8.MP.LCMV.d7.Sp\n",
      "ATAC: T8.Tcm.LCMV.d180.Sp  |  RNA: T8.Tcm.LCMV.d180.Sp\n",
      "ATAC: T8.Tem.LCMV.d180.Sp  |  RNA: T8.Tem.LCMV.d180.Sp\n",
      "ATAC: NKT.Sp  |  RNA: NKT.Sp\n",
      "ATAC: NKT.Sp.LPS.3hr  |  RNA: NKT.Sp.LPS.3hr\n",
      "ATAC: NKT.Sp.LPS.18hr  |  RNA: NKT.Sp.LPS.18hr\n",
      "ATAC: NKT.Sp.LPS.3d  |  RNA: NKT.Sp.LPS.3d\n",
      "ATAC: LTHSC.34-.BM  |  RNA: LTHSC.34-.BM\n",
      "ATAC: LTHSC.34+.BM  |  RNA: LTHSC.34+.BM\n",
      "ATAC: STHSC.150-.BM  |  RNA: STHSC.150-.BM\n",
      "ATAC: MPP4.135+.BM  |  RNA: MPP4.135+.BM\n",
      "Common samples used for correlation:\n",
      "['preT.DN1.Th', 'preT.DN2a.Th', 'preT.DN2b.Th', 'preT.DN3.Th', 'T.DN4.Th', 'T.ISP.Th', 'T.DP.Th', 'T.4.Th', 'T.8.Th', 'T.4.Nve.Sp', 'T.4.Nve.Fem.Sp', 'T.4.Sp.aCD3+CD40.18hr', 'T.8.Nve.Sp', 'Treg.4.25hi.Sp', 'Treg.4.FP3+.Nrplo.Co', 'T8.TN.P14.Sp', 'T8.TE.LCMV.d7.Sp', 'T8.MP.LCMV.d7.Sp', 'T8.Tcm.LCMV.d180.Sp', 'T8.Tem.LCMV.d180.Sp', 'NKT.Sp', 'NKT.Sp.LPS.3hr', 'NKT.Sp.LPS.18hr', 'NKT.Sp.LPS.3d', 'LTHSC.34-.BM', 'LTHSC.34+.BM', 'STHSC.150-.BM', 'MPP4.135+.BM']\n"
     ]
    }
   ],
   "source": [
    "# Making sure datasets are aligned\n",
    "## Comparing shapes\n",
    "print(\"ATAC shape:\", atac.shape)\n",
    "print(\"RNA shape:\", rna.shape)\n",
    "\n",
    "## Comparing indices\n",
    "for sample_a, sample_r in zip(atac.index, rna.index):\n",
    "    print(f\"ATAC: {sample_a}  |  RNA: {sample_r}\")\n",
    "\n",
    "## Inspecting common samples \n",
    "print(\"Common samples used for correlation:\")\n",
    "print(list(common_samples))\n"
   ]
  },
  {
   "cell_type": "markdown",
   "id": "e975eb99",
   "metadata": {},
   "source": [
    "Now that we have established that the datasets do align, we can start with the correlation of the ATAC peaks with nearby genes across the 28 aligned samples using Spearman correlation."
   ]
  },
  {
   "cell_type": "code",
   "execution_count": 21,
   "id": "546a586d",
   "metadata": {},
   "outputs": [
    {
     "ename": "KeyboardInterrupt",
     "evalue": "",
     "output_type": "error",
     "traceback": [
      "\u001b[1;31m---------------------------------------------------------------------------\u001b[0m",
      "\u001b[1;31mKeyboardInterrupt\u001b[0m                         Traceback (most recent call last)",
      "Cell \u001b[1;32mIn[21], line 23\u001b[0m\n\u001b[0;32m     18\u001b[0m valid_peaks \u001b[38;5;241m=\u001b[39m \u001b[38;5;28mset\u001b[39m(atac\u001b[38;5;241m.\u001b[39mcolumns)\n\u001b[0;32m     19\u001b[0m valid_genes \u001b[38;5;241m=\u001b[39m \u001b[38;5;28mset\u001b[39m(rna\u001b[38;5;241m.\u001b[39mcolumns)\n\u001b[0;32m     21\u001b[0m filtered_map \u001b[38;5;241m=\u001b[39m peak_gene_map[\n\u001b[0;32m     22\u001b[0m     peak_gene_map[\u001b[38;5;124m\"\u001b[39m\u001b[38;5;124mpeak_id\u001b[39m\u001b[38;5;124m\"\u001b[39m]\u001b[38;5;241m.\u001b[39misin(valid_peaks) \u001b[38;5;241m&\u001b[39m\n\u001b[1;32m---> 23\u001b[0m     \u001b[43mpeak_gene_map\u001b[49m\u001b[43m[\u001b[49m\u001b[38;5;124;43m\"\u001b[39;49m\u001b[38;5;124;43mgene_name\u001b[39;49m\u001b[38;5;124;43m\"\u001b[39;49m\u001b[43m]\u001b[49m\u001b[38;5;241;43m.\u001b[39;49m\u001b[43misin\u001b[49m\u001b[43m(\u001b[49m\u001b[43mvalid_genes\u001b[49m\u001b[43m)\u001b[49m\n\u001b[0;32m     24\u001b[0m ]\n\u001b[0;32m     26\u001b[0m \u001b[38;5;66;03m# Step 5: Compute Spearman correlations\u001b[39;00m\n\u001b[0;32m     27\u001b[0m results \u001b[38;5;241m=\u001b[39m []\n",
      "File \u001b[1;32mc:\\Users\\kalin_p\\miniconda3\\envs\\REAL_FORKED_Bioinfo_project\\lib\\site-packages\\pandas\\core\\series.py:5559\u001b[0m, in \u001b[0;36mSeries.isin\u001b[1;34m(self, values)\u001b[0m\n\u001b[0;32m   5486\u001b[0m \u001b[38;5;28;01mdef\u001b[39;00m\u001b[38;5;250m \u001b[39m\u001b[38;5;21misin\u001b[39m(\u001b[38;5;28mself\u001b[39m, values) \u001b[38;5;241m-\u001b[39m\u001b[38;5;241m>\u001b[39m Series:\n\u001b[0;32m   5487\u001b[0m \u001b[38;5;250m    \u001b[39m\u001b[38;5;124;03m\"\"\"\u001b[39;00m\n\u001b[0;32m   5488\u001b[0m \u001b[38;5;124;03m    Whether elements in Series are contained in `values`.\u001b[39;00m\n\u001b[0;32m   5489\u001b[0m \n\u001b[1;32m   (...)\u001b[0m\n\u001b[0;32m   5557\u001b[0m \u001b[38;5;124;03m    dtype: bool\u001b[39;00m\n\u001b[0;32m   5558\u001b[0m \u001b[38;5;124;03m    \"\"\"\u001b[39;00m\n\u001b[1;32m-> 5559\u001b[0m     result \u001b[38;5;241m=\u001b[39m \u001b[43malgorithms\u001b[49m\u001b[38;5;241;43m.\u001b[39;49m\u001b[43misin\u001b[49m\u001b[43m(\u001b[49m\u001b[38;5;28;43mself\u001b[39;49m\u001b[38;5;241;43m.\u001b[39;49m\u001b[43m_values\u001b[49m\u001b[43m,\u001b[49m\u001b[43m \u001b[49m\u001b[43mvalues\u001b[49m\u001b[43m)\u001b[49m\n\u001b[0;32m   5560\u001b[0m     \u001b[38;5;28;01mreturn\u001b[39;00m \u001b[38;5;28mself\u001b[39m\u001b[38;5;241m.\u001b[39m_constructor(result, index\u001b[38;5;241m=\u001b[39m\u001b[38;5;28mself\u001b[39m\u001b[38;5;241m.\u001b[39mindex, copy\u001b[38;5;241m=\u001b[39m\u001b[38;5;28;01mFalse\u001b[39;00m)\u001b[38;5;241m.\u001b[39m__finalize__(\n\u001b[0;32m   5561\u001b[0m         \u001b[38;5;28mself\u001b[39m, method\u001b[38;5;241m=\u001b[39m\u001b[38;5;124m\"\u001b[39m\u001b[38;5;124misin\u001b[39m\u001b[38;5;124m\"\u001b[39m\n\u001b[0;32m   5562\u001b[0m     )\n",
      "File \u001b[1;32mc:\\Users\\kalin_p\\miniconda3\\envs\\REAL_FORKED_Bioinfo_project\\lib\\site-packages\\pandas\\core\\algorithms.py:484\u001b[0m, in \u001b[0;36misin\u001b[1;34m(comps, values)\u001b[0m\n\u001b[0;32m    482\u001b[0m \u001b[38;5;28;01mif\u001b[39;00m \u001b[38;5;129;01mnot\u001b[39;00m \u001b[38;5;28misinstance\u001b[39m(values, (ABCIndex, ABCSeries, ABCExtensionArray, np\u001b[38;5;241m.\u001b[39mndarray)):\n\u001b[0;32m    483\u001b[0m     orig_values \u001b[38;5;241m=\u001b[39m \u001b[38;5;28mlist\u001b[39m(values)\n\u001b[1;32m--> 484\u001b[0m     values \u001b[38;5;241m=\u001b[39m \u001b[43m_ensure_arraylike\u001b[49m\u001b[43m(\u001b[49m\u001b[43morig_values\u001b[49m\u001b[43m,\u001b[49m\u001b[43m \u001b[49m\u001b[43mfunc_name\u001b[49m\u001b[38;5;241;43m=\u001b[39;49m\u001b[38;5;124;43m\"\u001b[39;49m\u001b[38;5;124;43misin-targets\u001b[39;49m\u001b[38;5;124;43m\"\u001b[39;49m\u001b[43m)\u001b[49m\n\u001b[0;32m    486\u001b[0m     \u001b[38;5;28;01mif\u001b[39;00m (\n\u001b[0;32m    487\u001b[0m         \u001b[38;5;28mlen\u001b[39m(values) \u001b[38;5;241m>\u001b[39m \u001b[38;5;241m0\u001b[39m\n\u001b[0;32m    488\u001b[0m         \u001b[38;5;129;01mand\u001b[39;00m values\u001b[38;5;241m.\u001b[39mdtype\u001b[38;5;241m.\u001b[39mkind \u001b[38;5;129;01min\u001b[39;00m \u001b[38;5;124m\"\u001b[39m\u001b[38;5;124miufcb\u001b[39m\u001b[38;5;124m\"\u001b[39m\n\u001b[1;32m   (...)\u001b[0m\n\u001b[0;32m    491\u001b[0m         \u001b[38;5;66;03m# GH#46485 Use object to avoid upcast to float64 later\u001b[39;00m\n\u001b[0;32m    492\u001b[0m         \u001b[38;5;66;03m# TODO: Share with _find_common_type_compat\u001b[39;00m\n\u001b[0;32m    493\u001b[0m         values \u001b[38;5;241m=\u001b[39m construct_1d_object_array_from_listlike(orig_values)\n",
      "File \u001b[1;32mc:\\Users\\kalin_p\\miniconda3\\envs\\REAL_FORKED_Bioinfo_project\\lib\\site-packages\\pandas\\core\\algorithms.py:233\u001b[0m, in \u001b[0;36m_ensure_arraylike\u001b[1;34m(values, func_name)\u001b[0m\n\u001b[0;32m    223\u001b[0m \u001b[38;5;28;01mif\u001b[39;00m func_name \u001b[38;5;241m!=\u001b[39m \u001b[38;5;124m\"\u001b[39m\u001b[38;5;124misin-targets\u001b[39m\u001b[38;5;124m\"\u001b[39m:\n\u001b[0;32m    224\u001b[0m     \u001b[38;5;66;03m# Make an exception for the comps argument in isin.\u001b[39;00m\n\u001b[0;32m    225\u001b[0m     warnings\u001b[38;5;241m.\u001b[39mwarn(\n\u001b[0;32m    226\u001b[0m         \u001b[38;5;124mf\u001b[39m\u001b[38;5;124m\"\u001b[39m\u001b[38;5;132;01m{\u001b[39;00mfunc_name\u001b[38;5;132;01m}\u001b[39;00m\u001b[38;5;124m with argument that is not not a Series, Index, \u001b[39m\u001b[38;5;124m\"\u001b[39m\n\u001b[0;32m    227\u001b[0m         \u001b[38;5;124m\"\u001b[39m\u001b[38;5;124mExtensionArray, or np.ndarray is deprecated and will raise in a \u001b[39m\u001b[38;5;124m\"\u001b[39m\n\u001b[1;32m   (...)\u001b[0m\n\u001b[0;32m    230\u001b[0m         stacklevel\u001b[38;5;241m=\u001b[39mfind_stack_level(),\n\u001b[0;32m    231\u001b[0m     )\n\u001b[1;32m--> 233\u001b[0m inferred \u001b[38;5;241m=\u001b[39m \u001b[43mlib\u001b[49m\u001b[38;5;241;43m.\u001b[39;49m\u001b[43minfer_dtype\u001b[49m\u001b[43m(\u001b[49m\u001b[43mvalues\u001b[49m\u001b[43m,\u001b[49m\u001b[43m \u001b[49m\u001b[43mskipna\u001b[49m\u001b[38;5;241;43m=\u001b[39;49m\u001b[38;5;28;43;01mFalse\u001b[39;49;00m\u001b[43m)\u001b[49m\n\u001b[0;32m    234\u001b[0m \u001b[38;5;28;01mif\u001b[39;00m inferred \u001b[38;5;129;01min\u001b[39;00m [\u001b[38;5;124m\"\u001b[39m\u001b[38;5;124mmixed\u001b[39m\u001b[38;5;124m\"\u001b[39m, \u001b[38;5;124m\"\u001b[39m\u001b[38;5;124mstring\u001b[39m\u001b[38;5;124m\"\u001b[39m, \u001b[38;5;124m\"\u001b[39m\u001b[38;5;124mmixed-integer\u001b[39m\u001b[38;5;124m\"\u001b[39m]:\n\u001b[0;32m    235\u001b[0m     \u001b[38;5;66;03m# \"mixed-integer\" to ensure we do not cast [\"ss\", 42] to str GH#22160\u001b[39;00m\n\u001b[0;32m    236\u001b[0m     \u001b[38;5;28;01mif\u001b[39;00m \u001b[38;5;28misinstance\u001b[39m(values, \u001b[38;5;28mtuple\u001b[39m):\n",
      "File \u001b[1;32mlib.pyx:1610\u001b[0m, in \u001b[0;36mpandas._libs.lib.infer_dtype\u001b[1;34m()\u001b[0m\n",
      "File \u001b[1;32mc:\\Users\\kalin_p\\miniconda3\\envs\\REAL_FORKED_Bioinfo_project\\lib\\site-packages\\pandas\\core\\dtypes\\cast.py:1599\u001b[0m, in \u001b[0;36mconstruct_1d_object_array_from_listlike\u001b[1;34m(values)\u001b[0m\n\u001b[0;32m   1580\u001b[0m \u001b[38;5;250m\u001b[39m\u001b[38;5;124;03m\"\"\"\u001b[39;00m\n\u001b[0;32m   1581\u001b[0m \u001b[38;5;124;03mTransform any list-like object in a 1-dimensional numpy array of object\u001b[39;00m\n\u001b[0;32m   1582\u001b[0m \u001b[38;5;124;03mdtype.\u001b[39;00m\n\u001b[1;32m   (...)\u001b[0m\n\u001b[0;32m   1595\u001b[0m \u001b[38;5;124;03m1-dimensional numpy array of dtype object\u001b[39;00m\n\u001b[0;32m   1596\u001b[0m \u001b[38;5;124;03m\"\"\"\u001b[39;00m\n\u001b[0;32m   1597\u001b[0m \u001b[38;5;66;03m# numpy will try to interpret nested lists as further dimensions, hence\u001b[39;00m\n\u001b[0;32m   1598\u001b[0m \u001b[38;5;66;03m# making a 1D array that contains list-likes is a bit tricky:\u001b[39;00m\n\u001b[1;32m-> 1599\u001b[0m result \u001b[38;5;241m=\u001b[39m \u001b[43mnp\u001b[49m\u001b[38;5;241;43m.\u001b[39;49m\u001b[43mempty\u001b[49m\u001b[43m(\u001b[49m\u001b[38;5;28;43mlen\u001b[39;49m\u001b[43m(\u001b[49m\u001b[43mvalues\u001b[49m\u001b[43m)\u001b[49m\u001b[43m,\u001b[49m\u001b[43m \u001b[49m\u001b[43mdtype\u001b[49m\u001b[38;5;241;43m=\u001b[39;49m\u001b[38;5;124;43m\"\u001b[39;49m\u001b[38;5;124;43mobject\u001b[39;49m\u001b[38;5;124;43m\"\u001b[39;49m\u001b[43m)\u001b[49m\n\u001b[0;32m   1600\u001b[0m result[:] \u001b[38;5;241m=\u001b[39m values\n\u001b[0;32m   1601\u001b[0m \u001b[38;5;28;01mreturn\u001b[39;00m result\n",
      "\u001b[1;31mKeyboardInterrupt\u001b[0m: "
     ]
    }
   ],
   "source": [
    "import pandas as pd\n",
    "from scipy.stats import spearmanr\n",
    "from tqdm import tqdm\n",
    "\n",
    "# Load peak-to-gene mapping\n",
    "peak_gene_map = pd.read_csv(\"peaks_tss_distance.csv\")\n",
    "\n",
    "# Renaming columns for consistency\n",
    "peak_gene_map = peak_gene_map.rename(columns={\n",
    "    \"ImmGenATAC1219.peakID\": \"peak_id\",\n",
    "    \"closest_tss\": \"gene_name\"\n",
    "})\n",
    "\n",
    "# Filtering to peaks within ±100 kb of TSS (DO I LEAVE THAT???)\n",
    "peak_gene_map = peak_gene_map[peak_gene_map[\"distance_to_tss\"].abs() <= 100000]\n",
    "\n",
    "# Keeping only peak-gene pairs present in data\n",
    "valid_peaks = set(atac.columns)\n",
    "valid_genes = set(rna.columns)\n",
    "\n",
    "filtered_map = peak_gene_map[\n",
    "    peak_gene_map[\"peak_id\"].isin(valid_peaks) &\n",
    "    peak_gene_map[\"gene_name\"].isin(valid_genes)\n",
    "]\n",
    "\n",
    "# Step 5: Compute Spearman correlations\n",
    "results = []\n",
    "print(f\"Correlating {len(filtered_map)} peak–gene pairs...\")\n",
    "\n",
    "for _, row in tqdm(filtered_map.iterrows(), total=len(filtered_map)):\n",
    "    peak = row[\"peak_id\"]\n",
    "    gene = row[\"gene_name\"]\n",
    "    dist = row[\"distance_to_tss\"]\n",
    "\n",
    "    peak_signal = atac[peak]\n",
    "    gene_expr = rna[gene]\n",
    "\n",
    "    corr, pval = spearmanr(peak_signal, gene_expr)\n",
    "\n",
    "    results.append({\n",
    "        \"peak_id\": peak,\n",
    "        \"gene_name\": gene,\n",
    "        \"distance_to_tss\": dist,\n",
    "        \"spearman_rho\": corr,\n",
    "        \"pval\": pval\n",
    "    })\n",
    "\n",
    "# Collecting and filtering results\n",
    "cor_df = pd.DataFrame(results)\n",
    "linked_peaks = cor_df[\n",
    "    (cor_df[\"pval\"] < 0.05) & (cor_df[\"spearman_rho\"].abs() > 0.5)\n",
    "]\n",
    "\n",
    "# Saving results\n",
    "linked_peaks.to_csv(\"peak_gene_links_significant.csv\", index=False)\n",
    "print(f\"Done! {len(linked_peaks)} significant peak–gene links saved.\")\n"
   ]
  },
  {
   "cell_type": "code",
   "execution_count": null,
   "id": "f953bb93",
   "metadata": {},
   "outputs": [
    {
     "name": "stdout",
     "output_type": "stream",
     "text": [
      "RangeIndex(start=0, stop=0, step=1)\n",
      "Empty DataFrame\n",
      "Columns: []\n",
      "Index: []\n"
     ]
    }
   ],
   "source": [
    "print(cor_df.columns)\n",
    "print(cor_df.head())\n"
   ]
  },
  {
   "cell_type": "code",
   "execution_count": null,
   "id": "c605049a",
   "metadata": {},
   "outputs": [
    {
     "name": "stdout",
     "output_type": "stream",
     "text": [
      "Filtered map shape: (0, 5)\n"
     ]
    }
   ],
   "source": [
    "print(\"Filtered map shape:\", filtered_map.shape)\n"
   ]
  },
  {
   "cell_type": "code",
   "execution_count": null,
   "id": "5b4c04da",
   "metadata": {},
   "outputs": [
    {
     "name": "stdout",
     "output_type": "stream",
     "text": [
      "Peaks in peak_gene_map: 437081\n",
      "Peaks in atac matrix: 512595\n",
      "Genes in peak_gene_map: 28521\n",
      "Genes in rna matrix: 17535\n"
     ]
    }
   ],
   "source": [
    "print(\"Peaks in peak_gene_map:\", peak_gene_map[\"peak_id\"].nunique())\n",
    "print(\"Peaks in atac matrix:\", len(valid_peaks))\n",
    "print(\"Genes in peak_gene_map:\", peak_gene_map[\"gene_name\"].nunique())\n",
    "print(\"Genes in rna matrix:\", len(valid_genes))\n"
   ]
  },
  {
   "cell_type": "code",
   "execution_count": null,
   "id": "b05a8bb9",
   "metadata": {},
   "outputs": [
    {
     "name": "stdout",
     "output_type": "stream",
     "text": [
      "Example peak IDs in peak_gene_map:\n",
      "['ImmGenATAC1219.peak_17', 'ImmGenATAC1219.peak_18', 'ImmGenATAC1219.peak_19', 'ImmGenATAC1219.peak_20', 'ImmGenATAC1219.peak_21']\n",
      "Example ATAC matrix columns:\n",
      "[0, 1, 2, 3, 4]\n"
     ]
    }
   ],
   "source": [
    "print(\"Example peak IDs in peak_gene_map:\")\n",
    "print(peak_gene_map[\"peak_id\"].head(5).tolist())\n",
    "\n",
    "print(\"Example ATAC matrix columns:\")\n",
    "print(list(atac.columns[:5]))\n"
   ]
  },
  {
   "cell_type": "code",
   "execution_count": null,
   "id": "58e2fc71",
   "metadata": {},
   "outputs": [
    {
     "name": "stdout",
     "output_type": "stream",
     "text": [
      "✅ ATAC shape: (28, 512595)\n",
      "✅ RNA shape: (28, 17535)\n",
      "🔍 Correlating 0 peak–gene pairs...\n"
     ]
    },
    {
     "name": "stderr",
     "output_type": "stream",
     "text": [
      "0it [00:00, ?it/s]\n"
     ]
    },
    {
     "ename": "KeyError",
     "evalue": "'pval'",
     "output_type": "error",
     "traceback": [
      "\u001b[1;31m---------------------------------------------------------------------------\u001b[0m",
      "\u001b[1;31mKeyError\u001b[0m                                  Traceback (most recent call last)",
      "Cell \u001b[1;32mIn[15], line 67\u001b[0m\n\u001b[0;32m     64\u001b[0m \u001b[38;5;66;03m# 🔹 Step 7: Save and filter results\u001b[39;00m\n\u001b[0;32m     65\u001b[0m cor_df \u001b[38;5;241m=\u001b[39m pd\u001b[38;5;241m.\u001b[39mDataFrame(results)\n\u001b[0;32m     66\u001b[0m linked_peaks \u001b[38;5;241m=\u001b[39m cor_df[\n\u001b[1;32m---> 67\u001b[0m     (\u001b[43mcor_df\u001b[49m\u001b[43m[\u001b[49m\u001b[38;5;124;43m\"\u001b[39;49m\u001b[38;5;124;43mpval\u001b[39;49m\u001b[38;5;124;43m\"\u001b[39;49m\u001b[43m]\u001b[49m \u001b[38;5;241m<\u001b[39m \u001b[38;5;241m0.05\u001b[39m) \u001b[38;5;241m&\u001b[39m (cor_df[\u001b[38;5;124m\"\u001b[39m\u001b[38;5;124mspearman_rho\u001b[39m\u001b[38;5;124m\"\u001b[39m]\u001b[38;5;241m.\u001b[39mabs() \u001b[38;5;241m>\u001b[39m \u001b[38;5;241m0.5\u001b[39m)\n\u001b[0;32m     68\u001b[0m ]\n\u001b[0;32m     70\u001b[0m linked_peaks\u001b[38;5;241m.\u001b[39mto_csv(\u001b[38;5;124m\"\u001b[39m\u001b[38;5;124mpeak_gene_links_significant.csv\u001b[39m\u001b[38;5;124m\"\u001b[39m, index\u001b[38;5;241m=\u001b[39m\u001b[38;5;28;01mFalse\u001b[39;00m)\n\u001b[0;32m     71\u001b[0m \u001b[38;5;28mprint\u001b[39m(\u001b[38;5;124mf\u001b[39m\u001b[38;5;124m\"\u001b[39m\u001b[38;5;124m✅ Done! \u001b[39m\u001b[38;5;132;01m{\u001b[39;00m\u001b[38;5;28mlen\u001b[39m(linked_peaks)\u001b[38;5;132;01m}\u001b[39;00m\u001b[38;5;124m significant peak–gene links saved.\u001b[39m\u001b[38;5;124m\"\u001b[39m)\n",
      "File \u001b[1;32mc:\\Users\\kalin_p\\miniconda3\\envs\\REAL_FORKED_Bioinfo_project\\lib\\site-packages\\pandas\\core\\frame.py:4102\u001b[0m, in \u001b[0;36mDataFrame.__getitem__\u001b[1;34m(self, key)\u001b[0m\n\u001b[0;32m   4100\u001b[0m \u001b[38;5;28;01mif\u001b[39;00m \u001b[38;5;28mself\u001b[39m\u001b[38;5;241m.\u001b[39mcolumns\u001b[38;5;241m.\u001b[39mnlevels \u001b[38;5;241m>\u001b[39m \u001b[38;5;241m1\u001b[39m:\n\u001b[0;32m   4101\u001b[0m     \u001b[38;5;28;01mreturn\u001b[39;00m \u001b[38;5;28mself\u001b[39m\u001b[38;5;241m.\u001b[39m_getitem_multilevel(key)\n\u001b[1;32m-> 4102\u001b[0m indexer \u001b[38;5;241m=\u001b[39m \u001b[38;5;28;43mself\u001b[39;49m\u001b[38;5;241;43m.\u001b[39;49m\u001b[43mcolumns\u001b[49m\u001b[38;5;241;43m.\u001b[39;49m\u001b[43mget_loc\u001b[49m\u001b[43m(\u001b[49m\u001b[43mkey\u001b[49m\u001b[43m)\u001b[49m\n\u001b[0;32m   4103\u001b[0m \u001b[38;5;28;01mif\u001b[39;00m is_integer(indexer):\n\u001b[0;32m   4104\u001b[0m     indexer \u001b[38;5;241m=\u001b[39m [indexer]\n",
      "File \u001b[1;32mc:\\Users\\kalin_p\\miniconda3\\envs\\REAL_FORKED_Bioinfo_project\\lib\\site-packages\\pandas\\core\\indexes\\range.py:417\u001b[0m, in \u001b[0;36mRangeIndex.get_loc\u001b[1;34m(self, key)\u001b[0m\n\u001b[0;32m    415\u001b[0m         \u001b[38;5;28;01mraise\u001b[39;00m \u001b[38;5;167;01mKeyError\u001b[39;00m(key) \u001b[38;5;28;01mfrom\u001b[39;00m\u001b[38;5;250m \u001b[39m\u001b[38;5;21;01merr\u001b[39;00m\n\u001b[0;32m    416\u001b[0m \u001b[38;5;28;01mif\u001b[39;00m \u001b[38;5;28misinstance\u001b[39m(key, Hashable):\n\u001b[1;32m--> 417\u001b[0m     \u001b[38;5;28;01mraise\u001b[39;00m \u001b[38;5;167;01mKeyError\u001b[39;00m(key)\n\u001b[0;32m    418\u001b[0m \u001b[38;5;28mself\u001b[39m\u001b[38;5;241m.\u001b[39m_check_indexing_error(key)\n\u001b[0;32m    419\u001b[0m \u001b[38;5;28;01mraise\u001b[39;00m \u001b[38;5;167;01mKeyError\u001b[39;00m(key)\n",
      "\u001b[1;31mKeyError\u001b[0m: 'pval'"
     ]
    }
   ],
   "source": [
    "import pandas as pd\n",
    "from scipy.stats import spearmanr\n",
    "from tqdm import tqdm\n",
    "# Step 1: Load ATAC matrix with metadata\n",
    "full_atac = pd.read_csv(\"ATAC-seq/filtered_ATAC_abT_Tact_Stem.csv\")\n",
    "\n",
    "# Step 2: Extract signal and assign peak IDs to rows\n",
    "atac_signal_matrix = full_atac.iloc[:, 8:]  # columns = samples\n",
    "atac_signal_matrix.index = full_atac[\"ImmGenATAC1219.peakID\"]  # rows = peaks\n",
    "\n",
    "# Step 3: Transpose → samples × peaks\n",
    "atac_transposed_df = atac_signal_matrix.T\n",
    "\n",
    "# 🔹 Step 3: Align with RNA data (assuming rna_scaled_df already exists)\n",
    "common_samples = atac_transposed_df.index.intersection(rna_scaled_df.index)\n",
    "atac = atac_transposed_df.loc[common_samples]\n",
    "rna = rna_scaled_df.loc[common_samples]\n",
    "\n",
    "print(\"✅ ATAC shape:\", atac.shape)\n",
    "print(\"✅ RNA shape:\", rna.shape)\n",
    "\n",
    "# 🔹 Step 4: Load and rename peak–TSS mapping\n",
    "peak_gene_map = pd.read_csv(\"peaks_tss_distance.csv\")\n",
    "peak_gene_map = peak_gene_map.rename(columns={\n",
    "    \"ImmGenATAC1219.peakID\": \"peak_id\",\n",
    "    \"closest_tss\": \"gene_name\"\n",
    "})\n",
    "\n",
    "# Filter to peaks within ±100 kb of a TSS\n",
    "peak_gene_map = peak_gene_map[peak_gene_map[\"distance_to_tss\"].abs() <= 100000]\n",
    "\n",
    "# 🔹 Step 5: Filter for peak–gene pairs that are present in both matrices\n",
    "valid_peaks = set(atac.columns)\n",
    "valid_genes = set(rna.columns)\n",
    "\n",
    "filtered_map = peak_gene_map[\n",
    "    peak_gene_map[\"peak_id\"].isin(valid_peaks) &\n",
    "    peak_gene_map[\"gene_name\"].isin(valid_genes)\n",
    "]\n",
    "\n",
    "print(f\"🔍 Correlating {len(filtered_map)} peak–gene pairs...\")\n",
    "\n",
    "# 🔹 Step 6: Correlate each peak–gene pair\n",
    "results = []\n",
    "\n",
    "for _, row in tqdm(filtered_map.iterrows(), total=len(filtered_map)):\n",
    "    peak = row[\"peak_id\"]\n",
    "    gene = row[\"gene_name\"]\n",
    "    dist = row[\"distance_to_tss\"]\n",
    "\n",
    "    peak_signal = atac[peak]\n",
    "    gene_expr = rna[gene]\n",
    "\n",
    "    corr, pval = spearmanr(peak_signal, gene_expr)\n",
    "\n",
    "    results.append({\n",
    "        \"peak_id\": peak,\n",
    "        \"gene_name\": gene,\n",
    "        \"distance_to_tss\": dist,\n",
    "        \"spearman_rho\": corr,\n",
    "        \"pval\": pval\n",
    "    })\n",
    "\n",
    "# 🔹 Step 7: Save and filter results\n",
    "cor_df = pd.DataFrame(results)\n",
    "linked_peaks = cor_df[\n",
    "    (cor_df[\"pval\"] < 0.05) & (cor_df[\"spearman_rho\"].abs() > 0.5)\n",
    "]\n",
    "\n",
    "linked_peaks.to_csv(\"peak_gene_links_significant.csv\", index=False)\n",
    "print(f\"✅ Done! {len(linked_peaks)} significant peak–gene links saved.\")\n"
   ]
  },
  {
   "cell_type": "code",
   "execution_count": null,
   "id": "2e21abe9",
   "metadata": {},
   "outputs": [
    {
     "name": "stdout",
     "output_type": "stream",
     "text": [
      "filtered_map shape: (0, 5)\n"
     ]
    }
   ],
   "source": [
    "print(\"filtered_map shape:\", filtered_map.shape)\n"
   ]
  },
  {
   "cell_type": "code",
   "execution_count": null,
   "id": "a7ea7872",
   "metadata": {},
   "outputs": [
    {
     "name": "stdout",
     "output_type": "stream",
     "text": [
      "ATAC matrix peak columns: 512595\n",
      "Peak IDs in peak_gene_map: 437081\n",
      "Overlapping peak IDs: 437081\n",
      "Example of unmatched peak IDs: []\n"
     ]
    }
   ],
   "source": [
    "# How many peak IDs in each set?\n",
    "print(\"ATAC matrix peak columns:\", len(atac.columns))\n",
    "print(\"Peak IDs in peak_gene_map:\", peak_gene_map[\"peak_id\"].nunique())\n",
    "\n",
    "# What's the overlap?\n",
    "overlapping_peaks = set(peak_gene_map[\"peak_id\"]) & set(atac.columns)\n",
    "print(\"Overlapping peak IDs:\", len(overlapping_peaks))\n",
    "\n",
    "# Show a few missing examples:\n",
    "non_matching = set(peak_gene_map[\"peak_id\"]) - set(atac.columns)\n",
    "print(\"Example of unmatched peak IDs:\", list(non_matching)[:5])\n"
   ]
  },
  {
   "cell_type": "code",
   "execution_count": null,
   "id": "6afcc91d",
   "metadata": {},
   "outputs": [
    {
     "name": "stdout",
     "output_type": "stream",
     "text": [
      "Genes in peak_gene_map: 28521\n",
      "Genes in RNA matrix: 17535\n",
      "Overlapping genes: 0\n",
      "Example of unmatched gene names: [135659546.0, 59375653.0, 78512168.0, 17694765.0, 128974895.0]\n"
     ]
    }
   ],
   "source": [
    "print(\"Genes in peak_gene_map:\", peak_gene_map['gene_name'].nunique())\n",
    "print(\"Genes in RNA matrix:\", len(rna.columns))\n",
    "\n",
    "overlapping_genes = set(peak_gene_map['gene_name']) & set(rna.columns)\n",
    "print(\"Overlapping genes:\", len(overlapping_genes))\n",
    "\n",
    "# Show a few missing examples\n",
    "non_matching_genes = set(peak_gene_map['gene_name']) - set(rna.columns)\n",
    "print(\"Example of unmatched gene names:\", list(non_matching_genes)[:5])\n"
   ]
  },
  {
   "cell_type": "code",
   "execution_count": 22,
   "id": "2eb58310",
   "metadata": {},
   "outputs": [
    {
     "name": "stderr",
     "output_type": "stream",
     "text": [
      "Input sequence provided is already in string format. No operation performed\n",
      "Input sequence provided is already in string format. No operation performed\n",
      "28516 input query terms found no hit:\t['3671498', '4360303', '4360314', '4409241', '4497354', '4785726', '4807822', '4857693', '4858327', \n"
     ]
    }
   ],
   "source": [
    "import mygene\n",
    "\n",
    "mg = mygene.MyGeneInfo()\n",
    "\n",
    "# Convert Entrez IDs (remove decimal points first)\n",
    "entrez_ids = peak_gene_map[\"gene_name\"].dropna().astype(str).str.split(\".\").str[0].unique().tolist()\n",
    "\n",
    "# Query MyGene for mappings\n",
    "annotation = mg.querymany(entrez_ids, scopes=\"entrezgene\", fields=\"symbol\", species=\"mouse\")\n",
    "\n",
    "# Convert to DataFrame\n",
    "annot_df = pd.DataFrame(annotation)\n",
    "id_to_symbol = annot_df.set_index(\"query\")[\"symbol\"].dropna().to_dict()\n",
    "\n"
   ]
  },
  {
   "cell_type": "code",
   "execution_count": 23,
   "id": "e9ad07fc",
   "metadata": {},
   "outputs": [],
   "source": [
    "# Clean Entrez IDs in original map\n",
    "peak_gene_map[\"entrez_id\"] = peak_gene_map[\"gene_name\"].astype(str).str.split(\".\").str[0]\n",
    "\n",
    "# Map to gene symbols\n",
    "peak_gene_map[\"gene_symbol\"] = peak_gene_map[\"entrez_id\"].map(id_to_symbol)\n"
   ]
  },
  {
   "cell_type": "code",
   "execution_count": 24,
   "id": "458bdc7c",
   "metadata": {},
   "outputs": [
    {
     "name": "stdout",
     "output_type": "stream",
     "text": [
      "Filtered map shape after ID conversion: (0, 7)\n"
     ]
    }
   ],
   "source": [
    "peak_gene_map = peak_gene_map.dropna(subset=[\"gene_symbol\"])\n",
    "\n",
    "filtered_map = peak_gene_map[\n",
    "    peak_gene_map[\"peak_id\"].isin(atac.columns) &\n",
    "    peak_gene_map[\"gene_symbol\"].isin(rna.columns)\n",
    "]\n",
    "\n",
    "print(\"Filtered map shape after ID conversion:\", filtered_map.shape)\n"
   ]
  },
  {
   "cell_type": "code",
   "execution_count": 27,
   "id": "9b20e88e",
   "metadata": {},
   "outputs": [
    {
     "data": {
      "text/html": [
       "<div>\n",
       "<style scoped>\n",
       "    .dataframe tbody tr th:only-of-type {\n",
       "        vertical-align: middle;\n",
       "    }\n",
       "\n",
       "    .dataframe tbody tr th {\n",
       "        vertical-align: top;\n",
       "    }\n",
       "\n",
       "    .dataframe thead th {\n",
       "        text-align: right;\n",
       "    }\n",
       "</style>\n",
       "<table border=\"1\" class=\"dataframe\">\n",
       "  <thead>\n",
       "    <tr style=\"text-align: right;\">\n",
       "      <th></th>\n",
       "      <th>Unnamed: 0</th>\n",
       "      <th>preT.DN1.Th</th>\n",
       "      <th>preT.DN2a.Th</th>\n",
       "      <th>preT.DN2b.Th</th>\n",
       "      <th>preT.DN3.Th</th>\n",
       "      <th>T.DN4.Th</th>\n",
       "      <th>T.ISP.Th</th>\n",
       "      <th>T.DP.Th</th>\n",
       "      <th>T.4.Th</th>\n",
       "      <th>T.8.Th</th>\n",
       "      <th>...</th>\n",
       "      <th>T8.Tcm.LCMV.d180.Sp</th>\n",
       "      <th>T8.Tem.LCMV.d180.Sp</th>\n",
       "      <th>NKT.Sp</th>\n",
       "      <th>NKT.Sp.LPS.3hr</th>\n",
       "      <th>NKT.Sp.LPS.18hr</th>\n",
       "      <th>NKT.Sp.LPS.3d</th>\n",
       "      <th>LTHSC.34-.BM</th>\n",
       "      <th>LTHSC.34+.BM</th>\n",
       "      <th>STHSC.150-.BM</th>\n",
       "      <th>MPP4.135+.BM</th>\n",
       "    </tr>\n",
       "  </thead>\n",
       "  <tbody>\n",
       "    <tr>\n",
       "      <th>0</th>\n",
       "      <td>0610005C13Rik</td>\n",
       "      <td>1.022363</td>\n",
       "      <td>1.389747</td>\n",
       "      <td>1.024819</td>\n",
       "      <td>1.024482</td>\n",
       "      <td>1.026430</td>\n",
       "      <td>1.026217</td>\n",
       "      <td>3.010920</td>\n",
       "      <td>1.024462</td>\n",
       "      <td>1.024819</td>\n",
       "      <td>...</td>\n",
       "      <td>1.025833</td>\n",
       "      <td>1.024819</td>\n",
       "      <td>1.385805</td>\n",
       "      <td>1.025833</td>\n",
       "      <td>1.575395</td>\n",
       "      <td>1.024819</td>\n",
       "      <td>1.096732</td>\n",
       "      <td>1.096732</td>\n",
       "      <td>1.021750</td>\n",
       "      <td>1.021812</td>\n",
       "    </tr>\n",
       "    <tr>\n",
       "      <th>1</th>\n",
       "      <td>0610007P14Rik</td>\n",
       "      <td>162.641117</td>\n",
       "      <td>206.945221</td>\n",
       "      <td>209.187788</td>\n",
       "      <td>198.421365</td>\n",
       "      <td>215.056475</td>\n",
       "      <td>225.565360</td>\n",
       "      <td>73.904647</td>\n",
       "      <td>138.841383</td>\n",
       "      <td>139.863904</td>\n",
       "      <td>...</td>\n",
       "      <td>206.241084</td>\n",
       "      <td>205.309922</td>\n",
       "      <td>165.690720</td>\n",
       "      <td>133.234920</td>\n",
       "      <td>127.894194</td>\n",
       "      <td>195.147548</td>\n",
       "      <td>206.053987</td>\n",
       "      <td>246.105317</td>\n",
       "      <td>192.424636</td>\n",
       "      <td>204.298358</td>\n",
       "    </tr>\n",
       "    <tr>\n",
       "      <th>2</th>\n",
       "      <td>0610009B22Rik</td>\n",
       "      <td>68.070719</td>\n",
       "      <td>82.468806</td>\n",
       "      <td>89.769337</td>\n",
       "      <td>57.661619</td>\n",
       "      <td>76.399214</td>\n",
       "      <td>84.671456</td>\n",
       "      <td>32.828651</td>\n",
       "      <td>27.207241</td>\n",
       "      <td>36.169759</td>\n",
       "      <td>...</td>\n",
       "      <td>36.105700</td>\n",
       "      <td>34.348965</td>\n",
       "      <td>25.168975</td>\n",
       "      <td>33.305724</td>\n",
       "      <td>29.284365</td>\n",
       "      <td>33.322384</td>\n",
       "      <td>78.272059</td>\n",
       "      <td>78.837030</td>\n",
       "      <td>68.844751</td>\n",
       "      <td>76.418169</td>\n",
       "    </tr>\n",
       "    <tr>\n",
       "      <th>3</th>\n",
       "      <td>0610009L18Rik</td>\n",
       "      <td>15.450717</td>\n",
       "      <td>13.573968</td>\n",
       "      <td>14.427620</td>\n",
       "      <td>8.249482</td>\n",
       "      <td>1.683173</td>\n",
       "      <td>4.001953</td>\n",
       "      <td>5.595954</td>\n",
       "      <td>6.367369</td>\n",
       "      <td>6.505833</td>\n",
       "      <td>...</td>\n",
       "      <td>8.645607</td>\n",
       "      <td>7.268431</td>\n",
       "      <td>3.840215</td>\n",
       "      <td>1.025833</td>\n",
       "      <td>6.283540</td>\n",
       "      <td>12.791348</td>\n",
       "      <td>8.577159</td>\n",
       "      <td>16.791386</td>\n",
       "      <td>15.511549</td>\n",
       "      <td>16.947354</td>\n",
       "    </tr>\n",
       "    <tr>\n",
       "      <th>4</th>\n",
       "      <td>0610009O20Rik</td>\n",
       "      <td>160.246297</td>\n",
       "      <td>125.475307</td>\n",
       "      <td>155.928005</td>\n",
       "      <td>120.692893</td>\n",
       "      <td>118.433597</td>\n",
       "      <td>149.630866</td>\n",
       "      <td>92.040668</td>\n",
       "      <td>76.781112</td>\n",
       "      <td>87.529814</td>\n",
       "      <td>...</td>\n",
       "      <td>87.608325</td>\n",
       "      <td>56.128251</td>\n",
       "      <td>109.175415</td>\n",
       "      <td>91.992319</td>\n",
       "      <td>102.035627</td>\n",
       "      <td>108.414405</td>\n",
       "      <td>168.645852</td>\n",
       "      <td>157.926022</td>\n",
       "      <td>155.941641</td>\n",
       "      <td>186.261464</td>\n",
       "    </tr>\n",
       "  </tbody>\n",
       "</table>\n",
       "<p>5 rows × 30 columns</p>\n",
       "</div>"
      ],
      "text/plain": [
       "      Unnamed: 0  preT.DN1.Th  preT.DN2a.Th  preT.DN2b.Th  preT.DN3.Th  \\\n",
       "0  0610005C13Rik     1.022363      1.389747      1.024819     1.024482   \n",
       "1  0610007P14Rik   162.641117    206.945221    209.187788   198.421365   \n",
       "2  0610009B22Rik    68.070719     82.468806     89.769337    57.661619   \n",
       "3  0610009L18Rik    15.450717     13.573968     14.427620     8.249482   \n",
       "4  0610009O20Rik   160.246297    125.475307    155.928005   120.692893   \n",
       "\n",
       "     T.DN4.Th    T.ISP.Th    T.DP.Th      T.4.Th      T.8.Th  ...  \\\n",
       "0    1.026430    1.026217   3.010920    1.024462    1.024819  ...   \n",
       "1  215.056475  225.565360  73.904647  138.841383  139.863904  ...   \n",
       "2   76.399214   84.671456  32.828651   27.207241   36.169759  ...   \n",
       "3    1.683173    4.001953   5.595954    6.367369    6.505833  ...   \n",
       "4  118.433597  149.630866  92.040668   76.781112   87.529814  ...   \n",
       "\n",
       "   T8.Tcm.LCMV.d180.Sp  T8.Tem.LCMV.d180.Sp      NKT.Sp  NKT.Sp.LPS.3hr  \\\n",
       "0             1.025833             1.024819    1.385805        1.025833   \n",
       "1           206.241084           205.309922  165.690720      133.234920   \n",
       "2            36.105700            34.348965   25.168975       33.305724   \n",
       "3             8.645607             7.268431    3.840215        1.025833   \n",
       "4            87.608325            56.128251  109.175415       91.992319   \n",
       "\n",
       "   NKT.Sp.LPS.18hr  NKT.Sp.LPS.3d  LTHSC.34-.BM  LTHSC.34+.BM  STHSC.150-.BM  \\\n",
       "0         1.575395       1.024819      1.096732      1.096732       1.021750   \n",
       "1       127.894194     195.147548    206.053987    246.105317     192.424636   \n",
       "2        29.284365      33.322384     78.272059     78.837030      68.844751   \n",
       "3         6.283540      12.791348      8.577159     16.791386      15.511549   \n",
       "4       102.035627     108.414405    168.645852    157.926022     155.941641   \n",
       "\n",
       "   MPP4.135+.BM  \n",
       "0      1.021812  \n",
       "1    204.298358  \n",
       "2     76.418169  \n",
       "3     16.947354  \n",
       "4    186.261464  \n",
       "\n",
       "[5 rows x 30 columns]"
      ]
     },
     "execution_count": 27,
     "metadata": {},
     "output_type": "execute_result"
    }
   ],
   "source": [
    "import pandas as pd\n",
    "RNA_filtered = pd.read_csv(\"rna_filtered_abT_Tact_Stem.csv\")\n",
    "RNA_filtered.head()"
   ]
  }
 ],
 "metadata": {
  "kernelspec": {
   "display_name": "REAL_FORKED_Bioinfo_project",
   "language": "python",
   "name": "python3"
  },
  "language_info": {
   "codemirror_mode": {
    "name": "ipython",
    "version": 3
   },
   "file_extension": ".py",
   "mimetype": "text/x-python",
   "name": "python",
   "nbconvert_exporter": "python",
   "pygments_lexer": "ipython3",
   "version": "3.10.17"
  }
 },
 "nbformat": 4,
 "nbformat_minor": 5
}
