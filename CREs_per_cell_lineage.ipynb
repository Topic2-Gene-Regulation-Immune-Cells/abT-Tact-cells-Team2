{
 "cells": [
  {
   "cell_type": "markdown",
   "id": "72b084c7",
   "metadata": {},
   "source": [
    "# Which CREs control the cell lineage specific genes\n",
    "\n",
    "Here, we want to assign the CREs to cell lineage specific genes. We are going to use the regression model from the notebook regressionmodel.ipynb and the assignment of promoters and enhancers per genes."
   ]
  }
 ],
 "metadata": {
  "language_info": {
   "name": "python"
  }
 },
 "nbformat": 4,
 "nbformat_minor": 5
}
