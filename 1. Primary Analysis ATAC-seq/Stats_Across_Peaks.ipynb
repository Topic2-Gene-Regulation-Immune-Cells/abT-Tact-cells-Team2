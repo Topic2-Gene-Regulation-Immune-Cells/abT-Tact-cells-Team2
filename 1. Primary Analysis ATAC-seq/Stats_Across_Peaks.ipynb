{
 "cells": [
  {
   "cell_type": "markdown",
   "id": "37b5faac",
   "metadata": {},
   "source": [
    "## **Basic descriptive statistics**. Part 2: Examining global chromatin accessibility of peaks across cell types ##\n",
    "___"
   ]
  },
  {
   "cell_type": "markdown",
   "id": "b2069ae6",
   "metadata": {},
   "source": [
    "### 0. Importing Dependencies and data"
   ]
  },
  {
   "cell_type": "code",
   "execution_count": 12,
   "id": "dcb97074",
   "metadata": {},
   "outputs": [],
   "source": [
    "import pandas as pd\n",
    "import numpy as np\n",
    "import matplotlib.pyplot as plt\n",
    "import seaborn as sns"
   ]
  },
  {
   "cell_type": "code",
   "execution_count": 2,
   "id": "5424487d",
   "metadata": {},
   "outputs": [],
   "source": [
    "refined_ATAC_data = pd.read_csv(\"refined_ATAC.csv\")"
   ]
  },
  {
   "cell_type": "code",
   "execution_count": 3,
   "id": "8e8f34be",
   "metadata": {},
   "outputs": [
    {
     "data": {
      "text/html": [
       "<div>\n",
       "<style scoped>\n",
       "    .dataframe tbody tr th:only-of-type {\n",
       "        vertical-align: middle;\n",
       "    }\n",
       "\n",
       "    .dataframe tbody tr th {\n",
       "        vertical-align: top;\n",
       "    }\n",
       "\n",
       "    .dataframe thead th {\n",
       "        text-align: right;\n",
       "    }\n",
       "</style>\n",
       "<table border=\"1\" class=\"dataframe\">\n",
       "  <thead>\n",
       "    <tr style=\"text-align: right;\">\n",
       "      <th></th>\n",
       "      <th>ImmGenATAC1219.peakID</th>\n",
       "      <th>chrom</th>\n",
       "      <th>Summit</th>\n",
       "      <th>mm10.60way.phastCons_scores</th>\n",
       "      <th>_-log10_bestPvalue</th>\n",
       "      <th>Included.in.systematic.analysis</th>\n",
       "      <th>TSS</th>\n",
       "      <th>genes.within.100Kb</th>\n",
       "      <th>Sample ID</th>\n",
       "      <th>Signal</th>\n",
       "    </tr>\n",
       "  </thead>\n",
       "  <tbody>\n",
       "    <tr>\n",
       "      <th>0</th>\n",
       "      <td>ImmGenATAC1219.peak_1</td>\n",
       "      <td>chr1</td>\n",
       "      <td>3020786</td>\n",
       "      <td>0.00</td>\n",
       "      <td>0.56</td>\n",
       "      <td>NaN</td>\n",
       "      <td>NaN</td>\n",
       "      <td>NaN</td>\n",
       "      <td>preT.DN1.Th</td>\n",
       "      <td>0.11</td>\n",
       "    </tr>\n",
       "    <tr>\n",
       "      <th>1</th>\n",
       "      <td>ImmGenATAC1219.peak_2</td>\n",
       "      <td>chr1</td>\n",
       "      <td>3087226</td>\n",
       "      <td>0.00</td>\n",
       "      <td>0.50</td>\n",
       "      <td>NaN</td>\n",
       "      <td>NaN</td>\n",
       "      <td>NaN</td>\n",
       "      <td>preT.DN1.Th</td>\n",
       "      <td>0.77</td>\n",
       "    </tr>\n",
       "    <tr>\n",
       "      <th>2</th>\n",
       "      <td>ImmGenATAC1219.peak_3</td>\n",
       "      <td>chr1</td>\n",
       "      <td>3120109</td>\n",
       "      <td>0.07</td>\n",
       "      <td>10.80</td>\n",
       "      <td>1.0</td>\n",
       "      <td>NaN</td>\n",
       "      <td>NaN</td>\n",
       "      <td>preT.DN1.Th</td>\n",
       "      <td>0.40</td>\n",
       "    </tr>\n",
       "    <tr>\n",
       "      <th>3</th>\n",
       "      <td>ImmGenATAC1219.peak_4</td>\n",
       "      <td>chr1</td>\n",
       "      <td>3121485</td>\n",
       "      <td>0.15</td>\n",
       "      <td>3.02</td>\n",
       "      <td>1.0</td>\n",
       "      <td>NaN</td>\n",
       "      <td>NaN</td>\n",
       "      <td>preT.DN1.Th</td>\n",
       "      <td>0.46</td>\n",
       "    </tr>\n",
       "    <tr>\n",
       "      <th>4</th>\n",
       "      <td>ImmGenATAC1219.peak_5</td>\n",
       "      <td>chr1</td>\n",
       "      <td>3372787</td>\n",
       "      <td>0.03</td>\n",
       "      <td>1.31</td>\n",
       "      <td>NaN</td>\n",
       "      <td>NaN</td>\n",
       "      <td>NaN</td>\n",
       "      <td>preT.DN1.Th</td>\n",
       "      <td>0.77</td>\n",
       "    </tr>\n",
       "  </tbody>\n",
       "</table>\n",
       "</div>"
      ],
      "text/plain": [
       "   ImmGenATAC1219.peakID chrom   Summit  mm10.60way.phastCons_scores  \\\n",
       "0  ImmGenATAC1219.peak_1  chr1  3020786                         0.00   \n",
       "1  ImmGenATAC1219.peak_2  chr1  3087226                         0.00   \n",
       "2  ImmGenATAC1219.peak_3  chr1  3120109                         0.07   \n",
       "3  ImmGenATAC1219.peak_4  chr1  3121485                         0.15   \n",
       "4  ImmGenATAC1219.peak_5  chr1  3372787                         0.03   \n",
       "\n",
       "   _-log10_bestPvalue  Included.in.systematic.analysis  TSS  \\\n",
       "0                0.56                              NaN  NaN   \n",
       "1                0.50                              NaN  NaN   \n",
       "2               10.80                              1.0  NaN   \n",
       "3                3.02                              1.0  NaN   \n",
       "4                1.31                              NaN  NaN   \n",
       "\n",
       "  genes.within.100Kb    Sample ID  Signal  \n",
       "0                NaN  preT.DN1.Th    0.11  \n",
       "1                NaN  preT.DN1.Th    0.77  \n",
       "2                NaN  preT.DN1.Th    0.40  \n",
       "3                NaN  preT.DN1.Th    0.46  \n",
       "4                NaN  preT.DN1.Th    0.77  "
      ]
     },
     "execution_count": 3,
     "metadata": {},
     "output_type": "execute_result"
    }
   ],
   "source": [
    "refined_ATAC_data.head()"
   ]
  },
  {
   "cell_type": "markdown",
   "id": "0f005db6",
   "metadata": {},
   "source": [
    "___\n",
    "### 1. Computing descriptive statistics"
   ]
  },
  {
   "cell_type": "code",
   "execution_count": 4,
   "id": "3ac55e44",
   "metadata": {},
   "outputs": [
    {
     "data": {
      "text/plain": [
       "512595"
      ]
     },
     "execution_count": 4,
     "metadata": {},
     "output_type": "execute_result"
    }
   ],
   "source": [
    "peak_stats_df = (\n",
    "    refined_ATAC_data\n",
    "    .groupby(\"ImmGenATAC1219.peakID\")[\"Signal\"]\n",
    "    .agg(Mean=\"mean\", Median=\"median\", SD=\"std\")\n",
    "    .reset_index()\n",
    ")\n",
    "peak_stats_df[\"CV\"] = peak_stats_df[\"SD\"] / peak_stats_df[\"Mean\"]\n",
    "\n",
    "len(peak_stats_df[\"ImmGenATAC1219.peakID\"])"
   ]
  },
  {
   "cell_type": "code",
   "execution_count": 5,
   "id": "37c88c29",
   "metadata": {},
   "outputs": [
    {
     "data": {
      "text/html": [
       "<div>\n",
       "<style scoped>\n",
       "    .dataframe tbody tr th:only-of-type {\n",
       "        vertical-align: middle;\n",
       "    }\n",
       "\n",
       "    .dataframe tbody tr th {\n",
       "        vertical-align: top;\n",
       "    }\n",
       "\n",
       "    .dataframe thead th {\n",
       "        text-align: right;\n",
       "    }\n",
       "</style>\n",
       "<table border=\"1\" class=\"dataframe\">\n",
       "  <thead>\n",
       "    <tr style=\"text-align: right;\">\n",
       "      <th></th>\n",
       "      <th>ImmGenATAC1219.peakID</th>\n",
       "      <th>Mean</th>\n",
       "      <th>Median</th>\n",
       "      <th>SD</th>\n",
       "      <th>CV</th>\n",
       "    </tr>\n",
       "  </thead>\n",
       "  <tbody>\n",
       "    <tr>\n",
       "      <th>0</th>\n",
       "      <td>ImmGenATAC1219.peak_1</td>\n",
       "      <td>0.807586</td>\n",
       "      <td>0.71</td>\n",
       "      <td>0.720603</td>\n",
       "      <td>0.892293</td>\n",
       "    </tr>\n",
       "    <tr>\n",
       "      <th>1</th>\n",
       "      <td>ImmGenATAC1219.peak_10</td>\n",
       "      <td>1.126552</td>\n",
       "      <td>0.73</td>\n",
       "      <td>1.571949</td>\n",
       "      <td>1.395363</td>\n",
       "    </tr>\n",
       "    <tr>\n",
       "      <th>2</th>\n",
       "      <td>ImmGenATAC1219.peak_100</td>\n",
       "      <td>1.112069</td>\n",
       "      <td>1.06</td>\n",
       "      <td>0.640811</td>\n",
       "      <td>0.576233</td>\n",
       "    </tr>\n",
       "    <tr>\n",
       "      <th>3</th>\n",
       "      <td>ImmGenATAC1219.peak_1000</td>\n",
       "      <td>0.885172</td>\n",
       "      <td>0.87</td>\n",
       "      <td>0.740471</td>\n",
       "      <td>0.836527</td>\n",
       "    </tr>\n",
       "    <tr>\n",
       "      <th>4</th>\n",
       "      <td>ImmGenATAC1219.peak_10000</td>\n",
       "      <td>0.997931</td>\n",
       "      <td>0.94</td>\n",
       "      <td>0.730295</td>\n",
       "      <td>0.731809</td>\n",
       "    </tr>\n",
       "  </tbody>\n",
       "</table>\n",
       "</div>"
      ],
      "text/plain": [
       "       ImmGenATAC1219.peakID      Mean  Median        SD        CV\n",
       "0      ImmGenATAC1219.peak_1  0.807586    0.71  0.720603  0.892293\n",
       "1     ImmGenATAC1219.peak_10  1.126552    0.73  1.571949  1.395363\n",
       "2    ImmGenATAC1219.peak_100  1.112069    1.06  0.640811  0.576233\n",
       "3   ImmGenATAC1219.peak_1000  0.885172    0.87  0.740471  0.836527\n",
       "4  ImmGenATAC1219.peak_10000  0.997931    0.94  0.730295  0.731809"
      ]
     },
     "execution_count": 5,
     "metadata": {},
     "output_type": "execute_result"
    }
   ],
   "source": [
    "# Note: I was wondering why the peaks are not in chronological order. Apparently, the .groupby function sorts them as strings. That's why we have the 1s first (1, 10, 100...)\n",
    "peak_stats_df.head()"
   ]
  },
  {
   "cell_type": "code",
   "execution_count": 6,
   "id": "ef039be5",
   "metadata": {},
   "outputs": [
    {
     "data": {
      "text/html": [
       "<div>\n",
       "<style scoped>\n",
       "    .dataframe tbody tr th:only-of-type {\n",
       "        vertical-align: middle;\n",
       "    }\n",
       "\n",
       "    .dataframe tbody tr th {\n",
       "        vertical-align: top;\n",
       "    }\n",
       "\n",
       "    .dataframe thead th {\n",
       "        text-align: right;\n",
       "    }\n",
       "</style>\n",
       "<table border=\"1\" class=\"dataframe\">\n",
       "  <thead>\n",
       "    <tr style=\"text-align: right;\">\n",
       "      <th></th>\n",
       "      <th>ImmGenATAC1219.peakID</th>\n",
       "      <th>Mean</th>\n",
       "      <th>Median</th>\n",
       "      <th>SD</th>\n",
       "      <th>CV</th>\n",
       "    </tr>\n",
       "  </thead>\n",
       "  <tbody>\n",
       "    <tr>\n",
       "      <th>0</th>\n",
       "      <td>ImmGenATAC1219.peak_1</td>\n",
       "      <td>0.807586</td>\n",
       "      <td>0.71</td>\n",
       "      <td>0.720603</td>\n",
       "      <td>0.892293</td>\n",
       "    </tr>\n",
       "    <tr>\n",
       "      <th>1</th>\n",
       "      <td>ImmGenATAC1219.peak_2</td>\n",
       "      <td>1.135517</td>\n",
       "      <td>0.90</td>\n",
       "      <td>0.920999</td>\n",
       "      <td>0.811084</td>\n",
       "    </tr>\n",
       "    <tr>\n",
       "      <th>2</th>\n",
       "      <td>ImmGenATAC1219.peak_3</td>\n",
       "      <td>0.688621</td>\n",
       "      <td>0.40</td>\n",
       "      <td>0.745341</td>\n",
       "      <td>1.082369</td>\n",
       "    </tr>\n",
       "    <tr>\n",
       "      <th>3</th>\n",
       "      <td>ImmGenATAC1219.peak_4</td>\n",
       "      <td>0.788621</td>\n",
       "      <td>0.53</td>\n",
       "      <td>0.882103</td>\n",
       "      <td>1.118539</td>\n",
       "    </tr>\n",
       "    <tr>\n",
       "      <th>4</th>\n",
       "      <td>ImmGenATAC1219.peak_5</td>\n",
       "      <td>0.697586</td>\n",
       "      <td>0.51</td>\n",
       "      <td>0.571493</td>\n",
       "      <td>0.819244</td>\n",
       "    </tr>\n",
       "  </tbody>\n",
       "</table>\n",
       "</div>"
      ],
      "text/plain": [
       "   ImmGenATAC1219.peakID      Mean  Median        SD        CV\n",
       "0  ImmGenATAC1219.peak_1  0.807586    0.71  0.720603  0.892293\n",
       "1  ImmGenATAC1219.peak_2  1.135517    0.90  0.920999  0.811084\n",
       "2  ImmGenATAC1219.peak_3  0.688621    0.40  0.745341  1.082369\n",
       "3  ImmGenATAC1219.peak_4  0.788621    0.53  0.882103  1.118539\n",
       "4  ImmGenATAC1219.peak_5  0.697586    0.51  0.571493  0.819244"
      ]
     },
     "execution_count": 6,
     "metadata": {},
     "output_type": "execute_result"
    }
   ],
   "source": [
    "# To sort them numerically, we need to extract the numerical part in an extra step.\n",
    "peak_stats_df[\"peak_num\"] = peak_stats_df[\"ImmGenATAC1219.peakID\"].str.extract(r'_(\\d+)$').astype(int)\n",
    "peak_stats_df = peak_stats_df.sort_values(\"peak_num\").drop(columns=\"peak_num\")\n",
    "peak_stats_df = peak_stats_df.reset_index(drop=True)\n",
    "\n",
    "peak_stats_df.head()"
   ]
  },
  {
   "cell_type": "markdown",
   "id": "351a2397",
   "metadata": {},
   "source": [
    "Looking at the extreme mean values, one could deduce that chromatin signal is variable. To see the extent of this, we will now visualize the data in histograms."
   ]
  },
  {
   "cell_type": "code",
   "execution_count": 26,
   "id": "3c298922",
   "metadata": {},
   "outputs": [
    {
     "name": "stdout",
     "output_type": "stream",
     "text": [
      "Minimum ATAC mean signal: 0.12586206896551724\n",
      "Maximum ATAC mean signal: 705.7179310344827\n"
     ]
    }
   ],
   "source": [
    "print(f\"Minimum ATAC mean signal: {peak_stats_df['Mean'].min()}\")\n",
    "print(f\"Maximum ATAC mean signal: {peak_stats_df['Mean'].max()}\")"
   ]
  },
  {
   "cell_type": "markdown",
   "id": "415ef1fb",
   "metadata": {},
   "source": [
    "___\n",
    "### 2. Visualization of ATAC signal"
   ]
  },
  {
   "cell_type": "markdown",
   "id": "e00be49d",
   "metadata": {},
   "source": [
    "<p align=\"justify\">\n",
    "The histograms below (Fig. 1-2) show that most peaks have low mean accessibility. Values as extreme as the one above (705.72) appear to be exceptions. Whether this has biological relevance or not, must be analyzed further. This would also suggest that small differences in accessibility could have a significant effect. The same considerations also apply for the coefficient of variance (Fig. 3)\n",
    "</p>"
   ]
  },
  {
   "cell_type": "code",
   "execution_count": 28,
   "id": "3c4079c4",
   "metadata": {},
   "outputs": [
    {
     "data": {
      "image/png": "[encoded data removed]",
      "text/plain": [
       "<Figure size 640x480 with 1 Axes>"
      ]
     },
     "metadata": {},
     "output_type": "display_data"
    }
   ],
   "source": [
    "sns.histplot(peak_stats_df[\"Mean\"], bins = 100, kde = True)\n",
    "plt.title(\"Distribution of Mean ATAC Signal per Peak\")\n",
    "plt.xlabel(\"Mean Signal\")\n",
    "plt.ylabel(\"Number of Peaks\")\n",
    "plt.show()"
   ]
  },
  {
   "cell_type": "markdown",
   "id": "6ae78669",
   "metadata": {},
   "source": [
    "**Fig. 1: Distribution of mean ATAC signal per peak across cell types**. The histogram shows that most peaks have a relatively low accessibility."
   ]
  },
  {
   "cell_type": "code",
   "execution_count": 29,
   "id": "135551f3",
   "metadata": {},
   "outputs": [
    {
     "data": {
      "image/png": "[encoded data removed]",
      "text/plain": [
       "<Figure size 640x480 with 1 Axes>"
      ]
     },
     "metadata": {},
     "output_type": "display_data"
    }
   ],
   "source": [
    "sns.histplot(peak_stats_df[\"Mean\"], bins = 500, kde = True)\n",
    "plt.title(\"Distribution of Mean ATAC Signal per Peak\")\n",
    "plt.xlabel(\"Mean Signal\")\n",
    "plt.ylabel(\"Number of Peaks\")\n",
    "plt.xlim(0, 50)\n",
    "plt.show()"
   ]
  },
  {
   "cell_type": "markdown",
   "id": "05e9550b",
   "metadata": {},
   "source": [
    "**Fig. 2: Distribution of mean ATAC signal per peak across cell types (Zoomed)**"
   ]
  },
  {
   "cell_type": "code",
   "execution_count": null,
   "id": "91c3fedb",
   "metadata": {},
   "outputs": [
    {
     "data": {
      "text/plain": [
       "Text(0.5, 1.0, 'Distribution of Coefficient of Variation (CV) per Peak')"
      ]
     },
     "execution_count": 8,
     "metadata": {},
     "output_type": "execute_result"
    },
    {
     "data": {
      "image/png": "[encoded data removed]",
      "text/plain": [
       "<Figure size 640x480 with 1 Axes>"
      ]
     },
     "metadata": {},
     "output_type": "display_data"
    }
   ],
   "source": [
    "sns.histplot(peak_stats_df[\"CV\"], bins=100, kde=True)\n",
    "plt.title(\"Distribution of Coefficient of Variation (CV) per Peak\")"
   ]
  },
  {
   "cell_type": "markdown",
   "id": "33f9d0ab",
   "metadata": {},
   "source": [
    "**Fig. 3**: Distribution of coefficient of variance (CV) per peak"
   ]
  },
  {
   "cell_type": "markdown",
   "id": "17873873",
   "metadata": {},
   "source": [
    "___\n",
    "### 3. Conclusion"
   ]
  },
  {
   "cell_type": "markdown",
   "id": "a29fa7d7",
   "metadata": {},
   "source": [
    "<p align=\"justify\">\n",
    "In conclusion, chromatin accessibility across peaks is concentrated around lower values with some exceptions. Therefore, small changes could be significant for our project purposes and should be analyzed further. \n",
    "</p>"
   ]
  }
 ],
 "metadata": {
  "kernelspec": {
   "display_name": "Python (REAL_FORKED_Bioinfo_project)",
   "language": "python",
   "name": "real_forked_bioinfo_project"
  },
  "language_info": {
   "codemirror_mode": {
    "name": "ipython",
    "version": 3
   },
   "file_extension": ".py",
   "mimetype": "text/x-python",
   "name": "python",
   "nbconvert_exporter": "python",
   "pygments_lexer": "ipython3",
   "version": "3.10.18"
  }
 },
 "nbformat": 4,
 "nbformat_minor": 5
}
