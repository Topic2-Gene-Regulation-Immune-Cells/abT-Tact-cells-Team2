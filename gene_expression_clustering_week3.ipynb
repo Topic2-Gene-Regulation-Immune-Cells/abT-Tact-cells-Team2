{
 "cells": [
  {
   "cell_type": "code",
   "execution_count": 3,
   "id": "60533b4f",
   "metadata": {},
   "outputs": [
    {
     "name": "stdout",
     "output_type": "stream",
     "text": [
      "✅ Filtered shape: (17535, 29)\n"
     ]
    }
   ],
   "source": [
    "import pandas as pd\n",
    "\n",
    "df = pd.read_csv(\"mmc2.csv\", index_col=0)\n",
    "\n",
    "cell_types_to_keep = [\n",
    "    \"preT.DN1.Th\", \"preT.DN2a.Th\", \"preT.DN2b.Th\", \"preT.DN3.Th\",\n",
    "    \"T.DN4.Th\", \"T.ISP.Th\", \"T.DP.Th\", \"T.4.Th\", \"T.8.Th\",\n",
    "    \"T.4.Nve.Sp\", \"T.4.Nve.Fem.Sp\", \"T.4.Sp.aCD3+CD40.18hr\", \"T.8.Nve.Sp\",\n",
    "    \"Treg.4.25hi.Sp\", \"Treg.4.FP3+.Nrplo.Co\",\n",
    "    \"T8.TN.P14.Sp\", \"T8.TE.LCMV.d7.Sp\", \"T8.MP.LCMV.d7.Sp\", \"T8.IEL.LCMV.d7.Gut\",\n",
    "    \"T8.Tcm.LCMV.d180.Sp\", \"T8.Tem.LCMV.d180.Sp\",\n",
    "    \"NKT.Sp\", \"NKT.Sp.LPS.3hr\", \"NKT.Sp.LPS.18hr\", \"NKT.Sp.LPS.3d\",\n",
    "    \"LTHSC.34-.BM\", \"LTHSC.34+.BM\", \"STHSC.150-.BM\", \"MPP4.135+.BM\"\n",
    "]\n",
    "\n",
    "filtered_df = df[cell_types_to_keep]\n",
    "filtered_df.to_csv(\"filtered_abT_Tact_Stem.csv\")\n",
    "print(\"✅ Filtered shape:\", filtered_df.shape)"
   ]
  }
 ],
 "metadata": {
  "kernelspec": {
   "display_name": "REAL_FORKED_Bioinfo_project",
   "language": "python",
   "name": "python3"
  },
  "language_info": {
   "codemirror_mode": {
    "name": "ipython",
    "version": 3
   },
   "file_extension": ".py",
   "mimetype": "text/x-python",
   "name": "python",
   "nbconvert_exporter": "python",
   "pygments_lexer": "ipython3",
   "version": "3.10.17"
  }
 },
 "nbformat": 4,
 "nbformat_minor": 5
}
