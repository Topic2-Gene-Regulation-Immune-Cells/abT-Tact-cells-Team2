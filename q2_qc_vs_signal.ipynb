{
 "cells": [
  {
   "cell_type": "code",
   "execution_count": null,
   "id": "eb9d5e24",
   "metadata": {
    "vscode": {
     "languageId": "plaintext"
    }
   },
   "outputs": [],
   "source": [
    "import pandas as pd\n",
    "\n",
    "QC = pd.read_excel(\"mmc1-QC.xlsx\")  # load Excel into a DataFrame called QC\n",
    "print(QC.head())                   # print first 5 rows of the DataFrame\n"
   ]
  }
 ],
 "metadata": {
  "language_info": {
   "name": "python"
  }
 },
 "nbformat": 4,
 "nbformat_minor": 5
}
