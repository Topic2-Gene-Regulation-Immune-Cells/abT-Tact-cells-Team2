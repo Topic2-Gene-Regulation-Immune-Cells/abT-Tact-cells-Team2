{
 "cells": [
  {
   "cell_type": "code",
   "execution_count": 103,
   "id": "4efd625b",
   "metadata": {},
   "outputs": [],
   "source": [
    "import matplotlib\n",
    "matplotlib.use('Agg')      # a pure‐Python, non‐interactive backend\n",
    "%matplotlib inline        \n"
   ]
  },
  {
   "cell_type": "code",
   "execution_count": 104,
   "id": "fec22fbb",
   "metadata": {},
   "outputs": [],
   "source": [
    "import numpy as np\n",
    "import seaborn as sns\n",
    "import matplotlib.pyplot as plt\n",
    "from IPython.display import Image, display\n"
   ]
  },
  {
   "cell_type": "code",
   "execution_count": 105,
   "id": "47c36812",
   "metadata": {},
   "outputs": [
    {
     "name": "stdout",
     "output_type": "stream",
     "text": [
      "Shape: (56848, 5)\n",
      "Columns: ['Unnamed: 0', 'gene', 'peak_ID', 'coefficient', 'r2']\n"
     ]
    },
    {
     "data": {
      "text/html": [
       "<div>\n",
       "<style scoped>\n",
       "    .dataframe tbody tr th:only-of-type {\n",
       "        vertical-align: middle;\n",
       "    }\n",
       "\n",
       "    .dataframe tbody tr th {\n",
       "        vertical-align: top;\n",
       "    }\n",
       "\n",
       "    .dataframe thead th {\n",
       "        text-align: right;\n",
       "    }\n",
       "</style>\n",
       "<table border=\"1\" class=\"dataframe\">\n",
       "  <thead>\n",
       "    <tr style=\"text-align: right;\">\n",
       "      <th></th>\n",
       "      <th>Unnamed: 0</th>\n",
       "      <th>gene</th>\n",
       "      <th>peak_ID</th>\n",
       "      <th>coefficient</th>\n",
       "      <th>r2</th>\n",
       "    </tr>\n",
       "  </thead>\n",
       "  <tbody>\n",
       "    <tr>\n",
       "      <th>0</th>\n",
       "      <td>0</td>\n",
       "      <td>Rp1</td>\n",
       "      <td>ImmGenATAC1219.peak_77</td>\n",
       "      <td>-0.012807</td>\n",
       "      <td>0.078561</td>\n",
       "    </tr>\n",
       "    <tr>\n",
       "      <th>1</th>\n",
       "      <td>1</td>\n",
       "      <td>Sox17</td>\n",
       "      <td>ImmGenATAC1219.peak_77</td>\n",
       "      <td>-0.003475</td>\n",
       "      <td>0.054538</td>\n",
       "    </tr>\n",
       "    <tr>\n",
       "      <th>2</th>\n",
       "      <td>2</td>\n",
       "      <td>Sox17</td>\n",
       "      <td>ImmGenATAC1219.peak_83</td>\n",
       "      <td>-0.001693</td>\n",
       "      <td>0.054538</td>\n",
       "    </tr>\n",
       "    <tr>\n",
       "      <th>3</th>\n",
       "      <td>3</td>\n",
       "      <td>Sox17</td>\n",
       "      <td>ImmGenATAC1219.peak_96</td>\n",
       "      <td>-0.003925</td>\n",
       "      <td>0.054538</td>\n",
       "    </tr>\n",
       "    <tr>\n",
       "      <th>4</th>\n",
       "      <td>4</td>\n",
       "      <td>Tcea1</td>\n",
       "      <td>ImmGenATAC1219.peak_137</td>\n",
       "      <td>0.922185</td>\n",
       "      <td>0.478855</td>\n",
       "    </tr>\n",
       "  </tbody>\n",
       "</table>\n",
       "</div>"
      ],
      "text/plain": [
       "   Unnamed: 0   gene                  peak_ID  coefficient        r2\n",
       "0           0    Rp1   ImmGenATAC1219.peak_77    -0.012807  0.078561\n",
       "1           1  Sox17   ImmGenATAC1219.peak_77    -0.003475  0.054538\n",
       "2           2  Sox17   ImmGenATAC1219.peak_83    -0.001693  0.054538\n",
       "3           3  Sox17   ImmGenATAC1219.peak_96    -0.003925  0.054538\n",
       "4           4  Tcea1  ImmGenATAC1219.peak_137     0.922185  0.478855"
      ]
     },
     "execution_count": 105,
     "metadata": {},
     "output_type": "execute_result"
    }
   ],
   "source": [
    "import pandas as pd\n",
    "\n",
    "# 1) Load your regression output\n",
    "reg = pd.read_csv(\"regression_results.csv\")\n",
    "\n",
    "# 2) Quick sanity checks\n",
    "print(\"Shape:\", reg.shape)           # how many rows × columns?\n",
    "print(\"Columns:\", reg.columns.tolist())  \n",
    "reg.head()                           # peek at the first 5 lines\n"
   ]
  },
  {
   "cell_type": "code",
   "execution_count": 106,
   "id": "3ac9b99d",
   "metadata": {},
   "outputs": [
    {
     "name": "stdout",
     "output_type": "stream",
     "text": [
      "Annot shape: (75857, 5)\n",
      "Annot cols: ['ImmGenATAC1219.peakID', 'chrom', 'peak_center', 'closest_tss', 'distance_to_tss']\n",
      "R² ≥ 0.75 → 24816 links (43.7 %)\n",
      "R² ≥ 0.7  → 28746 links (50.6 %)\n",
      "R² ≥ 0.5  → 41710 links (73.4 %)\n",
      "R² ≥ 0.2  → 52155 links (91.7 %)\n",
      "R² ≥ 0.1  → 54249 links (95.4 %)\n",
      "R² ≥ 0.05 → 55315 links (97.3 %)\n"
     ]
    }
   ],
   "source": [
    "annot = pd.read_csv(\"peaks_tss_distance.csv\")\n",
    "print(\"Annot shape:\", annot.shape)\n",
    "print(\"Annot cols:\",  annot.columns.tolist())\n",
    "annot.head()\n",
    "# try a few relaxed cutoffs\n",
    "for cutoff in [0.75, 0.7, 0.5, 0.2, 0.1, 0.05]:\n",
    "    kept = (reg.r2 >= cutoff).sum()\n",
    "    pct  = kept / len(reg) * 100\n",
    "    print(f\"R² ≥ {cutoff:<4} → {kept:5d} links ({pct:4.1f} %)\")\n"
   ]
  },
  {
   "cell_type": "code",
   "execution_count": 107,
   "id": "f0ea9905",
   "metadata": {},
   "outputs": [],
   "source": [
    "import pandas as pd\n",
    "\n",
    "# your regression results\n",
    "reg = pd.read_csv(\"regression_results.csv\")\n",
    "\n",
    "# your TSS–distance lookup\n",
    "dist = pd.read_csv(\"peaks_tss_distance.csv\")\n",
    "\n",
    "dist = dist.rename(columns={\"ImmGenATAC1219.peakID\": \"peak_ID\"})\n"
   ]
  },
  {
   "cell_type": "code",
   "execution_count": 108,
   "id": "96fd0cc6",
   "metadata": {},
   "outputs": [],
   "source": [
    "reg2 = reg.merge(\n",
    "    dist[[\"peak_ID\",\"distance_to_tss\"]],\n",
    "    on=\"peak_ID\",\n",
    "    how=\"left\",\n",
    "    validate=\"m:1\"   # many reg rows → one dist row\n",
    ")\n"
   ]
  },
  {
   "cell_type": "code",
   "execution_count": 109,
   "id": "20f69b9b",
   "metadata": {},
   "outputs": [
    {
     "name": "stdout",
     "output_type": "stream",
     "text": [
      "0 links have no distance; all others got filled in.\n"
     ]
    }
   ],
   "source": [
    "n_missing = reg2[\"distance_to_tss\"].isna().sum()\n",
    "print(f\"{n_missing} links have no distance; all others got filled in.\")\n"
   ]
  },
  {
   "cell_type": "code",
   "execution_count": 110,
   "id": "62994bfc",
   "metadata": {},
   "outputs": [
    {
     "name": "stdout",
     "output_type": "stream",
     "text": [
      "(56848, 6)\n"
     ]
    },
    {
     "data": {
      "text/html": [
       "<div>\n",
       "<style scoped>\n",
       "    .dataframe tbody tr th:only-of-type {\n",
       "        vertical-align: middle;\n",
       "    }\n",
       "\n",
       "    .dataframe tbody tr th {\n",
       "        vertical-align: top;\n",
       "    }\n",
       "\n",
       "    .dataframe thead th {\n",
       "        text-align: right;\n",
       "    }\n",
       "</style>\n",
       "<table border=\"1\" class=\"dataframe\">\n",
       "  <thead>\n",
       "    <tr style=\"text-align: right;\">\n",
       "      <th></th>\n",
       "      <th>Unnamed: 0</th>\n",
       "      <th>gene</th>\n",
       "      <th>peak_ID</th>\n",
       "      <th>coefficient</th>\n",
       "      <th>r2</th>\n",
       "      <th>distance_to_tss</th>\n",
       "    </tr>\n",
       "  </thead>\n",
       "  <tbody>\n",
       "    <tr>\n",
       "      <th>0</th>\n",
       "      <td>0</td>\n",
       "      <td>Rp1</td>\n",
       "      <td>ImmGenATAC1219.peak_77</td>\n",
       "      <td>-0.012807</td>\n",
       "      <td>0.078561</td>\n",
       "      <td>6702.0</td>\n",
       "    </tr>\n",
       "    <tr>\n",
       "      <th>1</th>\n",
       "      <td>1</td>\n",
       "      <td>Sox17</td>\n",
       "      <td>ImmGenATAC1219.peak_77</td>\n",
       "      <td>-0.003475</td>\n",
       "      <td>0.054538</td>\n",
       "      <td>6702.0</td>\n",
       "    </tr>\n",
       "    <tr>\n",
       "      <th>2</th>\n",
       "      <td>2</td>\n",
       "      <td>Sox17</td>\n",
       "      <td>ImmGenATAC1219.peak_83</td>\n",
       "      <td>-0.001693</td>\n",
       "      <td>0.054538</td>\n",
       "      <td>875.0</td>\n",
       "    </tr>\n",
       "    <tr>\n",
       "      <th>3</th>\n",
       "      <td>3</td>\n",
       "      <td>Sox17</td>\n",
       "      <td>ImmGenATAC1219.peak_96</td>\n",
       "      <td>-0.003925</td>\n",
       "      <td>0.054538</td>\n",
       "      <td>74643.0</td>\n",
       "    </tr>\n",
       "    <tr>\n",
       "      <th>4</th>\n",
       "      <td>4</td>\n",
       "      <td>Tcea1</td>\n",
       "      <td>ImmGenATAC1219.peak_137</td>\n",
       "      <td>0.922185</td>\n",
       "      <td>0.478855</td>\n",
       "      <td>10510.0</td>\n",
       "    </tr>\n",
       "  </tbody>\n",
       "</table>\n",
       "</div>"
      ],
      "text/plain": [
       "   Unnamed: 0   gene                  peak_ID  coefficient        r2  \\\n",
       "0           0    Rp1   ImmGenATAC1219.peak_77    -0.012807  0.078561   \n",
       "1           1  Sox17   ImmGenATAC1219.peak_77    -0.003475  0.054538   \n",
       "2           2  Sox17   ImmGenATAC1219.peak_83    -0.001693  0.054538   \n",
       "3           3  Sox17   ImmGenATAC1219.peak_96    -0.003925  0.054538   \n",
       "4           4  Tcea1  ImmGenATAC1219.peak_137     0.922185  0.478855   \n",
       "\n",
       "   distance_to_tss  \n",
       "0           6702.0  \n",
       "1           6702.0  \n",
       "2            875.0  \n",
       "3          74643.0  \n",
       "4          10510.0  "
      ]
     },
     "execution_count": 110,
     "metadata": {},
     "output_type": "execute_result"
    }
   ],
   "source": [
    "print(reg2.shape)        # should be same # rows as reg\n",
    "reg2.head()\n"
   ]
  },
  {
   "cell_type": "code",
   "execution_count": 111,
   "id": "39173202",
   "metadata": {},
   "outputs": [
    {
     "name": "stdout",
     "output_type": "stream",
     "text": [
      "28746 links out of 56848 pass R² ≥ 0.7\n"
     ]
    },
    {
     "data": {
      "text/html": [
       "<div>\n",
       "<style scoped>\n",
       "    .dataframe tbody tr th:only-of-type {\n",
       "        vertical-align: middle;\n",
       "    }\n",
       "\n",
       "    .dataframe tbody tr th {\n",
       "        vertical-align: top;\n",
       "    }\n",
       "\n",
       "    .dataframe thead th {\n",
       "        text-align: right;\n",
       "    }\n",
       "</style>\n",
       "<table border=\"1\" class=\"dataframe\">\n",
       "  <thead>\n",
       "    <tr style=\"text-align: right;\">\n",
       "      <th></th>\n",
       "      <th>Unnamed: 0</th>\n",
       "      <th>gene</th>\n",
       "      <th>peak_ID</th>\n",
       "      <th>coefficient</th>\n",
       "      <th>r2</th>\n",
       "      <th>distance_to_tss</th>\n",
       "    </tr>\n",
       "  </thead>\n",
       "  <tbody>\n",
       "    <tr>\n",
       "      <th>13</th>\n",
       "      <td>13</td>\n",
       "      <td>Pcmtd1</td>\n",
       "      <td>ImmGenATAC1219.peak_376</td>\n",
       "      <td>-1.367742</td>\n",
       "      <td>0.752231</td>\n",
       "      <td>394.0</td>\n",
       "    </tr>\n",
       "    <tr>\n",
       "      <th>14</th>\n",
       "      <td>14</td>\n",
       "      <td>Pcmtd1</td>\n",
       "      <td>ImmGenATAC1219.peak_377</td>\n",
       "      <td>-2.494725</td>\n",
       "      <td>0.752231</td>\n",
       "      <td>144.0</td>\n",
       "    </tr>\n",
       "    <tr>\n",
       "      <th>15</th>\n",
       "      <td>15</td>\n",
       "      <td>Pcmtd1</td>\n",
       "      <td>ImmGenATAC1219.peak_378</td>\n",
       "      <td>3.276884</td>\n",
       "      <td>0.752231</td>\n",
       "      <td>132.0</td>\n",
       "    </tr>\n",
       "    <tr>\n",
       "      <th>16</th>\n",
       "      <td>16</td>\n",
       "      <td>Pcmtd1</td>\n",
       "      <td>ImmGenATAC1219.peak_380</td>\n",
       "      <td>5.020475</td>\n",
       "      <td>0.752231</td>\n",
       "      <td>7143.0</td>\n",
       "    </tr>\n",
       "    <tr>\n",
       "      <th>17</th>\n",
       "      <td>17</td>\n",
       "      <td>Pcmtd1</td>\n",
       "      <td>ImmGenATAC1219.peak_408</td>\n",
       "      <td>0.983100</td>\n",
       "      <td>0.752231</td>\n",
       "      <td>58306.0</td>\n",
       "    </tr>\n",
       "    <tr>\n",
       "      <th>18</th>\n",
       "      <td>18</td>\n",
       "      <td>Pcmtd1</td>\n",
       "      <td>ImmGenATAC1219.peak_413</td>\n",
       "      <td>7.729939</td>\n",
       "      <td>0.752231</td>\n",
       "      <td>75027.0</td>\n",
       "    </tr>\n",
       "    <tr>\n",
       "      <th>22</th>\n",
       "      <td>22</td>\n",
       "      <td>Sgk3</td>\n",
       "      <td>ImmGenATAC1219.peak_577</td>\n",
       "      <td>-0.586173</td>\n",
       "      <td>0.820577</td>\n",
       "      <td>93.0</td>\n",
       "    </tr>\n",
       "    <tr>\n",
       "      <th>23</th>\n",
       "      <td>23</td>\n",
       "      <td>Sgk3</td>\n",
       "      <td>ImmGenATAC1219.peak_594</td>\n",
       "      <td>3.325265</td>\n",
       "      <td>0.820577</td>\n",
       "      <td>81.0</td>\n",
       "    </tr>\n",
       "    <tr>\n",
       "      <th>24</th>\n",
       "      <td>24</td>\n",
       "      <td>Sgk3</td>\n",
       "      <td>ImmGenATAC1219.peak_601</td>\n",
       "      <td>13.819465</td>\n",
       "      <td>0.820577</td>\n",
       "      <td>8000.0</td>\n",
       "    </tr>\n",
       "    <tr>\n",
       "      <th>25</th>\n",
       "      <td>25</td>\n",
       "      <td>Sgk3</td>\n",
       "      <td>ImmGenATAC1219.peak_602</td>\n",
       "      <td>7.729455</td>\n",
       "      <td>0.820577</td>\n",
       "      <td>9691.0</td>\n",
       "    </tr>\n",
       "  </tbody>\n",
       "</table>\n",
       "</div>"
      ],
      "text/plain": [
       "    Unnamed: 0    gene                  peak_ID  coefficient        r2  \\\n",
       "13          13  Pcmtd1  ImmGenATAC1219.peak_376    -1.367742  0.752231   \n",
       "14          14  Pcmtd1  ImmGenATAC1219.peak_377    -2.494725  0.752231   \n",
       "15          15  Pcmtd1  ImmGenATAC1219.peak_378     3.276884  0.752231   \n",
       "16          16  Pcmtd1  ImmGenATAC1219.peak_380     5.020475  0.752231   \n",
       "17          17  Pcmtd1  ImmGenATAC1219.peak_408     0.983100  0.752231   \n",
       "18          18  Pcmtd1  ImmGenATAC1219.peak_413     7.729939  0.752231   \n",
       "22          22    Sgk3  ImmGenATAC1219.peak_577    -0.586173  0.820577   \n",
       "23          23    Sgk3  ImmGenATAC1219.peak_594     3.325265  0.820577   \n",
       "24          24    Sgk3  ImmGenATAC1219.peak_601    13.819465  0.820577   \n",
       "25          25    Sgk3  ImmGenATAC1219.peak_602     7.729455  0.820577   \n",
       "\n",
       "    distance_to_tss  \n",
       "13            394.0  \n",
       "14            144.0  \n",
       "15            132.0  \n",
       "16           7143.0  \n",
       "17          58306.0  \n",
       "18          75027.0  \n",
       "22             93.0  \n",
       "23             81.0  \n",
       "24           8000.0  \n",
       "25           9691.0  "
      ]
     },
     "execution_count": 111,
     "metadata": {},
     "output_type": "execute_result"
    }
   ],
   "source": [
    "# 1) apply your R² cutoff\n",
    "high_conf = reg2[reg2[\"r2\"] >= 0.7].copy()\n",
    "\n",
    "# 2) how many remain?\n",
    "print(f\"{len(high_conf)} links out of {len(reg2)} pass R² ≥ 0.7\")\n",
    "\n",
    "# 3) peek at them\n",
    "high_conf.head(10)\n"
   ]
  },
  {
   "cell_type": "code",
   "execution_count": 112,
   "id": "e61f808f",
   "metadata": {},
   "outputs": [
    {
     "data": {
      "text/html": [
       "<div>\n",
       "<style scoped>\n",
       "    .dataframe tbody tr th:only-of-type {\n",
       "        vertical-align: middle;\n",
       "    }\n",
       "\n",
       "    .dataframe tbody tr th {\n",
       "        vertical-align: top;\n",
       "    }\n",
       "\n",
       "    .dataframe thead th {\n",
       "        text-align: right;\n",
       "    }\n",
       "</style>\n",
       "<table border=\"1\" class=\"dataframe\">\n",
       "  <thead>\n",
       "    <tr style=\"text-align: right;\">\n",
       "      <th></th>\n",
       "      <th>gene</th>\n",
       "      <th>peak_ID</th>\n",
       "      <th>coefficient</th>\n",
       "      <th>r2</th>\n",
       "      <th>distance_to_tss</th>\n",
       "      <th>role</th>\n",
       "    </tr>\n",
       "  </thead>\n",
       "  <tbody>\n",
       "    <tr>\n",
       "      <th>13</th>\n",
       "      <td>Pcmtd1</td>\n",
       "      <td>ImmGenATAC1219.peak_376</td>\n",
       "      <td>-1.367742</td>\n",
       "      <td>0.752231</td>\n",
       "      <td>394.0</td>\n",
       "      <td>repressor</td>\n",
       "    </tr>\n",
       "    <tr>\n",
       "      <th>14</th>\n",
       "      <td>Pcmtd1</td>\n",
       "      <td>ImmGenATAC1219.peak_377</td>\n",
       "      <td>-2.494725</td>\n",
       "      <td>0.752231</td>\n",
       "      <td>144.0</td>\n",
       "      <td>repressor</td>\n",
       "    </tr>\n",
       "    <tr>\n",
       "      <th>15</th>\n",
       "      <td>Pcmtd1</td>\n",
       "      <td>ImmGenATAC1219.peak_378</td>\n",
       "      <td>3.276884</td>\n",
       "      <td>0.752231</td>\n",
       "      <td>132.0</td>\n",
       "      <td>promoter</td>\n",
       "    </tr>\n",
       "    <tr>\n",
       "      <th>16</th>\n",
       "      <td>Pcmtd1</td>\n",
       "      <td>ImmGenATAC1219.peak_380</td>\n",
       "      <td>5.020475</td>\n",
       "      <td>0.752231</td>\n",
       "      <td>7143.0</td>\n",
       "      <td>activator</td>\n",
       "    </tr>\n",
       "    <tr>\n",
       "      <th>17</th>\n",
       "      <td>Pcmtd1</td>\n",
       "      <td>ImmGenATAC1219.peak_408</td>\n",
       "      <td>0.983100</td>\n",
       "      <td>0.752231</td>\n",
       "      <td>58306.0</td>\n",
       "      <td>activator</td>\n",
       "    </tr>\n",
       "    <tr>\n",
       "      <th>18</th>\n",
       "      <td>Pcmtd1</td>\n",
       "      <td>ImmGenATAC1219.peak_413</td>\n",
       "      <td>7.729939</td>\n",
       "      <td>0.752231</td>\n",
       "      <td>75027.0</td>\n",
       "      <td>activator</td>\n",
       "    </tr>\n",
       "    <tr>\n",
       "      <th>22</th>\n",
       "      <td>Sgk3</td>\n",
       "      <td>ImmGenATAC1219.peak_577</td>\n",
       "      <td>-0.586173</td>\n",
       "      <td>0.820577</td>\n",
       "      <td>93.0</td>\n",
       "      <td>repressor</td>\n",
       "    </tr>\n",
       "    <tr>\n",
       "      <th>23</th>\n",
       "      <td>Sgk3</td>\n",
       "      <td>ImmGenATAC1219.peak_594</td>\n",
       "      <td>3.325265</td>\n",
       "      <td>0.820577</td>\n",
       "      <td>81.0</td>\n",
       "      <td>activator</td>\n",
       "    </tr>\n",
       "    <tr>\n",
       "      <th>24</th>\n",
       "      <td>Sgk3</td>\n",
       "      <td>ImmGenATAC1219.peak_601</td>\n",
       "      <td>13.819465</td>\n",
       "      <td>0.820577</td>\n",
       "      <td>8000.0</td>\n",
       "      <td>activator</td>\n",
       "    </tr>\n",
       "    <tr>\n",
       "      <th>25</th>\n",
       "      <td>Sgk3</td>\n",
       "      <td>ImmGenATAC1219.peak_602</td>\n",
       "      <td>7.729455</td>\n",
       "      <td>0.820577</td>\n",
       "      <td>9691.0</td>\n",
       "      <td>activator</td>\n",
       "    </tr>\n",
       "    <tr>\n",
       "      <th>26</th>\n",
       "      <td>Sgk3</td>\n",
       "      <td>ImmGenATAC1219.peak_607</td>\n",
       "      <td>1.024494</td>\n",
       "      <td>0.820577</td>\n",
       "      <td>24941.0</td>\n",
       "      <td>activator</td>\n",
       "    </tr>\n",
       "    <tr>\n",
       "      <th>27</th>\n",
       "      <td>Sgk3</td>\n",
       "      <td>ImmGenATAC1219.peak_616</td>\n",
       "      <td>2.582321</td>\n",
       "      <td>0.820577</td>\n",
       "      <td>14628.0</td>\n",
       "      <td>activator</td>\n",
       "    </tr>\n",
       "    <tr>\n",
       "      <th>28</th>\n",
       "      <td>Sgk3</td>\n",
       "      <td>ImmGenATAC1219.peak_623</td>\n",
       "      <td>1.982050</td>\n",
       "      <td>0.820577</td>\n",
       "      <td>16.0</td>\n",
       "      <td>promoter</td>\n",
       "    </tr>\n",
       "    <tr>\n",
       "      <th>29</th>\n",
       "      <td>Sgk3</td>\n",
       "      <td>ImmGenATAC1219.peak_624</td>\n",
       "      <td>-1.563778</td>\n",
       "      <td>0.820577</td>\n",
       "      <td>317.0</td>\n",
       "      <td>repressor</td>\n",
       "    </tr>\n",
       "    <tr>\n",
       "      <th>30</th>\n",
       "      <td>Sgk3</td>\n",
       "      <td>ImmGenATAC1219.peak_631</td>\n",
       "      <td>-1.424061</td>\n",
       "      <td>0.820577</td>\n",
       "      <td>10884.0</td>\n",
       "      <td>repressor</td>\n",
       "    </tr>\n",
       "    <tr>\n",
       "      <th>31</th>\n",
       "      <td>Sgk3</td>\n",
       "      <td>ImmGenATAC1219.peak_632</td>\n",
       "      <td>-0.171394</td>\n",
       "      <td>0.820577</td>\n",
       "      <td>11225.0</td>\n",
       "      <td>repressor</td>\n",
       "    </tr>\n",
       "    <tr>\n",
       "      <th>32</th>\n",
       "      <td>Sgk3</td>\n",
       "      <td>ImmGenATAC1219.peak_645</td>\n",
       "      <td>0.512596</td>\n",
       "      <td>0.820577</td>\n",
       "      <td>25276.0</td>\n",
       "      <td>activator</td>\n",
       "    </tr>\n",
       "    <tr>\n",
       "      <th>46</th>\n",
       "      <td>Arfgef1</td>\n",
       "      <td>ImmGenATAC1219.peak_718</td>\n",
       "      <td>0.561772</td>\n",
       "      <td>0.715752</td>\n",
       "      <td>12350.0</td>\n",
       "      <td>activator</td>\n",
       "    </tr>\n",
       "    <tr>\n",
       "      <th>47</th>\n",
       "      <td>Arfgef1</td>\n",
       "      <td>ImmGenATAC1219.peak_720</td>\n",
       "      <td>6.120895</td>\n",
       "      <td>0.715752</td>\n",
       "      <td>7046.0</td>\n",
       "      <td>promoter</td>\n",
       "    </tr>\n",
       "    <tr>\n",
       "      <th>48</th>\n",
       "      <td>Arfgef1</td>\n",
       "      <td>ImmGenATAC1219.peak_736</td>\n",
       "      <td>-1.235321</td>\n",
       "      <td>0.715752</td>\n",
       "      <td>25018.0</td>\n",
       "      <td>repressor</td>\n",
       "    </tr>\n",
       "  </tbody>\n",
       "</table>\n",
       "</div>"
      ],
      "text/plain": [
       "       gene                  peak_ID  coefficient        r2  distance_to_tss  \\\n",
       "13   Pcmtd1  ImmGenATAC1219.peak_376    -1.367742  0.752231            394.0   \n",
       "14   Pcmtd1  ImmGenATAC1219.peak_377    -2.494725  0.752231            144.0   \n",
       "15   Pcmtd1  ImmGenATAC1219.peak_378     3.276884  0.752231            132.0   \n",
       "16   Pcmtd1  ImmGenATAC1219.peak_380     5.020475  0.752231           7143.0   \n",
       "17   Pcmtd1  ImmGenATAC1219.peak_408     0.983100  0.752231          58306.0   \n",
       "18   Pcmtd1  ImmGenATAC1219.peak_413     7.729939  0.752231          75027.0   \n",
       "22     Sgk3  ImmGenATAC1219.peak_577    -0.586173  0.820577             93.0   \n",
       "23     Sgk3  ImmGenATAC1219.peak_594     3.325265  0.820577             81.0   \n",
       "24     Sgk3  ImmGenATAC1219.peak_601    13.819465  0.820577           8000.0   \n",
       "25     Sgk3  ImmGenATAC1219.peak_602     7.729455  0.820577           9691.0   \n",
       "26     Sgk3  ImmGenATAC1219.peak_607     1.024494  0.820577          24941.0   \n",
       "27     Sgk3  ImmGenATAC1219.peak_616     2.582321  0.820577          14628.0   \n",
       "28     Sgk3  ImmGenATAC1219.peak_623     1.982050  0.820577             16.0   \n",
       "29     Sgk3  ImmGenATAC1219.peak_624    -1.563778  0.820577            317.0   \n",
       "30     Sgk3  ImmGenATAC1219.peak_631    -1.424061  0.820577          10884.0   \n",
       "31     Sgk3  ImmGenATAC1219.peak_632    -0.171394  0.820577          11225.0   \n",
       "32     Sgk3  ImmGenATAC1219.peak_645     0.512596  0.820577          25276.0   \n",
       "46  Arfgef1  ImmGenATAC1219.peak_718     0.561772  0.715752          12350.0   \n",
       "47  Arfgef1  ImmGenATAC1219.peak_720     6.120895  0.715752           7046.0   \n",
       "48  Arfgef1  ImmGenATAC1219.peak_736    -1.235321  0.715752          25018.0   \n",
       "\n",
       "         role  \n",
       "13  repressor  \n",
       "14  repressor  \n",
       "15   promoter  \n",
       "16  activator  \n",
       "17  activator  \n",
       "18  activator  \n",
       "22  repressor  \n",
       "23  activator  \n",
       "24  activator  \n",
       "25  activator  \n",
       "26  activator  \n",
       "27  activator  \n",
       "28   promoter  \n",
       "29  repressor  \n",
       "30  repressor  \n",
       "31  repressor  \n",
       "32  activator  \n",
       "46  activator  \n",
       "47   promoter  \n",
       "48  repressor  "
      ]
     },
     "execution_count": 112,
     "metadata": {},
     "output_type": "execute_result"
    }
   ],
   "source": [
    "# 1) start from your high‐confidence links (R² ≥ 0.7)\n",
    "#    assume you already have:\n",
    "#       high_conf = reg2[reg2[\"r2\"] >= 0.7].copy()\n",
    "\n",
    "# 2) find, for each gene, the promoter peak\n",
    "#    (i.e. among positive‐coef peaks, the one with smallest distance_to_tss)\n",
    "pos = high_conf[high_conf[\"coefficient\"] > 0]\n",
    "promoter_idx = pos.groupby(\"gene\")[\"distance_to_tss\"].idxmin()\n",
    "promoters = pos.loc[promoter_idx, [\"gene\", \"peak_ID\"]]\n",
    "promoter_map = promoters.set_index(\"gene\")[\"peak_ID\"].to_dict()\n",
    "\n",
    "# 3) assign role to every link\n",
    "def assign_role(row):\n",
    "    gene = row[\"gene\"]\n",
    "    peak = row[\"peak_ID\"]\n",
    "    coef = row[\"coefficient\"]\n",
    "    if peak == promoter_map.get(gene):\n",
    "        return \"promoter\"\n",
    "    elif coef > 0:\n",
    "        return \"activator\"\n",
    "    else:\n",
    "        return \"repressor\"\n",
    "\n",
    "high_conf[\"role\"] = high_conf.apply(assign_role, axis=1)\n",
    "\n",
    "# 4) preview\n",
    "high_conf[[\"gene\",\"peak_ID\",\"coefficient\",\"r2\",\"distance_to_tss\",\"role\"]].head(20)\n"
   ]
  },
  {
   "cell_type": "code",
   "execution_count": 113,
   "id": "b42659d2",
   "metadata": {},
   "outputs": [
    {
     "data": {
      "text/html": [
       "<div>\n",
       "<style scoped>\n",
       "    .dataframe tbody tr th:only-of-type {\n",
       "        vertical-align: middle;\n",
       "    }\n",
       "\n",
       "    .dataframe tbody tr th {\n",
       "        vertical-align: top;\n",
       "    }\n",
       "\n",
       "    .dataframe thead th {\n",
       "        text-align: right;\n",
       "    }\n",
       "</style>\n",
       "<table border=\"1\" class=\"dataframe\">\n",
       "  <thead>\n",
       "    <tr style=\"text-align: right;\">\n",
       "      <th></th>\n",
       "      <th>peak_ID</th>\n",
       "      <th>distance_to_tss</th>\n",
       "      <th>coefficient</th>\n",
       "      <th>r2</th>\n",
       "      <th>role</th>\n",
       "    </tr>\n",
       "  </thead>\n",
       "  <tbody>\n",
       "    <tr>\n",
       "      <th>22173</th>\n",
       "      <td>ImmGenATAC1219.peak_213552</td>\n",
       "      <td>242.0</td>\n",
       "      <td>-3.520328</td>\n",
       "      <td>0.893846</td>\n",
       "      <td>repressor</td>\n",
       "    </tr>\n",
       "    <tr>\n",
       "      <th>22174</th>\n",
       "      <td>ImmGenATAC1219.peak_213561</td>\n",
       "      <td>2561.0</td>\n",
       "      <td>-39.880566</td>\n",
       "      <td>0.893846</td>\n",
       "      <td>repressor</td>\n",
       "    </tr>\n",
       "    <tr>\n",
       "      <th>22175</th>\n",
       "      <td>ImmGenATAC1219.peak_213568</td>\n",
       "      <td>4222.0</td>\n",
       "      <td>8.742759</td>\n",
       "      <td>0.893846</td>\n",
       "      <td>activator</td>\n",
       "    </tr>\n",
       "    <tr>\n",
       "      <th>22176</th>\n",
       "      <td>ImmGenATAC1219.peak_213574</td>\n",
       "      <td>1623.0</td>\n",
       "      <td>75.062982</td>\n",
       "      <td>0.893846</td>\n",
       "      <td>activator</td>\n",
       "    </tr>\n",
       "    <tr>\n",
       "      <th>22177</th>\n",
       "      <td>ImmGenATAC1219.peak_213584</td>\n",
       "      <td>135.0</td>\n",
       "      <td>69.126157</td>\n",
       "      <td>0.893846</td>\n",
       "      <td>activator</td>\n",
       "    </tr>\n",
       "    <tr>\n",
       "      <th>22178</th>\n",
       "      <td>ImmGenATAC1219.peak_213585</td>\n",
       "      <td>131.0</td>\n",
       "      <td>10.576468</td>\n",
       "      <td>0.893846</td>\n",
       "      <td>activator</td>\n",
       "    </tr>\n",
       "    <tr>\n",
       "      <th>22179</th>\n",
       "      <td>ImmGenATAC1219.peak_213588</td>\n",
       "      <td>855.0</td>\n",
       "      <td>-28.484788</td>\n",
       "      <td>0.893846</td>\n",
       "      <td>repressor</td>\n",
       "    </tr>\n",
       "    <tr>\n",
       "      <th>22180</th>\n",
       "      <td>ImmGenATAC1219.peak_213591</td>\n",
       "      <td>1343.0</td>\n",
       "      <td>-1.519843</td>\n",
       "      <td>0.893846</td>\n",
       "      <td>repressor</td>\n",
       "    </tr>\n",
       "    <tr>\n",
       "      <th>22181</th>\n",
       "      <td>ImmGenATAC1219.peak_213603</td>\n",
       "      <td>5029.0</td>\n",
       "      <td>13.044219</td>\n",
       "      <td>0.893846</td>\n",
       "      <td>activator</td>\n",
       "    </tr>\n",
       "    <tr>\n",
       "      <th>22182</th>\n",
       "      <td>ImmGenATAC1219.peak_213620</td>\n",
       "      <td>3762.0</td>\n",
       "      <td>8.489428</td>\n",
       "      <td>0.893846</td>\n",
       "      <td>activator</td>\n",
       "    </tr>\n",
       "    <tr>\n",
       "      <th>22183</th>\n",
       "      <td>ImmGenATAC1219.peak_213626</td>\n",
       "      <td>73.0</td>\n",
       "      <td>-52.720007</td>\n",
       "      <td>0.893846</td>\n",
       "      <td>repressor</td>\n",
       "    </tr>\n",
       "    <tr>\n",
       "      <th>22184</th>\n",
       "      <td>ImmGenATAC1219.peak_213636</td>\n",
       "      <td>2451.0</td>\n",
       "      <td>-36.863039</td>\n",
       "      <td>0.893846</td>\n",
       "      <td>repressor</td>\n",
       "    </tr>\n",
       "    <tr>\n",
       "      <th>22185</th>\n",
       "      <td>ImmGenATAC1219.peak_213639</td>\n",
       "      <td>78.0</td>\n",
       "      <td>14.335314</td>\n",
       "      <td>0.893846</td>\n",
       "      <td>promoter</td>\n",
       "    </tr>\n",
       "  </tbody>\n",
       "</table>\n",
       "</div>"
      ],
      "text/plain": [
       "                          peak_ID  distance_to_tss  coefficient        r2  \\\n",
       "22173  ImmGenATAC1219.peak_213552            242.0    -3.520328  0.893846   \n",
       "22174  ImmGenATAC1219.peak_213561           2561.0   -39.880566  0.893846   \n",
       "22175  ImmGenATAC1219.peak_213568           4222.0     8.742759  0.893846   \n",
       "22176  ImmGenATAC1219.peak_213574           1623.0    75.062982  0.893846   \n",
       "22177  ImmGenATAC1219.peak_213584            135.0    69.126157  0.893846   \n",
       "22178  ImmGenATAC1219.peak_213585            131.0    10.576468  0.893846   \n",
       "22179  ImmGenATAC1219.peak_213588            855.0   -28.484788  0.893846   \n",
       "22180  ImmGenATAC1219.peak_213591           1343.0    -1.519843  0.893846   \n",
       "22181  ImmGenATAC1219.peak_213603           5029.0    13.044219  0.893846   \n",
       "22182  ImmGenATAC1219.peak_213620           3762.0     8.489428  0.893846   \n",
       "22183  ImmGenATAC1219.peak_213626             73.0   -52.720007  0.893846   \n",
       "22184  ImmGenATAC1219.peak_213636           2451.0   -36.863039  0.893846   \n",
       "22185  ImmGenATAC1219.peak_213639             78.0    14.335314  0.893846   \n",
       "\n",
       "            role  \n",
       "22173  repressor  \n",
       "22174  repressor  \n",
       "22175  activator  \n",
       "22176  activator  \n",
       "22177  activator  \n",
       "22178  activator  \n",
       "22179  repressor  \n",
       "22180  repressor  \n",
       "22181  activator  \n",
       "22182  activator  \n",
       "22183  repressor  \n",
       "22184  repressor  \n",
       "22185   promoter  "
      ]
     },
     "execution_count": 113,
     "metadata": {},
     "output_type": "execute_result"
    }
   ],
   "source": [
    "# filter for Ltb\n",
    "ltb = high_conf[high_conf[\"gene\"] == \"Ltb\"]\n",
    "\n",
    "# select the columns we care about\n",
    "ltb[[\"peak_ID\",\"distance_to_tss\",\"coefficient\",\"r2\",\"role\"]]\n"
   ]
  },
  {
   "cell_type": "code",
   "execution_count": 114,
   "id": "70ed1649",
   "metadata": {},
   "outputs": [
    {
     "name": "stdout",
     "output_type": "stream",
     "text": [
      "        role  count\n",
      "0  repressor  13025\n",
      "1  activator  12707\n",
      "2   promoter   3014\n"
     ]
    }
   ],
   "source": [
    "# 1) Assuming you already have ‘high_conf’ from:\n",
    "#    high_conf = reg2[reg2[\"r2\"] >= 0.7].copy()\n",
    "\n",
    "# 2) Just tally up the roles:\n",
    "role_counts = high_conf[\"role\"].value_counts().rename_axis(\"role\").reset_index(name=\"count\")\n",
    "print(role_counts)\n"
   ]
  },
  {
   "cell_type": "code",
   "execution_count": 115,
   "id": "5bb54c87",
   "metadata": {},
   "outputs": [
    {
     "name": "stdout",
     "output_type": "stream",
     "text": [
      "         gene                   peak_ID  distance_to_tss\n",
      "15     Pcmtd1   ImmGenATAC1219.peak_378            132.0\n",
      "28       Sgk3   ImmGenATAC1219.peak_623             16.0\n",
      "47    Arfgef1   ImmGenATAC1219.peak_720           7046.0\n",
      "80       Eya1  ImmGenATAC1219.peak_1471             92.0\n",
      "88     Sbspon  ImmGenATAC1219.peak_1657             59.0\n",
      "102     Stau2  ImmGenATAC1219.peak_1805            341.0\n",
      "115   Gm16070  ImmGenATAC1219.peak_1988             63.0\n",
      "116  Crispld1  ImmGenATAC1219.peak_1985           8414.0\n",
      "126      Mcm3  ImmGenATAC1219.peak_2124             36.0\n",
      "134     Paqr8  ImmGenATAC1219.peak_2124             36.0\n",
      "161     Kcnq5  ImmGenATAC1219.peak_2447            632.0\n",
      "167    Ogfrl1  ImmGenATAC1219.peak_2558            220.0\n",
      "176     Smap1  ImmGenATAC1219.peak_2659            278.0\n",
      "227    Ptpn18  ImmGenATAC1219.peak_3481             48.0\n",
      "250      Cfc1  ImmGenATAC1219.peak_3481             48.0\n",
      "265   Plekhb2  ImmGenATAC1219.peak_3632             13.0\n",
      "289    Arid5a  ImmGenATAC1219.peak_3966            121.0\n",
      "295    Neurl3  ImmGenATAC1219.peak_3947             98.0\n",
      "307    Lman2l  ImmGenATAC1219.peak_4006            688.0\n",
      "335    Sema4c  ImmGenATAC1219.peak_4053             67.0\n",
      "count     3014.000000\n",
      "mean      1853.028202\n",
      "std       6732.270041\n",
      "min          0.000000\n",
      "25%         23.000000\n",
      "50%         61.000000\n",
      "75%        296.000000\n",
      "max      79408.000000\n",
      "Name: distance_to_tss, dtype: float64\n"
     ]
    }
   ],
   "source": [
    "# 1) Filter for promoters\n",
    "promoters = high_conf[high_conf[\"role\"] == \"promoter\"].copy()\n",
    "\n",
    "# 2) Peek at the first 20 promoter links\n",
    "print(promoters[[\"gene\",\"peak_ID\",\"distance_to_tss\"]].head(20))\n",
    "\n",
    "# 3) Get summary statistics on their distances\n",
    "print(promoters[\"distance_to_tss\"].describe())\n"
   ]
  },
  {
   "cell_type": "code",
   "execution_count": 116,
   "id": "e9977247",
   "metadata": {},
   "outputs": [
    {
     "name": "stdout",
     "output_type": "stream",
     "text": [
      "                gene                     peak_ID  distance_to_tss\n",
      "26193         Mamdc2  ImmGenATAC1219.peak_248648          79408.0\n",
      "51068         Rnf150  ImmGenATAC1219.peak_463338          76793.0\n",
      "31295        Fam217b  ImmGenATAC1219.peak_297365          75720.0\n",
      "12413         Dio3os  ImmGenATAC1219.peak_115854          71897.0\n",
      "16769            Ghr  ImmGenATAC1219.peak_164962          71438.0\n",
      "8268           Wscd1   ImmGenATAC1219.peak_80643          69999.0\n",
      "50237          Hmgb2  ImmGenATAC1219.peak_458765          68203.0\n",
      "16696          Farp1  ImmGenATAC1219.peak_163849          67147.0\n",
      "5992   9230105E05Rik   ImmGenATAC1219.peak_63516          65501.0\n",
      "26307           Gldc  ImmGenATAC1219.peak_250056          61987.0\n"
     ]
    }
   ],
   "source": [
    "# Sort by distance, descending\n",
    "print(promoters[[\"gene\",\"peak_ID\",\"distance_to_tss\"]]\n",
    "      .sort_values(\"distance_to_tss\", ascending=False)\n",
    "      .head(10))\n"
   ]
  },
  {
   "cell_type": "code",
   "execution_count": 117,
   "id": "1801c6fa",
   "metadata": {},
   "outputs": [
    {
     "name": "stdout",
     "output_type": "stream",
     "text": [
      "Removed 524 promoters >1 kb away\n",
      "Remaining promoters:\n",
      "count    2490.000000\n",
      "mean      102.701205\n",
      "std       155.703767\n",
      "min         0.000000\n",
      "25%        18.000000\n",
      "50%        44.000000\n",
      "75%       106.000000\n",
      "max       990.000000\n",
      "Name: distance_to_tss, dtype: float64\n"
     ]
    }
   ],
   "source": [
    "# assume `high_conf` is your R² ≥ 0.7 table with 'role' and 'distance_to_tss'\n",
    "\n",
    "# 1) Boolean mask for far-away promoters\n",
    "far_promoters = (high_conf[\"role\"] == \"promoter\") & (high_conf[\"distance_to_tss\"] > 1000)\n",
    "\n",
    "# 2) Remove them from the high_conf table\n",
    "high_conf_filtered = high_conf[~far_promoters].copy()\n",
    "\n",
    "# 3) Quick sanity check:\n",
    "print(f\"Removed {far_promoters.sum()} promoters >1 kb away\")\n",
    "print(\"Remaining promoters:\")\n",
    "print(high_conf_filtered[high_conf_filtered[\"role\"]==\"promoter\"][\"distance_to_tss\"].describe())\n",
    "\n",
    "# high_conf_filtered now has no promoters farther than 1 kb\n"
   ]
  },
  {
   "cell_type": "code",
   "execution_count": 118,
   "id": "0284d803",
   "metadata": {},
   "outputs": [
    {
     "name": "stdout",
     "output_type": "stream",
     "text": [
      "Wrote high_conf_filtered.csv — 28222 rows\n"
     ]
    },
    {
     "ename": "RuntimeError",
     "evalue": "latex was not able to process the following string:\nb'Coefficient \\\\u2265 0'\n\nHere is the full command invocation and its output:\n\nlatex -interaction=nonstopmode --halt-on-error --output-directory=tmp93bpxxnl 0f503ee711de8949be177510fa2e93e19c4b843d53cbc906f93e5138ddb4dc3f.tex\n\nThis is pdfTeX, Version 3.141592653-2.6-1.40.26 (TeX Live 2024) (preloaded format=latex)\n restricted \\write18 enabled.\nentering extended mode\n(./0f503ee711de8949be177510fa2e93e19c4b843d53cbc906f93e5138ddb4dc3f.tex\nLaTeX2e <2023-11-01> patch level 1\nL3 programming layer <2024-02-20>\n(/usr/local/texlive/2024/texmf-dist/tex/latex/base/article.cls\nDocument Class: article 2023/05/17 v1.4n Standard LaTeX document class\n(/usr/local/texlive/2024/texmf-dist/tex/latex/base/size10.clo))\n(/usr/local/texlive/2024/texmf-dist/tex/latex/type1cm/type1cm.sty)\n(/usr/local/texlive/2024/texmf-dist/tex/latex/cm-super/type1ec.sty\n(/usr/local/texlive/2024/texmf-dist/tex/latex/base/t1cmr.fd))\n(/usr/local/texlive/2024/texmf-dist/tex/latex/base/inputenc.sty)\n(/usr/local/texlive/2024/texmf-dist/tex/latex/geometry/geometry.sty\n(/usr/local/texlive/2024/texmf-dist/tex/latex/graphics/keyval.sty)\n(/usr/local/texlive/2024/texmf-dist/tex/generic/iftex/ifvtex.sty\n(/usr/local/texlive/2024/texmf-dist/tex/generic/iftex/iftex.sty)))\n(/usr/local/texlive/2024/texmf-dist/tex/latex/amsmath/amsmath.sty\nFor additional information on amsmath, use the `?' option.\n(/usr/local/texlive/2024/texmf-dist/tex/latex/amsmath/amstext.sty\n(/usr/local/texlive/2024/texmf-dist/tex/latex/amsmath/amsgen.sty))\n(/usr/local/texlive/2024/texmf-dist/tex/latex/amsmath/amsbsy.sty)\n(/usr/local/texlive/2024/texmf-dist/tex/latex/amsmath/amsopn.sty))\n(/usr/local/texlive/2024/texmf-dist/tex/latex/amsfonts/amssymb.sty\n(/usr/local/texlive/2024/texmf-dist/tex/latex/amsfonts/amsfonts.sty))\n(/usr/local/texlive/2024/texmf-dist/tex/latex/underscore/underscore.sty)\n(/usr/local/texlive/2024/texmf-dist/tex/latex/firstaid/underscore-ltx.sty)\n(/usr/local/texlive/2024/texmf-dist/tex/latex/base/textcomp.sty)\n(/usr/local/texlive/2024/texmf-dist/tex/latex/l3backend/l3backend-dvips.def)\nNo file 0f503ee711de8949be177510fa2e93e19c4b843d53cbc906f93e5138ddb4dc3f.aux.\n*geometry* driver: auto-detecting\n*geometry* detected driver: dvips\n\n! LaTeX Error: Unicode character ≥ (U+2265)\n               not set up for use with LaTeX.\n\nSee the LaTeX manual or LaTeX Companion for explanation.\nType  H <return>  for immediate help.\n ...                                              \n                                                  \nl.30 {\\sffamily Coefficient ≥\n                                0}%\nNo pages of output.\nTranscript written on tmp93bpxxnl/0f503ee711de8949be177510fa2e93e19c4b843d53cbc\n906f93e5138ddb4dc3f.log.\n\n\n",
     "output_type": "error",
     "traceback": [
      "\u001b[0;31m---------------------------------------------------------------------------\u001b[0m",
      "\u001b[0;31mRuntimeError\u001b[0m                              Traceback (most recent call last)",
      "Cell \u001b[0;32mIn[118], line 71\u001b[0m\n\u001b[1;32m     68\u001b[0m     ax\u001b[38;5;241m.\u001b[39mspines[\u001b[38;5;124m\"\u001b[39m\u001b[38;5;124mtop\u001b[39m\u001b[38;5;124m\"\u001b[39m]\u001b[38;5;241m.\u001b[39mset_visible(\u001b[38;5;28;01mFalse\u001b[39;00m)\n\u001b[1;32m     69\u001b[0m     ax\u001b[38;5;241m.\u001b[39mspines[\u001b[38;5;124m\"\u001b[39m\u001b[38;5;124mright\u001b[39m\u001b[38;5;124m\"\u001b[39m]\u001b[38;5;241m.\u001b[39mset_visible(\u001b[38;5;28;01mFalse\u001b[39;00m)\n\u001b[0;32m---> 71\u001b[0m \u001b[43mplt\u001b[49m\u001b[38;5;241;43m.\u001b[39;49m\u001b[43mtight_layout\u001b[49m\u001b[43m(\u001b[49m\u001b[43m)\u001b[49m\n\u001b[1;32m     72\u001b[0m plt\u001b[38;5;241m.\u001b[39mshow()\n",
      "File \u001b[0;32m/opt/miniconda3/envs/REAL_FORKED_Bioinfo_project/lib/python3.10/site-packages/matplotlib/pyplot.py:2844\u001b[0m, in \u001b[0;36mtight_layout\u001b[0;34m(pad, h_pad, w_pad, rect)\u001b[0m\n\u001b[1;32m   2836\u001b[0m \u001b[38;5;129m@_copy_docstring_and_deprecators\u001b[39m(Figure\u001b[38;5;241m.\u001b[39mtight_layout)\n\u001b[1;32m   2837\u001b[0m \u001b[38;5;28;01mdef\u001b[39;00m\u001b[38;5;250m \u001b[39m\u001b[38;5;21mtight_layout\u001b[39m(\n\u001b[1;32m   2838\u001b[0m     \u001b[38;5;241m*\u001b[39m,\n\u001b[0;32m   (...)\u001b[0m\n\u001b[1;32m   2842\u001b[0m     rect: \u001b[38;5;28mtuple\u001b[39m[\u001b[38;5;28mfloat\u001b[39m, \u001b[38;5;28mfloat\u001b[39m, \u001b[38;5;28mfloat\u001b[39m, \u001b[38;5;28mfloat\u001b[39m] \u001b[38;5;241m|\u001b[39m \u001b[38;5;28;01mNone\u001b[39;00m \u001b[38;5;241m=\u001b[39m \u001b[38;5;28;01mNone\u001b[39;00m,\n\u001b[1;32m   2843\u001b[0m ) \u001b[38;5;241m-\u001b[39m\u001b[38;5;241m>\u001b[39m \u001b[38;5;28;01mNone\u001b[39;00m:\n\u001b[0;32m-> 2844\u001b[0m     \u001b[43mgcf\u001b[49m\u001b[43m(\u001b[49m\u001b[43m)\u001b[49m\u001b[38;5;241;43m.\u001b[39;49m\u001b[43mtight_layout\u001b[49m\u001b[43m(\u001b[49m\u001b[43mpad\u001b[49m\u001b[38;5;241;43m=\u001b[39;49m\u001b[43mpad\u001b[49m\u001b[43m,\u001b[49m\u001b[43m \u001b[49m\u001b[43mh_pad\u001b[49m\u001b[38;5;241;43m=\u001b[39;49m\u001b[43mh_pad\u001b[49m\u001b[43m,\u001b[49m\u001b[43m \u001b[49m\u001b[43mw_pad\u001b[49m\u001b[38;5;241;43m=\u001b[39;49m\u001b[43mw_pad\u001b[49m\u001b[43m,\u001b[49m\u001b[43m \u001b[49m\u001b[43mrect\u001b[49m\u001b[38;5;241;43m=\u001b[39;49m\u001b[43mrect\u001b[49m\u001b[43m)\u001b[49m\n",
      "File \u001b[0;32m/opt/miniconda3/envs/REAL_FORKED_Bioinfo_project/lib/python3.10/site-packages/matplotlib/figure.py:3640\u001b[0m, in \u001b[0;36mFigure.tight_layout\u001b[0;34m(self, pad, h_pad, w_pad, rect)\u001b[0m\n\u001b[1;32m   3638\u001b[0m previous_engine \u001b[38;5;241m=\u001b[39m \u001b[38;5;28mself\u001b[39m\u001b[38;5;241m.\u001b[39mget_layout_engine()\n\u001b[1;32m   3639\u001b[0m \u001b[38;5;28mself\u001b[39m\u001b[38;5;241m.\u001b[39mset_layout_engine(engine)\n\u001b[0;32m-> 3640\u001b[0m \u001b[43mengine\u001b[49m\u001b[38;5;241;43m.\u001b[39;49m\u001b[43mexecute\u001b[49m\u001b[43m(\u001b[49m\u001b[38;5;28;43mself\u001b[39;49m\u001b[43m)\u001b[49m\n\u001b[1;32m   3641\u001b[0m \u001b[38;5;28;01mif\u001b[39;00m previous_engine \u001b[38;5;129;01mis\u001b[39;00m \u001b[38;5;129;01mnot\u001b[39;00m \u001b[38;5;28;01mNone\u001b[39;00m \u001b[38;5;129;01mand\u001b[39;00m \u001b[38;5;129;01mnot\u001b[39;00m \u001b[38;5;28misinstance\u001b[39m(\n\u001b[1;32m   3642\u001b[0m     previous_engine, (TightLayoutEngine, PlaceHolderLayoutEngine)\n\u001b[1;32m   3643\u001b[0m ):\n\u001b[1;32m   3644\u001b[0m     _api\u001b[38;5;241m.\u001b[39mwarn_external(\u001b[38;5;124m'\u001b[39m\u001b[38;5;124mThe figure layout has changed to tight\u001b[39m\u001b[38;5;124m'\u001b[39m)\n",
      "File \u001b[0;32m/opt/miniconda3/envs/REAL_FORKED_Bioinfo_project/lib/python3.10/site-packages/matplotlib/layout_engine.py:188\u001b[0m, in \u001b[0;36mTightLayoutEngine.execute\u001b[0;34m(self, fig)\u001b[0m\n\u001b[1;32m    186\u001b[0m renderer \u001b[38;5;241m=\u001b[39m fig\u001b[38;5;241m.\u001b[39m_get_renderer()\n\u001b[1;32m    187\u001b[0m \u001b[38;5;28;01mwith\u001b[39;00m \u001b[38;5;28mgetattr\u001b[39m(renderer, \u001b[38;5;124m\"\u001b[39m\u001b[38;5;124m_draw_disabled\u001b[39m\u001b[38;5;124m\"\u001b[39m, nullcontext)():\n\u001b[0;32m--> 188\u001b[0m     kwargs \u001b[38;5;241m=\u001b[39m \u001b[43mget_tight_layout_figure\u001b[49m\u001b[43m(\u001b[49m\n\u001b[1;32m    189\u001b[0m \u001b[43m        \u001b[49m\u001b[43mfig\u001b[49m\u001b[43m,\u001b[49m\u001b[43m \u001b[49m\u001b[43mfig\u001b[49m\u001b[38;5;241;43m.\u001b[39;49m\u001b[43maxes\u001b[49m\u001b[43m,\u001b[49m\u001b[43m \u001b[49m\u001b[43mget_subplotspec_list\u001b[49m\u001b[43m(\u001b[49m\u001b[43mfig\u001b[49m\u001b[38;5;241;43m.\u001b[39;49m\u001b[43maxes\u001b[49m\u001b[43m)\u001b[49m\u001b[43m,\u001b[49m\u001b[43m \u001b[49m\u001b[43mrenderer\u001b[49m\u001b[43m,\u001b[49m\n\u001b[1;32m    190\u001b[0m \u001b[43m        \u001b[49m\u001b[43mpad\u001b[49m\u001b[38;5;241;43m=\u001b[39;49m\u001b[43minfo\u001b[49m\u001b[43m[\u001b[49m\u001b[38;5;124;43m'\u001b[39;49m\u001b[38;5;124;43mpad\u001b[39;49m\u001b[38;5;124;43m'\u001b[39;49m\u001b[43m]\u001b[49m\u001b[43m,\u001b[49m\u001b[43m \u001b[49m\u001b[43mh_pad\u001b[49m\u001b[38;5;241;43m=\u001b[39;49m\u001b[43minfo\u001b[49m\u001b[43m[\u001b[49m\u001b[38;5;124;43m'\u001b[39;49m\u001b[38;5;124;43mh_pad\u001b[39;49m\u001b[38;5;124;43m'\u001b[39;49m\u001b[43m]\u001b[49m\u001b[43m,\u001b[49m\u001b[43m \u001b[49m\u001b[43mw_pad\u001b[49m\u001b[38;5;241;43m=\u001b[39;49m\u001b[43minfo\u001b[49m\u001b[43m[\u001b[49m\u001b[38;5;124;43m'\u001b[39;49m\u001b[38;5;124;43mw_pad\u001b[39;49m\u001b[38;5;124;43m'\u001b[39;49m\u001b[43m]\u001b[49m\u001b[43m,\u001b[49m\n\u001b[1;32m    191\u001b[0m \u001b[43m        \u001b[49m\u001b[43mrect\u001b[49m\u001b[38;5;241;43m=\u001b[39;49m\u001b[43minfo\u001b[49m\u001b[43m[\u001b[49m\u001b[38;5;124;43m'\u001b[39;49m\u001b[38;5;124;43mrect\u001b[39;49m\u001b[38;5;124;43m'\u001b[39;49m\u001b[43m]\u001b[49m\u001b[43m)\u001b[49m\n\u001b[1;32m    192\u001b[0m \u001b[38;5;28;01mif\u001b[39;00m kwargs:\n\u001b[1;32m    193\u001b[0m     fig\u001b[38;5;241m.\u001b[39msubplots_adjust(\u001b[38;5;241m*\u001b[39m\u001b[38;5;241m*\u001b[39mkwargs)\n",
      "File \u001b[0;32m/opt/miniconda3/envs/REAL_FORKED_Bioinfo_project/lib/python3.10/site-packages/matplotlib/_tight_layout.py:266\u001b[0m, in \u001b[0;36mget_tight_layout_figure\u001b[0;34m(fig, axes_list, subplotspec_list, renderer, pad, h_pad, w_pad, rect)\u001b[0m\n\u001b[1;32m    261\u001b[0m         \u001b[38;5;28;01mreturn\u001b[39;00m {}\n\u001b[1;32m    262\u001b[0m     span_pairs\u001b[38;5;241m.\u001b[39mappend((\n\u001b[1;32m    263\u001b[0m         \u001b[38;5;28mslice\u001b[39m(ss\u001b[38;5;241m.\u001b[39mrowspan\u001b[38;5;241m.\u001b[39mstart \u001b[38;5;241m*\u001b[39m div_row, ss\u001b[38;5;241m.\u001b[39mrowspan\u001b[38;5;241m.\u001b[39mstop \u001b[38;5;241m*\u001b[39m div_row),\n\u001b[1;32m    264\u001b[0m         \u001b[38;5;28mslice\u001b[39m(ss\u001b[38;5;241m.\u001b[39mcolspan\u001b[38;5;241m.\u001b[39mstart \u001b[38;5;241m*\u001b[39m div_col, ss\u001b[38;5;241m.\u001b[39mcolspan\u001b[38;5;241m.\u001b[39mstop \u001b[38;5;241m*\u001b[39m div_col)))\n\u001b[0;32m--> 266\u001b[0m kwargs \u001b[38;5;241m=\u001b[39m \u001b[43m_auto_adjust_subplotpars\u001b[49m\u001b[43m(\u001b[49m\u001b[43mfig\u001b[49m\u001b[43m,\u001b[49m\u001b[43m \u001b[49m\u001b[43mrenderer\u001b[49m\u001b[43m,\u001b[49m\n\u001b[1;32m    267\u001b[0m \u001b[43m                                  \u001b[49m\u001b[43mshape\u001b[49m\u001b[38;5;241;43m=\u001b[39;49m\u001b[43m(\u001b[49m\u001b[43mmax_nrows\u001b[49m\u001b[43m,\u001b[49m\u001b[43m \u001b[49m\u001b[43mmax_ncols\u001b[49m\u001b[43m)\u001b[49m\u001b[43m,\u001b[49m\n\u001b[1;32m    268\u001b[0m \u001b[43m                                  \u001b[49m\u001b[43mspan_pairs\u001b[49m\u001b[38;5;241;43m=\u001b[39;49m\u001b[43mspan_pairs\u001b[49m\u001b[43m,\u001b[49m\n\u001b[1;32m    269\u001b[0m \u001b[43m                                  \u001b[49m\u001b[43msubplot_list\u001b[49m\u001b[38;5;241;43m=\u001b[39;49m\u001b[43msubplot_list\u001b[49m\u001b[43m,\u001b[49m\n\u001b[1;32m    270\u001b[0m \u001b[43m                                  \u001b[49m\u001b[43max_bbox_list\u001b[49m\u001b[38;5;241;43m=\u001b[39;49m\u001b[43max_bbox_list\u001b[49m\u001b[43m,\u001b[49m\n\u001b[1;32m    271\u001b[0m \u001b[43m                                  \u001b[49m\u001b[43mpad\u001b[49m\u001b[38;5;241;43m=\u001b[39;49m\u001b[43mpad\u001b[49m\u001b[43m,\u001b[49m\u001b[43m \u001b[49m\u001b[43mh_pad\u001b[49m\u001b[38;5;241;43m=\u001b[39;49m\u001b[43mh_pad\u001b[49m\u001b[43m,\u001b[49m\u001b[43m \u001b[49m\u001b[43mw_pad\u001b[49m\u001b[38;5;241;43m=\u001b[39;49m\u001b[43mw_pad\u001b[49m\u001b[43m)\u001b[49m\n\u001b[1;32m    273\u001b[0m \u001b[38;5;66;03m# kwargs can be none if tight_layout fails...\u001b[39;00m\n\u001b[1;32m    274\u001b[0m \u001b[38;5;28;01mif\u001b[39;00m rect \u001b[38;5;129;01mis\u001b[39;00m \u001b[38;5;129;01mnot\u001b[39;00m \u001b[38;5;28;01mNone\u001b[39;00m \u001b[38;5;129;01mand\u001b[39;00m kwargs \u001b[38;5;129;01mis\u001b[39;00m \u001b[38;5;129;01mnot\u001b[39;00m \u001b[38;5;28;01mNone\u001b[39;00m:\n\u001b[1;32m    275\u001b[0m     \u001b[38;5;66;03m# if rect is given, the whole subplots area (including\u001b[39;00m\n\u001b[1;32m    276\u001b[0m     \u001b[38;5;66;03m# labels) will fit into the rect instead of the\u001b[39;00m\n\u001b[0;32m   (...)\u001b[0m\n\u001b[1;32m    280\u001b[0m     \u001b[38;5;66;03m# auto_adjust_subplotpars twice, where the second run\u001b[39;00m\n\u001b[1;32m    281\u001b[0m     \u001b[38;5;66;03m# with adjusted rect parameters.\u001b[39;00m\n",
      "File \u001b[0;32m/opt/miniconda3/envs/REAL_FORKED_Bioinfo_project/lib/python3.10/site-packages/matplotlib/_tight_layout.py:82\u001b[0m, in \u001b[0;36m_auto_adjust_subplotpars\u001b[0;34m(fig, renderer, shape, span_pairs, subplot_list, ax_bbox_list, pad, h_pad, w_pad, rect)\u001b[0m\n\u001b[1;32m     80\u001b[0m \u001b[38;5;28;01mfor\u001b[39;00m ax \u001b[38;5;129;01min\u001b[39;00m subplots:\n\u001b[1;32m     81\u001b[0m     \u001b[38;5;28;01mif\u001b[39;00m ax\u001b[38;5;241m.\u001b[39mget_visible():\n\u001b[0;32m---> 82\u001b[0m         bb \u001b[38;5;241m+\u001b[39m\u001b[38;5;241m=\u001b[39m [\u001b[43mmartist\u001b[49m\u001b[38;5;241;43m.\u001b[39;49m\u001b[43m_get_tightbbox_for_layout_only\u001b[49m\u001b[43m(\u001b[49m\u001b[43max\u001b[49m\u001b[43m,\u001b[49m\u001b[43m \u001b[49m\u001b[43mrenderer\u001b[49m\u001b[43m)\u001b[49m]\n\u001b[1;32m     84\u001b[0m tight_bbox_raw \u001b[38;5;241m=\u001b[39m Bbox\u001b[38;5;241m.\u001b[39munion(bb)\n\u001b[1;32m     85\u001b[0m tight_bbox \u001b[38;5;241m=\u001b[39m fig\u001b[38;5;241m.\u001b[39mtransFigure\u001b[38;5;241m.\u001b[39minverted()\u001b[38;5;241m.\u001b[39mtransform_bbox(tight_bbox_raw)\n",
      "File \u001b[0;32m/opt/miniconda3/envs/REAL_FORKED_Bioinfo_project/lib/python3.10/site-packages/matplotlib/artist.py:1402\u001b[0m, in \u001b[0;36m_get_tightbbox_for_layout_only\u001b[0;34m(obj, *args, **kwargs)\u001b[0m\n\u001b[1;32m   1396\u001b[0m \u001b[38;5;250m\u001b[39m\u001b[38;5;124;03m\"\"\"\u001b[39;00m\n\u001b[1;32m   1397\u001b[0m \u001b[38;5;124;03mMatplotlib's `.Axes.get_tightbbox` and `.Axis.get_tightbbox` support a\u001b[39;00m\n\u001b[1;32m   1398\u001b[0m \u001b[38;5;124;03m*for_layout_only* kwarg; this helper tries to use the kwarg but skips it\u001b[39;00m\n\u001b[1;32m   1399\u001b[0m \u001b[38;5;124;03mwhen encountering third-party subclasses that do not support it.\u001b[39;00m\n\u001b[1;32m   1400\u001b[0m \u001b[38;5;124;03m\"\"\"\u001b[39;00m\n\u001b[1;32m   1401\u001b[0m \u001b[38;5;28;01mtry\u001b[39;00m:\n\u001b[0;32m-> 1402\u001b[0m     \u001b[38;5;28;01mreturn\u001b[39;00m \u001b[43mobj\u001b[49m\u001b[38;5;241;43m.\u001b[39;49m\u001b[43mget_tightbbox\u001b[49m\u001b[43m(\u001b[49m\u001b[38;5;241;43m*\u001b[39;49m\u001b[43margs\u001b[49m\u001b[43m,\u001b[49m\u001b[43m \u001b[49m\u001b[38;5;241;43m*\u001b[39;49m\u001b[38;5;241;43m*\u001b[39;49m\u001b[43m{\u001b[49m\u001b[38;5;241;43m*\u001b[39;49m\u001b[38;5;241;43m*\u001b[39;49m\u001b[43mkwargs\u001b[49m\u001b[43m,\u001b[49m\u001b[43m \u001b[49m\u001b[38;5;124;43m\"\u001b[39;49m\u001b[38;5;124;43mfor_layout_only\u001b[39;49m\u001b[38;5;124;43m\"\u001b[39;49m\u001b[43m:\u001b[49m\u001b[43m \u001b[49m\u001b[38;5;28;43;01mTrue\u001b[39;49;00m\u001b[43m}\u001b[49m\u001b[43m)\u001b[49m\n\u001b[1;32m   1403\u001b[0m \u001b[38;5;28;01mexcept\u001b[39;00m \u001b[38;5;167;01mTypeError\u001b[39;00m:\n\u001b[1;32m   1404\u001b[0m     \u001b[38;5;28;01mreturn\u001b[39;00m obj\u001b[38;5;241m.\u001b[39mget_tightbbox(\u001b[38;5;241m*\u001b[39margs, \u001b[38;5;241m*\u001b[39m\u001b[38;5;241m*\u001b[39mkwargs)\n",
      "File \u001b[0;32m/opt/miniconda3/envs/REAL_FORKED_Bioinfo_project/lib/python3.10/site-packages/matplotlib/axes/_base.py:4554\u001b[0m, in \u001b[0;36m_AxesBase.get_tightbbox\u001b[0;34m(self, renderer, call_axes_locator, bbox_extra_artists, for_layout_only)\u001b[0m\n\u001b[1;32m   4552\u001b[0m \u001b[38;5;28;01mfor\u001b[39;00m axis \u001b[38;5;129;01min\u001b[39;00m \u001b[38;5;28mself\u001b[39m\u001b[38;5;241m.\u001b[39m_axis_map\u001b[38;5;241m.\u001b[39mvalues():\n\u001b[1;32m   4553\u001b[0m     \u001b[38;5;28;01mif\u001b[39;00m \u001b[38;5;28mself\u001b[39m\u001b[38;5;241m.\u001b[39maxison \u001b[38;5;129;01mand\u001b[39;00m axis\u001b[38;5;241m.\u001b[39mget_visible():\n\u001b[0;32m-> 4554\u001b[0m         ba \u001b[38;5;241m=\u001b[39m \u001b[43mmartist\u001b[49m\u001b[38;5;241;43m.\u001b[39;49m\u001b[43m_get_tightbbox_for_layout_only\u001b[49m\u001b[43m(\u001b[49m\u001b[43maxis\u001b[49m\u001b[43m,\u001b[49m\u001b[43m \u001b[49m\u001b[43mrenderer\u001b[49m\u001b[43m)\u001b[49m\n\u001b[1;32m   4555\u001b[0m         \u001b[38;5;28;01mif\u001b[39;00m ba:\n\u001b[1;32m   4556\u001b[0m             bb\u001b[38;5;241m.\u001b[39mappend(ba)\n",
      "File \u001b[0;32m/opt/miniconda3/envs/REAL_FORKED_Bioinfo_project/lib/python3.10/site-packages/matplotlib/artist.py:1402\u001b[0m, in \u001b[0;36m_get_tightbbox_for_layout_only\u001b[0;34m(obj, *args, **kwargs)\u001b[0m\n\u001b[1;32m   1396\u001b[0m \u001b[38;5;250m\u001b[39m\u001b[38;5;124;03m\"\"\"\u001b[39;00m\n\u001b[1;32m   1397\u001b[0m \u001b[38;5;124;03mMatplotlib's `.Axes.get_tightbbox` and `.Axis.get_tightbbox` support a\u001b[39;00m\n\u001b[1;32m   1398\u001b[0m \u001b[38;5;124;03m*for_layout_only* kwarg; this helper tries to use the kwarg but skips it\u001b[39;00m\n\u001b[1;32m   1399\u001b[0m \u001b[38;5;124;03mwhen encountering third-party subclasses that do not support it.\u001b[39;00m\n\u001b[1;32m   1400\u001b[0m \u001b[38;5;124;03m\"\"\"\u001b[39;00m\n\u001b[1;32m   1401\u001b[0m \u001b[38;5;28;01mtry\u001b[39;00m:\n\u001b[0;32m-> 1402\u001b[0m     \u001b[38;5;28;01mreturn\u001b[39;00m \u001b[43mobj\u001b[49m\u001b[38;5;241;43m.\u001b[39;49m\u001b[43mget_tightbbox\u001b[49m\u001b[43m(\u001b[49m\u001b[38;5;241;43m*\u001b[39;49m\u001b[43margs\u001b[49m\u001b[43m,\u001b[49m\u001b[43m \u001b[49m\u001b[38;5;241;43m*\u001b[39;49m\u001b[38;5;241;43m*\u001b[39;49m\u001b[43m{\u001b[49m\u001b[38;5;241;43m*\u001b[39;49m\u001b[38;5;241;43m*\u001b[39;49m\u001b[43mkwargs\u001b[49m\u001b[43m,\u001b[49m\u001b[43m \u001b[49m\u001b[38;5;124;43m\"\u001b[39;49m\u001b[38;5;124;43mfor_layout_only\u001b[39;49m\u001b[38;5;124;43m\"\u001b[39;49m\u001b[43m:\u001b[49m\u001b[43m \u001b[49m\u001b[38;5;28;43;01mTrue\u001b[39;49;00m\u001b[43m}\u001b[49m\u001b[43m)\u001b[49m\n\u001b[1;32m   1403\u001b[0m \u001b[38;5;28;01mexcept\u001b[39;00m \u001b[38;5;167;01mTypeError\u001b[39;00m:\n\u001b[1;32m   1404\u001b[0m     \u001b[38;5;28;01mreturn\u001b[39;00m obj\u001b[38;5;241m.\u001b[39mget_tightbbox(\u001b[38;5;241m*\u001b[39margs, \u001b[38;5;241m*\u001b[39m\u001b[38;5;241m*\u001b[39mkwargs)\n",
      "File \u001b[0;32m/opt/miniconda3/envs/REAL_FORKED_Bioinfo_project/lib/python3.10/site-packages/matplotlib/axis.py:1369\u001b[0m, in \u001b[0;36mAxis.get_tightbbox\u001b[0;34m(self, renderer, for_layout_only)\u001b[0m\n\u001b[1;32m   1367\u001b[0m \u001b[38;5;66;03m# take care of label\u001b[39;00m\n\u001b[1;32m   1368\u001b[0m \u001b[38;5;28;01mif\u001b[39;00m \u001b[38;5;28mself\u001b[39m\u001b[38;5;241m.\u001b[39mlabel\u001b[38;5;241m.\u001b[39mget_visible():\n\u001b[0;32m-> 1369\u001b[0m     bb \u001b[38;5;241m=\u001b[39m \u001b[38;5;28;43mself\u001b[39;49m\u001b[38;5;241;43m.\u001b[39;49m\u001b[43mlabel\u001b[49m\u001b[38;5;241;43m.\u001b[39;49m\u001b[43mget_window_extent\u001b[49m\u001b[43m(\u001b[49m\u001b[43mrenderer\u001b[49m\u001b[43m)\u001b[49m\n\u001b[1;32m   1370\u001b[0m     \u001b[38;5;66;03m# for constrained/tight_layout, we want to ignore the label's\u001b[39;00m\n\u001b[1;32m   1371\u001b[0m     \u001b[38;5;66;03m# width/height because the adjustments they make can't be improved.\u001b[39;00m\n\u001b[1;32m   1372\u001b[0m     \u001b[38;5;66;03m# this code collapses the relevant direction\u001b[39;00m\n\u001b[1;32m   1373\u001b[0m     \u001b[38;5;28;01mif\u001b[39;00m for_layout_only:\n",
      "File \u001b[0;32m/opt/miniconda3/envs/REAL_FORKED_Bioinfo_project/lib/python3.10/site-packages/matplotlib/text.py:969\u001b[0m, in \u001b[0;36mText.get_window_extent\u001b[0;34m(self, renderer, dpi)\u001b[0m\n\u001b[1;32m    964\u001b[0m     \u001b[38;5;28;01mraise\u001b[39;00m \u001b[38;5;167;01mRuntimeError\u001b[39;00m(\n\u001b[1;32m    965\u001b[0m         \u001b[38;5;124m\"\u001b[39m\u001b[38;5;124mCannot get window extent of text w/o renderer. You likely \u001b[39m\u001b[38;5;124m\"\u001b[39m\n\u001b[1;32m    966\u001b[0m         \u001b[38;5;124m\"\u001b[39m\u001b[38;5;124mwant to call \u001b[39m\u001b[38;5;124m'\u001b[39m\u001b[38;5;124mfigure.draw_without_rendering()\u001b[39m\u001b[38;5;124m'\u001b[39m\u001b[38;5;124m first.\u001b[39m\u001b[38;5;124m\"\u001b[39m)\n\u001b[1;32m    968\u001b[0m \u001b[38;5;28;01mwith\u001b[39;00m cbook\u001b[38;5;241m.\u001b[39m_setattr_cm(fig, dpi\u001b[38;5;241m=\u001b[39mdpi):\n\u001b[0;32m--> 969\u001b[0m     bbox, info, descent \u001b[38;5;241m=\u001b[39m \u001b[38;5;28;43mself\u001b[39;49m\u001b[38;5;241;43m.\u001b[39;49m\u001b[43m_get_layout\u001b[49m\u001b[43m(\u001b[49m\u001b[38;5;28;43mself\u001b[39;49m\u001b[38;5;241;43m.\u001b[39;49m\u001b[43m_renderer\u001b[49m\u001b[43m)\u001b[49m\n\u001b[1;32m    970\u001b[0m     x, y \u001b[38;5;241m=\u001b[39m \u001b[38;5;28mself\u001b[39m\u001b[38;5;241m.\u001b[39mget_unitless_position()\n\u001b[1;32m    971\u001b[0m     x, y \u001b[38;5;241m=\u001b[39m \u001b[38;5;28mself\u001b[39m\u001b[38;5;241m.\u001b[39mget_transform()\u001b[38;5;241m.\u001b[39mtransform((x, y))\n",
      "File \u001b[0;32m/opt/miniconda3/envs/REAL_FORKED_Bioinfo_project/lib/python3.10/site-packages/matplotlib/text.py:382\u001b[0m, in \u001b[0;36mText._get_layout\u001b[0;34m(self, renderer)\u001b[0m\n\u001b[1;32m    380\u001b[0m clean_line, ismath \u001b[38;5;241m=\u001b[39m \u001b[38;5;28mself\u001b[39m\u001b[38;5;241m.\u001b[39m_preprocess_math(line)\n\u001b[1;32m    381\u001b[0m \u001b[38;5;28;01mif\u001b[39;00m clean_line:\n\u001b[0;32m--> 382\u001b[0m     w, h, d \u001b[38;5;241m=\u001b[39m \u001b[43m_get_text_metrics_with_cache\u001b[49m\u001b[43m(\u001b[49m\n\u001b[1;32m    383\u001b[0m \u001b[43m        \u001b[49m\u001b[43mrenderer\u001b[49m\u001b[43m,\u001b[49m\u001b[43m \u001b[49m\u001b[43mclean_line\u001b[49m\u001b[43m,\u001b[49m\u001b[43m \u001b[49m\u001b[38;5;28;43mself\u001b[39;49m\u001b[38;5;241;43m.\u001b[39;49m\u001b[43m_fontproperties\u001b[49m\u001b[43m,\u001b[49m\n\u001b[1;32m    384\u001b[0m \u001b[43m        \u001b[49m\u001b[43mismath\u001b[49m\u001b[38;5;241;43m=\u001b[39;49m\u001b[43mismath\u001b[49m\u001b[43m,\u001b[49m\u001b[43m \u001b[49m\u001b[43mdpi\u001b[49m\u001b[38;5;241;43m=\u001b[39;49m\u001b[38;5;28;43mself\u001b[39;49m\u001b[38;5;241;43m.\u001b[39;49m\u001b[43mget_figure\u001b[49m\u001b[43m(\u001b[49m\u001b[43mroot\u001b[49m\u001b[38;5;241;43m=\u001b[39;49m\u001b[38;5;28;43;01mTrue\u001b[39;49;00m\u001b[43m)\u001b[49m\u001b[38;5;241;43m.\u001b[39;49m\u001b[43mdpi\u001b[49m\u001b[43m)\u001b[49m\n\u001b[1;32m    385\u001b[0m \u001b[38;5;28;01melse\u001b[39;00m:\n\u001b[1;32m    386\u001b[0m     w \u001b[38;5;241m=\u001b[39m h \u001b[38;5;241m=\u001b[39m d \u001b[38;5;241m=\u001b[39m \u001b[38;5;241m0\u001b[39m\n",
      "File \u001b[0;32m/opt/miniconda3/envs/REAL_FORKED_Bioinfo_project/lib/python3.10/site-packages/matplotlib/text.py:69\u001b[0m, in \u001b[0;36m_get_text_metrics_with_cache\u001b[0;34m(renderer, text, fontprop, ismath, dpi)\u001b[0m\n\u001b[1;32m     66\u001b[0m \u001b[38;5;250m\u001b[39m\u001b[38;5;124;03m\"\"\"Call ``renderer.get_text_width_height_descent``, caching the results.\"\"\"\u001b[39;00m\n\u001b[1;32m     67\u001b[0m \u001b[38;5;66;03m# Cached based on a copy of fontprop so that later in-place mutations of\u001b[39;00m\n\u001b[1;32m     68\u001b[0m \u001b[38;5;66;03m# the passed-in argument do not mess up the cache.\u001b[39;00m\n\u001b[0;32m---> 69\u001b[0m \u001b[38;5;28;01mreturn\u001b[39;00m \u001b[43m_get_text_metrics_with_cache_impl\u001b[49m\u001b[43m(\u001b[49m\n\u001b[1;32m     70\u001b[0m \u001b[43m    \u001b[49m\u001b[43mweakref\u001b[49m\u001b[38;5;241;43m.\u001b[39;49m\u001b[43mref\u001b[49m\u001b[43m(\u001b[49m\u001b[43mrenderer\u001b[49m\u001b[43m)\u001b[49m\u001b[43m,\u001b[49m\u001b[43m \u001b[49m\u001b[43mtext\u001b[49m\u001b[43m,\u001b[49m\u001b[43m \u001b[49m\u001b[43mfontprop\u001b[49m\u001b[38;5;241;43m.\u001b[39;49m\u001b[43mcopy\u001b[49m\u001b[43m(\u001b[49m\u001b[43m)\u001b[49m\u001b[43m,\u001b[49m\u001b[43m \u001b[49m\u001b[43mismath\u001b[49m\u001b[43m,\u001b[49m\u001b[43m \u001b[49m\u001b[43mdpi\u001b[49m\u001b[43m)\u001b[49m\n",
      "File \u001b[0;32m/opt/miniconda3/envs/REAL_FORKED_Bioinfo_project/lib/python3.10/site-packages/matplotlib/text.py:77\u001b[0m, in \u001b[0;36m_get_text_metrics_with_cache_impl\u001b[0;34m(renderer_ref, text, fontprop, ismath, dpi)\u001b[0m\n\u001b[1;32m     73\u001b[0m \u001b[38;5;129m@functools\u001b[39m\u001b[38;5;241m.\u001b[39mlru_cache(\u001b[38;5;241m4096\u001b[39m)\n\u001b[1;32m     74\u001b[0m \u001b[38;5;28;01mdef\u001b[39;00m\u001b[38;5;250m \u001b[39m\u001b[38;5;21m_get_text_metrics_with_cache_impl\u001b[39m(\n\u001b[1;32m     75\u001b[0m         renderer_ref, text, fontprop, ismath, dpi):\n\u001b[1;32m     76\u001b[0m     \u001b[38;5;66;03m# dpi is unused, but participates in cache invalidation (via the renderer).\u001b[39;00m\n\u001b[0;32m---> 77\u001b[0m     \u001b[38;5;28;01mreturn\u001b[39;00m \u001b[43mrenderer_ref\u001b[49m\u001b[43m(\u001b[49m\u001b[43m)\u001b[49m\u001b[38;5;241;43m.\u001b[39;49m\u001b[43mget_text_width_height_descent\u001b[49m\u001b[43m(\u001b[49m\u001b[43mtext\u001b[49m\u001b[43m,\u001b[49m\u001b[43m \u001b[49m\u001b[43mfontprop\u001b[49m\u001b[43m,\u001b[49m\u001b[43m \u001b[49m\u001b[43mismath\u001b[49m\u001b[43m)\u001b[49m\n",
      "File \u001b[0;32m/opt/miniconda3/envs/REAL_FORKED_Bioinfo_project/lib/python3.10/site-packages/matplotlib/backends/backend_agg.py:211\u001b[0m, in \u001b[0;36mRendererAgg.get_text_width_height_descent\u001b[0;34m(self, s, prop, ismath)\u001b[0m\n\u001b[1;32m    209\u001b[0m _api\u001b[38;5;241m.\u001b[39mcheck_in_list([\u001b[38;5;124m\"\u001b[39m\u001b[38;5;124mTeX\u001b[39m\u001b[38;5;124m\"\u001b[39m, \u001b[38;5;28;01mTrue\u001b[39;00m, \u001b[38;5;28;01mFalse\u001b[39;00m], ismath\u001b[38;5;241m=\u001b[39mismath)\n\u001b[1;32m    210\u001b[0m \u001b[38;5;28;01mif\u001b[39;00m ismath \u001b[38;5;241m==\u001b[39m \u001b[38;5;124m\"\u001b[39m\u001b[38;5;124mTeX\u001b[39m\u001b[38;5;124m\"\u001b[39m:\n\u001b[0;32m--> 211\u001b[0m     \u001b[38;5;28;01mreturn\u001b[39;00m \u001b[38;5;28;43msuper\u001b[39;49m\u001b[43m(\u001b[49m\u001b[43m)\u001b[49m\u001b[38;5;241;43m.\u001b[39;49m\u001b[43mget_text_width_height_descent\u001b[49m\u001b[43m(\u001b[49m\u001b[43ms\u001b[49m\u001b[43m,\u001b[49m\u001b[43m \u001b[49m\u001b[43mprop\u001b[49m\u001b[43m,\u001b[49m\u001b[43m \u001b[49m\u001b[43mismath\u001b[49m\u001b[43m)\u001b[49m\n\u001b[1;32m    213\u001b[0m \u001b[38;5;28;01mif\u001b[39;00m ismath:\n\u001b[1;32m    214\u001b[0m     ox, oy, width, height, descent, font_image \u001b[38;5;241m=\u001b[39m \\\n\u001b[1;32m    215\u001b[0m         \u001b[38;5;28mself\u001b[39m\u001b[38;5;241m.\u001b[39mmathtext_parser\u001b[38;5;241m.\u001b[39mparse(s, \u001b[38;5;28mself\u001b[39m\u001b[38;5;241m.\u001b[39mdpi, prop)\n",
      "File \u001b[0;32m/opt/miniconda3/envs/REAL_FORKED_Bioinfo_project/lib/python3.10/site-packages/matplotlib/backend_bases.py:566\u001b[0m, in \u001b[0;36mRendererBase.get_text_width_height_descent\u001b[0;34m(self, s, prop, ismath)\u001b[0m\n\u001b[1;32m    562\u001b[0m fontsize \u001b[38;5;241m=\u001b[39m prop\u001b[38;5;241m.\u001b[39mget_size_in_points()\n\u001b[1;32m    564\u001b[0m \u001b[38;5;28;01mif\u001b[39;00m ismath \u001b[38;5;241m==\u001b[39m \u001b[38;5;124m'\u001b[39m\u001b[38;5;124mTeX\u001b[39m\u001b[38;5;124m'\u001b[39m:\n\u001b[1;32m    565\u001b[0m     \u001b[38;5;66;03m# todo: handle properties\u001b[39;00m\n\u001b[0;32m--> 566\u001b[0m     \u001b[38;5;28;01mreturn\u001b[39;00m \u001b[38;5;28;43mself\u001b[39;49m\u001b[38;5;241;43m.\u001b[39;49m\u001b[43mget_texmanager\u001b[49m\u001b[43m(\u001b[49m\u001b[43m)\u001b[49m\u001b[38;5;241;43m.\u001b[39;49m\u001b[43mget_text_width_height_descent\u001b[49m\u001b[43m(\u001b[49m\n\u001b[1;32m    567\u001b[0m \u001b[43m        \u001b[49m\u001b[43ms\u001b[49m\u001b[43m,\u001b[49m\u001b[43m \u001b[49m\u001b[43mfontsize\u001b[49m\u001b[43m,\u001b[49m\u001b[43m \u001b[49m\u001b[43mrenderer\u001b[49m\u001b[38;5;241;43m=\u001b[39;49m\u001b[38;5;28;43mself\u001b[39;49m\u001b[43m)\u001b[49m\n\u001b[1;32m    569\u001b[0m dpi \u001b[38;5;241m=\u001b[39m \u001b[38;5;28mself\u001b[39m\u001b[38;5;241m.\u001b[39mpoints_to_pixels(\u001b[38;5;241m72\u001b[39m)\n\u001b[1;32m    570\u001b[0m \u001b[38;5;28;01mif\u001b[39;00m ismath:\n",
      "File \u001b[0;32m/opt/miniconda3/envs/REAL_FORKED_Bioinfo_project/lib/python3.10/site-packages/matplotlib/texmanager.py:363\u001b[0m, in \u001b[0;36mTexManager.get_text_width_height_descent\u001b[0;34m(cls, tex, fontsize, renderer)\u001b[0m\n\u001b[1;32m    361\u001b[0m \u001b[38;5;28;01mif\u001b[39;00m tex\u001b[38;5;241m.\u001b[39mstrip() \u001b[38;5;241m==\u001b[39m \u001b[38;5;124m'\u001b[39m\u001b[38;5;124m'\u001b[39m:\n\u001b[1;32m    362\u001b[0m     \u001b[38;5;28;01mreturn\u001b[39;00m \u001b[38;5;241m0\u001b[39m, \u001b[38;5;241m0\u001b[39m, \u001b[38;5;241m0\u001b[39m\n\u001b[0;32m--> 363\u001b[0m dvifile \u001b[38;5;241m=\u001b[39m \u001b[38;5;28;43mcls\u001b[39;49m\u001b[38;5;241;43m.\u001b[39;49m\u001b[43mmake_dvi\u001b[49m\u001b[43m(\u001b[49m\u001b[43mtex\u001b[49m\u001b[43m,\u001b[49m\u001b[43m \u001b[49m\u001b[43mfontsize\u001b[49m\u001b[43m)\u001b[49m\n\u001b[1;32m    364\u001b[0m dpi_fraction \u001b[38;5;241m=\u001b[39m renderer\u001b[38;5;241m.\u001b[39mpoints_to_pixels(\u001b[38;5;241m1.\u001b[39m) \u001b[38;5;28;01mif\u001b[39;00m renderer \u001b[38;5;28;01melse\u001b[39;00m \u001b[38;5;241m1\u001b[39m\n\u001b[1;32m    365\u001b[0m \u001b[38;5;28;01mwith\u001b[39;00m dviread\u001b[38;5;241m.\u001b[39mDvi(dvifile, \u001b[38;5;241m72\u001b[39m \u001b[38;5;241m*\u001b[39m dpi_fraction) \u001b[38;5;28;01mas\u001b[39;00m dvi:\n",
      "File \u001b[0;32m/opt/miniconda3/envs/REAL_FORKED_Bioinfo_project/lib/python3.10/site-packages/matplotlib/texmanager.py:295\u001b[0m, in \u001b[0;36mTexManager.make_dvi\u001b[0;34m(cls, tex, fontsize)\u001b[0m\n\u001b[1;32m    293\u001b[0m     \u001b[38;5;28;01mwith\u001b[39;00m TemporaryDirectory(\u001b[38;5;28mdir\u001b[39m\u001b[38;5;241m=\u001b[39mcwd) \u001b[38;5;28;01mas\u001b[39;00m tmpdir:\n\u001b[1;32m    294\u001b[0m         tmppath \u001b[38;5;241m=\u001b[39m Path(tmpdir)\n\u001b[0;32m--> 295\u001b[0m         \u001b[38;5;28;43mcls\u001b[39;49m\u001b[38;5;241;43m.\u001b[39;49m\u001b[43m_run_checked_subprocess\u001b[49m\u001b[43m(\u001b[49m\n\u001b[1;32m    296\u001b[0m \u001b[43m            \u001b[49m\u001b[43m[\u001b[49m\u001b[38;5;124;43m\"\u001b[39;49m\u001b[38;5;124;43mlatex\u001b[39;49m\u001b[38;5;124;43m\"\u001b[39;49m\u001b[43m,\u001b[49m\u001b[43m \u001b[49m\u001b[38;5;124;43m\"\u001b[39;49m\u001b[38;5;124;43m-interaction=nonstopmode\u001b[39;49m\u001b[38;5;124;43m\"\u001b[39;49m\u001b[43m,\u001b[49m\u001b[43m \u001b[49m\u001b[38;5;124;43m\"\u001b[39;49m\u001b[38;5;124;43m--halt-on-error\u001b[39;49m\u001b[38;5;124;43m\"\u001b[39;49m\u001b[43m,\u001b[49m\n\u001b[1;32m    297\u001b[0m \u001b[43m             \u001b[49m\u001b[38;5;124;43mf\u001b[39;49m\u001b[38;5;124;43m\"\u001b[39;49m\u001b[38;5;124;43m--output-directory=\u001b[39;49m\u001b[38;5;132;43;01m{\u001b[39;49;00m\u001b[43mtmppath\u001b[49m\u001b[38;5;241;43m.\u001b[39;49m\u001b[43mname\u001b[49m\u001b[38;5;132;43;01m}\u001b[39;49;00m\u001b[38;5;124;43m\"\u001b[39;49m\u001b[43m,\u001b[49m\n\u001b[1;32m    298\u001b[0m \u001b[43m             \u001b[49m\u001b[38;5;124;43mf\u001b[39;49m\u001b[38;5;124;43m\"\u001b[39;49m\u001b[38;5;132;43;01m{\u001b[39;49;00m\u001b[43mtexfile\u001b[49m\u001b[38;5;241;43m.\u001b[39;49m\u001b[43mname\u001b[49m\u001b[38;5;132;43;01m}\u001b[39;49;00m\u001b[38;5;124;43m\"\u001b[39;49m\u001b[43m]\u001b[49m\u001b[43m,\u001b[49m\u001b[43m \u001b[49m\u001b[43mtex\u001b[49m\u001b[43m,\u001b[49m\u001b[43m \u001b[49m\u001b[43mcwd\u001b[49m\u001b[38;5;241;43m=\u001b[39;49m\u001b[43mcwd\u001b[49m\u001b[43m)\u001b[49m\n\u001b[1;32m    299\u001b[0m         (tmppath \u001b[38;5;241m/\u001b[39m Path(dvifile)\u001b[38;5;241m.\u001b[39mname)\u001b[38;5;241m.\u001b[39mreplace(dvifile)\n\u001b[1;32m    300\u001b[0m \u001b[38;5;28;01mreturn\u001b[39;00m dvifile\n",
      "File \u001b[0;32m/opt/miniconda3/envs/REAL_FORKED_Bioinfo_project/lib/python3.10/site-packages/matplotlib/texmanager.py:258\u001b[0m, in \u001b[0;36mTexManager._run_checked_subprocess\u001b[0;34m(cls, command, tex, cwd)\u001b[0m\n\u001b[1;32m    254\u001b[0m     \u001b[38;5;28;01mraise\u001b[39;00m \u001b[38;5;167;01mRuntimeError\u001b[39;00m(\n\u001b[1;32m    255\u001b[0m         \u001b[38;5;124mf\u001b[39m\u001b[38;5;124m'\u001b[39m\u001b[38;5;124mFailed to process string with tex because \u001b[39m\u001b[38;5;132;01m{\u001b[39;00mcommand[\u001b[38;5;241m0\u001b[39m]\u001b[38;5;132;01m}\u001b[39;00m\u001b[38;5;124m \u001b[39m\u001b[38;5;124m'\u001b[39m\n\u001b[1;32m    256\u001b[0m         \u001b[38;5;124m'\u001b[39m\u001b[38;5;124mcould not be found\u001b[39m\u001b[38;5;124m'\u001b[39m) \u001b[38;5;28;01mfrom\u001b[39;00m\u001b[38;5;250m \u001b[39m\u001b[38;5;21;01mexc\u001b[39;00m\n\u001b[1;32m    257\u001b[0m \u001b[38;5;28;01mexcept\u001b[39;00m subprocess\u001b[38;5;241m.\u001b[39mCalledProcessError \u001b[38;5;28;01mas\u001b[39;00m exc:\n\u001b[0;32m--> 258\u001b[0m     \u001b[38;5;28;01mraise\u001b[39;00m \u001b[38;5;167;01mRuntimeError\u001b[39;00m(\n\u001b[1;32m    259\u001b[0m         \u001b[38;5;124m'\u001b[39m\u001b[38;5;132;01m{prog}\u001b[39;00m\u001b[38;5;124m was not able to process the following string:\u001b[39m\u001b[38;5;130;01m\\n\u001b[39;00m\u001b[38;5;124m'\u001b[39m\n\u001b[1;32m    260\u001b[0m         \u001b[38;5;124m'\u001b[39m\u001b[38;5;132;01m{tex!r}\u001b[39;00m\u001b[38;5;130;01m\\n\u001b[39;00m\u001b[38;5;130;01m\\n\u001b[39;00m\u001b[38;5;124m'\u001b[39m\n\u001b[1;32m    261\u001b[0m         \u001b[38;5;124m'\u001b[39m\u001b[38;5;124mHere is the full command invocation and its output:\u001b[39m\u001b[38;5;130;01m\\n\u001b[39;00m\u001b[38;5;130;01m\\n\u001b[39;00m\u001b[38;5;124m'\u001b[39m\n\u001b[1;32m    262\u001b[0m         \u001b[38;5;124m'\u001b[39m\u001b[38;5;132;01m{format_command}\u001b[39;00m\u001b[38;5;130;01m\\n\u001b[39;00m\u001b[38;5;130;01m\\n\u001b[39;00m\u001b[38;5;124m'\u001b[39m\n\u001b[1;32m    263\u001b[0m         \u001b[38;5;124m'\u001b[39m\u001b[38;5;132;01m{exc}\u001b[39;00m\u001b[38;5;130;01m\\n\u001b[39;00m\u001b[38;5;130;01m\\n\u001b[39;00m\u001b[38;5;124m'\u001b[39m\u001b[38;5;241m.\u001b[39mformat(\n\u001b[1;32m    264\u001b[0m             prog\u001b[38;5;241m=\u001b[39mcommand[\u001b[38;5;241m0\u001b[39m],\n\u001b[1;32m    265\u001b[0m             format_command\u001b[38;5;241m=\u001b[39mcbook\u001b[38;5;241m.\u001b[39m_pformat_subprocess(command),\n\u001b[1;32m    266\u001b[0m             tex\u001b[38;5;241m=\u001b[39mtex\u001b[38;5;241m.\u001b[39mencode(\u001b[38;5;124m'\u001b[39m\u001b[38;5;124municode_escape\u001b[39m\u001b[38;5;124m'\u001b[39m),\n\u001b[1;32m    267\u001b[0m             exc\u001b[38;5;241m=\u001b[39mexc\u001b[38;5;241m.\u001b[39moutput\u001b[38;5;241m.\u001b[39mdecode(\u001b[38;5;124m'\u001b[39m\u001b[38;5;124mutf-8\u001b[39m\u001b[38;5;124m'\u001b[39m, \u001b[38;5;124m'\u001b[39m\u001b[38;5;124mbackslashreplace\u001b[39m\u001b[38;5;124m'\u001b[39m))\n\u001b[1;32m    268\u001b[0m         ) \u001b[38;5;28;01mfrom\u001b[39;00m\u001b[38;5;250m \u001b[39m\u001b[38;5;28;01mNone\u001b[39;00m\n\u001b[1;32m    269\u001b[0m _log\u001b[38;5;241m.\u001b[39mdebug(report)\n\u001b[1;32m    270\u001b[0m \u001b[38;5;28;01mreturn\u001b[39;00m report\n",
      "\u001b[0;31mRuntimeError\u001b[0m: latex was not able to process the following string:\nb'Coefficient \\\\u2265 0'\n\nHere is the full command invocation and its output:\n\nlatex -interaction=nonstopmode --halt-on-error --output-directory=tmp93bpxxnl 0f503ee711de8949be177510fa2e93e19c4b843d53cbc906f93e5138ddb4dc3f.tex\n\nThis is pdfTeX, Version 3.141592653-2.6-1.40.26 (TeX Live 2024) (preloaded format=latex)\n restricted \\write18 enabled.\nentering extended mode\n(./0f503ee711de8949be177510fa2e93e19c4b843d53cbc906f93e5138ddb4dc3f.tex\nLaTeX2e <2023-11-01> patch level 1\nL3 programming layer <2024-02-20>\n(/usr/local/texlive/2024/texmf-dist/tex/latex/base/article.cls\nDocument Class: article 2023/05/17 v1.4n Standard LaTeX document class\n(/usr/local/texlive/2024/texmf-dist/tex/latex/base/size10.clo))\n(/usr/local/texlive/2024/texmf-dist/tex/latex/type1cm/type1cm.sty)\n(/usr/local/texlive/2024/texmf-dist/tex/latex/cm-super/type1ec.sty\n(/usr/local/texlive/2024/texmf-dist/tex/latex/base/t1cmr.fd))\n(/usr/local/texlive/2024/texmf-dist/tex/latex/base/inputenc.sty)\n(/usr/local/texlive/2024/texmf-dist/tex/latex/geometry/geometry.sty\n(/usr/local/texlive/2024/texmf-dist/tex/latex/graphics/keyval.sty)\n(/usr/local/texlive/2024/texmf-dist/tex/generic/iftex/ifvtex.sty\n(/usr/local/texlive/2024/texmf-dist/tex/generic/iftex/iftex.sty)))\n(/usr/local/texlive/2024/texmf-dist/tex/latex/amsmath/amsmath.sty\nFor additional information on amsmath, use the `?' option.\n(/usr/local/texlive/2024/texmf-dist/tex/latex/amsmath/amstext.sty\n(/usr/local/texlive/2024/texmf-dist/tex/latex/amsmath/amsgen.sty))\n(/usr/local/texlive/2024/texmf-dist/tex/latex/amsmath/amsbsy.sty)\n(/usr/local/texlive/2024/texmf-dist/tex/latex/amsmath/amsopn.sty))\n(/usr/local/texlive/2024/texmf-dist/tex/latex/amsfonts/amssymb.sty\n(/usr/local/texlive/2024/texmf-dist/tex/latex/amsfonts/amsfonts.sty))\n(/usr/local/texlive/2024/texmf-dist/tex/latex/underscore/underscore.sty)\n(/usr/local/texlive/2024/texmf-dist/tex/latex/firstaid/underscore-ltx.sty)\n(/usr/local/texlive/2024/texmf-dist/tex/latex/base/textcomp.sty)\n(/usr/local/texlive/2024/texmf-dist/tex/latex/l3backend/l3backend-dvips.def)\nNo file 0f503ee711de8949be177510fa2e93e19c4b843d53cbc906f93e5138ddb4dc3f.aux.\n*geometry* driver: auto-detecting\n*geometry* detected driver: dvips\n\n! LaTeX Error: Unicode character ≥ (U+2265)\n               not set up for use with LaTeX.\n\nSee the LaTeX manual or LaTeX Companion for explanation.\nType  H <return>  for immediate help.\n ...                                              \n                                                  \nl.30 {\\sffamily Coefficient ≥\n                                0}%\nNo pages of output.\nTranscript written on tmp93bpxxnl/0f503ee711de8949be177510fa2e93e19c4b843d53cbc\n906f93e5138ddb4dc3f.log.\n\n\n"
     ]
    },
    {
     "name": "stdout",
     "output_type": "stream",
     "text": [
      "Error in callback <function _draw_all_if_interactive at 0x132b22cb0> (for post_execute), with arguments args (),kwargs {}:\n"
     ]
    },
    {
     "ename": "RuntimeError",
     "evalue": "latex was not able to process the following string:\nb'Coefficient \\\\u2265 0'\n\nHere is the full command invocation and its output:\n\nlatex -interaction=nonstopmode --halt-on-error --output-directory=tmpn1732qj5 0f503ee711de8949be177510fa2e93e19c4b843d53cbc906f93e5138ddb4dc3f.tex\n\nThis is pdfTeX, Version 3.141592653-2.6-1.40.26 (TeX Live 2024) (preloaded format=latex)\n restricted \\write18 enabled.\nentering extended mode\n(./0f503ee711de8949be177510fa2e93e19c4b843d53cbc906f93e5138ddb4dc3f.tex\nLaTeX2e <2023-11-01> patch level 1\nL3 programming layer <2024-02-20>\n(/usr/local/texlive/2024/texmf-dist/tex/latex/base/article.cls\nDocument Class: article 2023/05/17 v1.4n Standard LaTeX document class\n(/usr/local/texlive/2024/texmf-dist/tex/latex/base/size10.clo))\n(/usr/local/texlive/2024/texmf-dist/tex/latex/type1cm/type1cm.sty)\n(/usr/local/texlive/2024/texmf-dist/tex/latex/cm-super/type1ec.sty\n(/usr/local/texlive/2024/texmf-dist/tex/latex/base/t1cmr.fd))\n(/usr/local/texlive/2024/texmf-dist/tex/latex/base/inputenc.sty)\n(/usr/local/texlive/2024/texmf-dist/tex/latex/geometry/geometry.sty\n(/usr/local/texlive/2024/texmf-dist/tex/latex/graphics/keyval.sty)\n(/usr/local/texlive/2024/texmf-dist/tex/generic/iftex/ifvtex.sty\n(/usr/local/texlive/2024/texmf-dist/tex/generic/iftex/iftex.sty)))\n(/usr/local/texlive/2024/texmf-dist/tex/latex/amsmath/amsmath.sty\nFor additional information on amsmath, use the `?' option.\n(/usr/local/texlive/2024/texmf-dist/tex/latex/amsmath/amstext.sty\n(/usr/local/texlive/2024/texmf-dist/tex/latex/amsmath/amsgen.sty))\n(/usr/local/texlive/2024/texmf-dist/tex/latex/amsmath/amsbsy.sty)\n(/usr/local/texlive/2024/texmf-dist/tex/latex/amsmath/amsopn.sty))\n(/usr/local/texlive/2024/texmf-dist/tex/latex/amsfonts/amssymb.sty\n(/usr/local/texlive/2024/texmf-dist/tex/latex/amsfonts/amsfonts.sty))\n(/usr/local/texlive/2024/texmf-dist/tex/latex/underscore/underscore.sty)\n(/usr/local/texlive/2024/texmf-dist/tex/latex/firstaid/underscore-ltx.sty)\n(/usr/local/texlive/2024/texmf-dist/tex/latex/base/textcomp.sty)\n(/usr/local/texlive/2024/texmf-dist/tex/latex/l3backend/l3backend-dvips.def)\nNo file 0f503ee711de8949be177510fa2e93e19c4b843d53cbc906f93e5138ddb4dc3f.aux.\n*geometry* driver: auto-detecting\n*geometry* detected driver: dvips\n\n! LaTeX Error: Unicode character ≥ (U+2265)\n               not set up for use with LaTeX.\n\nSee the LaTeX manual or LaTeX Companion for explanation.\nType  H <return>  for immediate help.\n ...                                              \n                                                  \nl.30 {\\sffamily Coefficient ≥\n                                0}%\nNo pages of output.\nTranscript written on tmpn1732qj5/0f503ee711de8949be177510fa2e93e19c4b843d53cbc\n906f93e5138ddb4dc3f.log.\n\n\n",
     "output_type": "error",
     "traceback": [
      "\u001b[0;31m---------------------------------------------------------------------------\u001b[0m",
      "\u001b[0;31mRuntimeError\u001b[0m                              Traceback (most recent call last)",
      "File \u001b[0;32m/opt/miniconda3/envs/REAL_FORKED_Bioinfo_project/lib/python3.10/site-packages/matplotlib/pyplot.py:279\u001b[0m, in \u001b[0;36m_draw_all_if_interactive\u001b[0;34m()\u001b[0m\n\u001b[1;32m    277\u001b[0m \u001b[38;5;28;01mdef\u001b[39;00m\u001b[38;5;250m \u001b[39m\u001b[38;5;21m_draw_all_if_interactive\u001b[39m() \u001b[38;5;241m-\u001b[39m\u001b[38;5;241m>\u001b[39m \u001b[38;5;28;01mNone\u001b[39;00m:\n\u001b[1;32m    278\u001b[0m     \u001b[38;5;28;01mif\u001b[39;00m matplotlib\u001b[38;5;241m.\u001b[39mis_interactive():\n\u001b[0;32m--> 279\u001b[0m         \u001b[43mdraw_all\u001b[49m\u001b[43m(\u001b[49m\u001b[43m)\u001b[49m\n",
      "File \u001b[0;32m/opt/miniconda3/envs/REAL_FORKED_Bioinfo_project/lib/python3.10/site-packages/matplotlib/_pylab_helpers.py:131\u001b[0m, in \u001b[0;36mGcf.draw_all\u001b[0;34m(cls, force)\u001b[0m\n\u001b[1;32m    129\u001b[0m \u001b[38;5;28;01mfor\u001b[39;00m manager \u001b[38;5;129;01min\u001b[39;00m \u001b[38;5;28mcls\u001b[39m\u001b[38;5;241m.\u001b[39mget_all_fig_managers():\n\u001b[1;32m    130\u001b[0m     \u001b[38;5;28;01mif\u001b[39;00m force \u001b[38;5;129;01mor\u001b[39;00m manager\u001b[38;5;241m.\u001b[39mcanvas\u001b[38;5;241m.\u001b[39mfigure\u001b[38;5;241m.\u001b[39mstale:\n\u001b[0;32m--> 131\u001b[0m         \u001b[43mmanager\u001b[49m\u001b[38;5;241;43m.\u001b[39;49m\u001b[43mcanvas\u001b[49m\u001b[38;5;241;43m.\u001b[39;49m\u001b[43mdraw_idle\u001b[49m\u001b[43m(\u001b[49m\u001b[43m)\u001b[49m\n",
      "File \u001b[0;32m/opt/miniconda3/envs/REAL_FORKED_Bioinfo_project/lib/python3.10/site-packages/matplotlib/backend_bases.py:1891\u001b[0m, in \u001b[0;36mFigureCanvasBase.draw_idle\u001b[0;34m(self, *args, **kwargs)\u001b[0m\n\u001b[1;32m   1889\u001b[0m \u001b[38;5;28;01mif\u001b[39;00m \u001b[38;5;129;01mnot\u001b[39;00m \u001b[38;5;28mself\u001b[39m\u001b[38;5;241m.\u001b[39m_is_idle_drawing:\n\u001b[1;32m   1890\u001b[0m     \u001b[38;5;28;01mwith\u001b[39;00m \u001b[38;5;28mself\u001b[39m\u001b[38;5;241m.\u001b[39m_idle_draw_cntx():\n\u001b[0;32m-> 1891\u001b[0m         \u001b[38;5;28;43mself\u001b[39;49m\u001b[38;5;241;43m.\u001b[39;49m\u001b[43mdraw\u001b[49m\u001b[43m(\u001b[49m\u001b[38;5;241;43m*\u001b[39;49m\u001b[43margs\u001b[49m\u001b[43m,\u001b[49m\u001b[43m \u001b[49m\u001b[38;5;241;43m*\u001b[39;49m\u001b[38;5;241;43m*\u001b[39;49m\u001b[43mkwargs\u001b[49m\u001b[43m)\u001b[49m\n",
      "File \u001b[0;32m/opt/miniconda3/envs/REAL_FORKED_Bioinfo_project/lib/python3.10/site-packages/matplotlib/backends/backend_agg.py:382\u001b[0m, in \u001b[0;36mFigureCanvasAgg.draw\u001b[0;34m(self)\u001b[0m\n\u001b[1;32m    379\u001b[0m \u001b[38;5;66;03m# Acquire a lock on the shared font cache.\u001b[39;00m\n\u001b[1;32m    380\u001b[0m \u001b[38;5;28;01mwith\u001b[39;00m (\u001b[38;5;28mself\u001b[39m\u001b[38;5;241m.\u001b[39mtoolbar\u001b[38;5;241m.\u001b[39m_wait_cursor_for_draw_cm() \u001b[38;5;28;01mif\u001b[39;00m \u001b[38;5;28mself\u001b[39m\u001b[38;5;241m.\u001b[39mtoolbar\n\u001b[1;32m    381\u001b[0m       \u001b[38;5;28;01melse\u001b[39;00m nullcontext()):\n\u001b[0;32m--> 382\u001b[0m     \u001b[38;5;28;43mself\u001b[39;49m\u001b[38;5;241;43m.\u001b[39;49m\u001b[43mfigure\u001b[49m\u001b[38;5;241;43m.\u001b[39;49m\u001b[43mdraw\u001b[49m\u001b[43m(\u001b[49m\u001b[38;5;28;43mself\u001b[39;49m\u001b[38;5;241;43m.\u001b[39;49m\u001b[43mrenderer\u001b[49m\u001b[43m)\u001b[49m\n\u001b[1;32m    383\u001b[0m     \u001b[38;5;66;03m# A GUI class may be need to update a window using this draw, so\u001b[39;00m\n\u001b[1;32m    384\u001b[0m     \u001b[38;5;66;03m# don't forget to call the superclass.\u001b[39;00m\n\u001b[1;32m    385\u001b[0m     \u001b[38;5;28msuper\u001b[39m()\u001b[38;5;241m.\u001b[39mdraw()\n",
      "File \u001b[0;32m/opt/miniconda3/envs/REAL_FORKED_Bioinfo_project/lib/python3.10/site-packages/matplotlib/artist.py:94\u001b[0m, in \u001b[0;36m_finalize_rasterization.<locals>.draw_wrapper\u001b[0;34m(artist, renderer, *args, **kwargs)\u001b[0m\n\u001b[1;32m     92\u001b[0m \u001b[38;5;129m@wraps\u001b[39m(draw)\n\u001b[1;32m     93\u001b[0m \u001b[38;5;28;01mdef\u001b[39;00m\u001b[38;5;250m \u001b[39m\u001b[38;5;21mdraw_wrapper\u001b[39m(artist, renderer, \u001b[38;5;241m*\u001b[39margs, \u001b[38;5;241m*\u001b[39m\u001b[38;5;241m*\u001b[39mkwargs):\n\u001b[0;32m---> 94\u001b[0m     result \u001b[38;5;241m=\u001b[39m \u001b[43mdraw\u001b[49m\u001b[43m(\u001b[49m\u001b[43martist\u001b[49m\u001b[43m,\u001b[49m\u001b[43m \u001b[49m\u001b[43mrenderer\u001b[49m\u001b[43m,\u001b[49m\u001b[43m \u001b[49m\u001b[38;5;241;43m*\u001b[39;49m\u001b[43margs\u001b[49m\u001b[43m,\u001b[49m\u001b[43m \u001b[49m\u001b[38;5;241;43m*\u001b[39;49m\u001b[38;5;241;43m*\u001b[39;49m\u001b[43mkwargs\u001b[49m\u001b[43m)\u001b[49m\n\u001b[1;32m     95\u001b[0m     \u001b[38;5;28;01mif\u001b[39;00m renderer\u001b[38;5;241m.\u001b[39m_rasterizing:\n\u001b[1;32m     96\u001b[0m         renderer\u001b[38;5;241m.\u001b[39mstop_rasterizing()\n",
      "File \u001b[0;32m/opt/miniconda3/envs/REAL_FORKED_Bioinfo_project/lib/python3.10/site-packages/matplotlib/artist.py:71\u001b[0m, in \u001b[0;36mallow_rasterization.<locals>.draw_wrapper\u001b[0;34m(artist, renderer)\u001b[0m\n\u001b[1;32m     68\u001b[0m     \u001b[38;5;28;01mif\u001b[39;00m artist\u001b[38;5;241m.\u001b[39mget_agg_filter() \u001b[38;5;129;01mis\u001b[39;00m \u001b[38;5;129;01mnot\u001b[39;00m \u001b[38;5;28;01mNone\u001b[39;00m:\n\u001b[1;32m     69\u001b[0m         renderer\u001b[38;5;241m.\u001b[39mstart_filter()\n\u001b[0;32m---> 71\u001b[0m     \u001b[38;5;28;01mreturn\u001b[39;00m \u001b[43mdraw\u001b[49m\u001b[43m(\u001b[49m\u001b[43martist\u001b[49m\u001b[43m,\u001b[49m\u001b[43m \u001b[49m\u001b[43mrenderer\u001b[49m\u001b[43m)\u001b[49m\n\u001b[1;32m     72\u001b[0m \u001b[38;5;28;01mfinally\u001b[39;00m:\n\u001b[1;32m     73\u001b[0m     \u001b[38;5;28;01mif\u001b[39;00m artist\u001b[38;5;241m.\u001b[39mget_agg_filter() \u001b[38;5;129;01mis\u001b[39;00m \u001b[38;5;129;01mnot\u001b[39;00m \u001b[38;5;28;01mNone\u001b[39;00m:\n",
      "File \u001b[0;32m/opt/miniconda3/envs/REAL_FORKED_Bioinfo_project/lib/python3.10/site-packages/matplotlib/figure.py:3257\u001b[0m, in \u001b[0;36mFigure.draw\u001b[0;34m(self, renderer)\u001b[0m\n\u001b[1;32m   3254\u001b[0m             \u001b[38;5;66;03m# ValueError can occur when resizing a window.\u001b[39;00m\n\u001b[1;32m   3256\u001b[0m     \u001b[38;5;28mself\u001b[39m\u001b[38;5;241m.\u001b[39mpatch\u001b[38;5;241m.\u001b[39mdraw(renderer)\n\u001b[0;32m-> 3257\u001b[0m     \u001b[43mmimage\u001b[49m\u001b[38;5;241;43m.\u001b[39;49m\u001b[43m_draw_list_compositing_images\u001b[49m\u001b[43m(\u001b[49m\n\u001b[1;32m   3258\u001b[0m \u001b[43m        \u001b[49m\u001b[43mrenderer\u001b[49m\u001b[43m,\u001b[49m\u001b[43m \u001b[49m\u001b[38;5;28;43mself\u001b[39;49m\u001b[43m,\u001b[49m\u001b[43m \u001b[49m\u001b[43martists\u001b[49m\u001b[43m,\u001b[49m\u001b[43m \u001b[49m\u001b[38;5;28;43mself\u001b[39;49m\u001b[38;5;241;43m.\u001b[39;49m\u001b[43msuppressComposite\u001b[49m\u001b[43m)\u001b[49m\n\u001b[1;32m   3260\u001b[0m     renderer\u001b[38;5;241m.\u001b[39mclose_group(\u001b[38;5;124m'\u001b[39m\u001b[38;5;124mfigure\u001b[39m\u001b[38;5;124m'\u001b[39m)\n\u001b[1;32m   3261\u001b[0m \u001b[38;5;28;01mfinally\u001b[39;00m:\n",
      "File \u001b[0;32m/opt/miniconda3/envs/REAL_FORKED_Bioinfo_project/lib/python3.10/site-packages/matplotlib/image.py:134\u001b[0m, in \u001b[0;36m_draw_list_compositing_images\u001b[0;34m(renderer, parent, artists, suppress_composite)\u001b[0m\n\u001b[1;32m    132\u001b[0m \u001b[38;5;28;01mif\u001b[39;00m not_composite \u001b[38;5;129;01mor\u001b[39;00m \u001b[38;5;129;01mnot\u001b[39;00m has_images:\n\u001b[1;32m    133\u001b[0m     \u001b[38;5;28;01mfor\u001b[39;00m a \u001b[38;5;129;01min\u001b[39;00m artists:\n\u001b[0;32m--> 134\u001b[0m         \u001b[43ma\u001b[49m\u001b[38;5;241;43m.\u001b[39;49m\u001b[43mdraw\u001b[49m\u001b[43m(\u001b[49m\u001b[43mrenderer\u001b[49m\u001b[43m)\u001b[49m\n\u001b[1;32m    135\u001b[0m \u001b[38;5;28;01melse\u001b[39;00m:\n\u001b[1;32m    136\u001b[0m     \u001b[38;5;66;03m# Composite any adjacent images together\u001b[39;00m\n\u001b[1;32m    137\u001b[0m     image_group \u001b[38;5;241m=\u001b[39m []\n",
      "File \u001b[0;32m/opt/miniconda3/envs/REAL_FORKED_Bioinfo_project/lib/python3.10/site-packages/matplotlib/artist.py:71\u001b[0m, in \u001b[0;36mallow_rasterization.<locals>.draw_wrapper\u001b[0;34m(artist, renderer)\u001b[0m\n\u001b[1;32m     68\u001b[0m     \u001b[38;5;28;01mif\u001b[39;00m artist\u001b[38;5;241m.\u001b[39mget_agg_filter() \u001b[38;5;129;01mis\u001b[39;00m \u001b[38;5;129;01mnot\u001b[39;00m \u001b[38;5;28;01mNone\u001b[39;00m:\n\u001b[1;32m     69\u001b[0m         renderer\u001b[38;5;241m.\u001b[39mstart_filter()\n\u001b[0;32m---> 71\u001b[0m     \u001b[38;5;28;01mreturn\u001b[39;00m \u001b[43mdraw\u001b[49m\u001b[43m(\u001b[49m\u001b[43martist\u001b[49m\u001b[43m,\u001b[49m\u001b[43m \u001b[49m\u001b[43mrenderer\u001b[49m\u001b[43m)\u001b[49m\n\u001b[1;32m     72\u001b[0m \u001b[38;5;28;01mfinally\u001b[39;00m:\n\u001b[1;32m     73\u001b[0m     \u001b[38;5;28;01mif\u001b[39;00m artist\u001b[38;5;241m.\u001b[39mget_agg_filter() \u001b[38;5;129;01mis\u001b[39;00m \u001b[38;5;129;01mnot\u001b[39;00m \u001b[38;5;28;01mNone\u001b[39;00m:\n",
      "File \u001b[0;32m/opt/miniconda3/envs/REAL_FORKED_Bioinfo_project/lib/python3.10/site-packages/matplotlib/axes/_base.py:3180\u001b[0m, in \u001b[0;36m_AxesBase.draw\u001b[0;34m(self, renderer)\u001b[0m\n\u001b[1;32m   3177\u001b[0m     \u001b[38;5;28;01mfor\u001b[39;00m spine \u001b[38;5;129;01min\u001b[39;00m \u001b[38;5;28mself\u001b[39m\u001b[38;5;241m.\u001b[39mspines\u001b[38;5;241m.\u001b[39mvalues():\n\u001b[1;32m   3178\u001b[0m         artists\u001b[38;5;241m.\u001b[39mremove(spine)\n\u001b[0;32m-> 3180\u001b[0m \u001b[38;5;28;43mself\u001b[39;49m\u001b[38;5;241;43m.\u001b[39;49m\u001b[43m_update_title_position\u001b[49m\u001b[43m(\u001b[49m\u001b[43mrenderer\u001b[49m\u001b[43m)\u001b[49m\n\u001b[1;32m   3182\u001b[0m \u001b[38;5;28;01mif\u001b[39;00m \u001b[38;5;129;01mnot\u001b[39;00m \u001b[38;5;28mself\u001b[39m\u001b[38;5;241m.\u001b[39maxison:\n\u001b[1;32m   3183\u001b[0m     \u001b[38;5;28;01mfor\u001b[39;00m _axis \u001b[38;5;129;01min\u001b[39;00m \u001b[38;5;28mself\u001b[39m\u001b[38;5;241m.\u001b[39m_axis_map\u001b[38;5;241m.\u001b[39mvalues():\n",
      "File \u001b[0;32m/opt/miniconda3/envs/REAL_FORKED_Bioinfo_project/lib/python3.10/site-packages/matplotlib/axes/_base.py:3124\u001b[0m, in \u001b[0;36m_AxesBase._update_title_position\u001b[0;34m(self, renderer)\u001b[0m\n\u001b[1;32m   3122\u001b[0m \u001b[38;5;28;01mif\u001b[39;00m title\u001b[38;5;241m.\u001b[39mget_text():\n\u001b[1;32m   3123\u001b[0m     \u001b[38;5;28;01mfor\u001b[39;00m ax \u001b[38;5;129;01min\u001b[39;00m axs:\n\u001b[0;32m-> 3124\u001b[0m         \u001b[43max\u001b[49m\u001b[38;5;241;43m.\u001b[39;49m\u001b[43myaxis\u001b[49m\u001b[38;5;241;43m.\u001b[39;49m\u001b[43mget_tightbbox\u001b[49m\u001b[43m(\u001b[49m\u001b[43mrenderer\u001b[49m\u001b[43m)\u001b[49m  \u001b[38;5;66;03m# update offsetText\u001b[39;00m\n\u001b[1;32m   3125\u001b[0m         \u001b[38;5;28;01mif\u001b[39;00m ax\u001b[38;5;241m.\u001b[39myaxis\u001b[38;5;241m.\u001b[39moffsetText\u001b[38;5;241m.\u001b[39mget_text():\n\u001b[1;32m   3126\u001b[0m             bb \u001b[38;5;241m=\u001b[39m ax\u001b[38;5;241m.\u001b[39myaxis\u001b[38;5;241m.\u001b[39moffsetText\u001b[38;5;241m.\u001b[39mget_tightbbox(renderer)\n",
      "File \u001b[0;32m/opt/miniconda3/envs/REAL_FORKED_Bioinfo_project/lib/python3.10/site-packages/matplotlib/axis.py:1369\u001b[0m, in \u001b[0;36mAxis.get_tightbbox\u001b[0;34m(self, renderer, for_layout_only)\u001b[0m\n\u001b[1;32m   1367\u001b[0m \u001b[38;5;66;03m# take care of label\u001b[39;00m\n\u001b[1;32m   1368\u001b[0m \u001b[38;5;28;01mif\u001b[39;00m \u001b[38;5;28mself\u001b[39m\u001b[38;5;241m.\u001b[39mlabel\u001b[38;5;241m.\u001b[39mget_visible():\n\u001b[0;32m-> 1369\u001b[0m     bb \u001b[38;5;241m=\u001b[39m \u001b[38;5;28;43mself\u001b[39;49m\u001b[38;5;241;43m.\u001b[39;49m\u001b[43mlabel\u001b[49m\u001b[38;5;241;43m.\u001b[39;49m\u001b[43mget_window_extent\u001b[49m\u001b[43m(\u001b[49m\u001b[43mrenderer\u001b[49m\u001b[43m)\u001b[49m\n\u001b[1;32m   1370\u001b[0m     \u001b[38;5;66;03m# for constrained/tight_layout, we want to ignore the label's\u001b[39;00m\n\u001b[1;32m   1371\u001b[0m     \u001b[38;5;66;03m# width/height because the adjustments they make can't be improved.\u001b[39;00m\n\u001b[1;32m   1372\u001b[0m     \u001b[38;5;66;03m# this code collapses the relevant direction\u001b[39;00m\n\u001b[1;32m   1373\u001b[0m     \u001b[38;5;28;01mif\u001b[39;00m for_layout_only:\n",
      "File \u001b[0;32m/opt/miniconda3/envs/REAL_FORKED_Bioinfo_project/lib/python3.10/site-packages/matplotlib/text.py:969\u001b[0m, in \u001b[0;36mText.get_window_extent\u001b[0;34m(self, renderer, dpi)\u001b[0m\n\u001b[1;32m    964\u001b[0m     \u001b[38;5;28;01mraise\u001b[39;00m \u001b[38;5;167;01mRuntimeError\u001b[39;00m(\n\u001b[1;32m    965\u001b[0m         \u001b[38;5;124m\"\u001b[39m\u001b[38;5;124mCannot get window extent of text w/o renderer. You likely \u001b[39m\u001b[38;5;124m\"\u001b[39m\n\u001b[1;32m    966\u001b[0m         \u001b[38;5;124m\"\u001b[39m\u001b[38;5;124mwant to call \u001b[39m\u001b[38;5;124m'\u001b[39m\u001b[38;5;124mfigure.draw_without_rendering()\u001b[39m\u001b[38;5;124m'\u001b[39m\u001b[38;5;124m first.\u001b[39m\u001b[38;5;124m\"\u001b[39m)\n\u001b[1;32m    968\u001b[0m \u001b[38;5;28;01mwith\u001b[39;00m cbook\u001b[38;5;241m.\u001b[39m_setattr_cm(fig, dpi\u001b[38;5;241m=\u001b[39mdpi):\n\u001b[0;32m--> 969\u001b[0m     bbox, info, descent \u001b[38;5;241m=\u001b[39m \u001b[38;5;28;43mself\u001b[39;49m\u001b[38;5;241;43m.\u001b[39;49m\u001b[43m_get_layout\u001b[49m\u001b[43m(\u001b[49m\u001b[38;5;28;43mself\u001b[39;49m\u001b[38;5;241;43m.\u001b[39;49m\u001b[43m_renderer\u001b[49m\u001b[43m)\u001b[49m\n\u001b[1;32m    970\u001b[0m     x, y \u001b[38;5;241m=\u001b[39m \u001b[38;5;28mself\u001b[39m\u001b[38;5;241m.\u001b[39mget_unitless_position()\n\u001b[1;32m    971\u001b[0m     x, y \u001b[38;5;241m=\u001b[39m \u001b[38;5;28mself\u001b[39m\u001b[38;5;241m.\u001b[39mget_transform()\u001b[38;5;241m.\u001b[39mtransform((x, y))\n",
      "File \u001b[0;32m/opt/miniconda3/envs/REAL_FORKED_Bioinfo_project/lib/python3.10/site-packages/matplotlib/text.py:382\u001b[0m, in \u001b[0;36mText._get_layout\u001b[0;34m(self, renderer)\u001b[0m\n\u001b[1;32m    380\u001b[0m clean_line, ismath \u001b[38;5;241m=\u001b[39m \u001b[38;5;28mself\u001b[39m\u001b[38;5;241m.\u001b[39m_preprocess_math(line)\n\u001b[1;32m    381\u001b[0m \u001b[38;5;28;01mif\u001b[39;00m clean_line:\n\u001b[0;32m--> 382\u001b[0m     w, h, d \u001b[38;5;241m=\u001b[39m \u001b[43m_get_text_metrics_with_cache\u001b[49m\u001b[43m(\u001b[49m\n\u001b[1;32m    383\u001b[0m \u001b[43m        \u001b[49m\u001b[43mrenderer\u001b[49m\u001b[43m,\u001b[49m\u001b[43m \u001b[49m\u001b[43mclean_line\u001b[49m\u001b[43m,\u001b[49m\u001b[43m \u001b[49m\u001b[38;5;28;43mself\u001b[39;49m\u001b[38;5;241;43m.\u001b[39;49m\u001b[43m_fontproperties\u001b[49m\u001b[43m,\u001b[49m\n\u001b[1;32m    384\u001b[0m \u001b[43m        \u001b[49m\u001b[43mismath\u001b[49m\u001b[38;5;241;43m=\u001b[39;49m\u001b[43mismath\u001b[49m\u001b[43m,\u001b[49m\u001b[43m \u001b[49m\u001b[43mdpi\u001b[49m\u001b[38;5;241;43m=\u001b[39;49m\u001b[38;5;28;43mself\u001b[39;49m\u001b[38;5;241;43m.\u001b[39;49m\u001b[43mget_figure\u001b[49m\u001b[43m(\u001b[49m\u001b[43mroot\u001b[49m\u001b[38;5;241;43m=\u001b[39;49m\u001b[38;5;28;43;01mTrue\u001b[39;49;00m\u001b[43m)\u001b[49m\u001b[38;5;241;43m.\u001b[39;49m\u001b[43mdpi\u001b[49m\u001b[43m)\u001b[49m\n\u001b[1;32m    385\u001b[0m \u001b[38;5;28;01melse\u001b[39;00m:\n\u001b[1;32m    386\u001b[0m     w \u001b[38;5;241m=\u001b[39m h \u001b[38;5;241m=\u001b[39m d \u001b[38;5;241m=\u001b[39m \u001b[38;5;241m0\u001b[39m\n",
      "File \u001b[0;32m/opt/miniconda3/envs/REAL_FORKED_Bioinfo_project/lib/python3.10/site-packages/matplotlib/text.py:69\u001b[0m, in \u001b[0;36m_get_text_metrics_with_cache\u001b[0;34m(renderer, text, fontprop, ismath, dpi)\u001b[0m\n\u001b[1;32m     66\u001b[0m \u001b[38;5;250m\u001b[39m\u001b[38;5;124;03m\"\"\"Call ``renderer.get_text_width_height_descent``, caching the results.\"\"\"\u001b[39;00m\n\u001b[1;32m     67\u001b[0m \u001b[38;5;66;03m# Cached based on a copy of fontprop so that later in-place mutations of\u001b[39;00m\n\u001b[1;32m     68\u001b[0m \u001b[38;5;66;03m# the passed-in argument do not mess up the cache.\u001b[39;00m\n\u001b[0;32m---> 69\u001b[0m \u001b[38;5;28;01mreturn\u001b[39;00m \u001b[43m_get_text_metrics_with_cache_impl\u001b[49m\u001b[43m(\u001b[49m\n\u001b[1;32m     70\u001b[0m \u001b[43m    \u001b[49m\u001b[43mweakref\u001b[49m\u001b[38;5;241;43m.\u001b[39;49m\u001b[43mref\u001b[49m\u001b[43m(\u001b[49m\u001b[43mrenderer\u001b[49m\u001b[43m)\u001b[49m\u001b[43m,\u001b[49m\u001b[43m \u001b[49m\u001b[43mtext\u001b[49m\u001b[43m,\u001b[49m\u001b[43m \u001b[49m\u001b[43mfontprop\u001b[49m\u001b[38;5;241;43m.\u001b[39;49m\u001b[43mcopy\u001b[49m\u001b[43m(\u001b[49m\u001b[43m)\u001b[49m\u001b[43m,\u001b[49m\u001b[43m \u001b[49m\u001b[43mismath\u001b[49m\u001b[43m,\u001b[49m\u001b[43m \u001b[49m\u001b[43mdpi\u001b[49m\u001b[43m)\u001b[49m\n",
      "File \u001b[0;32m/opt/miniconda3/envs/REAL_FORKED_Bioinfo_project/lib/python3.10/site-packages/matplotlib/text.py:77\u001b[0m, in \u001b[0;36m_get_text_metrics_with_cache_impl\u001b[0;34m(renderer_ref, text, fontprop, ismath, dpi)\u001b[0m\n\u001b[1;32m     73\u001b[0m \u001b[38;5;129m@functools\u001b[39m\u001b[38;5;241m.\u001b[39mlru_cache(\u001b[38;5;241m4096\u001b[39m)\n\u001b[1;32m     74\u001b[0m \u001b[38;5;28;01mdef\u001b[39;00m\u001b[38;5;250m \u001b[39m\u001b[38;5;21m_get_text_metrics_with_cache_impl\u001b[39m(\n\u001b[1;32m     75\u001b[0m         renderer_ref, text, fontprop, ismath, dpi):\n\u001b[1;32m     76\u001b[0m     \u001b[38;5;66;03m# dpi is unused, but participates in cache invalidation (via the renderer).\u001b[39;00m\n\u001b[0;32m---> 77\u001b[0m     \u001b[38;5;28;01mreturn\u001b[39;00m \u001b[43mrenderer_ref\u001b[49m\u001b[43m(\u001b[49m\u001b[43m)\u001b[49m\u001b[38;5;241;43m.\u001b[39;49m\u001b[43mget_text_width_height_descent\u001b[49m\u001b[43m(\u001b[49m\u001b[43mtext\u001b[49m\u001b[43m,\u001b[49m\u001b[43m \u001b[49m\u001b[43mfontprop\u001b[49m\u001b[43m,\u001b[49m\u001b[43m \u001b[49m\u001b[43mismath\u001b[49m\u001b[43m)\u001b[49m\n",
      "File \u001b[0;32m/opt/miniconda3/envs/REAL_FORKED_Bioinfo_project/lib/python3.10/site-packages/matplotlib/backends/backend_agg.py:211\u001b[0m, in \u001b[0;36mRendererAgg.get_text_width_height_descent\u001b[0;34m(self, s, prop, ismath)\u001b[0m\n\u001b[1;32m    209\u001b[0m _api\u001b[38;5;241m.\u001b[39mcheck_in_list([\u001b[38;5;124m\"\u001b[39m\u001b[38;5;124mTeX\u001b[39m\u001b[38;5;124m\"\u001b[39m, \u001b[38;5;28;01mTrue\u001b[39;00m, \u001b[38;5;28;01mFalse\u001b[39;00m], ismath\u001b[38;5;241m=\u001b[39mismath)\n\u001b[1;32m    210\u001b[0m \u001b[38;5;28;01mif\u001b[39;00m ismath \u001b[38;5;241m==\u001b[39m \u001b[38;5;124m\"\u001b[39m\u001b[38;5;124mTeX\u001b[39m\u001b[38;5;124m\"\u001b[39m:\n\u001b[0;32m--> 211\u001b[0m     \u001b[38;5;28;01mreturn\u001b[39;00m \u001b[38;5;28;43msuper\u001b[39;49m\u001b[43m(\u001b[49m\u001b[43m)\u001b[49m\u001b[38;5;241;43m.\u001b[39;49m\u001b[43mget_text_width_height_descent\u001b[49m\u001b[43m(\u001b[49m\u001b[43ms\u001b[49m\u001b[43m,\u001b[49m\u001b[43m \u001b[49m\u001b[43mprop\u001b[49m\u001b[43m,\u001b[49m\u001b[43m \u001b[49m\u001b[43mismath\u001b[49m\u001b[43m)\u001b[49m\n\u001b[1;32m    213\u001b[0m \u001b[38;5;28;01mif\u001b[39;00m ismath:\n\u001b[1;32m    214\u001b[0m     ox, oy, width, height, descent, font_image \u001b[38;5;241m=\u001b[39m \\\n\u001b[1;32m    215\u001b[0m         \u001b[38;5;28mself\u001b[39m\u001b[38;5;241m.\u001b[39mmathtext_parser\u001b[38;5;241m.\u001b[39mparse(s, \u001b[38;5;28mself\u001b[39m\u001b[38;5;241m.\u001b[39mdpi, prop)\n",
      "File \u001b[0;32m/opt/miniconda3/envs/REAL_FORKED_Bioinfo_project/lib/python3.10/site-packages/matplotlib/backend_bases.py:566\u001b[0m, in \u001b[0;36mRendererBase.get_text_width_height_descent\u001b[0;34m(self, s, prop, ismath)\u001b[0m\n\u001b[1;32m    562\u001b[0m fontsize \u001b[38;5;241m=\u001b[39m prop\u001b[38;5;241m.\u001b[39mget_size_in_points()\n\u001b[1;32m    564\u001b[0m \u001b[38;5;28;01mif\u001b[39;00m ismath \u001b[38;5;241m==\u001b[39m \u001b[38;5;124m'\u001b[39m\u001b[38;5;124mTeX\u001b[39m\u001b[38;5;124m'\u001b[39m:\n\u001b[1;32m    565\u001b[0m     \u001b[38;5;66;03m# todo: handle properties\u001b[39;00m\n\u001b[0;32m--> 566\u001b[0m     \u001b[38;5;28;01mreturn\u001b[39;00m \u001b[38;5;28;43mself\u001b[39;49m\u001b[38;5;241;43m.\u001b[39;49m\u001b[43mget_texmanager\u001b[49m\u001b[43m(\u001b[49m\u001b[43m)\u001b[49m\u001b[38;5;241;43m.\u001b[39;49m\u001b[43mget_text_width_height_descent\u001b[49m\u001b[43m(\u001b[49m\n\u001b[1;32m    567\u001b[0m \u001b[43m        \u001b[49m\u001b[43ms\u001b[49m\u001b[43m,\u001b[49m\u001b[43m \u001b[49m\u001b[43mfontsize\u001b[49m\u001b[43m,\u001b[49m\u001b[43m \u001b[49m\u001b[43mrenderer\u001b[49m\u001b[38;5;241;43m=\u001b[39;49m\u001b[38;5;28;43mself\u001b[39;49m\u001b[43m)\u001b[49m\n\u001b[1;32m    569\u001b[0m dpi \u001b[38;5;241m=\u001b[39m \u001b[38;5;28mself\u001b[39m\u001b[38;5;241m.\u001b[39mpoints_to_pixels(\u001b[38;5;241m72\u001b[39m)\n\u001b[1;32m    570\u001b[0m \u001b[38;5;28;01mif\u001b[39;00m ismath:\n",
      "File \u001b[0;32m/opt/miniconda3/envs/REAL_FORKED_Bioinfo_project/lib/python3.10/site-packages/matplotlib/texmanager.py:363\u001b[0m, in \u001b[0;36mTexManager.get_text_width_height_descent\u001b[0;34m(cls, tex, fontsize, renderer)\u001b[0m\n\u001b[1;32m    361\u001b[0m \u001b[38;5;28;01mif\u001b[39;00m tex\u001b[38;5;241m.\u001b[39mstrip() \u001b[38;5;241m==\u001b[39m \u001b[38;5;124m'\u001b[39m\u001b[38;5;124m'\u001b[39m:\n\u001b[1;32m    362\u001b[0m     \u001b[38;5;28;01mreturn\u001b[39;00m \u001b[38;5;241m0\u001b[39m, \u001b[38;5;241m0\u001b[39m, \u001b[38;5;241m0\u001b[39m\n\u001b[0;32m--> 363\u001b[0m dvifile \u001b[38;5;241m=\u001b[39m \u001b[38;5;28;43mcls\u001b[39;49m\u001b[38;5;241;43m.\u001b[39;49m\u001b[43mmake_dvi\u001b[49m\u001b[43m(\u001b[49m\u001b[43mtex\u001b[49m\u001b[43m,\u001b[49m\u001b[43m \u001b[49m\u001b[43mfontsize\u001b[49m\u001b[43m)\u001b[49m\n\u001b[1;32m    364\u001b[0m dpi_fraction \u001b[38;5;241m=\u001b[39m renderer\u001b[38;5;241m.\u001b[39mpoints_to_pixels(\u001b[38;5;241m1.\u001b[39m) \u001b[38;5;28;01mif\u001b[39;00m renderer \u001b[38;5;28;01melse\u001b[39;00m \u001b[38;5;241m1\u001b[39m\n\u001b[1;32m    365\u001b[0m \u001b[38;5;28;01mwith\u001b[39;00m dviread\u001b[38;5;241m.\u001b[39mDvi(dvifile, \u001b[38;5;241m72\u001b[39m \u001b[38;5;241m*\u001b[39m dpi_fraction) \u001b[38;5;28;01mas\u001b[39;00m dvi:\n",
      "File \u001b[0;32m/opt/miniconda3/envs/REAL_FORKED_Bioinfo_project/lib/python3.10/site-packages/matplotlib/texmanager.py:295\u001b[0m, in \u001b[0;36mTexManager.make_dvi\u001b[0;34m(cls, tex, fontsize)\u001b[0m\n\u001b[1;32m    293\u001b[0m     \u001b[38;5;28;01mwith\u001b[39;00m TemporaryDirectory(\u001b[38;5;28mdir\u001b[39m\u001b[38;5;241m=\u001b[39mcwd) \u001b[38;5;28;01mas\u001b[39;00m tmpdir:\n\u001b[1;32m    294\u001b[0m         tmppath \u001b[38;5;241m=\u001b[39m Path(tmpdir)\n\u001b[0;32m--> 295\u001b[0m         \u001b[38;5;28;43mcls\u001b[39;49m\u001b[38;5;241;43m.\u001b[39;49m\u001b[43m_run_checked_subprocess\u001b[49m\u001b[43m(\u001b[49m\n\u001b[1;32m    296\u001b[0m \u001b[43m            \u001b[49m\u001b[43m[\u001b[49m\u001b[38;5;124;43m\"\u001b[39;49m\u001b[38;5;124;43mlatex\u001b[39;49m\u001b[38;5;124;43m\"\u001b[39;49m\u001b[43m,\u001b[49m\u001b[43m \u001b[49m\u001b[38;5;124;43m\"\u001b[39;49m\u001b[38;5;124;43m-interaction=nonstopmode\u001b[39;49m\u001b[38;5;124;43m\"\u001b[39;49m\u001b[43m,\u001b[49m\u001b[43m \u001b[49m\u001b[38;5;124;43m\"\u001b[39;49m\u001b[38;5;124;43m--halt-on-error\u001b[39;49m\u001b[38;5;124;43m\"\u001b[39;49m\u001b[43m,\u001b[49m\n\u001b[1;32m    297\u001b[0m \u001b[43m             \u001b[49m\u001b[38;5;124;43mf\u001b[39;49m\u001b[38;5;124;43m\"\u001b[39;49m\u001b[38;5;124;43m--output-directory=\u001b[39;49m\u001b[38;5;132;43;01m{\u001b[39;49;00m\u001b[43mtmppath\u001b[49m\u001b[38;5;241;43m.\u001b[39;49m\u001b[43mname\u001b[49m\u001b[38;5;132;43;01m}\u001b[39;49;00m\u001b[38;5;124;43m\"\u001b[39;49m\u001b[43m,\u001b[49m\n\u001b[1;32m    298\u001b[0m \u001b[43m             \u001b[49m\u001b[38;5;124;43mf\u001b[39;49m\u001b[38;5;124;43m\"\u001b[39;49m\u001b[38;5;132;43;01m{\u001b[39;49;00m\u001b[43mtexfile\u001b[49m\u001b[38;5;241;43m.\u001b[39;49m\u001b[43mname\u001b[49m\u001b[38;5;132;43;01m}\u001b[39;49;00m\u001b[38;5;124;43m\"\u001b[39;49m\u001b[43m]\u001b[49m\u001b[43m,\u001b[49m\u001b[43m \u001b[49m\u001b[43mtex\u001b[49m\u001b[43m,\u001b[49m\u001b[43m \u001b[49m\u001b[43mcwd\u001b[49m\u001b[38;5;241;43m=\u001b[39;49m\u001b[43mcwd\u001b[49m\u001b[43m)\u001b[49m\n\u001b[1;32m    299\u001b[0m         (tmppath \u001b[38;5;241m/\u001b[39m Path(dvifile)\u001b[38;5;241m.\u001b[39mname)\u001b[38;5;241m.\u001b[39mreplace(dvifile)\n\u001b[1;32m    300\u001b[0m \u001b[38;5;28;01mreturn\u001b[39;00m dvifile\n",
      "File \u001b[0;32m/opt/miniconda3/envs/REAL_FORKED_Bioinfo_project/lib/python3.10/site-packages/matplotlib/texmanager.py:258\u001b[0m, in \u001b[0;36mTexManager._run_checked_subprocess\u001b[0;34m(cls, command, tex, cwd)\u001b[0m\n\u001b[1;32m    254\u001b[0m     \u001b[38;5;28;01mraise\u001b[39;00m \u001b[38;5;167;01mRuntimeError\u001b[39;00m(\n\u001b[1;32m    255\u001b[0m         \u001b[38;5;124mf\u001b[39m\u001b[38;5;124m'\u001b[39m\u001b[38;5;124mFailed to process string with tex because \u001b[39m\u001b[38;5;132;01m{\u001b[39;00mcommand[\u001b[38;5;241m0\u001b[39m]\u001b[38;5;132;01m}\u001b[39;00m\u001b[38;5;124m \u001b[39m\u001b[38;5;124m'\u001b[39m\n\u001b[1;32m    256\u001b[0m         \u001b[38;5;124m'\u001b[39m\u001b[38;5;124mcould not be found\u001b[39m\u001b[38;5;124m'\u001b[39m) \u001b[38;5;28;01mfrom\u001b[39;00m\u001b[38;5;250m \u001b[39m\u001b[38;5;21;01mexc\u001b[39;00m\n\u001b[1;32m    257\u001b[0m \u001b[38;5;28;01mexcept\u001b[39;00m subprocess\u001b[38;5;241m.\u001b[39mCalledProcessError \u001b[38;5;28;01mas\u001b[39;00m exc:\n\u001b[0;32m--> 258\u001b[0m     \u001b[38;5;28;01mraise\u001b[39;00m \u001b[38;5;167;01mRuntimeError\u001b[39;00m(\n\u001b[1;32m    259\u001b[0m         \u001b[38;5;124m'\u001b[39m\u001b[38;5;132;01m{prog}\u001b[39;00m\u001b[38;5;124m was not able to process the following string:\u001b[39m\u001b[38;5;130;01m\\n\u001b[39;00m\u001b[38;5;124m'\u001b[39m\n\u001b[1;32m    260\u001b[0m         \u001b[38;5;124m'\u001b[39m\u001b[38;5;132;01m{tex!r}\u001b[39;00m\u001b[38;5;130;01m\\n\u001b[39;00m\u001b[38;5;130;01m\\n\u001b[39;00m\u001b[38;5;124m'\u001b[39m\n\u001b[1;32m    261\u001b[0m         \u001b[38;5;124m'\u001b[39m\u001b[38;5;124mHere is the full command invocation and its output:\u001b[39m\u001b[38;5;130;01m\\n\u001b[39;00m\u001b[38;5;130;01m\\n\u001b[39;00m\u001b[38;5;124m'\u001b[39m\n\u001b[1;32m    262\u001b[0m         \u001b[38;5;124m'\u001b[39m\u001b[38;5;132;01m{format_command}\u001b[39;00m\u001b[38;5;130;01m\\n\u001b[39;00m\u001b[38;5;130;01m\\n\u001b[39;00m\u001b[38;5;124m'\u001b[39m\n\u001b[1;32m    263\u001b[0m         \u001b[38;5;124m'\u001b[39m\u001b[38;5;132;01m{exc}\u001b[39;00m\u001b[38;5;130;01m\\n\u001b[39;00m\u001b[38;5;130;01m\\n\u001b[39;00m\u001b[38;5;124m'\u001b[39m\u001b[38;5;241m.\u001b[39mformat(\n\u001b[1;32m    264\u001b[0m             prog\u001b[38;5;241m=\u001b[39mcommand[\u001b[38;5;241m0\u001b[39m],\n\u001b[1;32m    265\u001b[0m             format_command\u001b[38;5;241m=\u001b[39mcbook\u001b[38;5;241m.\u001b[39m_pformat_subprocess(command),\n\u001b[1;32m    266\u001b[0m             tex\u001b[38;5;241m=\u001b[39mtex\u001b[38;5;241m.\u001b[39mencode(\u001b[38;5;124m'\u001b[39m\u001b[38;5;124municode_escape\u001b[39m\u001b[38;5;124m'\u001b[39m),\n\u001b[1;32m    267\u001b[0m             exc\u001b[38;5;241m=\u001b[39mexc\u001b[38;5;241m.\u001b[39moutput\u001b[38;5;241m.\u001b[39mdecode(\u001b[38;5;124m'\u001b[39m\u001b[38;5;124mutf-8\u001b[39m\u001b[38;5;124m'\u001b[39m, \u001b[38;5;124m'\u001b[39m\u001b[38;5;124mbackslashreplace\u001b[39m\u001b[38;5;124m'\u001b[39m))\n\u001b[1;32m    268\u001b[0m         ) \u001b[38;5;28;01mfrom\u001b[39;00m\u001b[38;5;250m \u001b[39m\u001b[38;5;28;01mNone\u001b[39;00m\n\u001b[1;32m    269\u001b[0m _log\u001b[38;5;241m.\u001b[39mdebug(report)\n\u001b[1;32m    270\u001b[0m \u001b[38;5;28;01mreturn\u001b[39;00m report\n",
      "\u001b[0;31mRuntimeError\u001b[0m: latex was not able to process the following string:\nb'Coefficient \\\\u2265 0'\n\nHere is the full command invocation and its output:\n\nlatex -interaction=nonstopmode --halt-on-error --output-directory=tmpn1732qj5 0f503ee711de8949be177510fa2e93e19c4b843d53cbc906f93e5138ddb4dc3f.tex\n\nThis is pdfTeX, Version 3.141592653-2.6-1.40.26 (TeX Live 2024) (preloaded format=latex)\n restricted \\write18 enabled.\nentering extended mode\n(./0f503ee711de8949be177510fa2e93e19c4b843d53cbc906f93e5138ddb4dc3f.tex\nLaTeX2e <2023-11-01> patch level 1\nL3 programming layer <2024-02-20>\n(/usr/local/texlive/2024/texmf-dist/tex/latex/base/article.cls\nDocument Class: article 2023/05/17 v1.4n Standard LaTeX document class\n(/usr/local/texlive/2024/texmf-dist/tex/latex/base/size10.clo))\n(/usr/local/texlive/2024/texmf-dist/tex/latex/type1cm/type1cm.sty)\n(/usr/local/texlive/2024/texmf-dist/tex/latex/cm-super/type1ec.sty\n(/usr/local/texlive/2024/texmf-dist/tex/latex/base/t1cmr.fd))\n(/usr/local/texlive/2024/texmf-dist/tex/latex/base/inputenc.sty)\n(/usr/local/texlive/2024/texmf-dist/tex/latex/geometry/geometry.sty\n(/usr/local/texlive/2024/texmf-dist/tex/latex/graphics/keyval.sty)\n(/usr/local/texlive/2024/texmf-dist/tex/generic/iftex/ifvtex.sty\n(/usr/local/texlive/2024/texmf-dist/tex/generic/iftex/iftex.sty)))\n(/usr/local/texlive/2024/texmf-dist/tex/latex/amsmath/amsmath.sty\nFor additional information on amsmath, use the `?' option.\n(/usr/local/texlive/2024/texmf-dist/tex/latex/amsmath/amstext.sty\n(/usr/local/texlive/2024/texmf-dist/tex/latex/amsmath/amsgen.sty))\n(/usr/local/texlive/2024/texmf-dist/tex/latex/amsmath/amsbsy.sty)\n(/usr/local/texlive/2024/texmf-dist/tex/latex/amsmath/amsopn.sty))\n(/usr/local/texlive/2024/texmf-dist/tex/latex/amsfonts/amssymb.sty\n(/usr/local/texlive/2024/texmf-dist/tex/latex/amsfonts/amsfonts.sty))\n(/usr/local/texlive/2024/texmf-dist/tex/latex/underscore/underscore.sty)\n(/usr/local/texlive/2024/texmf-dist/tex/latex/firstaid/underscore-ltx.sty)\n(/usr/local/texlive/2024/texmf-dist/tex/latex/base/textcomp.sty)\n(/usr/local/texlive/2024/texmf-dist/tex/latex/l3backend/l3backend-dvips.def)\nNo file 0f503ee711de8949be177510fa2e93e19c4b843d53cbc906f93e5138ddb4dc3f.aux.\n*geometry* driver: auto-detecting\n*geometry* detected driver: dvips\n\n! LaTeX Error: Unicode character ≥ (U+2265)\n               not set up for use with LaTeX.\n\nSee the LaTeX manual or LaTeX Companion for explanation.\nType  H <return>  for immediate help.\n ...                                              \n                                                  \nl.30 {\\sffamily Coefficient ≥\n                                0}%\nNo pages of output.\nTranscript written on tmpn1732qj5/0f503ee711de8949be177510fa2e93e19c4b843d53cbc\n906f93e5138ddb4dc3f.log.\n\n\n"
     ]
    },
    {
     "ename": "RuntimeError",
     "evalue": "latex was not able to process the following string:\nb'Coefficient \\\\u2265 0'\n\nHere is the full command invocation and its output:\n\nlatex -interaction=nonstopmode --halt-on-error --output-directory=tmp1v6spok0 0f503ee711de8949be177510fa2e93e19c4b843d53cbc906f93e5138ddb4dc3f.tex\n\nThis is pdfTeX, Version 3.141592653-2.6-1.40.26 (TeX Live 2024) (preloaded format=latex)\n restricted \\write18 enabled.\nentering extended mode\n(./0f503ee711de8949be177510fa2e93e19c4b843d53cbc906f93e5138ddb4dc3f.tex\nLaTeX2e <2023-11-01> patch level 1\nL3 programming layer <2024-02-20>\n(/usr/local/texlive/2024/texmf-dist/tex/latex/base/article.cls\nDocument Class: article 2023/05/17 v1.4n Standard LaTeX document class\n(/usr/local/texlive/2024/texmf-dist/tex/latex/base/size10.clo))\n(/usr/local/texlive/2024/texmf-dist/tex/latex/type1cm/type1cm.sty)\n(/usr/local/texlive/2024/texmf-dist/tex/latex/cm-super/type1ec.sty\n(/usr/local/texlive/2024/texmf-dist/tex/latex/base/t1cmr.fd))\n(/usr/local/texlive/2024/texmf-dist/tex/latex/base/inputenc.sty)\n(/usr/local/texlive/2024/texmf-dist/tex/latex/geometry/geometry.sty\n(/usr/local/texlive/2024/texmf-dist/tex/latex/graphics/keyval.sty)\n(/usr/local/texlive/2024/texmf-dist/tex/generic/iftex/ifvtex.sty\n(/usr/local/texlive/2024/texmf-dist/tex/generic/iftex/iftex.sty)))\n(/usr/local/texlive/2024/texmf-dist/tex/latex/amsmath/amsmath.sty\nFor additional information on amsmath, use the `?' option.\n(/usr/local/texlive/2024/texmf-dist/tex/latex/amsmath/amstext.sty\n(/usr/local/texlive/2024/texmf-dist/tex/latex/amsmath/amsgen.sty))\n(/usr/local/texlive/2024/texmf-dist/tex/latex/amsmath/amsbsy.sty)\n(/usr/local/texlive/2024/texmf-dist/tex/latex/amsmath/amsopn.sty))\n(/usr/local/texlive/2024/texmf-dist/tex/latex/amsfonts/amssymb.sty\n(/usr/local/texlive/2024/texmf-dist/tex/latex/amsfonts/amsfonts.sty))\n(/usr/local/texlive/2024/texmf-dist/tex/latex/underscore/underscore.sty)\n(/usr/local/texlive/2024/texmf-dist/tex/latex/firstaid/underscore-ltx.sty)\n(/usr/local/texlive/2024/texmf-dist/tex/latex/base/textcomp.sty)\n(/usr/local/texlive/2024/texmf-dist/tex/latex/l3backend/l3backend-dvips.def)\nNo file 0f503ee711de8949be177510fa2e93e19c4b843d53cbc906f93e5138ddb4dc3f.aux.\n*geometry* driver: auto-detecting\n*geometry* detected driver: dvips\n\n! LaTeX Error: Unicode character ≥ (U+2265)\n               not set up for use with LaTeX.\n\nSee the LaTeX manual or LaTeX Companion for explanation.\nType  H <return>  for immediate help.\n ...                                              \n                                                  \nl.30 {\\sffamily Coefficient ≥\n                                0}%\nNo pages of output.\nTranscript written on tmp1v6spok0/0f503ee711de8949be177510fa2e93e19c4b843d53cbc\n906f93e5138ddb4dc3f.log.\n\n\n",
     "output_type": "error",
     "traceback": [
      "\u001b[0;31m---------------------------------------------------------------------------\u001b[0m",
      "\u001b[0;31mRuntimeError\u001b[0m                              Traceback (most recent call last)",
      "File \u001b[0;32m/opt/miniconda3/envs/REAL_FORKED_Bioinfo_project/lib/python3.10/site-packages/IPython/core/formatters.py:402\u001b[0m, in \u001b[0;36mBaseFormatter.__call__\u001b[0;34m(self, obj)\u001b[0m\n\u001b[1;32m    400\u001b[0m     \u001b[38;5;28;01mpass\u001b[39;00m\n\u001b[1;32m    401\u001b[0m \u001b[38;5;28;01melse\u001b[39;00m:\n\u001b[0;32m--> 402\u001b[0m     \u001b[38;5;28;01mreturn\u001b[39;00m \u001b[43mprinter\u001b[49m\u001b[43m(\u001b[49m\u001b[43mobj\u001b[49m\u001b[43m)\u001b[49m\n\u001b[1;32m    403\u001b[0m \u001b[38;5;66;03m# Finally look for special method names\u001b[39;00m\n\u001b[1;32m    404\u001b[0m method \u001b[38;5;241m=\u001b[39m get_real_method(obj, \u001b[38;5;28mself\u001b[39m\u001b[38;5;241m.\u001b[39mprint_method)\n",
      "File \u001b[0;32m/opt/miniconda3/envs/REAL_FORKED_Bioinfo_project/lib/python3.10/site-packages/IPython/core/pylabtools.py:170\u001b[0m, in \u001b[0;36mprint_figure\u001b[0;34m(fig, fmt, bbox_inches, base64, **kwargs)\u001b[0m\n\u001b[1;32m    167\u001b[0m     \u001b[38;5;28;01mfrom\u001b[39;00m\u001b[38;5;250m \u001b[39m\u001b[38;5;21;01mmatplotlib\u001b[39;00m\u001b[38;5;21;01m.\u001b[39;00m\u001b[38;5;21;01mbackend_bases\u001b[39;00m\u001b[38;5;250m \u001b[39m\u001b[38;5;28;01mimport\u001b[39;00m FigureCanvasBase\n\u001b[1;32m    168\u001b[0m     FigureCanvasBase(fig)\n\u001b[0;32m--> 170\u001b[0m \u001b[43mfig\u001b[49m\u001b[38;5;241;43m.\u001b[39;49m\u001b[43mcanvas\u001b[49m\u001b[38;5;241;43m.\u001b[39;49m\u001b[43mprint_figure\u001b[49m\u001b[43m(\u001b[49m\u001b[43mbytes_io\u001b[49m\u001b[43m,\u001b[49m\u001b[43m \u001b[49m\u001b[38;5;241;43m*\u001b[39;49m\u001b[38;5;241;43m*\u001b[39;49m\u001b[43mkw\u001b[49m\u001b[43m)\u001b[49m\n\u001b[1;32m    171\u001b[0m data \u001b[38;5;241m=\u001b[39m bytes_io\u001b[38;5;241m.\u001b[39mgetvalue()\n\u001b[1;32m    172\u001b[0m \u001b[38;5;28;01mif\u001b[39;00m fmt \u001b[38;5;241m==\u001b[39m \u001b[38;5;124m'\u001b[39m\u001b[38;5;124msvg\u001b[39m\u001b[38;5;124m'\u001b[39m:\n",
      "File \u001b[0;32m/opt/miniconda3/envs/REAL_FORKED_Bioinfo_project/lib/python3.10/site-packages/matplotlib/backend_bases.py:2155\u001b[0m, in \u001b[0;36mFigureCanvasBase.print_figure\u001b[0;34m(self, filename, dpi, facecolor, edgecolor, orientation, format, bbox_inches, pad_inches, bbox_extra_artists, backend, **kwargs)\u001b[0m\n\u001b[1;32m   2152\u001b[0m     \u001b[38;5;66;03m# we do this instead of `self.figure.draw_without_rendering`\u001b[39;00m\n\u001b[1;32m   2153\u001b[0m     \u001b[38;5;66;03m# so that we can inject the orientation\u001b[39;00m\n\u001b[1;32m   2154\u001b[0m     \u001b[38;5;28;01mwith\u001b[39;00m \u001b[38;5;28mgetattr\u001b[39m(renderer, \u001b[38;5;124m\"\u001b[39m\u001b[38;5;124m_draw_disabled\u001b[39m\u001b[38;5;124m\"\u001b[39m, nullcontext)():\n\u001b[0;32m-> 2155\u001b[0m         \u001b[38;5;28;43mself\u001b[39;49m\u001b[38;5;241;43m.\u001b[39;49m\u001b[43mfigure\u001b[49m\u001b[38;5;241;43m.\u001b[39;49m\u001b[43mdraw\u001b[49m\u001b[43m(\u001b[49m\u001b[43mrenderer\u001b[49m\u001b[43m)\u001b[49m\n\u001b[1;32m   2156\u001b[0m \u001b[38;5;28;01mif\u001b[39;00m bbox_inches:\n\u001b[1;32m   2157\u001b[0m     \u001b[38;5;28;01mif\u001b[39;00m bbox_inches \u001b[38;5;241m==\u001b[39m \u001b[38;5;124m\"\u001b[39m\u001b[38;5;124mtight\u001b[39m\u001b[38;5;124m\"\u001b[39m:\n",
      "File \u001b[0;32m/opt/miniconda3/envs/REAL_FORKED_Bioinfo_project/lib/python3.10/site-packages/matplotlib/artist.py:94\u001b[0m, in \u001b[0;36m_finalize_rasterization.<locals>.draw_wrapper\u001b[0;34m(artist, renderer, *args, **kwargs)\u001b[0m\n\u001b[1;32m     92\u001b[0m \u001b[38;5;129m@wraps\u001b[39m(draw)\n\u001b[1;32m     93\u001b[0m \u001b[38;5;28;01mdef\u001b[39;00m\u001b[38;5;250m \u001b[39m\u001b[38;5;21mdraw_wrapper\u001b[39m(artist, renderer, \u001b[38;5;241m*\u001b[39margs, \u001b[38;5;241m*\u001b[39m\u001b[38;5;241m*\u001b[39mkwargs):\n\u001b[0;32m---> 94\u001b[0m     result \u001b[38;5;241m=\u001b[39m \u001b[43mdraw\u001b[49m\u001b[43m(\u001b[49m\u001b[43martist\u001b[49m\u001b[43m,\u001b[49m\u001b[43m \u001b[49m\u001b[43mrenderer\u001b[49m\u001b[43m,\u001b[49m\u001b[43m \u001b[49m\u001b[38;5;241;43m*\u001b[39;49m\u001b[43margs\u001b[49m\u001b[43m,\u001b[49m\u001b[43m \u001b[49m\u001b[38;5;241;43m*\u001b[39;49m\u001b[38;5;241;43m*\u001b[39;49m\u001b[43mkwargs\u001b[49m\u001b[43m)\u001b[49m\n\u001b[1;32m     95\u001b[0m     \u001b[38;5;28;01mif\u001b[39;00m renderer\u001b[38;5;241m.\u001b[39m_rasterizing:\n\u001b[1;32m     96\u001b[0m         renderer\u001b[38;5;241m.\u001b[39mstop_rasterizing()\n",
      "File \u001b[0;32m/opt/miniconda3/envs/REAL_FORKED_Bioinfo_project/lib/python3.10/site-packages/matplotlib/artist.py:71\u001b[0m, in \u001b[0;36mallow_rasterization.<locals>.draw_wrapper\u001b[0;34m(artist, renderer)\u001b[0m\n\u001b[1;32m     68\u001b[0m     \u001b[38;5;28;01mif\u001b[39;00m artist\u001b[38;5;241m.\u001b[39mget_agg_filter() \u001b[38;5;129;01mis\u001b[39;00m \u001b[38;5;129;01mnot\u001b[39;00m \u001b[38;5;28;01mNone\u001b[39;00m:\n\u001b[1;32m     69\u001b[0m         renderer\u001b[38;5;241m.\u001b[39mstart_filter()\n\u001b[0;32m---> 71\u001b[0m     \u001b[38;5;28;01mreturn\u001b[39;00m \u001b[43mdraw\u001b[49m\u001b[43m(\u001b[49m\u001b[43martist\u001b[49m\u001b[43m,\u001b[49m\u001b[43m \u001b[49m\u001b[43mrenderer\u001b[49m\u001b[43m)\u001b[49m\n\u001b[1;32m     72\u001b[0m \u001b[38;5;28;01mfinally\u001b[39;00m:\n\u001b[1;32m     73\u001b[0m     \u001b[38;5;28;01mif\u001b[39;00m artist\u001b[38;5;241m.\u001b[39mget_agg_filter() \u001b[38;5;129;01mis\u001b[39;00m \u001b[38;5;129;01mnot\u001b[39;00m \u001b[38;5;28;01mNone\u001b[39;00m:\n",
      "File \u001b[0;32m/opt/miniconda3/envs/REAL_FORKED_Bioinfo_project/lib/python3.10/site-packages/matplotlib/figure.py:3257\u001b[0m, in \u001b[0;36mFigure.draw\u001b[0;34m(self, renderer)\u001b[0m\n\u001b[1;32m   3254\u001b[0m             \u001b[38;5;66;03m# ValueError can occur when resizing a window.\u001b[39;00m\n\u001b[1;32m   3256\u001b[0m     \u001b[38;5;28mself\u001b[39m\u001b[38;5;241m.\u001b[39mpatch\u001b[38;5;241m.\u001b[39mdraw(renderer)\n\u001b[0;32m-> 3257\u001b[0m     \u001b[43mmimage\u001b[49m\u001b[38;5;241;43m.\u001b[39;49m\u001b[43m_draw_list_compositing_images\u001b[49m\u001b[43m(\u001b[49m\n\u001b[1;32m   3258\u001b[0m \u001b[43m        \u001b[49m\u001b[43mrenderer\u001b[49m\u001b[43m,\u001b[49m\u001b[43m \u001b[49m\u001b[38;5;28;43mself\u001b[39;49m\u001b[43m,\u001b[49m\u001b[43m \u001b[49m\u001b[43martists\u001b[49m\u001b[43m,\u001b[49m\u001b[43m \u001b[49m\u001b[38;5;28;43mself\u001b[39;49m\u001b[38;5;241;43m.\u001b[39;49m\u001b[43msuppressComposite\u001b[49m\u001b[43m)\u001b[49m\n\u001b[1;32m   3260\u001b[0m     renderer\u001b[38;5;241m.\u001b[39mclose_group(\u001b[38;5;124m'\u001b[39m\u001b[38;5;124mfigure\u001b[39m\u001b[38;5;124m'\u001b[39m)\n\u001b[1;32m   3261\u001b[0m \u001b[38;5;28;01mfinally\u001b[39;00m:\n",
      "File \u001b[0;32m/opt/miniconda3/envs/REAL_FORKED_Bioinfo_project/lib/python3.10/site-packages/matplotlib/image.py:134\u001b[0m, in \u001b[0;36m_draw_list_compositing_images\u001b[0;34m(renderer, parent, artists, suppress_composite)\u001b[0m\n\u001b[1;32m    132\u001b[0m \u001b[38;5;28;01mif\u001b[39;00m not_composite \u001b[38;5;129;01mor\u001b[39;00m \u001b[38;5;129;01mnot\u001b[39;00m has_images:\n\u001b[1;32m    133\u001b[0m     \u001b[38;5;28;01mfor\u001b[39;00m a \u001b[38;5;129;01min\u001b[39;00m artists:\n\u001b[0;32m--> 134\u001b[0m         \u001b[43ma\u001b[49m\u001b[38;5;241;43m.\u001b[39;49m\u001b[43mdraw\u001b[49m\u001b[43m(\u001b[49m\u001b[43mrenderer\u001b[49m\u001b[43m)\u001b[49m\n\u001b[1;32m    135\u001b[0m \u001b[38;5;28;01melse\u001b[39;00m:\n\u001b[1;32m    136\u001b[0m     \u001b[38;5;66;03m# Composite any adjacent images together\u001b[39;00m\n\u001b[1;32m    137\u001b[0m     image_group \u001b[38;5;241m=\u001b[39m []\n",
      "File \u001b[0;32m/opt/miniconda3/envs/REAL_FORKED_Bioinfo_project/lib/python3.10/site-packages/matplotlib/artist.py:71\u001b[0m, in \u001b[0;36mallow_rasterization.<locals>.draw_wrapper\u001b[0;34m(artist, renderer)\u001b[0m\n\u001b[1;32m     68\u001b[0m     \u001b[38;5;28;01mif\u001b[39;00m artist\u001b[38;5;241m.\u001b[39mget_agg_filter() \u001b[38;5;129;01mis\u001b[39;00m \u001b[38;5;129;01mnot\u001b[39;00m \u001b[38;5;28;01mNone\u001b[39;00m:\n\u001b[1;32m     69\u001b[0m         renderer\u001b[38;5;241m.\u001b[39mstart_filter()\n\u001b[0;32m---> 71\u001b[0m     \u001b[38;5;28;01mreturn\u001b[39;00m \u001b[43mdraw\u001b[49m\u001b[43m(\u001b[49m\u001b[43martist\u001b[49m\u001b[43m,\u001b[49m\u001b[43m \u001b[49m\u001b[43mrenderer\u001b[49m\u001b[43m)\u001b[49m\n\u001b[1;32m     72\u001b[0m \u001b[38;5;28;01mfinally\u001b[39;00m:\n\u001b[1;32m     73\u001b[0m     \u001b[38;5;28;01mif\u001b[39;00m artist\u001b[38;5;241m.\u001b[39mget_agg_filter() \u001b[38;5;129;01mis\u001b[39;00m \u001b[38;5;129;01mnot\u001b[39;00m \u001b[38;5;28;01mNone\u001b[39;00m:\n",
      "File \u001b[0;32m/opt/miniconda3/envs/REAL_FORKED_Bioinfo_project/lib/python3.10/site-packages/matplotlib/axes/_base.py:3180\u001b[0m, in \u001b[0;36m_AxesBase.draw\u001b[0;34m(self, renderer)\u001b[0m\n\u001b[1;32m   3177\u001b[0m     \u001b[38;5;28;01mfor\u001b[39;00m spine \u001b[38;5;129;01min\u001b[39;00m \u001b[38;5;28mself\u001b[39m\u001b[38;5;241m.\u001b[39mspines\u001b[38;5;241m.\u001b[39mvalues():\n\u001b[1;32m   3178\u001b[0m         artists\u001b[38;5;241m.\u001b[39mremove(spine)\n\u001b[0;32m-> 3180\u001b[0m \u001b[38;5;28;43mself\u001b[39;49m\u001b[38;5;241;43m.\u001b[39;49m\u001b[43m_update_title_position\u001b[49m\u001b[43m(\u001b[49m\u001b[43mrenderer\u001b[49m\u001b[43m)\u001b[49m\n\u001b[1;32m   3182\u001b[0m \u001b[38;5;28;01mif\u001b[39;00m \u001b[38;5;129;01mnot\u001b[39;00m \u001b[38;5;28mself\u001b[39m\u001b[38;5;241m.\u001b[39maxison:\n\u001b[1;32m   3183\u001b[0m     \u001b[38;5;28;01mfor\u001b[39;00m _axis \u001b[38;5;129;01min\u001b[39;00m \u001b[38;5;28mself\u001b[39m\u001b[38;5;241m.\u001b[39m_axis_map\u001b[38;5;241m.\u001b[39mvalues():\n",
      "File \u001b[0;32m/opt/miniconda3/envs/REAL_FORKED_Bioinfo_project/lib/python3.10/site-packages/matplotlib/axes/_base.py:3124\u001b[0m, in \u001b[0;36m_AxesBase._update_title_position\u001b[0;34m(self, renderer)\u001b[0m\n\u001b[1;32m   3122\u001b[0m \u001b[38;5;28;01mif\u001b[39;00m title\u001b[38;5;241m.\u001b[39mget_text():\n\u001b[1;32m   3123\u001b[0m     \u001b[38;5;28;01mfor\u001b[39;00m ax \u001b[38;5;129;01min\u001b[39;00m axs:\n\u001b[0;32m-> 3124\u001b[0m         \u001b[43max\u001b[49m\u001b[38;5;241;43m.\u001b[39;49m\u001b[43myaxis\u001b[49m\u001b[38;5;241;43m.\u001b[39;49m\u001b[43mget_tightbbox\u001b[49m\u001b[43m(\u001b[49m\u001b[43mrenderer\u001b[49m\u001b[43m)\u001b[49m  \u001b[38;5;66;03m# update offsetText\u001b[39;00m\n\u001b[1;32m   3125\u001b[0m         \u001b[38;5;28;01mif\u001b[39;00m ax\u001b[38;5;241m.\u001b[39myaxis\u001b[38;5;241m.\u001b[39moffsetText\u001b[38;5;241m.\u001b[39mget_text():\n\u001b[1;32m   3126\u001b[0m             bb \u001b[38;5;241m=\u001b[39m ax\u001b[38;5;241m.\u001b[39myaxis\u001b[38;5;241m.\u001b[39moffsetText\u001b[38;5;241m.\u001b[39mget_tightbbox(renderer)\n",
      "File \u001b[0;32m/opt/miniconda3/envs/REAL_FORKED_Bioinfo_project/lib/python3.10/site-packages/matplotlib/axis.py:1369\u001b[0m, in \u001b[0;36mAxis.get_tightbbox\u001b[0;34m(self, renderer, for_layout_only)\u001b[0m\n\u001b[1;32m   1367\u001b[0m \u001b[38;5;66;03m# take care of label\u001b[39;00m\n\u001b[1;32m   1368\u001b[0m \u001b[38;5;28;01mif\u001b[39;00m \u001b[38;5;28mself\u001b[39m\u001b[38;5;241m.\u001b[39mlabel\u001b[38;5;241m.\u001b[39mget_visible():\n\u001b[0;32m-> 1369\u001b[0m     bb \u001b[38;5;241m=\u001b[39m \u001b[38;5;28;43mself\u001b[39;49m\u001b[38;5;241;43m.\u001b[39;49m\u001b[43mlabel\u001b[49m\u001b[38;5;241;43m.\u001b[39;49m\u001b[43mget_window_extent\u001b[49m\u001b[43m(\u001b[49m\u001b[43mrenderer\u001b[49m\u001b[43m)\u001b[49m\n\u001b[1;32m   1370\u001b[0m     \u001b[38;5;66;03m# for constrained/tight_layout, we want to ignore the label's\u001b[39;00m\n\u001b[1;32m   1371\u001b[0m     \u001b[38;5;66;03m# width/height because the adjustments they make can't be improved.\u001b[39;00m\n\u001b[1;32m   1372\u001b[0m     \u001b[38;5;66;03m# this code collapses the relevant direction\u001b[39;00m\n\u001b[1;32m   1373\u001b[0m     \u001b[38;5;28;01mif\u001b[39;00m for_layout_only:\n",
      "File \u001b[0;32m/opt/miniconda3/envs/REAL_FORKED_Bioinfo_project/lib/python3.10/site-packages/matplotlib/text.py:969\u001b[0m, in \u001b[0;36mText.get_window_extent\u001b[0;34m(self, renderer, dpi)\u001b[0m\n\u001b[1;32m    964\u001b[0m     \u001b[38;5;28;01mraise\u001b[39;00m \u001b[38;5;167;01mRuntimeError\u001b[39;00m(\n\u001b[1;32m    965\u001b[0m         \u001b[38;5;124m\"\u001b[39m\u001b[38;5;124mCannot get window extent of text w/o renderer. You likely \u001b[39m\u001b[38;5;124m\"\u001b[39m\n\u001b[1;32m    966\u001b[0m         \u001b[38;5;124m\"\u001b[39m\u001b[38;5;124mwant to call \u001b[39m\u001b[38;5;124m'\u001b[39m\u001b[38;5;124mfigure.draw_without_rendering()\u001b[39m\u001b[38;5;124m'\u001b[39m\u001b[38;5;124m first.\u001b[39m\u001b[38;5;124m\"\u001b[39m)\n\u001b[1;32m    968\u001b[0m \u001b[38;5;28;01mwith\u001b[39;00m cbook\u001b[38;5;241m.\u001b[39m_setattr_cm(fig, dpi\u001b[38;5;241m=\u001b[39mdpi):\n\u001b[0;32m--> 969\u001b[0m     bbox, info, descent \u001b[38;5;241m=\u001b[39m \u001b[38;5;28;43mself\u001b[39;49m\u001b[38;5;241;43m.\u001b[39;49m\u001b[43m_get_layout\u001b[49m\u001b[43m(\u001b[49m\u001b[38;5;28;43mself\u001b[39;49m\u001b[38;5;241;43m.\u001b[39;49m\u001b[43m_renderer\u001b[49m\u001b[43m)\u001b[49m\n\u001b[1;32m    970\u001b[0m     x, y \u001b[38;5;241m=\u001b[39m \u001b[38;5;28mself\u001b[39m\u001b[38;5;241m.\u001b[39mget_unitless_position()\n\u001b[1;32m    971\u001b[0m     x, y \u001b[38;5;241m=\u001b[39m \u001b[38;5;28mself\u001b[39m\u001b[38;5;241m.\u001b[39mget_transform()\u001b[38;5;241m.\u001b[39mtransform((x, y))\n",
      "File \u001b[0;32m/opt/miniconda3/envs/REAL_FORKED_Bioinfo_project/lib/python3.10/site-packages/matplotlib/text.py:382\u001b[0m, in \u001b[0;36mText._get_layout\u001b[0;34m(self, renderer)\u001b[0m\n\u001b[1;32m    380\u001b[0m clean_line, ismath \u001b[38;5;241m=\u001b[39m \u001b[38;5;28mself\u001b[39m\u001b[38;5;241m.\u001b[39m_preprocess_math(line)\n\u001b[1;32m    381\u001b[0m \u001b[38;5;28;01mif\u001b[39;00m clean_line:\n\u001b[0;32m--> 382\u001b[0m     w, h, d \u001b[38;5;241m=\u001b[39m \u001b[43m_get_text_metrics_with_cache\u001b[49m\u001b[43m(\u001b[49m\n\u001b[1;32m    383\u001b[0m \u001b[43m        \u001b[49m\u001b[43mrenderer\u001b[49m\u001b[43m,\u001b[49m\u001b[43m \u001b[49m\u001b[43mclean_line\u001b[49m\u001b[43m,\u001b[49m\u001b[43m \u001b[49m\u001b[38;5;28;43mself\u001b[39;49m\u001b[38;5;241;43m.\u001b[39;49m\u001b[43m_fontproperties\u001b[49m\u001b[43m,\u001b[49m\n\u001b[1;32m    384\u001b[0m \u001b[43m        \u001b[49m\u001b[43mismath\u001b[49m\u001b[38;5;241;43m=\u001b[39;49m\u001b[43mismath\u001b[49m\u001b[43m,\u001b[49m\u001b[43m \u001b[49m\u001b[43mdpi\u001b[49m\u001b[38;5;241;43m=\u001b[39;49m\u001b[38;5;28;43mself\u001b[39;49m\u001b[38;5;241;43m.\u001b[39;49m\u001b[43mget_figure\u001b[49m\u001b[43m(\u001b[49m\u001b[43mroot\u001b[49m\u001b[38;5;241;43m=\u001b[39;49m\u001b[38;5;28;43;01mTrue\u001b[39;49;00m\u001b[43m)\u001b[49m\u001b[38;5;241;43m.\u001b[39;49m\u001b[43mdpi\u001b[49m\u001b[43m)\u001b[49m\n\u001b[1;32m    385\u001b[0m \u001b[38;5;28;01melse\u001b[39;00m:\n\u001b[1;32m    386\u001b[0m     w \u001b[38;5;241m=\u001b[39m h \u001b[38;5;241m=\u001b[39m d \u001b[38;5;241m=\u001b[39m \u001b[38;5;241m0\u001b[39m\n",
      "File \u001b[0;32m/opt/miniconda3/envs/REAL_FORKED_Bioinfo_project/lib/python3.10/site-packages/matplotlib/text.py:69\u001b[0m, in \u001b[0;36m_get_text_metrics_with_cache\u001b[0;34m(renderer, text, fontprop, ismath, dpi)\u001b[0m\n\u001b[1;32m     66\u001b[0m \u001b[38;5;250m\u001b[39m\u001b[38;5;124;03m\"\"\"Call ``renderer.get_text_width_height_descent``, caching the results.\"\"\"\u001b[39;00m\n\u001b[1;32m     67\u001b[0m \u001b[38;5;66;03m# Cached based on a copy of fontprop so that later in-place mutations of\u001b[39;00m\n\u001b[1;32m     68\u001b[0m \u001b[38;5;66;03m# the passed-in argument do not mess up the cache.\u001b[39;00m\n\u001b[0;32m---> 69\u001b[0m \u001b[38;5;28;01mreturn\u001b[39;00m \u001b[43m_get_text_metrics_with_cache_impl\u001b[49m\u001b[43m(\u001b[49m\n\u001b[1;32m     70\u001b[0m \u001b[43m    \u001b[49m\u001b[43mweakref\u001b[49m\u001b[38;5;241;43m.\u001b[39;49m\u001b[43mref\u001b[49m\u001b[43m(\u001b[49m\u001b[43mrenderer\u001b[49m\u001b[43m)\u001b[49m\u001b[43m,\u001b[49m\u001b[43m \u001b[49m\u001b[43mtext\u001b[49m\u001b[43m,\u001b[49m\u001b[43m \u001b[49m\u001b[43mfontprop\u001b[49m\u001b[38;5;241;43m.\u001b[39;49m\u001b[43mcopy\u001b[49m\u001b[43m(\u001b[49m\u001b[43m)\u001b[49m\u001b[43m,\u001b[49m\u001b[43m \u001b[49m\u001b[43mismath\u001b[49m\u001b[43m,\u001b[49m\u001b[43m \u001b[49m\u001b[43mdpi\u001b[49m\u001b[43m)\u001b[49m\n",
      "File \u001b[0;32m/opt/miniconda3/envs/REAL_FORKED_Bioinfo_project/lib/python3.10/site-packages/matplotlib/text.py:77\u001b[0m, in \u001b[0;36m_get_text_metrics_with_cache_impl\u001b[0;34m(renderer_ref, text, fontprop, ismath, dpi)\u001b[0m\n\u001b[1;32m     73\u001b[0m \u001b[38;5;129m@functools\u001b[39m\u001b[38;5;241m.\u001b[39mlru_cache(\u001b[38;5;241m4096\u001b[39m)\n\u001b[1;32m     74\u001b[0m \u001b[38;5;28;01mdef\u001b[39;00m\u001b[38;5;250m \u001b[39m\u001b[38;5;21m_get_text_metrics_with_cache_impl\u001b[39m(\n\u001b[1;32m     75\u001b[0m         renderer_ref, text, fontprop, ismath, dpi):\n\u001b[1;32m     76\u001b[0m     \u001b[38;5;66;03m# dpi is unused, but participates in cache invalidation (via the renderer).\u001b[39;00m\n\u001b[0;32m---> 77\u001b[0m     \u001b[38;5;28;01mreturn\u001b[39;00m \u001b[43mrenderer_ref\u001b[49m\u001b[43m(\u001b[49m\u001b[43m)\u001b[49m\u001b[38;5;241;43m.\u001b[39;49m\u001b[43mget_text_width_height_descent\u001b[49m\u001b[43m(\u001b[49m\u001b[43mtext\u001b[49m\u001b[43m,\u001b[49m\u001b[43m \u001b[49m\u001b[43mfontprop\u001b[49m\u001b[43m,\u001b[49m\u001b[43m \u001b[49m\u001b[43mismath\u001b[49m\u001b[43m)\u001b[49m\n",
      "File \u001b[0;32m/opt/miniconda3/envs/REAL_FORKED_Bioinfo_project/lib/python3.10/site-packages/matplotlib/backends/backend_agg.py:211\u001b[0m, in \u001b[0;36mRendererAgg.get_text_width_height_descent\u001b[0;34m(self, s, prop, ismath)\u001b[0m\n\u001b[1;32m    209\u001b[0m _api\u001b[38;5;241m.\u001b[39mcheck_in_list([\u001b[38;5;124m\"\u001b[39m\u001b[38;5;124mTeX\u001b[39m\u001b[38;5;124m\"\u001b[39m, \u001b[38;5;28;01mTrue\u001b[39;00m, \u001b[38;5;28;01mFalse\u001b[39;00m], ismath\u001b[38;5;241m=\u001b[39mismath)\n\u001b[1;32m    210\u001b[0m \u001b[38;5;28;01mif\u001b[39;00m ismath \u001b[38;5;241m==\u001b[39m \u001b[38;5;124m\"\u001b[39m\u001b[38;5;124mTeX\u001b[39m\u001b[38;5;124m\"\u001b[39m:\n\u001b[0;32m--> 211\u001b[0m     \u001b[38;5;28;01mreturn\u001b[39;00m \u001b[38;5;28;43msuper\u001b[39;49m\u001b[43m(\u001b[49m\u001b[43m)\u001b[49m\u001b[38;5;241;43m.\u001b[39;49m\u001b[43mget_text_width_height_descent\u001b[49m\u001b[43m(\u001b[49m\u001b[43ms\u001b[49m\u001b[43m,\u001b[49m\u001b[43m \u001b[49m\u001b[43mprop\u001b[49m\u001b[43m,\u001b[49m\u001b[43m \u001b[49m\u001b[43mismath\u001b[49m\u001b[43m)\u001b[49m\n\u001b[1;32m    213\u001b[0m \u001b[38;5;28;01mif\u001b[39;00m ismath:\n\u001b[1;32m    214\u001b[0m     ox, oy, width, height, descent, font_image \u001b[38;5;241m=\u001b[39m \\\n\u001b[1;32m    215\u001b[0m         \u001b[38;5;28mself\u001b[39m\u001b[38;5;241m.\u001b[39mmathtext_parser\u001b[38;5;241m.\u001b[39mparse(s, \u001b[38;5;28mself\u001b[39m\u001b[38;5;241m.\u001b[39mdpi, prop)\n",
      "File \u001b[0;32m/opt/miniconda3/envs/REAL_FORKED_Bioinfo_project/lib/python3.10/site-packages/matplotlib/backend_bases.py:566\u001b[0m, in \u001b[0;36mRendererBase.get_text_width_height_descent\u001b[0;34m(self, s, prop, ismath)\u001b[0m\n\u001b[1;32m    562\u001b[0m fontsize \u001b[38;5;241m=\u001b[39m prop\u001b[38;5;241m.\u001b[39mget_size_in_points()\n\u001b[1;32m    564\u001b[0m \u001b[38;5;28;01mif\u001b[39;00m ismath \u001b[38;5;241m==\u001b[39m \u001b[38;5;124m'\u001b[39m\u001b[38;5;124mTeX\u001b[39m\u001b[38;5;124m'\u001b[39m:\n\u001b[1;32m    565\u001b[0m     \u001b[38;5;66;03m# todo: handle properties\u001b[39;00m\n\u001b[0;32m--> 566\u001b[0m     \u001b[38;5;28;01mreturn\u001b[39;00m \u001b[38;5;28;43mself\u001b[39;49m\u001b[38;5;241;43m.\u001b[39;49m\u001b[43mget_texmanager\u001b[49m\u001b[43m(\u001b[49m\u001b[43m)\u001b[49m\u001b[38;5;241;43m.\u001b[39;49m\u001b[43mget_text_width_height_descent\u001b[49m\u001b[43m(\u001b[49m\n\u001b[1;32m    567\u001b[0m \u001b[43m        \u001b[49m\u001b[43ms\u001b[49m\u001b[43m,\u001b[49m\u001b[43m \u001b[49m\u001b[43mfontsize\u001b[49m\u001b[43m,\u001b[49m\u001b[43m \u001b[49m\u001b[43mrenderer\u001b[49m\u001b[38;5;241;43m=\u001b[39;49m\u001b[38;5;28;43mself\u001b[39;49m\u001b[43m)\u001b[49m\n\u001b[1;32m    569\u001b[0m dpi \u001b[38;5;241m=\u001b[39m \u001b[38;5;28mself\u001b[39m\u001b[38;5;241m.\u001b[39mpoints_to_pixels(\u001b[38;5;241m72\u001b[39m)\n\u001b[1;32m    570\u001b[0m \u001b[38;5;28;01mif\u001b[39;00m ismath:\n",
      "File \u001b[0;32m/opt/miniconda3/envs/REAL_FORKED_Bioinfo_project/lib/python3.10/site-packages/matplotlib/texmanager.py:363\u001b[0m, in \u001b[0;36mTexManager.get_text_width_height_descent\u001b[0;34m(cls, tex, fontsize, renderer)\u001b[0m\n\u001b[1;32m    361\u001b[0m \u001b[38;5;28;01mif\u001b[39;00m tex\u001b[38;5;241m.\u001b[39mstrip() \u001b[38;5;241m==\u001b[39m \u001b[38;5;124m'\u001b[39m\u001b[38;5;124m'\u001b[39m:\n\u001b[1;32m    362\u001b[0m     \u001b[38;5;28;01mreturn\u001b[39;00m \u001b[38;5;241m0\u001b[39m, \u001b[38;5;241m0\u001b[39m, \u001b[38;5;241m0\u001b[39m\n\u001b[0;32m--> 363\u001b[0m dvifile \u001b[38;5;241m=\u001b[39m \u001b[38;5;28;43mcls\u001b[39;49m\u001b[38;5;241;43m.\u001b[39;49m\u001b[43mmake_dvi\u001b[49m\u001b[43m(\u001b[49m\u001b[43mtex\u001b[49m\u001b[43m,\u001b[49m\u001b[43m \u001b[49m\u001b[43mfontsize\u001b[49m\u001b[43m)\u001b[49m\n\u001b[1;32m    364\u001b[0m dpi_fraction \u001b[38;5;241m=\u001b[39m renderer\u001b[38;5;241m.\u001b[39mpoints_to_pixels(\u001b[38;5;241m1.\u001b[39m) \u001b[38;5;28;01mif\u001b[39;00m renderer \u001b[38;5;28;01melse\u001b[39;00m \u001b[38;5;241m1\u001b[39m\n\u001b[1;32m    365\u001b[0m \u001b[38;5;28;01mwith\u001b[39;00m dviread\u001b[38;5;241m.\u001b[39mDvi(dvifile, \u001b[38;5;241m72\u001b[39m \u001b[38;5;241m*\u001b[39m dpi_fraction) \u001b[38;5;28;01mas\u001b[39;00m dvi:\n",
      "File \u001b[0;32m/opt/miniconda3/envs/REAL_FORKED_Bioinfo_project/lib/python3.10/site-packages/matplotlib/texmanager.py:295\u001b[0m, in \u001b[0;36mTexManager.make_dvi\u001b[0;34m(cls, tex, fontsize)\u001b[0m\n\u001b[1;32m    293\u001b[0m     \u001b[38;5;28;01mwith\u001b[39;00m TemporaryDirectory(\u001b[38;5;28mdir\u001b[39m\u001b[38;5;241m=\u001b[39mcwd) \u001b[38;5;28;01mas\u001b[39;00m tmpdir:\n\u001b[1;32m    294\u001b[0m         tmppath \u001b[38;5;241m=\u001b[39m Path(tmpdir)\n\u001b[0;32m--> 295\u001b[0m         \u001b[38;5;28;43mcls\u001b[39;49m\u001b[38;5;241;43m.\u001b[39;49m\u001b[43m_run_checked_subprocess\u001b[49m\u001b[43m(\u001b[49m\n\u001b[1;32m    296\u001b[0m \u001b[43m            \u001b[49m\u001b[43m[\u001b[49m\u001b[38;5;124;43m\"\u001b[39;49m\u001b[38;5;124;43mlatex\u001b[39;49m\u001b[38;5;124;43m\"\u001b[39;49m\u001b[43m,\u001b[49m\u001b[43m \u001b[49m\u001b[38;5;124;43m\"\u001b[39;49m\u001b[38;5;124;43m-interaction=nonstopmode\u001b[39;49m\u001b[38;5;124;43m\"\u001b[39;49m\u001b[43m,\u001b[49m\u001b[43m \u001b[49m\u001b[38;5;124;43m\"\u001b[39;49m\u001b[38;5;124;43m--halt-on-error\u001b[39;49m\u001b[38;5;124;43m\"\u001b[39;49m\u001b[43m,\u001b[49m\n\u001b[1;32m    297\u001b[0m \u001b[43m             \u001b[49m\u001b[38;5;124;43mf\u001b[39;49m\u001b[38;5;124;43m\"\u001b[39;49m\u001b[38;5;124;43m--output-directory=\u001b[39;49m\u001b[38;5;132;43;01m{\u001b[39;49;00m\u001b[43mtmppath\u001b[49m\u001b[38;5;241;43m.\u001b[39;49m\u001b[43mname\u001b[49m\u001b[38;5;132;43;01m}\u001b[39;49;00m\u001b[38;5;124;43m\"\u001b[39;49m\u001b[43m,\u001b[49m\n\u001b[1;32m    298\u001b[0m \u001b[43m             \u001b[49m\u001b[38;5;124;43mf\u001b[39;49m\u001b[38;5;124;43m\"\u001b[39;49m\u001b[38;5;132;43;01m{\u001b[39;49;00m\u001b[43mtexfile\u001b[49m\u001b[38;5;241;43m.\u001b[39;49m\u001b[43mname\u001b[49m\u001b[38;5;132;43;01m}\u001b[39;49;00m\u001b[38;5;124;43m\"\u001b[39;49m\u001b[43m]\u001b[49m\u001b[43m,\u001b[49m\u001b[43m \u001b[49m\u001b[43mtex\u001b[49m\u001b[43m,\u001b[49m\u001b[43m \u001b[49m\u001b[43mcwd\u001b[49m\u001b[38;5;241;43m=\u001b[39;49m\u001b[43mcwd\u001b[49m\u001b[43m)\u001b[49m\n\u001b[1;32m    299\u001b[0m         (tmppath \u001b[38;5;241m/\u001b[39m Path(dvifile)\u001b[38;5;241m.\u001b[39mname)\u001b[38;5;241m.\u001b[39mreplace(dvifile)\n\u001b[1;32m    300\u001b[0m \u001b[38;5;28;01mreturn\u001b[39;00m dvifile\n",
      "File \u001b[0;32m/opt/miniconda3/envs/REAL_FORKED_Bioinfo_project/lib/python3.10/site-packages/matplotlib/texmanager.py:258\u001b[0m, in \u001b[0;36mTexManager._run_checked_subprocess\u001b[0;34m(cls, command, tex, cwd)\u001b[0m\n\u001b[1;32m    254\u001b[0m     \u001b[38;5;28;01mraise\u001b[39;00m \u001b[38;5;167;01mRuntimeError\u001b[39;00m(\n\u001b[1;32m    255\u001b[0m         \u001b[38;5;124mf\u001b[39m\u001b[38;5;124m'\u001b[39m\u001b[38;5;124mFailed to process string with tex because \u001b[39m\u001b[38;5;132;01m{\u001b[39;00mcommand[\u001b[38;5;241m0\u001b[39m]\u001b[38;5;132;01m}\u001b[39;00m\u001b[38;5;124m \u001b[39m\u001b[38;5;124m'\u001b[39m\n\u001b[1;32m    256\u001b[0m         \u001b[38;5;124m'\u001b[39m\u001b[38;5;124mcould not be found\u001b[39m\u001b[38;5;124m'\u001b[39m) \u001b[38;5;28;01mfrom\u001b[39;00m\u001b[38;5;250m \u001b[39m\u001b[38;5;21;01mexc\u001b[39;00m\n\u001b[1;32m    257\u001b[0m \u001b[38;5;28;01mexcept\u001b[39;00m subprocess\u001b[38;5;241m.\u001b[39mCalledProcessError \u001b[38;5;28;01mas\u001b[39;00m exc:\n\u001b[0;32m--> 258\u001b[0m     \u001b[38;5;28;01mraise\u001b[39;00m \u001b[38;5;167;01mRuntimeError\u001b[39;00m(\n\u001b[1;32m    259\u001b[0m         \u001b[38;5;124m'\u001b[39m\u001b[38;5;132;01m{prog}\u001b[39;00m\u001b[38;5;124m was not able to process the following string:\u001b[39m\u001b[38;5;130;01m\\n\u001b[39;00m\u001b[38;5;124m'\u001b[39m\n\u001b[1;32m    260\u001b[0m         \u001b[38;5;124m'\u001b[39m\u001b[38;5;132;01m{tex!r}\u001b[39;00m\u001b[38;5;130;01m\\n\u001b[39;00m\u001b[38;5;130;01m\\n\u001b[39;00m\u001b[38;5;124m'\u001b[39m\n\u001b[1;32m    261\u001b[0m         \u001b[38;5;124m'\u001b[39m\u001b[38;5;124mHere is the full command invocation and its output:\u001b[39m\u001b[38;5;130;01m\\n\u001b[39;00m\u001b[38;5;130;01m\\n\u001b[39;00m\u001b[38;5;124m'\u001b[39m\n\u001b[1;32m    262\u001b[0m         \u001b[38;5;124m'\u001b[39m\u001b[38;5;132;01m{format_command}\u001b[39;00m\u001b[38;5;130;01m\\n\u001b[39;00m\u001b[38;5;130;01m\\n\u001b[39;00m\u001b[38;5;124m'\u001b[39m\n\u001b[1;32m    263\u001b[0m         \u001b[38;5;124m'\u001b[39m\u001b[38;5;132;01m{exc}\u001b[39;00m\u001b[38;5;130;01m\\n\u001b[39;00m\u001b[38;5;130;01m\\n\u001b[39;00m\u001b[38;5;124m'\u001b[39m\u001b[38;5;241m.\u001b[39mformat(\n\u001b[1;32m    264\u001b[0m             prog\u001b[38;5;241m=\u001b[39mcommand[\u001b[38;5;241m0\u001b[39m],\n\u001b[1;32m    265\u001b[0m             format_command\u001b[38;5;241m=\u001b[39mcbook\u001b[38;5;241m.\u001b[39m_pformat_subprocess(command),\n\u001b[1;32m    266\u001b[0m             tex\u001b[38;5;241m=\u001b[39mtex\u001b[38;5;241m.\u001b[39mencode(\u001b[38;5;124m'\u001b[39m\u001b[38;5;124municode_escape\u001b[39m\u001b[38;5;124m'\u001b[39m),\n\u001b[1;32m    267\u001b[0m             exc\u001b[38;5;241m=\u001b[39mexc\u001b[38;5;241m.\u001b[39moutput\u001b[38;5;241m.\u001b[39mdecode(\u001b[38;5;124m'\u001b[39m\u001b[38;5;124mutf-8\u001b[39m\u001b[38;5;124m'\u001b[39m, \u001b[38;5;124m'\u001b[39m\u001b[38;5;124mbackslashreplace\u001b[39m\u001b[38;5;124m'\u001b[39m))\n\u001b[1;32m    268\u001b[0m         ) \u001b[38;5;28;01mfrom\u001b[39;00m\u001b[38;5;250m \u001b[39m\u001b[38;5;28;01mNone\u001b[39;00m\n\u001b[1;32m    269\u001b[0m _log\u001b[38;5;241m.\u001b[39mdebug(report)\n\u001b[1;32m    270\u001b[0m \u001b[38;5;28;01mreturn\u001b[39;00m report\n",
      "\u001b[0;31mRuntimeError\u001b[0m: latex was not able to process the following string:\nb'Coefficient \\\\u2265 0'\n\nHere is the full command invocation and its output:\n\nlatex -interaction=nonstopmode --halt-on-error --output-directory=tmp1v6spok0 0f503ee711de8949be177510fa2e93e19c4b843d53cbc906f93e5138ddb4dc3f.tex\n\nThis is pdfTeX, Version 3.141592653-2.6-1.40.26 (TeX Live 2024) (preloaded format=latex)\n restricted \\write18 enabled.\nentering extended mode\n(./0f503ee711de8949be177510fa2e93e19c4b843d53cbc906f93e5138ddb4dc3f.tex\nLaTeX2e <2023-11-01> patch level 1\nL3 programming layer <2024-02-20>\n(/usr/local/texlive/2024/texmf-dist/tex/latex/base/article.cls\nDocument Class: article 2023/05/17 v1.4n Standard LaTeX document class\n(/usr/local/texlive/2024/texmf-dist/tex/latex/base/size10.clo))\n(/usr/local/texlive/2024/texmf-dist/tex/latex/type1cm/type1cm.sty)\n(/usr/local/texlive/2024/texmf-dist/tex/latex/cm-super/type1ec.sty\n(/usr/local/texlive/2024/texmf-dist/tex/latex/base/t1cmr.fd))\n(/usr/local/texlive/2024/texmf-dist/tex/latex/base/inputenc.sty)\n(/usr/local/texlive/2024/texmf-dist/tex/latex/geometry/geometry.sty\n(/usr/local/texlive/2024/texmf-dist/tex/latex/graphics/keyval.sty)\n(/usr/local/texlive/2024/texmf-dist/tex/generic/iftex/ifvtex.sty\n(/usr/local/texlive/2024/texmf-dist/tex/generic/iftex/iftex.sty)))\n(/usr/local/texlive/2024/texmf-dist/tex/latex/amsmath/amsmath.sty\nFor additional information on amsmath, use the `?' option.\n(/usr/local/texlive/2024/texmf-dist/tex/latex/amsmath/amstext.sty\n(/usr/local/texlive/2024/texmf-dist/tex/latex/amsmath/amsgen.sty))\n(/usr/local/texlive/2024/texmf-dist/tex/latex/amsmath/amsbsy.sty)\n(/usr/local/texlive/2024/texmf-dist/tex/latex/amsmath/amsopn.sty))\n(/usr/local/texlive/2024/texmf-dist/tex/latex/amsfonts/amssymb.sty\n(/usr/local/texlive/2024/texmf-dist/tex/latex/amsfonts/amsfonts.sty))\n(/usr/local/texlive/2024/texmf-dist/tex/latex/underscore/underscore.sty)\n(/usr/local/texlive/2024/texmf-dist/tex/latex/firstaid/underscore-ltx.sty)\n(/usr/local/texlive/2024/texmf-dist/tex/latex/base/textcomp.sty)\n(/usr/local/texlive/2024/texmf-dist/tex/latex/l3backend/l3backend-dvips.def)\nNo file 0f503ee711de8949be177510fa2e93e19c4b843d53cbc906f93e5138ddb4dc3f.aux.\n*geometry* driver: auto-detecting\n*geometry* detected driver: dvips\n\n! LaTeX Error: Unicode character ≥ (U+2265)\n               not set up for use with LaTeX.\n\nSee the LaTeX manual or LaTeX Companion for explanation.\nType  H <return>  for immediate help.\n ...                                              \n                                                  \nl.30 {\\sffamily Coefficient ≥\n                                0}%\nNo pages of output.\nTranscript written on tmp1v6spok0/0f503ee711de8949be177510fa2e93e19c4b843d53cbc\n906f93e5138ddb4dc3f.log.\n\n\n"
     ]
    },
    {
     "data": {
      "text/plain": [
       "<Figure size 1000x800 with 2 Axes>"
      ]
     },
     "metadata": {},
     "output_type": "display_data"
    }
   ],
   "source": [
    "import matplotlib.pyplot as plt\n",
    "import seaborn as sns\n",
    "\n",
    "# 1) save to disk\n",
    "high_conf_filtered.to_csv(\"high_conf_filtered.csv\", index=False)\n",
    "print(\"Wrote high_conf_filtered.csv —\", high_conf_filtered.shape[0], \"rows\")\n",
    "\n",
    "import matplotlib.pyplot as plt\n",
    "import seaborn as sns\n",
    "\n",
    "# 1) Set a minimalist style\n",
    "sns.set_style(\"whitegrid\", {\n",
    "    \"grid.color\":      \"#cccccc\",\n",
    "    \"grid.linestyle\":  \"--\",\n",
    "    \"axes.edgecolor\":  \"#333333\",\n",
    "    \"axes.linewidth\":  1.0,\n",
    "})\n",
    "plt.rc(\"font\", family=\"sans-serif\", size=12)\n",
    "\n",
    "# 2) Prepare the data: split activators vs repressors/promoters\n",
    "pos = high_conf_filtered[high_conf_filtered[\"coefficient\"] >= 0]\n",
    "neg = high_conf_filtered[high_conf_filtered[\"coefficient\"] <  0]\n",
    "\n",
    "# 3) Create two subplots, sharing the x-axis\n",
    "fig, (ax1, ax2) = plt.subplots(\n",
    "    nrows=2, ncols=1,\n",
    "    figsize=(10, 8),\n",
    "    sharex=True,\n",
    "    gridspec_kw={\"height_ratios\": [1, 1]}\n",
    ")\n",
    "\n",
    "# 4) Plot positive coefficients (activators + promoters)\n",
    "sns.scatterplot(\n",
    "    data=pos,\n",
    "    x=\"distance_to_tss\", y=\"coefficient\",\n",
    "    hue=\"role\",\n",
    "    palette={\"activator\":\"#2ca02c\", \"promoter\":\"#1f77b4\"},\n",
    "    edgecolor=\"w\", linewidth=0.3,\n",
    "    alpha=0.7,\n",
    "    s=40,\n",
    "    ax=ax1\n",
    ")\n",
    "ax1.axhline(0, color=\"black\", linewidth=0.8)\n",
    "ax1.set_title(\"Positive Effects (Activators & Promoters)\")\n",
    "ax1.set_ylabel(\"Coefficient ≥ 0\")\n",
    "ax1.legend(title=\"CRE Role\", loc=\"upper left\")\n",
    "\n",
    "# 5) Plot negative coefficients (repressors only)\n",
    "sns.scatterplot(\n",
    "    data=neg,\n",
    "    x=\"distance_to_tss\", y=\"coefficient\",\n",
    "    hue=\"role\",\n",
    "    palette={\"repressor\":\"#d62728\"},\n",
    "    edgecolor=\"w\", linewidth=0.3,\n",
    "    alpha=0.7,\n",
    "    s=40,\n",
    "    ax=ax2,\n",
    "    legend=False\n",
    ")\n",
    "ax2.axhline(0, color=\"black\", linewidth=0.8)\n",
    "ax2.set_title(\"Negative Effects (Repressors)\")\n",
    "ax2.set_ylabel(\"Coefficient < 0\")\n",
    "ax2.set_xlabel(\"Distance to TSS (bp, log scale)\")\n",
    "\n",
    "# 6) Final tweaks\n",
    "for ax in (ax1, ax2):\n",
    "    ax.set_xscale(\"log\")\n",
    "    ax.spines[\"top\"].set_visible(False)\n",
    "    ax.spines[\"right\"].set_visible(False)\n",
    "\n",
    "plt.tight_layout()\n",
    "plt.show()\n"
   ]
  },
  {
   "cell_type": "code",
   "execution_count": 119,
   "id": "0532fb11",
   "metadata": {},
   "outputs": [
    {
     "name": "stdout",
     "output_type": "stream",
     "text": [
      "Wrote ~/Desktop/high_conf_filtered.csv — 28222 rows\n"
     ]
    }
   ],
   "source": [
    "# write to your Desktop\n",
    "high_conf_filtered.to_csv(\"~/Desktop/high_conf_filtered.csv\", index=False)\n",
    "print(\"Wrote ~/Desktop/high_conf_filtered.csv —\", high_conf_filtered.shape[0], \"rows\")\n"
   ]
  },
  {
   "cell_type": "code",
   "execution_count": 120,
   "id": "2c3772c0",
   "metadata": {},
   "outputs": [
    {
     "name": "stdout",
     "output_type": "stream",
     "text": [
      "Most repressive repressor:\n",
      "                         peak_ID  gene  distance_to_tss  coefficient\n",
      "7311  ImmGenATAC1219.peak_75525  Tcf7          14254.0  -253.532701\n",
      "Genes with all 3 roles: 2692\n",
      "Genes with only promoter: 66\n",
      "Avg # promoters per gene: 1.00\n",
      "Avg # enhancers per gene: 8.51\n"
     ]
    }
   ],
   "source": [
    "import pandas as pd\n",
    "\n",
    "# 1) Most repressive “repressor”\n",
    "most_repressive = (\n",
    "    high_conf[high_conf.role == \"repressor\"]\n",
    "     .nsmallest(1, \"coefficient\")\n",
    "     .loc[:, [\"peak_ID\",\"gene\",\"distance_to_tss\",\"coefficient\"]]\n",
    ")\n",
    "print(\"Most repressive repressor:\\n\", most_repressive)\n",
    "\n",
    "# 2) Genes with all three roles\n",
    "roles_per_gene = high_conf.groupby(\"gene\")[\"role\"] \\\n",
    "                          .unique().apply(set)\n",
    "n_all3 = sum(1 for roles in roles_per_gene\n",
    "             if {\"promoter\",\"activator\",\"repressor\"}.issubset(roles))\n",
    "print(f\"Genes with all 3 roles: {n_all3}\")\n",
    "\n",
    "# 3) Genes with only a promoter\n",
    "n_only_prom = sum(1 for roles in roles_per_gene\n",
    "                  if roles == {\"promoter\"})\n",
    "print(f\"Genes with only promoter: {n_only_prom}\")\n",
    "\n",
    "# 4) Average counts of promoters & enhancers per gene\n",
    "counts = high_conf.groupby(\"gene\")[\"role\"] \\\n",
    "                  .value_counts() \\\n",
    "                  .unstack(fill_value=0)\n",
    "avg_prom  = counts[\"promoter\"].mean()\n",
    "avg_enh   = counts[[\"activator\",\"repressor\"]].sum(axis=1).mean()\n",
    "print(f\"Avg # promoters per gene: {avg_prom:.2f}\")\n",
    "print(f\"Avg # enhancers per gene: {avg_enh:.2f}\")\n"
   ]
  },
  {
   "cell_type": "markdown",
   "id": "2d23d8bd",
   "metadata": {},
   "source": [
    "Where are repressing CREs located compared to activating CREs?\n"
   ]
  },
  {
   "cell_type": "code",
   "execution_count": 121,
   "id": "7b7ff403",
   "metadata": {},
   "outputs": [
    {
     "name": "stdout",
     "output_type": "stream",
     "text": [
      "Channels:\n",
      " - conda-forge\n",
      " - defaults\n",
      "Platform: osx-arm64\n",
      "Collecting package metadata (repodata.json): done\n",
      "Solving environment: done\n",
      "\n",
      "# All requested packages already installed.\n",
      "\n",
      "\n",
      "Note: you may need to restart the kernel to use updated packages.\n"
     ]
    }
   ],
   "source": [
    "conda install -c conda-forge tabulate\n"
   ]
  },
  {
   "cell_type": "code",
   "execution_count": 122,
   "id": "358dc4d4",
   "metadata": {},
   "outputs": [
    {
     "name": "stdout",
     "output_type": "stream",
     "text": [
      "| role      |   count |   min |   25% |   50% |     75% |   max |\n",
      "|:----------|--------:|------:|------:|------:|--------:|------:|\n",
      "| activator |   12707 |     1 |   473 |  4942 | 16780.5 | 99778 |\n",
      "| promoter  |    3014 |     0 |    23 |    61 |   296   | 79408 |\n",
      "| repressor |   13025 |     0 |   126 |  1303 | 11544   | 99880 |\n"
     ]
    }
   ],
   "source": [
    "summary = (\n",
    "    high_conf\n",
    "    .groupby('role')['distance_to_tss']\n",
    "    .describe()[['count','min','25%','50%','75%','max']]\n",
    "    .sort_index()\n",
    ")\n",
    "print(summary.to_markdown())\n"
   ]
  },
  {
   "cell_type": "code",
   "execution_count": 123,
   "id": "dd29e2fa",
   "metadata": {},
   "outputs": [
    {
     "name": "stdout",
     "output_type": "stream",
     "text": [
      "             count  min    25%     50%      75%      max\n",
      "role                                                    \n",
      "activator  12707.0  1.0  473.0  4942.0  16780.5  99778.0\n",
      "promoter    3014.0  0.0   23.0    61.0    296.0  79408.0\n",
      "repressor  13025.0  0.0  126.0  1303.0  11544.0  99880.0\n"
     ]
    }
   ],
   "source": [
    "summary = (\n",
    "    high_conf\n",
    "    .groupby('role')['distance_to_tss']\n",
    "    .describe()[['count','min','25%','50%','75%','max']]\n",
    "    .sort_index()\n",
    ")\n",
    "print(summary)\n"
   ]
  },
  {
   "cell_type": "markdown",
   "id": "dde44c04",
   "metadata": {},
   "source": [
    "\n",
    "\n",
    "| Role          | Median distance to TSS (bp) | 25th %ile (bp) | 75th %ile (bp) |\n",
    "| ------------- | --------------------------: | -------------: | -------------: |\n",
    "| **Promoter**  |                          61 |             23 |            296 |\n",
    "| **Repressor** |                       1 303 |            126 |         11 544 |\n",
    "| **Activator** |                       4 942 |            473 |         16 780 |\n",
    "\n",
    "* **Promoters** sit essentially right at the TSS (median ≈ 61 bp).\n",
    "* **Repressors** are on average a bit farther out (median ≈ 1.3 kb) but still relatively proximal.\n",
    "* **Activators** tend to lie the farthest away (median ≈ 4.9 kb).\n",
    "\n",
    "So **repressing CREs** are generally **more distal** than promoters but **more proximal** than activating CREs.\n"
   ]
  },
  {
   "cell_type": "markdown",
   "id": "1f881530",
   "metadata": {},
   "source": [
    "How many genes are mainly regulated by a repressing CREs, and can promoters act through repression? "
   ]
  },
  {
   "cell_type": "markdown",
   "id": "1f2bd69c",
   "metadata": {},
   "source": [
    "First, let’s pick for each gene the single CRE link with the largest absolute effect size (|coefficient|), and see how many of those “top‐CREs” are repressors:"
   ]
  },
  {
   "cell_type": "code",
   "execution_count": 124,
   "id": "99cfabbf",
   "metadata": {},
   "outputs": [
    {
     "name": "stdout",
     "output_type": "stream",
     "text": [
      "role\n",
      "activator    1841\n",
      "repressor     647\n",
      "promoter      535\n",
      "Name: count, dtype: int64\n"
     ]
    }
   ],
   "source": [
    "import pandas as pd\n",
    "\n",
    "# assume `high_conf` is your post‐cutoff DataFrame with columns \n",
    "# ['gene','peak_ID','coefficient','r2','distance_to_tss','role']\n",
    "\n",
    "# 1) find the index of the strongest CRE (by absolute coefficient) per gene\n",
    "idx = (high_conf\n",
    "       .assign(abs_coef=high_conf['coefficient'].abs())\n",
    "       .groupby('gene')['abs_coef']\n",
    "       .idxmax())\n",
    "\n",
    "strongest = high_conf.loc[idx]\n",
    "\n",
    "# 2) tally up how many genes have a repressor as their main CRE\n",
    "role_counts = strongest['role'].value_counts()\n",
    "print(role_counts)\n"
   ]
  },
  {
   "cell_type": "markdown",
   "id": "b7965f98",
   "metadata": {},
   "source": [
    "so 647 genes are mainly regulated by repressing CREs"
   ]
  },
  {
   "cell_type": "markdown",
   "id": "1d290f7b",
   "metadata": {},
   "source": [
    "Can promoters act through repression?"
   ]
  },
  {
   "cell_type": "markdown",
   "id": "1fca132d",
   "metadata": {},
   "source": [
    "How i interpreted this question: We have coefficients for each CRE that is linked to a gene. In all genes that have a repressor element (so negative coefficient), do their promoters have a stronger magnitude than these repressors that they have, or does the repressor have a stronger influence on it (aka larger magnitude of coefficient) than the promoter?"
   ]
  },
  {
   "cell_type": "code",
   "execution_count": 125,
   "id": "384cc715",
   "metadata": {},
   "outputs": [
    {
     "name": "stdout",
     "output_type": "stream",
     "text": [
      "878 genes whose promoter strength > strongest repressor strength\n",
      "               prom_strength  rep_strength  prom_gt_rep\n",
      "gene                                                   \n",
      "1700001C19Rik       0.199053      0.023901         True\n",
      "1810034E14Rik       0.386194      0.062729         True\n",
      "2410021H03Rik       0.005143      0.001427         True\n",
      "2810001G20Rik       0.685265      0.653654         True\n",
      "4930513N10Rik       0.860133      0.073475         True\n"
     ]
    }
   ],
   "source": [
    "import pandas as pd\n",
    "\n",
    "\n",
    "# 1) compute promoter per gene\n",
    "prom = (\n",
    "    high_conf[high_conf['role']=='promoter']\n",
    "      .assign(abs_coef=lambda df: df['coefficient'].abs())\n",
    "      .groupby('gene', as_index=True)['abs_coef']\n",
    "      .max()\n",
    "      .rename('prom_strength')\n",
    ")\n",
    "\n",
    "# 2) compute strongest repressor per gene\n",
    "rep = (\n",
    "    high_conf[high_conf['coefficient'] < 0]\n",
    "      .assign(abs_coef=lambda df: df['coefficient'].abs())\n",
    "      .groupby('gene', as_index=True)['abs_coef']\n",
    "      .max()\n",
    "      .rename('rep_strength')\n",
    ")\n",
    "\n",
    "# 3) combine into one table (only genes with both)\n",
    "df = pd.concat([prom, rep], axis=1).dropna()\n",
    "\n",
    "# 4) filter for prom > rep\n",
    "df['prom_gt_rep'] = df['prom_strength'] > df['rep_strength']\n",
    "winners = df[df['prom_gt_rep']]\n",
    "\n",
    "print(f\"{len(winners)} genes whose promoter strength > strongest repressor strength\")\n",
    "print(winners.head())\n"
   ]
  },
  {
   "cell_type": "code",
   "execution_count": 126,
   "id": "78e9a28d",
   "metadata": {},
   "outputs": [
    {
     "name": "stdout",
     "output_type": "stream",
     "text": [
      "3023\n"
     ]
    }
   ],
   "source": [
    "total_genes = high_conf['gene'].nunique()\n",
    "print(total_genes)"
   ]
  },
  {
   "cell_type": "code",
   "execution_count": 127,
   "id": "c1b1830c",
   "metadata": {},
   "outputs": [
    {
     "name": "stdout",
     "output_type": "stream",
     "text": [
      "29.0% of genes have a promoter stronger than their strongest repressor\n"
     ]
    }
   ],
   "source": [
    "# assuming you’ve already built `winners` (genes where prom_strength > rep_strength)\n",
    "pct_winners = winners.shape[0] / total_genes * 100\n",
    "print(f\"{pct_winners:.1f}% of genes have a promoter stronger than their strongest repressor\")\n"
   ]
  },
  {
   "cell_type": "markdown",
   "id": "5b72de54",
   "metadata": {},
   "source": [
    "**Promoter vs. repressor strength**  \n",
    "We computed, for each gene, the absolute coefficient of its closest TSS peak (“promoter”) and compared this to the largest absolute coefficient among all repressor‐type CREs. Only **29.0%** of genes (878/3023) exhibited promoter strength exceeding their strongest repressor (Figure X).  \n",
    "\n",
    "> *Caveat:* These values reflect fitted regression weights in a simplified additive model and may not fully capture nonlinear or cooperative regulatory interactions in vivo.\n"
   ]
  },
  {
   "cell_type": "markdown",
   "id": "f504a4c3",
   "metadata": {},
   "source": [
    "Are there CREs that are repressing for one gene but activating for another gene?"
   ]
  },
  {
   "cell_type": "code",
   "execution_count": 128,
   "id": "a1f3a49a",
   "metadata": {},
   "outputs": [
    {
     "name": "stdout",
     "output_type": "stream",
     "text": [
      "2623 CREs act as activators for some genes but repressors for others\n"
     ]
    }
   ],
   "source": [
    "import pandas as pd\n",
    "\n",
    "# assume high_conf is your DataFrame with columns ['gene','peak_ID','coefficient',…]\n",
    "# 1) build two sets: CREs that ever activate, and CREs that ever repress\n",
    "pos_peaks = set(high_conf.loc[high_conf['coefficient'] > 0, 'peak_ID'])\n",
    "neg_peaks = set(high_conf.loc[high_conf['coefficient'] < 0, 'peak_ID'])\n",
    "\n",
    "# 2) find the intersection: CREs in both sets\n",
    "mixed_peaks = pos_peaks & neg_peaks\n",
    "\n",
    "print(f\"{len(mixed_peaks)} CREs act as activators for some genes but repressors for others\")\n"
   ]
  },
  {
   "cell_type": "code",
   "execution_count": 129,
   "id": "af500758",
   "metadata": {},
   "outputs": [
    {
     "name": "stdout",
     "output_type": "stream",
     "text": [
      "Total CREs: 21249\n",
      "2623 out of 21249 CREs (12.3%) act as activators for some genes but repressors for others\n"
     ]
    }
   ],
   "source": [
    "# total number of unique CREs\n",
    "total_cre = high_conf['peak_ID'].nunique()\n",
    "print(f\"Total CREs: {total_cre}\")\n",
    "# mixed_peaks is the set you already computed\n",
    "n_mixed = len(mixed_peaks)\n",
    "\n",
    "pct_mixed = n_mixed / total_cre * 100\n",
    "print(f\"{n_mixed} out of {total_cre} CREs ({pct_mixed:.1f}%) act as activators for some genes but repressors for others\")\n"
   ]
  },
  {
   "cell_type": "markdown",
   "id": "c791de24",
   "metadata": {},
   "source": [
    "Now going to do some plotting"
   ]
  },
  {
   "cell_type": "code",
   "execution_count": 130,
   "id": "a606214b",
   "metadata": {},
   "outputs": [
    {
     "data": {
      "image/png": "[encoded data removed]",
      "text/plain": [
       "<Figure size 600x400 with 1 Axes>"
      ]
     },
     "metadata": {},
     "output_type": "display_data"
    }
   ],
   "source": [
    "import matplotlib.pyplot as plt\n",
    "\n",
    "# 1) counts & total\n",
    "role_counts = strongest['role'].value_counts()\n",
    "total_genes = len(strongest)\n",
    "\n",
    "# 2) figure setup\n",
    "fig, ax = plt.subplots(figsize=(6, 4))\n",
    "\n",
    "# 3) bars in a professional teal, with black outline\n",
    "bars = ax.bar(\n",
    "    role_counts.index, \n",
    "    role_counts.values, \n",
    "    color='#2A9D8F',   # pretty, professional teal\n",
    "    edgecolor='k', \n",
    "    linewidth=1\n",
    ")\n",
    "\n",
    "# 4) annotate counts above each bar\n",
    "for bar in bars:\n",
    "    h = bar.get_height()\n",
    "    ax.text(\n",
    "        bar.get_x() + bar.get_width() / 2,\n",
    "        h + total_genes * 0.005,\n",
    "        f\"{h}\",\n",
    "        ha='center',\n",
    "        va='bottom',\n",
    "        fontsize=10\n",
    "    )\n",
    "\n",
    "# 5) clean up spines\n",
    "ax.spines['top'].set_visible(False)\n",
    "ax.spines['right'].set_visible(False)\n",
    "\n",
    "# 6) labels & title\n",
    "ax.set_ylabel(\"Number of genes\", fontsize=12)\n",
    "ax.set_title(\"Genes by Their Strongest CRE Role\", fontsize=14)\n",
    "\n",
    "plt.tight_layout()\n",
    "plt.show()\n"
   ]
  },
  {
   "cell_type": "markdown",
   "id": "774f095b",
   "metadata": {},
   "source": [
    "1.ii. d Are intronic enhancers different from enhancers outside the transcript."
   ]
  },
  {
   "cell_type": "code",
   "execution_count": 131,
   "id": "f5c55cde",
   "metadata": {},
   "outputs": [
    {
     "name": "stdout",
     "output_type": "stream",
     "text": [
      "Columns in ATAC_high_var.csv: ['ImmGenATAC1219.peakID', 'chrom', 'Summit', 'mm10.60way.phastCons_scores', '_-log10_bestPvalue', 'Included.in.systematic.analysis', 'TSS', 'genes.within.100Kb', 'preT.DN1.Th', 'preT.DN2a.Th', 'preT.DN2b.Th', 'preT.DN3.Th', 'T.DN4.Th', 'T.ISP.Th', 'T.DP.Th', 'T.4.Th', 'T.8.Th', 'T.4.Nve.Sp', 'T.4.Nve.Fem.Sp', 'T.4.Sp.aCD3+CD40.18hr', 'T.8.Nve.Sp', 'Treg.4.25hi.Sp', 'Treg.4.FP3+.Nrplo.Co', 'T8.TN.P14.Sp', 'T8.TE.LCMV.d7.Sp', 'T8.MP.LCMV.d7.Sp', 'T8.IEL.LCMV.d7.SI', 'T8.Tcm.LCMV.d180.Sp', 'T8.Tem.LCMV.d180.Sp', 'NKT.Sp', 'NKT.Sp.LPS.3hr', 'NKT.Sp.LPS.18hr', 'NKT.Sp.LPS.3d', 'LTHSC.34-.BM', 'LTHSC.34+.BM', 'STHSC.150-.BM', 'MPP4.135+.BM', 'variance']\n"
     ]
    }
   ],
   "source": [
    "import os\n",
    "import pandas as pd\n",
    "\n",
    "# 2) Load your filtered peaks file\n",
    "peaks_coords = pd.read_csv(\"ATAC_high_var.csv\")\n",
    "\n",
    "# 3) Print its column names\n",
    "print(\"Columns in ATAC_high_var.csv:\", peaks_coords.columns.tolist())\n",
    "\n"
   ]
  },
  {
   "cell_type": "markdown",
   "id": "98b2294c",
   "metadata": {},
   "source": [
    "the high_conf table didn’t include the peak’s position, so i merged in the summit coordinate from our ATAC‐seq file"
   ]
  },
  {
   "cell_type": "code",
   "execution_count": 132,
   "id": "a412def3",
   "metadata": {},
   "outputs": [
    {
     "name": "stdout",
     "output_type": "stream",
     "text": [
      "Now high_conf has columns: ['Unnamed: 0', 'gene', 'peak_ID', 'coefficient', 'r2', 'distance_to_tss', 'role', 'chrom', 'pos']\n",
      "                   peak_ID chrom      pos\n",
      "0  ImmGenATAC1219.peak_376  chr1  7088525\n",
      "1  ImmGenATAC1219.peak_377  chr1  7088775\n",
      "2  ImmGenATAC1219.peak_378  chr1  7089051\n",
      "3  ImmGenATAC1219.peak_380  chr1  7096062\n",
      "4  ImmGenATAC1219.peak_408  chr1  7147225\n"
     ]
    }
   ],
   "source": [
    "import pandas as pd\n",
    "\n",
    "# 1) Load your filtered ATAC peaks\n",
    "peaks_coords = pd.read_csv(\"ATAC_high_var.csv\")\n",
    "\n",
    "# 2) Select only the three columns we need and rename them\n",
    "peaks_coords = (\n",
    "    peaks_coords\n",
    "    .loc[:, ['ImmGenATAC1219.peakID', 'chrom', 'Summit']]\n",
    "    .rename(columns={\n",
    "        'ImmGenATAC1219.peakID': 'peak_ID',\n",
    "        'Summit': 'pos'   # single-base CRE coordinate\n",
    "    })\n",
    ")\n",
    "\n",
    "# 3) Merge into high_conf by peak_ID\n",
    "high_conf = high_conf.merge(\n",
    "    peaks_coords,\n",
    "    on='peak_ID',\n",
    "    how='left'\n",
    ")\n",
    "\n",
    "# 4) Verify\n",
    "print(\"Now high_conf has columns:\", high_conf.columns.tolist())\n",
    "print(high_conf[['peak_ID','chrom','pos']].head())\n"
   ]
  },
  {
   "cell_type": "markdown",
   "id": "8055b41f",
   "metadata": {},
   "source": [
    "I first kept only those peaks whose role was activator or repressor (i.e. discarded promoters)."
   ]
  },
  {
   "cell_type": "code",
   "execution_count": 133,
   "id": "60eb76da",
   "metadata": {},
   "outputs": [
    {
     "name": "stdout",
     "output_type": "stream",
     "text": [
      "2957 genes have at least one activator or repressor\n",
      "Now high_conf rows: 28680\n",
      "Remaining roles: role\n",
      "repressor    13025\n",
      "activator    12707\n",
      "promoter      2948\n",
      "Name: count, dtype: int64\n"
     ]
    }
   ],
   "source": [
    "# 1) Define which roles count as “enhancer‐type”\n",
    "enhancer_roles = ['activator', 'repressor']\n",
    "\n",
    "# 2) Find all genes with ≥1 such CRE\n",
    "genes_with_enh = (\n",
    "    high_conf.loc[\n",
    "        high_conf['role'].isin(enhancer_roles), \n",
    "        'gene'\n",
    "    ]\n",
    "    .unique()\n",
    ")\n",
    "\n",
    "print(f\"{len(genes_with_enh)} genes have at least one activator or repressor\")\n",
    "\n",
    "# 3) Filter your high_conf to only those genes\n",
    "high_conf = high_conf[high_conf['gene'].isin(genes_with_enh)].copy()\n",
    "\n",
    "print(\"Now high_conf rows:\", high_conf.shape[0])\n",
    "print(\"Remaining roles:\", high_conf['role'].value_counts())\n"
   ]
  },
  {
   "cell_type": "markdown",
   "id": "985674f7",
   "metadata": {},
   "source": [
    "loaded RefFlat and kept only the 2,957 genes present in our filtered high_conf"
   ]
  },
  {
   "cell_type": "code",
   "execution_count": 134,
   "id": "6b1d1216",
   "metadata": {},
   "outputs": [
    {
     "name": "stdout",
     "output_type": "stream",
     "text": [
      "Loaded 47382 transcripts total; 2957 genes remain after filtering\n",
      "Example rows:\n",
      "    geneName transcriptName  chrom strand   txStart     txEnd  cdsStart  \\\n",
      "34  Itgb1bp1      NM_008403  chr12      -  21269801  21286284  21270885   \n",
      "57     Atg4d      NM_153583   chr9      +  21265284  21274837  21265482   \n",
      "69       St7   NM_001289626   chr6      +  17693993  17943023  17694211   \n",
      "77     Nadk2   NM_001085410  chr15      +   9071259   9110496   9071501   \n",
      "85      Plec   NM_001164203  chr15      -  76170973  76208253  76172169   \n",
      "\n",
      "      cdsEnd  exonCount                                         exonStarts  \\\n",
      "34  21279471          7  21269801,21271418,21272055,21274765,21276819,2...   \n",
      "57  21273436         10  21265284,21266738,21266906,21268250,21268604,2...   \n",
      "69  17942765         15  17693993,17819249,17834616,17844908,17846198,1...   \n",
      "77   9108357         14  9071259,9083269,9084161,9085724,9091174,909271...   \n",
      "85  76192311         34  76170973,76178518,76182909,76183090,76183361,7...   \n",
      "\n",
      "                                             exonEnds  \n",
      "34  21270957,21271568,21272148,21274902,21276898,2...  \n",
      "57  21265717,21266822,21267080,21268527,21268669,2...  \n",
      "69  17694362,17819332,17834776,17844963,17846314,1...  \n",
      "77  9071765,9083358,9084250,9085806,9091258,909285...  \n",
      "85  76178385,76181899,76183008,76183195,76183445,7...  \n"
     ]
    }
   ],
   "source": [
    "import pandas as pd\n",
    "\n",
    "# 1) Path to your RefFlat file\n",
    "refflat_path = \"raw datasets/refFlat\"  # add “.txt” if that’s the actual filename\n",
    "\n",
    "# 2) Column names for RefFlat\n",
    "rf_cols = [\n",
    "    'geneName', 'transcriptName', 'chrom', 'strand',\n",
    "    'txStart', 'txEnd', 'cdsStart', 'cdsEnd',\n",
    "    'exonCount', 'exonStarts', 'exonEnds'\n",
    "]\n",
    "\n",
    "# 3) Load the whole RefFlat\n",
    "rf = pd.read_csv(\n",
    "    refflat_path,\n",
    "    sep='\\t',\n",
    "    header=None,\n",
    "    names=rf_cols\n",
    ")\n",
    "\n",
    "# 4) Filter to only genes present in your filtered high_conf\n",
    "relevant_genes = high_conf['gene'].unique()\n",
    "rf_filt = rf[ rf['geneName'].isin(relevant_genes) ].copy()\n",
    "\n",
    "print(f\"Loaded {len(rf)} transcripts total; {rf_filt['geneName'].nunique()} genes remain after filtering\")\n",
    "print(\"Example rows:\", rf_filt.head(), sep=\"\\n\")\n"
   ]
  },
  {
   "cell_type": "markdown",
   "id": "c7df2947",
   "metadata": {},
   "source": [
    "For each transcript, we turned its comma-separated exon starts/ends into Python lists, then created one intron interval between every pair of adjacent exons:"
   ]
  },
  {
   "cell_type": "markdown",
   "id": "faf3b2a4",
   "metadata": {},
   "source": [
    "We merged these intron intervals onto our peaks by (gene,chrom), then checked whether the peak summit pos lies inside any intron:"
   ]
  },
  {
   "cell_type": "code",
   "execution_count": 135,
   "id": "9edb4e30",
   "metadata": {},
   "outputs": [
    {
     "name": "stdout",
     "output_type": "stream",
     "text": [
      "                          peak_ID    gene  chrom        pos    location\n",
      "18793  ImmGenATAC1219.peak_357266  Kcnab2   chr4  152446674    intronic\n",
      "22131  ImmGenATAC1219.peak_413873    Chd4   chr6  125192181  intergenic\n",
      "8156   ImmGenATAC1219.peak_153252   Psme2  chr14   55591380  intergenic\n",
      "24353  ImmGenATAC1219.peak_439449    Wee1   chr7  110121578  intergenic\n",
      "17640  ImmGenATAC1219.peak_336616    Inip   chr4   59718761  intergenic\n"
     ]
    }
   ],
   "source": [
    "import pandas as pd\n",
    "\n",
    "# --- 1) Parse exonStarts/exonEnds into lists of ints (if you haven't yet)\n",
    "rf_filt['exonStarts'] = (\n",
    "    rf_filt['exonStarts']\n",
    "      .str.rstrip(',').str.split(',')\n",
    "      .apply(lambda L: list(map(int,L)))\n",
    ")\n",
    "rf_filt['exonEnds'] = (\n",
    "    rf_filt['exonEnds']\n",
    "      .str.rstrip(',').str.split(',')\n",
    "      .apply(lambda L: list(map(int,L)))\n",
    ")\n",
    "\n",
    "# --- 2) Build a DataFrame of intron intervals\n",
    "introns = []\n",
    "for _, row in rf_filt.iterrows():\n",
    "    starts, ends = row.exonStarts, row.exonEnds\n",
    "    # for each adjacent exon pair, the intron is [end_i, start_{i+1})\n",
    "    for i in range(len(starts)-1):\n",
    "        introns.append({\n",
    "            'gene': row.geneName,\n",
    "            'chrom': row.chrom,\n",
    "            'intron_start': ends[i],\n",
    "            'intron_end':   starts[i+1]\n",
    "        })\n",
    "introns = pd.DataFrame(introns)\n",
    "\n",
    "# --- 3) Merge introns onto your peaks by (gene, chrom)\n",
    "# high_conf already has columns: gene, chrom, pos, peak_ID, role, coefficient\n",
    "peaks = high_conf[['peak_ID','gene','chrom','pos']].copy()\n",
    "m = peaks.merge(introns, on=['gene','chrom'], how='left')\n",
    "\n",
    "# --- 4) Flag as intronic if pos ∈ [intron_start, intron_end)\n",
    "m['is_intronic'] = (m['pos'] >= m['intron_start']) & (m['pos'] < m['intron_end'])\n",
    "\n",
    "# --- 5) Collapse to one TRUE/FALSE per peak_ID\n",
    "intronic_flag = (\n",
    "    m.groupby('peak_ID')['is_intronic']\n",
    "     .any()\n",
    "     .rename('is_intronic')\n",
    "     .reset_index()\n",
    ")\n",
    "\n",
    "# --- 6) Merge back into high_conf and label location\n",
    "high_conf = high_conf.merge(intronic_flag, on='peak_ID', how='left')\n",
    "high_conf['location'] = high_conf['is_intronic'].map({True:'intronic', False:'intergenic'})\n",
    "\n",
    "# --- 7) Quick sanity check\n",
    "print(high_conf[['peak_ID','gene','chrom','pos','location']].drop_duplicates().sample(5))\n"
   ]
  },
  {
   "cell_type": "markdown",
   "id": "e64a5122",
   "metadata": {},
   "source": [
    "Finally, we counted how many CREs (and enhancer-type CREs) fell into each category:"
   ]
  },
  {
   "cell_type": "code",
   "execution_count": 136,
   "id": "49e0f810",
   "metadata": {},
   "outputs": [
    {
     "name": "stdout",
     "output_type": "stream",
     "text": [
      "\n",
      "Enhancer‐type CREs:\n",
      "location\n",
      "intergenic    20470\n",
      "intronic       5262\n",
      "Name: count, dtype: int64\n",
      "location\n",
      "intergenic    79.6%\n",
      "intronic      20.4%\n",
      "Name: count, dtype: object\n"
     ]
    }
   ],
   "source": [
    "\n",
    "\n",
    "# Counts for just enhancers (activators + repressors)\n",
    "enh = high_conf[high_conf['role'].isin(['activator','repressor'])]\n",
    "enh_counts = enh['location'].value_counts()\n",
    "enh_pct    = enh_counts / enh_counts.sum() * 100\n",
    "print(\"\\nEnhancer‐type CREs:\")\n",
    "print(enh_counts)\n",
    "print(enh_pct.map(\"{:.1f}%\".format))\n"
   ]
  },
  {
   "cell_type": "code",
   "execution_count": 137,
   "id": "6b8ef39b",
   "metadata": {},
   "outputs": [
    {
     "name": "stderr",
     "output_type": "stream",
     "text": [
      "/var/folders/4h/4d6rt9vd0zl_794dt1wdryqr0000gn/T/ipykernel_7166/820424276.py:2: SettingWithCopyWarning: \n",
      "A value is trying to be set on a copy of a slice from a DataFrame.\n",
      "Try using .loc[row_indexer,col_indexer] = value instead\n",
      "\n",
      "See the caveats in the documentation: https://pandas.pydata.org/pandas-docs/stable/user_guide/indexing.html#returning-a-view-versus-a-copy\n",
      "  enh['abs_coef'] = enh['coefficient'].abs()\n"
     ]
    }
   ],
   "source": [
    "enh = high_conf.query(\"role in ['activator','repressor']\")\n",
    "enh['abs_coef'] = enh['coefficient'].abs()\n",
    "intr = enh.loc[enh['location']=='intronic','abs_coef']\n",
    "inter= enh.loc[enh['location']=='intergenic','abs_coef']\n"
   ]
  },
  {
   "cell_type": "code",
   "execution_count": 139,
   "id": "f506ddcf",
   "metadata": {},
   "outputs": [
    {
     "name": "stdout",
     "output_type": "stream",
     "text": [
      "p-value = 1.942628690498378e-51\n"
     ]
    }
   ],
   "source": [
    "from scipy.stats import mannwhitneyu\n",
    "stat, p = mannwhitneyu(intr, inter)\n",
    "print(\"p-value =\", p)\n"
   ]
  },
  {
   "cell_type": "code",
   "execution_count": 140,
   "id": "5b46723f",
   "metadata": {},
   "outputs": [
    {
     "data": {
      "text/html": [
       "<div>\n",
       "<style scoped>\n",
       "    .dataframe tbody tr th:only-of-type {\n",
       "        vertical-align: middle;\n",
       "    }\n",
       "\n",
       "    .dataframe tbody tr th {\n",
       "        vertical-align: top;\n",
       "    }\n",
       "\n",
       "    .dataframe thead th {\n",
       "        text-align: right;\n",
       "    }\n",
       "</style>\n",
       "<table border=\"1\" class=\"dataframe\">\n",
       "  <thead>\n",
       "    <tr style=\"text-align: right;\">\n",
       "      <th>role</th>\n",
       "      <th>activator</th>\n",
       "      <th>repressor</th>\n",
       "    </tr>\n",
       "    <tr>\n",
       "      <th>location</th>\n",
       "      <th></th>\n",
       "      <th></th>\n",
       "    </tr>\n",
       "  </thead>\n",
       "  <tbody>\n",
       "    <tr>\n",
       "      <th>intergenic</th>\n",
       "      <td>0.470689</td>\n",
       "      <td>0.529311</td>\n",
       "    </tr>\n",
       "    <tr>\n",
       "      <th>intronic</th>\n",
       "      <td>0.583808</td>\n",
       "      <td>0.416192</td>\n",
       "    </tr>\n",
       "  </tbody>\n",
       "</table>\n",
       "</div>"
      ],
      "text/plain": [
       "role        activator  repressor\n",
       "location                        \n",
       "intergenic   0.470689   0.529311\n",
       "intronic     0.583808   0.416192"
      ]
     },
     "execution_count": 140,
     "metadata": {},
     "output_type": "execute_result"
    }
   ],
   "source": [
    "pd.crosstab(\n",
    "    enh['location'],\n",
    "    enh['role']\n",
    ").apply(lambda row: row/row.sum(), axis=1)\n"
   ]
  },
  {
   "cell_type": "code",
   "execution_count": 146,
   "id": "3aa07ece",
   "metadata": {},
   "outputs": [
    {
     "name": "stdout",
     "output_type": "stream",
     "text": [
      "     location  mean_strength  max_strength\n",
      "0  intergenic       3.801026    341.968959\n",
      "1    intronic       4.574022    329.004357\n"
     ]
    }
   ],
   "source": [
    "# Subset to activator/repressor CREs and compute |β|\n",
    "enh = high_conf[high_conf.role.isin(['activator','repressor'])].copy()\n",
    "enh['abs_coef'] = enh['coefficient'].abs()\n",
    "\n",
    "# Group by intronic vs. intergenic and compute mean & max\n",
    "summary = enh.groupby('location')['abs_coef'] \\\n",
    "             .agg(mean_strength='mean', max_strength='max') \\\n",
    "             .reset_index()\n",
    "\n",
    "print(summary)\n"
   ]
  },
  {
   "cell_type": "code",
   "execution_count": 148,
   "id": "5d94e796",
   "metadata": {},
   "outputs": [
    {
     "name": "stdout",
     "output_type": "stream",
     "text": [
      "  location     mean   median    maximum\n",
      "intergenic 3.801026 0.861624 341.968959\n",
      "  intronic 4.574022 1.373178 329.004357\n"
     ]
    }
   ],
   "source": [
    "# Subset to activators & repressors and compute |β|\n",
    "enh = high_conf[high_conf.role.isin(['activator','repressor'])].copy()\n",
    "enh['abs_coef'] = enh['coefficient'].abs()\n",
    "\n",
    "# Compute mean, median, max for each location\n",
    "summary = enh.groupby('location')['abs_coef'].agg(\n",
    "    mean='mean',\n",
    "    median='median',\n",
    "    maximum='max'\n",
    ").reset_index()\n",
    "\n",
    "print(summary.to_string(index=False))\n"
   ]
  },
  {
   "cell_type": "markdown",
   "id": "6a1a2fd1",
   "metadata": {},
   "source": [
    "seeing examples"
   ]
  },
  {
   "cell_type": "code",
   "execution_count": 151,
   "id": "4c78a7e8",
   "metadata": {},
   "outputs": [
    {
     "name": "stdout",
     "output_type": "stream",
     "text": [
      "=== Random Intronic Examples ===\n",
      "                           peak_ID    gene  chrom        pos  intron_start  \\\n",
      "75550    ImmGenATAC1219.peak_79991   Zbtb4  chr11   69766523    69766085.0   \n",
      "28965    ImmGenATAC1219.peak_40260   Stx11  chr10   12963476    12941983.0   \n",
      "570562  ImmGenATAC1219.peak_498341   Fbxl2   chr9  113983468   113979670.0   \n",
      "561811  ImmGenATAC1219.peak_483623    Bco2   chr9   50537432    50536368.0   \n",
      "26961    ImmGenATAC1219.peak_38864  Ipcef1  chr10    7010757     6996576.0   \n",
      "\n",
      "         intron_end  \n",
      "75550    69775375.0  \n",
      "28965    12963999.0  \n",
      "570562  113983984.0  \n",
      "561811   50538845.0  \n",
      "26961     7023141.0  \n",
      "\n",
      "=== Random Intergenic Examples ===\n",
      "                           peak_ID    gene  chrom        pos\n",
      "382020  ImmGenATAC1219.peak_356086  Pik3cd   chr4  149710735\n",
      "534984  ImmGenATAC1219.peak_464158   Hook2   chr8   85081410\n",
      "247136  ImmGenATAC1219.peak_231766   Prob1  chr18   35662211\n",
      "82996    ImmGenATAC1219.peak_84542  Ggnbp2  chr11   84879854\n",
      "462719  ImmGenATAC1219.peak_421482    Mzf1   chr7   13034732\n"
     ]
    }
   ],
   "source": [
    "# build the intron table again if you haven’t already\n",
    "introns = []\n",
    "for _,r in rf_filt.iterrows():\n",
    "    starts, ends = r.exonStarts, r.exonEnds\n",
    "    for i in range(len(starts)-1):\n",
    "        introns.append({\n",
    "            'gene':         r.geneName,\n",
    "            'chrom':        r.chrom,\n",
    "            'intron_start': ends[i],\n",
    "            'intron_end':   starts[i+1]\n",
    "        })\n",
    "introns = pd.DataFrame(introns)\n",
    "\n",
    "# Merge back to see exactly which intron each peak hit\n",
    "m = enh[['peak_ID','gene','chrom','pos','location']].merge(\n",
    "    introns, on=['gene','chrom'], how='left'\n",
    ")\n",
    "m['overlap_intron'] = (m.pos >= m.intron_start) & (m.pos < m.intron_end)\n",
    "\n",
    "print(\"=== Random Intronic Examples ===\")\n",
    "print(\n",
    "    m.query(\"location=='intronic' & overlap_intron\")\n",
    "     .sample(5, random_state=0)\n",
    "     [['peak_ID','gene','chrom','pos','intron_start','intron_end']]\n",
    ")\n",
    "\n",
    "print(\"\\n=== Random Intergenic Examples ===\")\n",
    "print(\n",
    "    m.query(\"location=='intergenic'\")\n",
    "     .sample(5, random_state=0)\n",
    "     [['peak_ID','gene','chrom','pos']]\n",
    ")\n"
   ]
  },
  {
   "cell_type": "markdown",
   "id": "d54f98e9",
   "metadata": {},
   "source": [
    "Many intronic peaks will be very close to the TSS (first intron), acting like proximal enhancers or alternative promoters, boosting their effect sizes.\n",
    "\n",
    "Intergenic enhancers range from proximal to very distal; the bulk may lie further away and have more modest effects."
   ]
  },
  {
   "cell_type": "markdown",
   "id": "8929e0cd",
   "metadata": {},
   "source": [
    "This suggests that, in our regression model, CREs located inside gene bodies tend to exert stronger regulatory effects on their linked target genes than those lying entirely outside the transcript."
   ]
  },
  {
   "cell_type": "markdown",
   "id": "587b11eb",
   "metadata": {},
   "source": [
    "Interpretation: The median |β| is ~0.86 for intergenic but ~1.37 for intronic enhancers—so intronic elements are stronger even when ignoring outliers. The IQR shows intronic sites also have a broader middle 50% (3.89 vs. 2.75)."
   ]
  }
 ],
 "metadata": {
  "kernelspec": {
   "display_name": "REAL_FORKED_Bioinfo_project",
   "language": "python",
   "name": "python3"
  },
  "language_info": {
   "codemirror_mode": {
    "name": "ipython",
    "version": 3
   },
   "file_extension": ".py",
   "mimetype": "text/x-python",
   "name": "python",
   "nbconvert_exporter": "python",
   "pygments_lexer": "ipython3",
   "version": "3.10.17"
  }
 },
 "nbformat": 4,
 "nbformat_minor": 5
}
