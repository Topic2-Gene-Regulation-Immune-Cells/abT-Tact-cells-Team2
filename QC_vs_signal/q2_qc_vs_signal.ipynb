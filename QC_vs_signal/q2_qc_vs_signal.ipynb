{
 "cells": [
  {
   "cell_type": "code",
   "execution_count": 1,
   "id": "c87c8484",
   "metadata": {},
   "outputs": [
    {
     "name": "stdout",
     "output_type": "stream",
     "text": [
      "        SampleName       CellType ImmGenLab    Lineage      CellFamily  \\\n",
      "0   LTHSC.34-.BM#1   LTHSC.34-.BM    Wagers  Stem&Prog  Stem&Prog Cell   \n",
      "1   LTHSC.34+.BM#1   LTHSC.34+.BM    Wagers  Stem&Prog  Stem&Prog Cell   \n",
      "2  STHSC.150-.BM#1  STHSC.150-.BM    Wagers  Stem&Prog  Stem&Prog Cell   \n",
      "3   MPP4.135+.BM#1   MPP4.135+.BM    Wagers  Stem&Prog  Stem&Prog Cell   \n",
      "4    proB.CLP.BM#1    proB.CLP.BM     Hardy          B          B Cell   \n",
      "\n",
      "         Organ                                     SortingMarkers  \\\n",
      "0  Bone Marrow               Lin-Sca1+ckit+CD135-CD150+CD48-CD34-   \n",
      "1  Bone Marrow               Lin-Sca1+ckit+CD135-CD150+CD48-CD34+   \n",
      "2  Bone Marrow                    Lin-Sca1+ckit+CD135-CD150-CD48-   \n",
      "3  Bone Marrow                               Lin-Sca1+ckit+CD135+   \n",
      "4  Bone Marrow  CD19-IgM-CD43+CD24-CD45R-CD93+CD117+IL7Ra+PI-D...   \n",
      "\n",
      "   InputCellNumber  PF.reads  %chrM.mapped  \\\n",
      "0              677  22287984          4.58   \n",
      "1             2483  28588536          3.17   \n",
      "2             3660  22170346          3.25   \n",
      "3            10000  24003590         13.83   \n",
      "4            10000  23578208          7.67   \n",
      "\n",
      "   Paired.read.after.removing.PCR.duplication  %fragment.1Kb_TSS  \\\n",
      "0                                     2470102              10.60   \n",
      "1                                     7675501               7.70   \n",
      "2                                     6060045              11.13   \n",
      "3                                     6128252              18.96   \n",
      "4                                     6588564              13.21   \n",
      "\n",
      "   Replicate.cor  \n",
      "0            NaN  \n",
      "1            NaN  \n",
      "2            NaN  \n",
      "3            NaN  \n",
      "4          0.868  \n"
     ]
    }
   ],
   "source": [
    "import pandas as pd\n",
    "\n",
    "qc = pd.read_excel(\"mmc1-QC.xlsx\")\n",
    "print(qc.head())\n"
   ]
  },
  {
   "cell_type": "code",
   "execution_count": 6,
   "id": "1bb335b9",
   "metadata": {},
   "outputs": [
    {
     "name": "stdout",
     "output_type": "stream",
     "text": [
      "SortedPopulations: 50/181 rows kept\n",
      "Read Statistics:   53/169 rows kept\n",
      "Filtered CSVs written:\n",
      " - SortedPopulations_abT-Tact.csv\n",
      " - ReadStatistics_abT-Tact.csv\n"
     ]
    }
   ],
   "source": [
    "import pandas as pd\n",
    "\n",
    "# 1. Read both sheets\n",
    "path = \"mmc1-QC.xlsx\"\n",
    "sp = pd.read_excel(path, sheet_name=\"SortedPopulations\")\n",
    "rs = pd.read_excel(path, sheet_name=\"Read Statistics\")\n",
    "\n",
    "# 2. Filter SortedPopulations to abT & T.act\n",
    "sp_filtered = sp[sp[\"Lineage\"].isin([\"abT\", \"T.act\"])].copy()\n",
    "\n",
    "# 3. Keep only these specified cell‐type rows in Read Statistics\n",
    "keep_names = [\n",
    "    \"preT.DN1.Th\", \"preT.DN2a.Th\", \"preT.DN2b.Th\", \"preT.DN3.Th\",\n",
    "    \"T.DN4.Th\", \"T.ISP.Th\", \"T.DP.Th\", \"T.4.Th\",   \"T.8.Th\",\n",
    "    \"T.4.Nve.Sp\", \"T.4.Nve.Fem.Sp\", \"T.8.Nve.Sp\",\n",
    "    \"T.4.Sp.aCD3+CD40.18hr\",\n",
    "    \"Treg.4.FP3+.Nrplo.Co\", \"Treg.4.25hi.Sp\",\n",
    "    \"T8.TN.P14.Sp\", \"T8.IEL.LCMV.d7.SI\", \"T8.TE.LCMV.d7.Sp\",\n",
    "    \"T8.MP.LCMV.d7.Sp\", \"T8.Tcm.LCMV.d180.Sp\", \"T8.Tem.LCMV.d180.Sp\",\n",
    "    \"NKT.Sp\", \"NKT.Sp.LPS.3hr\", \"NKT.Sp.LPS.18hr\", \"NKT.Sp.LPS.3d\"\n",
    "]\n",
    "rs_filtered = rs[ rs[\"population.name\"].isin(keep_names) ].copy()\n",
    "\n",
    "\n",
    "# 4. (Optional) report counts\n",
    "print(f\"SortedPopulations: {len(sp_filtered)}/{len(sp)} rows kept\")\n",
    "print(f\"Read Statistics:   {len(rs_filtered)}/{len(rs)} rows kept\")\n",
    "\n",
    "# 5. Write out to CSV for easy analysis\n",
    "sp_filtered.to_csv(\"SortedPopulations_abT-Tact.csv\", index=False)\n",
    "rs_filtered.to_csv(\"ReadStatistics_abT-Tact.csv\",    index=False)\n",
    "\n",
    "print(\"Filtered CSVs written:\")\n",
    "print(\" - SortedPopulations_abT-Tact.csv\")\n",
    "print(\" - ReadStatistics_abT-Tact.csv\")\n"
   ]
  }
 ],
 "metadata": {
  "kernelspec": {
   "display_name": "REAL_FORKED_Bioinfo_project",
   "language": "python",
   "name": "python3"
  },
  "language_info": {
   "codemirror_mode": {
    "name": "ipython",
    "version": 3
   },
   "file_extension": ".py",
   "mimetype": "text/x-python",
   "name": "python",
   "nbconvert_exporter": "python",
   "pygments_lexer": "ipython3",
   "version": "3.10.17"
  }
 },
 "nbformat": 4,
 "nbformat_minor": 5
}
